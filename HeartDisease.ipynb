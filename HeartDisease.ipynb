{
 "cells": [
  {
   "cell_type": "code",
   "metadata": {
    "id": "BhVzekzfknAz",
    "ExecuteTime": {
     "end_time": "2025-10-24T05:52:04.823136Z",
     "start_time": "2025-10-24T05:52:04.818697Z"
    }
   },
   "source": [
    "import pandas as pd\n",
    "import seaborn as sns\n",
    "import matplotlib.pyplot as plt\n",
    "import warnings\n",
    "warnings.filterwarnings('ignore')"
   ],
   "outputs": [],
   "execution_count": 70
  },
  {
   "cell_type": "code",
   "metadata": {
    "colab": {
     "base_uri": "https://localhost:8080/",
     "height": 206
    },
    "id": "BbNArBB7kSEz",
    "outputId": "7b2399c2-4284-4dc8-b52d-67b78b27b4d8",
    "ExecuteTime": {
     "end_time": "2025-10-24T05:52:04.844186Z",
     "start_time": "2025-10-24T05:52:04.832642Z"
    }
   },
   "source": [
    "df = pd.read_csv('heart.csv')\n",
    "df.head()"
   ],
   "outputs": [
    {
     "data": {
      "text/plain": [
       "   Age Sex ChestPainType  RestingBP  Cholesterol  FastingBS RestingECG  MaxHR  \\\n",
       "0   40   M           ATA        140          289          0     Normal    172   \n",
       "1   49   F           NAP        160          180          0     Normal    156   \n",
       "2   37   M           ATA        130          283          0         ST     98   \n",
       "3   48   F           ASY        138          214          0     Normal    108   \n",
       "4   54   M           NAP        150          195          0     Normal    122   \n",
       "\n",
       "  ExerciseAngina  Oldpeak ST_Slope  HeartDisease  \n",
       "0              N      0.0       Up             0  \n",
       "1              N      1.0     Flat             1  \n",
       "2              N      0.0       Up             0  \n",
       "3              Y      1.5     Flat             1  \n",
       "4              N      0.0       Up             0  "
      ],
      "text/html": [
       "<div>\n",
       "<style scoped>\n",
       "    .dataframe tbody tr th:only-of-type {\n",
       "        vertical-align: middle;\n",
       "    }\n",
       "\n",
       "    .dataframe tbody tr th {\n",
       "        vertical-align: top;\n",
       "    }\n",
       "\n",
       "    .dataframe thead th {\n",
       "        text-align: right;\n",
       "    }\n",
       "</style>\n",
       "<table border=\"1\" class=\"dataframe\">\n",
       "  <thead>\n",
       "    <tr style=\"text-align: right;\">\n",
       "      <th></th>\n",
       "      <th>Age</th>\n",
       "      <th>Sex</th>\n",
       "      <th>ChestPainType</th>\n",
       "      <th>RestingBP</th>\n",
       "      <th>Cholesterol</th>\n",
       "      <th>FastingBS</th>\n",
       "      <th>RestingECG</th>\n",
       "      <th>MaxHR</th>\n",
       "      <th>ExerciseAngina</th>\n",
       "      <th>Oldpeak</th>\n",
       "      <th>ST_Slope</th>\n",
       "      <th>HeartDisease</th>\n",
       "    </tr>\n",
       "  </thead>\n",
       "  <tbody>\n",
       "    <tr>\n",
       "      <th>0</th>\n",
       "      <td>40</td>\n",
       "      <td>M</td>\n",
       "      <td>ATA</td>\n",
       "      <td>140</td>\n",
       "      <td>289</td>\n",
       "      <td>0</td>\n",
       "      <td>Normal</td>\n",
       "      <td>172</td>\n",
       "      <td>N</td>\n",
       "      <td>0.0</td>\n",
       "      <td>Up</td>\n",
       "      <td>0</td>\n",
       "    </tr>\n",
       "    <tr>\n",
       "      <th>1</th>\n",
       "      <td>49</td>\n",
       "      <td>F</td>\n",
       "      <td>NAP</td>\n",
       "      <td>160</td>\n",
       "      <td>180</td>\n",
       "      <td>0</td>\n",
       "      <td>Normal</td>\n",
       "      <td>156</td>\n",
       "      <td>N</td>\n",
       "      <td>1.0</td>\n",
       "      <td>Flat</td>\n",
       "      <td>1</td>\n",
       "    </tr>\n",
       "    <tr>\n",
       "      <th>2</th>\n",
       "      <td>37</td>\n",
       "      <td>M</td>\n",
       "      <td>ATA</td>\n",
       "      <td>130</td>\n",
       "      <td>283</td>\n",
       "      <td>0</td>\n",
       "      <td>ST</td>\n",
       "      <td>98</td>\n",
       "      <td>N</td>\n",
       "      <td>0.0</td>\n",
       "      <td>Up</td>\n",
       "      <td>0</td>\n",
       "    </tr>\n",
       "    <tr>\n",
       "      <th>3</th>\n",
       "      <td>48</td>\n",
       "      <td>F</td>\n",
       "      <td>ASY</td>\n",
       "      <td>138</td>\n",
       "      <td>214</td>\n",
       "      <td>0</td>\n",
       "      <td>Normal</td>\n",
       "      <td>108</td>\n",
       "      <td>Y</td>\n",
       "      <td>1.5</td>\n",
       "      <td>Flat</td>\n",
       "      <td>1</td>\n",
       "    </tr>\n",
       "    <tr>\n",
       "      <th>4</th>\n",
       "      <td>54</td>\n",
       "      <td>M</td>\n",
       "      <td>NAP</td>\n",
       "      <td>150</td>\n",
       "      <td>195</td>\n",
       "      <td>0</td>\n",
       "      <td>Normal</td>\n",
       "      <td>122</td>\n",
       "      <td>N</td>\n",
       "      <td>0.0</td>\n",
       "      <td>Up</td>\n",
       "      <td>0</td>\n",
       "    </tr>\n",
       "  </tbody>\n",
       "</table>\n",
       "</div>"
      ]
     },
     "execution_count": 71,
     "metadata": {},
     "output_type": "execute_result"
    }
   ],
   "execution_count": 71
  },
  {
   "cell_type": "markdown",
   "metadata": {
    "id": "Z-mNV7W1llIn"
   },
   "source": [
    "##EDA"
   ]
  },
  {
   "cell_type": "code",
   "metadata": {
    "colab": {
     "base_uri": "https://localhost:8080/"
    },
    "id": "RYkcN3h6lk0_",
    "outputId": "3727fd51-b76d-481b-fc3f-d4049a21b25a",
    "ExecuteTime": {
     "end_time": "2025-10-24T05:52:04.864348Z",
     "start_time": "2025-10-24T05:52:04.859952Z"
    }
   },
   "source": [
    "df.columns"
   ],
   "outputs": [
    {
     "data": {
      "text/plain": [
       "Index(['Age', 'Sex', 'ChestPainType', 'RestingBP', 'Cholesterol', 'FastingBS',\n",
       "       'RestingECG', 'MaxHR', 'ExerciseAngina', 'Oldpeak', 'ST_Slope',\n",
       "       'HeartDisease'],\n",
       "      dtype='object')"
      ]
     },
     "execution_count": 72,
     "metadata": {},
     "output_type": "execute_result"
    }
   ],
   "execution_count": 72
  },
  {
   "cell_type": "code",
   "metadata": {
    "colab": {
     "base_uri": "https://localhost:8080/"
    },
    "id": "T0_smiJeklR6",
    "outputId": "c4223a80-c47e-4c95-9ee6-ed1992323105",
    "ExecuteTime": {
     "end_time": "2025-10-24T05:52:04.890176Z",
     "start_time": "2025-10-24T05:52:04.886290Z"
    }
   },
   "source": [
    "df.shape"
   ],
   "outputs": [
    {
     "data": {
      "text/plain": [
       "(918, 12)"
      ]
     },
     "execution_count": 73,
     "metadata": {},
     "output_type": "execute_result"
    }
   ],
   "execution_count": 73
  },
  {
   "cell_type": "code",
   "metadata": {
    "colab": {
     "base_uri": "https://localhost:8080/"
    },
    "id": "ILJ_wzmiloso",
    "outputId": "48a7f59e-05e4-42c7-e94a-2c39a7de8823",
    "ExecuteTime": {
     "end_time": "2025-10-24T05:52:04.923531Z",
     "start_time": "2025-10-24T05:52:04.916515Z"
    }
   },
   "source": [
    "df.info()"
   ],
   "outputs": [
    {
     "name": "stdout",
     "output_type": "stream",
     "text": [
      "<class 'pandas.core.frame.DataFrame'>\n",
      "RangeIndex: 918 entries, 0 to 917\n",
      "Data columns (total 12 columns):\n",
      " #   Column          Non-Null Count  Dtype  \n",
      "---  ------          --------------  -----  \n",
      " 0   Age             918 non-null    int64  \n",
      " 1   Sex             918 non-null    object \n",
      " 2   ChestPainType   918 non-null    object \n",
      " 3   RestingBP       918 non-null    int64  \n",
      " 4   Cholesterol     918 non-null    int64  \n",
      " 5   FastingBS       918 non-null    int64  \n",
      " 6   RestingECG      918 non-null    object \n",
      " 7   MaxHR           918 non-null    int64  \n",
      " 8   ExerciseAngina  918 non-null    object \n",
      " 9   Oldpeak         918 non-null    float64\n",
      " 10  ST_Slope        918 non-null    object \n",
      " 11  HeartDisease    918 non-null    int64  \n",
      "dtypes: float64(1), int64(6), object(5)\n",
      "memory usage: 86.2+ KB\n"
     ]
    }
   ],
   "execution_count": 74
  },
  {
   "cell_type": "code",
   "metadata": {
    "colab": {
     "base_uri": "https://localhost:8080/",
     "height": 300
    },
    "id": "0HDDGsSXlqkD",
    "outputId": "3b98bb8a-d7d3-4527-c8ce-301715d9ab79",
    "ExecuteTime": {
     "end_time": "2025-10-24T05:52:04.955222Z",
     "start_time": "2025-10-24T05:52:04.940855Z"
    }
   },
   "source": [
    "df.describe()"
   ],
   "outputs": [
    {
     "data": {
      "text/plain": [
       "              Age   RestingBP  Cholesterol   FastingBS       MaxHR  \\\n",
       "count  918.000000  918.000000   918.000000  918.000000  918.000000   \n",
       "mean    53.510893  132.396514   198.799564    0.233115  136.809368   \n",
       "std      9.432617   18.514154   109.384145    0.423046   25.460334   \n",
       "min     28.000000    0.000000     0.000000    0.000000   60.000000   \n",
       "25%     47.000000  120.000000   173.250000    0.000000  120.000000   \n",
       "50%     54.000000  130.000000   223.000000    0.000000  138.000000   \n",
       "75%     60.000000  140.000000   267.000000    0.000000  156.000000   \n",
       "max     77.000000  200.000000   603.000000    1.000000  202.000000   \n",
       "\n",
       "          Oldpeak  HeartDisease  \n",
       "count  918.000000    918.000000  \n",
       "mean     0.887364      0.553377  \n",
       "std      1.066570      0.497414  \n",
       "min     -2.600000      0.000000  \n",
       "25%      0.000000      0.000000  \n",
       "50%      0.600000      1.000000  \n",
       "75%      1.500000      1.000000  \n",
       "max      6.200000      1.000000  "
      ],
      "text/html": [
       "<div>\n",
       "<style scoped>\n",
       "    .dataframe tbody tr th:only-of-type {\n",
       "        vertical-align: middle;\n",
       "    }\n",
       "\n",
       "    .dataframe tbody tr th {\n",
       "        vertical-align: top;\n",
       "    }\n",
       "\n",
       "    .dataframe thead th {\n",
       "        text-align: right;\n",
       "    }\n",
       "</style>\n",
       "<table border=\"1\" class=\"dataframe\">\n",
       "  <thead>\n",
       "    <tr style=\"text-align: right;\">\n",
       "      <th></th>\n",
       "      <th>Age</th>\n",
       "      <th>RestingBP</th>\n",
       "      <th>Cholesterol</th>\n",
       "      <th>FastingBS</th>\n",
       "      <th>MaxHR</th>\n",
       "      <th>Oldpeak</th>\n",
       "      <th>HeartDisease</th>\n",
       "    </tr>\n",
       "  </thead>\n",
       "  <tbody>\n",
       "    <tr>\n",
       "      <th>count</th>\n",
       "      <td>918.000000</td>\n",
       "      <td>918.000000</td>\n",
       "      <td>918.000000</td>\n",
       "      <td>918.000000</td>\n",
       "      <td>918.000000</td>\n",
       "      <td>918.000000</td>\n",
       "      <td>918.000000</td>\n",
       "    </tr>\n",
       "    <tr>\n",
       "      <th>mean</th>\n",
       "      <td>53.510893</td>\n",
       "      <td>132.396514</td>\n",
       "      <td>198.799564</td>\n",
       "      <td>0.233115</td>\n",
       "      <td>136.809368</td>\n",
       "      <td>0.887364</td>\n",
       "      <td>0.553377</td>\n",
       "    </tr>\n",
       "    <tr>\n",
       "      <th>std</th>\n",
       "      <td>9.432617</td>\n",
       "      <td>18.514154</td>\n",
       "      <td>109.384145</td>\n",
       "      <td>0.423046</td>\n",
       "      <td>25.460334</td>\n",
       "      <td>1.066570</td>\n",
       "      <td>0.497414</td>\n",
       "    </tr>\n",
       "    <tr>\n",
       "      <th>min</th>\n",
       "      <td>28.000000</td>\n",
       "      <td>0.000000</td>\n",
       "      <td>0.000000</td>\n",
       "      <td>0.000000</td>\n",
       "      <td>60.000000</td>\n",
       "      <td>-2.600000</td>\n",
       "      <td>0.000000</td>\n",
       "    </tr>\n",
       "    <tr>\n",
       "      <th>25%</th>\n",
       "      <td>47.000000</td>\n",
       "      <td>120.000000</td>\n",
       "      <td>173.250000</td>\n",
       "      <td>0.000000</td>\n",
       "      <td>120.000000</td>\n",
       "      <td>0.000000</td>\n",
       "      <td>0.000000</td>\n",
       "    </tr>\n",
       "    <tr>\n",
       "      <th>50%</th>\n",
       "      <td>54.000000</td>\n",
       "      <td>130.000000</td>\n",
       "      <td>223.000000</td>\n",
       "      <td>0.000000</td>\n",
       "      <td>138.000000</td>\n",
       "      <td>0.600000</td>\n",
       "      <td>1.000000</td>\n",
       "    </tr>\n",
       "    <tr>\n",
       "      <th>75%</th>\n",
       "      <td>60.000000</td>\n",
       "      <td>140.000000</td>\n",
       "      <td>267.000000</td>\n",
       "      <td>0.000000</td>\n",
       "      <td>156.000000</td>\n",
       "      <td>1.500000</td>\n",
       "      <td>1.000000</td>\n",
       "    </tr>\n",
       "    <tr>\n",
       "      <th>max</th>\n",
       "      <td>77.000000</td>\n",
       "      <td>200.000000</td>\n",
       "      <td>603.000000</td>\n",
       "      <td>1.000000</td>\n",
       "      <td>202.000000</td>\n",
       "      <td>6.200000</td>\n",
       "      <td>1.000000</td>\n",
       "    </tr>\n",
       "  </tbody>\n",
       "</table>\n",
       "</div>"
      ]
     },
     "execution_count": 75,
     "metadata": {},
     "output_type": "execute_result"
    }
   ],
   "execution_count": 75
  },
  {
   "cell_type": "code",
   "metadata": {
    "colab": {
     "base_uri": "https://localhost:8080/"
    },
    "id": "CmCqAXrOlyeR",
    "outputId": "312276cf-3f72-4382-ce92-0f5d2f7446e8",
    "ExecuteTime": {
     "end_time": "2025-10-24T05:52:04.973394Z",
     "start_time": "2025-10-24T05:52:04.968598Z"
    }
   },
   "source": [
    "df.duplicated().sum()"
   ],
   "outputs": [
    {
     "data": {
      "text/plain": [
       "np.int64(0)"
      ]
     },
     "execution_count": 76,
     "metadata": {},
     "output_type": "execute_result"
    }
   ],
   "execution_count": 76
  },
  {
   "cell_type": "code",
   "metadata": {
    "colab": {
     "base_uri": "https://localhost:8080/",
     "height": 460
    },
    "id": "FwTbjuE8l-wB",
    "outputId": "c80f279e-3f71-4e56-c2b9-7fbab6b6eae1",
    "ExecuteTime": {
     "end_time": "2025-10-24T05:52:05.005115Z",
     "start_time": "2025-10-24T05:52:04.998504Z"
    }
   },
   "source": [
    "df.isnull().sum()"
   ],
   "outputs": [
    {
     "data": {
      "text/plain": [
       "Age               0\n",
       "Sex               0\n",
       "ChestPainType     0\n",
       "RestingBP         0\n",
       "Cholesterol       0\n",
       "FastingBS         0\n",
       "RestingECG        0\n",
       "MaxHR             0\n",
       "ExerciseAngina    0\n",
       "Oldpeak           0\n",
       "ST_Slope          0\n",
       "HeartDisease      0\n",
       "dtype: int64"
      ]
     },
     "execution_count": 77,
     "metadata": {},
     "output_type": "execute_result"
    }
   ],
   "execution_count": 77
  },
  {
   "cell_type": "code",
   "metadata": {
    "colab": {
     "base_uri": "https://localhost:8080/",
     "height": 178
    },
    "id": "AuHr241em5aC",
    "outputId": "025ac73b-3dfd-436d-9fdd-403472403f06",
    "ExecuteTime": {
     "end_time": "2025-10-24T05:52:05.035393Z",
     "start_time": "2025-10-24T05:52:05.030793Z"
    }
   },
   "source": [
    "df['HeartDisease'].value_counts()"
   ],
   "outputs": [
    {
     "data": {
      "text/plain": [
       "HeartDisease\n",
       "1    508\n",
       "0    410\n",
       "Name: count, dtype: int64"
      ]
     },
     "execution_count": 78,
     "metadata": {},
     "output_type": "execute_result"
    }
   ],
   "execution_count": 78
  },
  {
   "cell_type": "code",
   "metadata": {
    "colab": {
     "base_uri": "https://localhost:8080/",
     "height": 461
    },
    "id": "b7LVZcZEmA8J",
    "outputId": "5fe9c8ce-2adb-40a0-8766-d312061e4d7d",
    "ExecuteTime": {
     "end_time": "2025-10-24T05:52:05.119792Z",
     "start_time": "2025-10-24T05:52:05.059368Z"
    }
   },
   "source": [
    "df['HeartDisease'].value_counts().plot(kind='bar' )"
   ],
   "outputs": [
    {
     "data": {
      "text/plain": [
       "<Axes: xlabel='HeartDisease'>"
      ]
     },
     "execution_count": 79,
     "metadata": {},
     "output_type": "execute_result"
    },
    {
     "data": {
      "text/plain": [
       "<Figure size 640x480 with 1 Axes>"
      ],
      "image/png": "[encoded data removed]"
     },
     "metadata": {},
     "output_type": "display_data",
     "jetTransient": {
      "display_id": null
     }
    }
   ],
   "execution_count": 79
  },
  {
   "cell_type": "markdown",
   "metadata": {
    "id": "06acnpGd4AUW"
   },
   "source": [
    "# Now we create histograms which are best to visualize distribution of **Numerical Variables** and identify anamolies if any in our dataset\n",
    "\n",
    "---\n",
    "\n"
   ]
  },
  {
   "cell_type": "code",
   "metadata": {
    "id": "qeJWjaXFmMFs",
    "ExecuteTime": {
     "end_time": "2025-10-24T05:52:05.129115Z",
     "start_time": "2025-10-24T05:52:05.125603Z"
    }
   },
   "source": [
    "def numeric_var_plotting(var, num):\n",
    "  plt.subplot(2,2,num)\n",
    "  sns.histplot(data = df[var], kde=True)\n",
    "  plt.tight_layout()"
   ],
   "outputs": [],
   "execution_count": 80
  },
  {
   "cell_type": "code",
   "metadata": {
    "colab": {
     "base_uri": "https://localhost:8080/",
     "height": 487
    },
    "id": "uEJk2KbJnXYx",
    "outputId": "792eb24d-1b69-412d-aa83-1868cc435ab7",
    "ExecuteTime": {
     "end_time": "2025-10-24T05:52:05.539095Z",
     "start_time": "2025-10-24T05:52:05.147603Z"
    }
   },
   "source": [
    "numeric_var_plotting('Age',1)\n",
    "numeric_var_plotting('RestingBP',2)\n",
    "numeric_var_plotting('Cholesterol',3)\n",
    "numeric_var_plotting('MaxHR',4)\n"
   ],
   "outputs": [
    {
     "data": {
      "text/plain": [
       "<Figure size 640x480 with 4 Axes>"
      ],
      "image/png": "[encoded data removed]"
     },
     "metadata": {},
     "output_type": "display_data",
     "jetTransient": {
      "display_id": null
     }
    }
   ],
   "execution_count": 81
  },
  {
   "cell_type": "code",
   "metadata": {
    "colab": {
     "base_uri": "https://localhost:8080/",
     "height": 489
    },
    "id": "GAjZp6Jyng0J",
    "outputId": "bc164e65-b5af-45c4-e1e8-56f95f7ba984",
    "ExecuteTime": {
     "end_time": "2025-10-24T05:52:05.555481Z",
     "start_time": "2025-10-24T05:52:05.547671Z"
    }
   },
   "source": [
    "df['Cholesterol'].value_counts()"
   ],
   "outputs": [
    {
     "data": {
      "text/plain": [
       "Cholesterol\n",
       "0      172\n",
       "254     11\n",
       "220     10\n",
       "223     10\n",
       "204      9\n",
       "      ... \n",
       "353      1\n",
       "278      1\n",
       "157      1\n",
       "176      1\n",
       "131      1\n",
       "Name: count, Length: 222, dtype: int64"
      ]
     },
     "execution_count": 82,
     "metadata": {},
     "output_type": "execute_result"
    }
   ],
   "execution_count": 82
  },
  {
   "cell_type": "markdown",
   "metadata": {
    "id": "h8kXQG1HpgIl"
   },
   "source": [
    "## We find out that though there were no null or duplicate values find in our dataset, there are still outliers and anamolies present in the datasat such as Cholesterol value as 0 which is not humanly possible.\n",
    "\n",
    "## We need to perform **data cleaning** to discard these anamolies\n",
    "\n",
    "\n",
    "---\n",
    "\n"
   ]
  },
  {
   "cell_type": "code",
   "metadata": {
    "id": "V9qF6Cohp7f4",
    "ExecuteTime": {
     "end_time": "2025-10-24T05:52:05.577100Z",
     "start_time": "2025-10-24T05:52:05.573535Z"
    }
   },
   "source": [
    "ch_mean = df.loc[df['Cholesterol'] != 0,'Cholesterol'].mean()"
   ],
   "outputs": [],
   "execution_count": 83
  },
  {
   "cell_type": "markdown",
   "metadata": {
    "id": "y6bZCOeismZf"
   },
   "source": [
    "### Calculate the mean of the 'Cholesterol' column, excluding values that are 0.\n",
    "\n",
    "### In many medical datasets, a value of 0 may represent missing or invalid data.\n",
    "### Including such values would distort the true average, so we filter them out first.\n",
    "\n",
    "### Breakdown:\n",
    "### 1. df['Cholesterol'] != 0 → Creates a boolean mask to identify non-zero values.\n",
    "### 2. df.loc[condition, 'Cholesterol'] → Selects only those rows where Cholesterol is not zero.\n",
    "### 3. .mean() → Calculates the average of the filtered Cholesterol values."
   ]
  },
  {
   "cell_type": "code",
   "metadata": {
    "colab": {
     "base_uri": "https://localhost:8080/"
    },
    "id": "rBoqwv4uqDA-",
    "outputId": "994f414d-1922-4f01-d300-50088177ca25",
    "ExecuteTime": {
     "end_time": "2025-10-24T05:52:05.600170Z",
     "start_time": "2025-10-24T05:52:05.595027Z"
    }
   },
   "source": [
    "ch_mean"
   ],
   "outputs": [
    {
     "data": {
      "text/plain": [
       "np.float64(244.6353887399464)"
      ]
     },
     "execution_count": 84,
     "metadata": {},
     "output_type": "execute_result"
    }
   ],
   "execution_count": 84
  },
  {
   "cell_type": "code",
   "metadata": {
    "id": "edRMl1aPqFEE",
    "ExecuteTime": {
     "end_time": "2025-10-24T05:52:05.618681Z",
     "start_time": "2025-10-24T05:52:05.614605Z"
    }
   },
   "source": [
    "df['Cholesterol']= df['Cholesterol'].replace(0,ch_mean).round(2)"
   ],
   "outputs": [],
   "execution_count": 85
  },
  {
   "cell_type": "code",
   "metadata": {
    "id": "fKz_vYc_tMxy",
    "ExecuteTime": {
     "end_time": "2025-10-24T05:52:05.639726Z",
     "start_time": "2025-10-24T05:52:05.635275Z"
    }
   },
   "source": [
    "resBP_mean = df.loc[df['RestingBP'] != 0, 'RestingBP'].mean()"
   ],
   "outputs": [],
   "execution_count": 86
  },
  {
   "cell_type": "code",
   "metadata": {
    "id": "b2uEZkEPt1tD",
    "ExecuteTime": {
     "end_time": "2025-10-24T05:52:05.648978Z",
     "start_time": "2025-10-24T05:52:05.645253Z"
    }
   },
   "source": [
    "df['RestingBP'] = df['RestingBP'].replace(0,resBP_mean).round(2)"
   ],
   "outputs": [],
   "execution_count": 87
  },
  {
   "cell_type": "code",
   "metadata": {
    "colab": {
     "base_uri": "https://localhost:8080/",
     "height": 487
    },
    "id": "1h51_x0Et60E",
    "outputId": "0c65feaa-09cc-4ff5-e153-4509e831aab3",
    "ExecuteTime": {
     "end_time": "2025-10-24T05:52:06.029446Z",
     "start_time": "2025-10-24T05:52:05.654556Z"
    }
   },
   "source": [
    "numeric_var_plotting('Age',1)\n",
    "numeric_var_plotting('RestingBP',2)\n",
    "numeric_var_plotting('Cholesterol',3)\n",
    "numeric_var_plotting('MaxHR',4)\n"
   ],
   "outputs": [
    {
     "data": {
      "text/plain": [
       "<Figure size 640x480 with 4 Axes>"
      ],
      "image/png": "[encoded data removed]"
     },
     "metadata": {},
     "output_type": "display_data",
     "jetTransient": {
      "display_id": null
     }
    }
   ],
   "execution_count": 88
  },
  {
   "cell_type": "markdown",
   "metadata": {
    "id": "fqeBCIRS3zUB"
   },
   "source": [
    "# Now we create countplots which are best to visualize distribution of **Categorical Variables**\n",
    "\n",
    "\n",
    "---\n",
    "\n"
   ]
  },
  {
   "cell_type": "code",
   "metadata": {
    "id": "We6Ca1divQ10",
    "ExecuteTime": {
     "end_time": "2025-10-24T05:52:06.039520Z",
     "start_time": "2025-10-24T05:52:06.035747Z"
    }
   },
   "source": [
    "def categorical_var_plotting(var_list, hue_column):\n",
    "    plt.figure(figsize=(8, 3 * len(var_list)))  # Adjust height based on number of plots\n",
    "\n",
    "    for idx, var in enumerate(var_list, 1):\n",
    "        plt.subplot(len(var_list), 2, idx)\n",
    "        sns.countplot(data=df, x=var, hue=df[hue_column])\n",
    "\n",
    "    plt.tight_layout()\n"
   ],
   "outputs": [],
   "execution_count": 89
  },
  {
   "cell_type": "markdown",
   "metadata": {
    "id": "I0aKPblo13Tp"
   },
   "source": [
    "# Line-by-line explanation of the function:\n",
    "\n",
    "def categorical_var_plotting(var_list, hue_column):\n",
    "    # Start of the function. It takes two inputs:\n",
    "    # var_list: a list of categorical column names (e.g., ['Sex', 'ChestPainType'])\n",
    "    # hue_column: the name of another column (like 'Target')\n",
    "    used to color the bars differently\n",
    "    \n",
    "    plt.figure(figsize=(8, 5 * len(var_list)))\n",
    "    # Creates a blank figure to hold all subplots.\n",
    "    # figsize controls the size of the figure. Width is 8, height is\n",
    "    5 multiplied by number of plots.\n",
    "    # This ensures that each plot has enough vertical space.\n",
    "\n",
    "    for idx, var in enumerate(var_list, 1):\n",
    "        # Loop through each variable in var_list.\n",
    "        # enumerate(..., 1) means it gives both index (starting from 1)\n",
    "        and variable name.\n",
    "\n",
    "        plt.subplot(len(var_list), 1, idx)\n",
    "        # This creates a subplot (i.e., one section of the full figure)\n",
    "        where the plot will be drawn.\n",
    "        # len(var_list): total number of rows of subplots\n",
    "        # 1: number of columns\n",
    "        # idx: which subplot position (1st, 2nd, etc.)\n",
    "\n",
    "        sns.countplot(data=df, x=var, hue=df[hue_column])\n",
    "        # Creates a countplot (bar chart) using Seaborn.\n",
    "        # x=var → category to be counted on the x-axis.\n",
    "        # hue=df[hue_column] → splits bars by hue_column\n",
    "        (adds different colors).\n",
    "\n",
    "        plt.title(f'{var} vs {hue_column}')\n",
    "        # Adds a title above each subplot showing what is being compared.\n",
    "\n",
    "    plt.tight_layout()\n",
    "    # Automatically adjusts spacing between subplots\n",
    "    so they don't overlap.\n"
   ]
  },
  {
   "cell_type": "code",
   "metadata": {
    "colab": {
     "base_uri": "https://localhost:8080/",
     "height": 636
    },
    "id": "MLB1FGHKvxuA",
    "outputId": "a66a0650-65e5-4169-d0a2-f60c49d0c7a3",
    "ExecuteTime": {
     "end_time": "2025-10-24T05:52:06.337340Z",
     "start_time": "2025-10-24T05:52:06.054944Z"
    }
   },
   "source": [
    "cat_cols = ['Sex', 'ChestPainType', 'FastingBS', 'RestingECG']\n",
    "categorical_var_plotting(cat_cols, 'HeartDisease')  # HeartDisease is hue column"
   ],
   "outputs": [
    {
     "data": {
      "text/plain": [
       "<Figure size 800x1200 with 4 Axes>"
      ],
      "image/png": "[encoded data removed]"
     },
     "metadata": {},
     "output_type": "display_data",
     "jetTransient": {
      "display_id": null
     }
    }
   ],
   "execution_count": 90
  },
  {
   "cell_type": "markdown",
   "metadata": {
    "id": "gZyb1TeU4Wvw"
   },
   "source": [
    "# Now we will create some **Boxplots** - used to identify relationships between our numerical and categorical variables\n",
    "\n",
    "---\n",
    "\n"
   ]
  },
  {
   "cell_type": "code",
   "metadata": {
    "colab": {
     "base_uri": "https://localhost:8080/",
     "height": 466
    },
    "id": "altvvFEr2pPs",
    "outputId": "63b79eee-3c12-417d-e485-ecefd9879b2e",
    "ExecuteTime": {
     "end_time": "2025-10-24T05:52:06.433815Z",
     "start_time": "2025-10-24T05:52:06.356009Z"
    }
   },
   "source": [
    "sns.boxplot(x = 'HeartDisease',y = 'Cholesterol',  data = df)"
   ],
   "outputs": [
    {
     "data": {
      "text/plain": [
       "<Axes: xlabel='HeartDisease', ylabel='Cholesterol'>"
      ]
     },
     "execution_count": 91,
     "metadata": {},
     "output_type": "execute_result"
    },
    {
     "data": {
      "text/plain": [
       "<Figure size 640x480 with 1 Axes>"
      ],
      "image/png": "[encoded data removed]"
     },
     "metadata": {},
     "output_type": "display_data",
     "jetTransient": {
      "display_id": null
     }
    }
   ],
   "execution_count": 91
  },
  {
   "cell_type": "markdown",
   "metadata": {
    "id": "7nBJf6Z052i-"
   },
   "source": [
    "#🔍 Interpretation of  BoxPlot:\n",
    "###1. Both groups (0 and 1) have similar median cholesterol levels (around 240–250).\n",
    "\n",
    "###2. Outliers are present in both groups, indicating some individuals with very high cholesterol.\n",
    "\n",
    "###3. People with heart disease (1) have slightly lower variability in cholesterol, but the difference is not large."
   ]
  },
  {
   "cell_type": "code",
   "metadata": {
    "colab": {
     "base_uri": "https://localhost:8080/",
     "height": 466
    },
    "id": "dcUZ4iEd6J15",
    "outputId": "0f3b30e0-fb12-4c1e-8b2b-29e36871aaf5",
    "ExecuteTime": {
     "end_time": "2025-10-24T05:52:06.556083Z",
     "start_time": "2025-10-24T05:52:06.451319Z"
    }
   },
   "source": [
    "sns.violinplot(x = 'HeartDisease', y = 'Age', data = df)"
   ],
   "outputs": [
    {
     "data": {
      "text/plain": [
       "<Axes: xlabel='HeartDisease', ylabel='Age'>"
      ]
     },
     "execution_count": 92,
     "metadata": {},
     "output_type": "execute_result"
    },
    {
     "data": {
      "text/plain": [
       "<Figure size 640x480 with 1 Axes>"
      ],
      "image/png": "[encoded data removed]"
     },
     "metadata": {},
     "output_type": "display_data",
     "jetTransient": {
      "display_id": null
     }
    }
   ],
   "execution_count": 92
  },
  {
   "cell_type": "markdown",
   "metadata": {
    "id": "12t9FgyB6_8p"
   },
   "source": [
    "##🔍 Key Elements:\n",
    "\n",
    "```\n",
    "Thick white dot\t- Median age (middle value)\n",
    "\n",
    "Thick black bar -\tInterquartile range (25% to 75%)\n",
    "\n",
    "Thin vertical line\tWhiskers — range of typical values\n",
    "\n",
    "Width of the violin -\tMore data points (wider =\n",
    "                          more frequent values)\n",
    "```\n",
    "\n",
    "\n",
    "\n",
    "#🧠 Interpretation:\n",
    "```\n",
    "People without heart disease (0):\n",
    "Median age slightly lower, with more spread in the 40–55 range.\n",
    "\n",
    "\n",
    "People with heart disease (1):\n",
    "Median age is slightly higher, and distribution is denser\n",
    "between ages 50–65.\n",
    "\n",
    "\n",
    "Both groups have a similar overall age range (~30 to ~80),\n",
    " but the distribution shape differs.\n",
    "```\n",
    "\n",
    "##💡 Conclusion:\n",
    "\n",
    "###This plot suggests that people with heart disease tend to be slightly older on average, and their age distribution is more centered in the 50s and 60s. Violin plots help visualize both summary statistics and distribution shape together."
   ]
  },
  {
   "cell_type": "code",
   "metadata": {
    "colab": {
     "base_uri": "https://localhost:8080/",
     "height": 532
    },
    "id": "ICYEUvtz7SAi",
    "outputId": "cfa92dbe-e753-401b-b16d-cce2c5eec6d1",
    "ExecuteTime": {
     "end_time": "2025-10-24T05:52:06.735716Z",
     "start_time": "2025-10-24T05:52:06.573215Z"
    }
   },
   "source": [
    "sns.heatmap(df.corr(numeric_only=True), annot = True, cmap = 'coolwarm')"
   ],
   "outputs": [
    {
     "data": {
      "text/plain": [
       "<Axes: >"
      ]
     },
     "execution_count": 93,
     "metadata": {},
     "output_type": "execute_result"
    },
    {
     "data": {
      "text/plain": [
       "<Figure size 640x480 with 2 Axes>"
      ],
      "image/png": "[encoded data removed]"
     },
     "metadata": {},
     "output_type": "display_data",
     "jetTransient": {
      "display_id": null
     }
    }
   ],
   "execution_count": 93
  },
  {
   "cell_type": "markdown",
   "metadata": {
    "id": "QJU4fG9C8sXk"
   },
   "source": [
    "## We will select all columns as they are all kind of correlated with our target output variable i.e Heart Disease"
   ]
  },
  {
   "cell_type": "markdown",
   "metadata": {
    "id": "wk6c-jCb88Ul"
   },
   "source": [
    "# Data Preprocessing and Feature Scaling\n",
    "\n",
    "---\n",
    "\n"
   ]
  },
  {
   "cell_type": "code",
   "metadata": {
    "colab": {
     "base_uri": "https://localhost:8080/",
     "height": 143
    },
    "id": "tjJLoLPD8Uhw",
    "outputId": "ba9f630a-f19e-4319-dbc7-37092c2f0108",
    "ExecuteTime": {
     "end_time": "2025-10-24T05:52:06.760288Z",
     "start_time": "2025-10-24T05:52:06.751494Z"
    }
   },
   "source": [
    "df.head(3)"
   ],
   "outputs": [
    {
     "data": {
      "text/plain": [
       "   Age Sex ChestPainType  RestingBP  Cholesterol  FastingBS RestingECG  MaxHR  \\\n",
       "0   40   M           ATA      140.0        289.0          0     Normal    172   \n",
       "1   49   F           NAP      160.0        180.0          0     Normal    156   \n",
       "2   37   M           ATA      130.0        283.0          0         ST     98   \n",
       "\n",
       "  ExerciseAngina  Oldpeak ST_Slope  HeartDisease  \n",
       "0              N      0.0       Up             0  \n",
       "1              N      1.0     Flat             1  \n",
       "2              N      0.0       Up             0  "
      ],
      "text/html": [
       "<div>\n",
       "<style scoped>\n",
       "    .dataframe tbody tr th:only-of-type {\n",
       "        vertical-align: middle;\n",
       "    }\n",
       "\n",
       "    .dataframe tbody tr th {\n",
       "        vertical-align: top;\n",
       "    }\n",
       "\n",
       "    .dataframe thead th {\n",
       "        text-align: right;\n",
       "    }\n",
       "</style>\n",
       "<table border=\"1\" class=\"dataframe\">\n",
       "  <thead>\n",
       "    <tr style=\"text-align: right;\">\n",
       "      <th></th>\n",
       "      <th>Age</th>\n",
       "      <th>Sex</th>\n",
       "      <th>ChestPainType</th>\n",
       "      <th>RestingBP</th>\n",
       "      <th>Cholesterol</th>\n",
       "      <th>FastingBS</th>\n",
       "      <th>RestingECG</th>\n",
       "      <th>MaxHR</th>\n",
       "      <th>ExerciseAngina</th>\n",
       "      <th>Oldpeak</th>\n",
       "      <th>ST_Slope</th>\n",
       "      <th>HeartDisease</th>\n",
       "    </tr>\n",
       "  </thead>\n",
       "  <tbody>\n",
       "    <tr>\n",
       "      <th>0</th>\n",
       "      <td>40</td>\n",
       "      <td>M</td>\n",
       "      <td>ATA</td>\n",
       "      <td>140.0</td>\n",
       "      <td>289.0</td>\n",
       "      <td>0</td>\n",
       "      <td>Normal</td>\n",
       "      <td>172</td>\n",
       "      <td>N</td>\n",
       "      <td>0.0</td>\n",
       "      <td>Up</td>\n",
       "      <td>0</td>\n",
       "    </tr>\n",
       "    <tr>\n",
       "      <th>1</th>\n",
       "      <td>49</td>\n",
       "      <td>F</td>\n",
       "      <td>NAP</td>\n",
       "      <td>160.0</td>\n",
       "      <td>180.0</td>\n",
       "      <td>0</td>\n",
       "      <td>Normal</td>\n",
       "      <td>156</td>\n",
       "      <td>N</td>\n",
       "      <td>1.0</td>\n",
       "      <td>Flat</td>\n",
       "      <td>1</td>\n",
       "    </tr>\n",
       "    <tr>\n",
       "      <th>2</th>\n",
       "      <td>37</td>\n",
       "      <td>M</td>\n",
       "      <td>ATA</td>\n",
       "      <td>130.0</td>\n",
       "      <td>283.0</td>\n",
       "      <td>0</td>\n",
       "      <td>ST</td>\n",
       "      <td>98</td>\n",
       "      <td>N</td>\n",
       "      <td>0.0</td>\n",
       "      <td>Up</td>\n",
       "      <td>0</td>\n",
       "    </tr>\n",
       "  </tbody>\n",
       "</table>\n",
       "</div>"
      ]
     },
     "execution_count": 94,
     "metadata": {},
     "output_type": "execute_result"
    }
   ],
   "execution_count": 94
  },
  {
   "cell_type": "code",
   "metadata": {
    "colab": {
     "base_uri": "https://localhost:8080/"
    },
    "id": "Fnqs3hF89D5L",
    "outputId": "083dba70-c822-4c0f-9e51-fd3425a055e0",
    "ExecuteTime": {
     "end_time": "2025-10-24T05:52:06.782151Z",
     "start_time": "2025-10-24T05:52:06.776005Z"
    }
   },
   "source": [
    "df.info()"
   ],
   "outputs": [
    {
     "name": "stdout",
     "output_type": "stream",
     "text": [
      "<class 'pandas.core.frame.DataFrame'>\n",
      "RangeIndex: 918 entries, 0 to 917\n",
      "Data columns (total 12 columns):\n",
      " #   Column          Non-Null Count  Dtype  \n",
      "---  ------          --------------  -----  \n",
      " 0   Age             918 non-null    int64  \n",
      " 1   Sex             918 non-null    object \n",
      " 2   ChestPainType   918 non-null    object \n",
      " 3   RestingBP       918 non-null    float64\n",
      " 4   Cholesterol     918 non-null    float64\n",
      " 5   FastingBS       918 non-null    int64  \n",
      " 6   RestingECG      918 non-null    object \n",
      " 7   MaxHR           918 non-null    int64  \n",
      " 8   ExerciseAngina  918 non-null    object \n",
      " 9   Oldpeak         918 non-null    float64\n",
      " 10  ST_Slope        918 non-null    object \n",
      " 11  HeartDisease    918 non-null    int64  \n",
      "dtypes: float64(3), int64(4), object(5)\n",
      "memory usage: 86.2+ KB\n"
     ]
    }
   ],
   "execution_count": 95
  },
  {
   "cell_type": "code",
   "metadata": {
    "id": "u5BX7rj_9Hcc",
    "ExecuteTime": {
     "end_time": "2025-10-24T05:52:06.805350Z",
     "start_time": "2025-10-24T05:52:06.798247Z"
    }
   },
   "source": [
    "df_encoded = pd.get_dummies(df, drop_first=True) #this scales down categorical vars into 0s and 1s"
   ],
   "outputs": [],
   "execution_count": 96
  },
  {
   "cell_type": "code",
   "metadata": {
    "colab": {
     "base_uri": "https://localhost:8080/",
     "height": 163
    },
    "id": "4BT907va9knd",
    "outputId": "176ea7d7-84ee-4a8f-9cbc-82df95513f10",
    "ExecuteTime": {
     "end_time": "2025-10-24T05:52:06.828486Z",
     "start_time": "2025-10-24T05:52:06.819699Z"
    }
   },
   "source": [
    "df_encoded.head(3)"
   ],
   "outputs": [
    {
     "data": {
      "text/plain": [
       "   Age  RestingBP  Cholesterol  FastingBS  MaxHR  Oldpeak  HeartDisease  \\\n",
       "0   40      140.0        289.0          0    172      0.0             0   \n",
       "1   49      160.0        180.0          0    156      1.0             1   \n",
       "2   37      130.0        283.0          0     98      0.0             0   \n",
       "\n",
       "   Sex_M  ChestPainType_ATA  ChestPainType_NAP  ChestPainType_TA  \\\n",
       "0   True               True              False             False   \n",
       "1  False              False               True             False   \n",
       "2   True               True              False             False   \n",
       "\n",
       "   RestingECG_Normal  RestingECG_ST  ExerciseAngina_Y  ST_Slope_Flat  \\\n",
       "0               True          False             False          False   \n",
       "1               True          False             False           True   \n",
       "2              False           True             False          False   \n",
       "\n",
       "   ST_Slope_Up  \n",
       "0         True  \n",
       "1        False  \n",
       "2         True  "
      ],
      "text/html": [
       "<div>\n",
       "<style scoped>\n",
       "    .dataframe tbody tr th:only-of-type {\n",
       "        vertical-align: middle;\n",
       "    }\n",
       "\n",
       "    .dataframe tbody tr th {\n",
       "        vertical-align: top;\n",
       "    }\n",
       "\n",
       "    .dataframe thead th {\n",
       "        text-align: right;\n",
       "    }\n",
       "</style>\n",
       "<table border=\"1\" class=\"dataframe\">\n",
       "  <thead>\n",
       "    <tr style=\"text-align: right;\">\n",
       "      <th></th>\n",
       "      <th>Age</th>\n",
       "      <th>RestingBP</th>\n",
       "      <th>Cholesterol</th>\n",
       "      <th>FastingBS</th>\n",
       "      <th>MaxHR</th>\n",
       "      <th>Oldpeak</th>\n",
       "      <th>HeartDisease</th>\n",
       "      <th>Sex_M</th>\n",
       "      <th>ChestPainType_ATA</th>\n",
       "      <th>ChestPainType_NAP</th>\n",
       "      <th>ChestPainType_TA</th>\n",
       "      <th>RestingECG_Normal</th>\n",
       "      <th>RestingECG_ST</th>\n",
       "      <th>ExerciseAngina_Y</th>\n",
       "      <th>ST_Slope_Flat</th>\n",
       "      <th>ST_Slope_Up</th>\n",
       "    </tr>\n",
       "  </thead>\n",
       "  <tbody>\n",
       "    <tr>\n",
       "      <th>0</th>\n",
       "      <td>40</td>\n",
       "      <td>140.0</td>\n",
       "      <td>289.0</td>\n",
       "      <td>0</td>\n",
       "      <td>172</td>\n",
       "      <td>0.0</td>\n",
       "      <td>0</td>\n",
       "      <td>True</td>\n",
       "      <td>True</td>\n",
       "      <td>False</td>\n",
       "      <td>False</td>\n",
       "      <td>True</td>\n",
       "      <td>False</td>\n",
       "      <td>False</td>\n",
       "      <td>False</td>\n",
       "      <td>True</td>\n",
       "    </tr>\n",
       "    <tr>\n",
       "      <th>1</th>\n",
       "      <td>49</td>\n",
       "      <td>160.0</td>\n",
       "      <td>180.0</td>\n",
       "      <td>0</td>\n",
       "      <td>156</td>\n",
       "      <td>1.0</td>\n",
       "      <td>1</td>\n",
       "      <td>False</td>\n",
       "      <td>False</td>\n",
       "      <td>True</td>\n",
       "      <td>False</td>\n",
       "      <td>True</td>\n",
       "      <td>False</td>\n",
       "      <td>False</td>\n",
       "      <td>True</td>\n",
       "      <td>False</td>\n",
       "    </tr>\n",
       "    <tr>\n",
       "      <th>2</th>\n",
       "      <td>37</td>\n",
       "      <td>130.0</td>\n",
       "      <td>283.0</td>\n",
       "      <td>0</td>\n",
       "      <td>98</td>\n",
       "      <td>0.0</td>\n",
       "      <td>0</td>\n",
       "      <td>True</td>\n",
       "      <td>True</td>\n",
       "      <td>False</td>\n",
       "      <td>False</td>\n",
       "      <td>False</td>\n",
       "      <td>True</td>\n",
       "      <td>False</td>\n",
       "      <td>False</td>\n",
       "      <td>True</td>\n",
       "    </tr>\n",
       "  </tbody>\n",
       "</table>\n",
       "</div>"
      ]
     },
     "execution_count": 97,
     "metadata": {},
     "output_type": "execute_result"
    }
   ],
   "execution_count": 97
  },
  {
   "cell_type": "code",
   "metadata": {
    "id": "h4tx0FeS9qCs",
    "ExecuteTime": {
     "end_time": "2025-10-24T05:52:06.840875Z",
     "start_time": "2025-10-24T05:52:06.837519Z"
    }
   },
   "source": [
    "df_encoded= df_encoded.astype(int)"
   ],
   "outputs": [],
   "execution_count": 98
  },
  {
   "cell_type": "code",
   "metadata": {
    "colab": {
     "base_uri": "https://localhost:8080/",
     "height": 163
    },
    "id": "L6D9oUWq95I-",
    "outputId": "f2be8769-d89f-4f8e-aae2-59485102ff0a",
    "ExecuteTime": {
     "end_time": "2025-10-24T05:52:06.860726Z",
     "start_time": "2025-10-24T05:52:06.853412Z"
    }
   },
   "source": [
    "df_encoded.head(3)"
   ],
   "outputs": [
    {
     "data": {
      "text/plain": [
       "   Age  RestingBP  Cholesterol  FastingBS  MaxHR  Oldpeak  HeartDisease  \\\n",
       "0   40        140          289          0    172        0             0   \n",
       "1   49        160          180          0    156        1             1   \n",
       "2   37        130          283          0     98        0             0   \n",
       "\n",
       "   Sex_M  ChestPainType_ATA  ChestPainType_NAP  ChestPainType_TA  \\\n",
       "0      1                  1                  0                 0   \n",
       "1      0                  0                  1                 0   \n",
       "2      1                  1                  0                 0   \n",
       "\n",
       "   RestingECG_Normal  RestingECG_ST  ExerciseAngina_Y  ST_Slope_Flat  \\\n",
       "0                  1              0                 0              0   \n",
       "1                  1              0                 0              1   \n",
       "2                  0              1                 0              0   \n",
       "\n",
       "   ST_Slope_Up  \n",
       "0            1  \n",
       "1            0  \n",
       "2            1  "
      ],
      "text/html": [
       "<div>\n",
       "<style scoped>\n",
       "    .dataframe tbody tr th:only-of-type {\n",
       "        vertical-align: middle;\n",
       "    }\n",
       "\n",
       "    .dataframe tbody tr th {\n",
       "        vertical-align: top;\n",
       "    }\n",
       "\n",
       "    .dataframe thead th {\n",
       "        text-align: right;\n",
       "    }\n",
       "</style>\n",
       "<table border=\"1\" class=\"dataframe\">\n",
       "  <thead>\n",
       "    <tr style=\"text-align: right;\">\n",
       "      <th></th>\n",
       "      <th>Age</th>\n",
       "      <th>RestingBP</th>\n",
       "      <th>Cholesterol</th>\n",
       "      <th>FastingBS</th>\n",
       "      <th>MaxHR</th>\n",
       "      <th>Oldpeak</th>\n",
       "      <th>HeartDisease</th>\n",
       "      <th>Sex_M</th>\n",
       "      <th>ChestPainType_ATA</th>\n",
       "      <th>ChestPainType_NAP</th>\n",
       "      <th>ChestPainType_TA</th>\n",
       "      <th>RestingECG_Normal</th>\n",
       "      <th>RestingECG_ST</th>\n",
       "      <th>ExerciseAngina_Y</th>\n",
       "      <th>ST_Slope_Flat</th>\n",
       "      <th>ST_Slope_Up</th>\n",
       "    </tr>\n",
       "  </thead>\n",
       "  <tbody>\n",
       "    <tr>\n",
       "      <th>0</th>\n",
       "      <td>40</td>\n",
       "      <td>140</td>\n",
       "      <td>289</td>\n",
       "      <td>0</td>\n",
       "      <td>172</td>\n",
       "      <td>0</td>\n",
       "      <td>0</td>\n",
       "      <td>1</td>\n",
       "      <td>1</td>\n",
       "      <td>0</td>\n",
       "      <td>0</td>\n",
       "      <td>1</td>\n",
       "      <td>0</td>\n",
       "      <td>0</td>\n",
       "      <td>0</td>\n",
       "      <td>1</td>\n",
       "    </tr>\n",
       "    <tr>\n",
       "      <th>1</th>\n",
       "      <td>49</td>\n",
       "      <td>160</td>\n",
       "      <td>180</td>\n",
       "      <td>0</td>\n",
       "      <td>156</td>\n",
       "      <td>1</td>\n",
       "      <td>1</td>\n",
       "      <td>0</td>\n",
       "      <td>0</td>\n",
       "      <td>1</td>\n",
       "      <td>0</td>\n",
       "      <td>1</td>\n",
       "      <td>0</td>\n",
       "      <td>0</td>\n",
       "      <td>1</td>\n",
       "      <td>0</td>\n",
       "    </tr>\n",
       "    <tr>\n",
       "      <th>2</th>\n",
       "      <td>37</td>\n",
       "      <td>130</td>\n",
       "      <td>283</td>\n",
       "      <td>0</td>\n",
       "      <td>98</td>\n",
       "      <td>0</td>\n",
       "      <td>0</td>\n",
       "      <td>1</td>\n",
       "      <td>1</td>\n",
       "      <td>0</td>\n",
       "      <td>0</td>\n",
       "      <td>0</td>\n",
       "      <td>1</td>\n",
       "      <td>0</td>\n",
       "      <td>0</td>\n",
       "      <td>1</td>\n",
       "    </tr>\n",
       "  </tbody>\n",
       "</table>\n",
       "</div>"
      ]
     },
     "execution_count": 99,
     "metadata": {},
     "output_type": "execute_result"
    }
   ],
   "execution_count": 99
  },
  {
   "cell_type": "code",
   "metadata": {
    "id": "f-vHUl_o96fs",
    "ExecuteTime": {
     "end_time": "2025-10-24T05:52:07.048683Z",
     "start_time": "2025-10-24T05:52:06.870902Z"
    }
   },
   "source": [
    "from sklearn.preprocessing import StandardScaler\n",
    "\n",
    "ss = StandardScaler() #used for scaling numerical vars"
   ],
   "outputs": [],
   "execution_count": 100
  },
  {
   "cell_type": "code",
   "metadata": {
    "id": "jE9cmKHy-AyI",
    "ExecuteTime": {
     "end_time": "2025-10-24T05:52:07.060126Z",
     "start_time": "2025-10-24T05:52:07.054298Z"
    }
   },
   "source": [
    "numerical_cols = ['Age', 'RestingBP', 'Cholesterol', 'MaxHR', 'Oldpeak']\n",
    "df_encoded[numerical_cols] = ss.fit_transform(df_encoded[numerical_cols])"
   ],
   "outputs": [],
   "execution_count": 101
  },
  {
   "cell_type": "code",
   "metadata": {
    "colab": {
     "base_uri": "https://localhost:8080/",
     "height": 163
    },
    "id": "SmpkWEfU-TJ0",
    "outputId": "814566e3-833d-4e08-d475-cdd71a16d689",
    "ExecuteTime": {
     "end_time": "2025-10-24T05:52:07.074705Z",
     "start_time": "2025-10-24T05:52:07.066014Z"
    }
   },
   "source": [
    "df_encoded.head(3)"
   ],
   "outputs": [
    {
     "data": {
      "text/plain": [
       "        Age  RestingBP  Cholesterol  FastingBS     MaxHR   Oldpeak  \\\n",
       "0 -1.433140   0.414885     0.834754          0  1.382928 -0.727592   \n",
       "1 -0.478484   1.527224    -1.210675          0  0.754157  0.282891   \n",
       "2 -1.751359  -0.141284     0.722161          0 -1.525138 -0.727592   \n",
       "\n",
       "   HeartDisease  Sex_M  ChestPainType_ATA  ChestPainType_NAP  \\\n",
       "0             0      1                  1                  0   \n",
       "1             1      0                  0                  1   \n",
       "2             0      1                  1                  0   \n",
       "\n",
       "   ChestPainType_TA  RestingECG_Normal  RestingECG_ST  ExerciseAngina_Y  \\\n",
       "0                 0                  1              0                 0   \n",
       "1                 0                  1              0                 0   \n",
       "2                 0                  0              1                 0   \n",
       "\n",
       "   ST_Slope_Flat  ST_Slope_Up  \n",
       "0              0            1  \n",
       "1              1            0  \n",
       "2              0            1  "
      ],
      "text/html": [
       "<div>\n",
       "<style scoped>\n",
       "    .dataframe tbody tr th:only-of-type {\n",
       "        vertical-align: middle;\n",
       "    }\n",
       "\n",
       "    .dataframe tbody tr th {\n",
       "        vertical-align: top;\n",
       "    }\n",
       "\n",
       "    .dataframe thead th {\n",
       "        text-align: right;\n",
       "    }\n",
       "</style>\n",
       "<table border=\"1\" class=\"dataframe\">\n",
       "  <thead>\n",
       "    <tr style=\"text-align: right;\">\n",
       "      <th></th>\n",
       "      <th>Age</th>\n",
       "      <th>RestingBP</th>\n",
       "      <th>Cholesterol</th>\n",
       "      <th>FastingBS</th>\n",
       "      <th>MaxHR</th>\n",
       "      <th>Oldpeak</th>\n",
       "      <th>HeartDisease</th>\n",
       "      <th>Sex_M</th>\n",
       "      <th>ChestPainType_ATA</th>\n",
       "      <th>ChestPainType_NAP</th>\n",
       "      <th>ChestPainType_TA</th>\n",
       "      <th>RestingECG_Normal</th>\n",
       "      <th>RestingECG_ST</th>\n",
       "      <th>ExerciseAngina_Y</th>\n",
       "      <th>ST_Slope_Flat</th>\n",
       "      <th>ST_Slope_Up</th>\n",
       "    </tr>\n",
       "  </thead>\n",
       "  <tbody>\n",
       "    <tr>\n",
       "      <th>0</th>\n",
       "      <td>-1.433140</td>\n",
       "      <td>0.414885</td>\n",
       "      <td>0.834754</td>\n",
       "      <td>0</td>\n",
       "      <td>1.382928</td>\n",
       "      <td>-0.727592</td>\n",
       "      <td>0</td>\n",
       "      <td>1</td>\n",
       "      <td>1</td>\n",
       "      <td>0</td>\n",
       "      <td>0</td>\n",
       "      <td>1</td>\n",
       "      <td>0</td>\n",
       "      <td>0</td>\n",
       "      <td>0</td>\n",
       "      <td>1</td>\n",
       "    </tr>\n",
       "    <tr>\n",
       "      <th>1</th>\n",
       "      <td>-0.478484</td>\n",
       "      <td>1.527224</td>\n",
       "      <td>-1.210675</td>\n",
       "      <td>0</td>\n",
       "      <td>0.754157</td>\n",
       "      <td>0.282891</td>\n",
       "      <td>1</td>\n",
       "      <td>0</td>\n",
       "      <td>0</td>\n",
       "      <td>1</td>\n",
       "      <td>0</td>\n",
       "      <td>1</td>\n",
       "      <td>0</td>\n",
       "      <td>0</td>\n",
       "      <td>1</td>\n",
       "      <td>0</td>\n",
       "    </tr>\n",
       "    <tr>\n",
       "      <th>2</th>\n",
       "      <td>-1.751359</td>\n",
       "      <td>-0.141284</td>\n",
       "      <td>0.722161</td>\n",
       "      <td>0</td>\n",
       "      <td>-1.525138</td>\n",
       "      <td>-0.727592</td>\n",
       "      <td>0</td>\n",
       "      <td>1</td>\n",
       "      <td>1</td>\n",
       "      <td>0</td>\n",
       "      <td>0</td>\n",
       "      <td>0</td>\n",
       "      <td>1</td>\n",
       "      <td>0</td>\n",
       "      <td>0</td>\n",
       "      <td>1</td>\n",
       "    </tr>\n",
       "  </tbody>\n",
       "</table>\n",
       "</div>"
      ]
     },
     "execution_count": 102,
     "metadata": {},
     "output_type": "execute_result"
    }
   ],
   "execution_count": 102
  },
  {
   "cell_type": "markdown",
   "metadata": {
    "id": "_5yX_xj5_2tt"
   },
   "source": [
    "# Model Creation and Evaluation\n",
    "\n",
    "---\n",
    "\n"
   ]
  },
  {
   "cell_type": "code",
   "metadata": {
    "id": "X2KxZyBw-UoE",
    "ExecuteTime": {
     "end_time": "2025-10-24T05:52:07.240416Z",
     "start_time": "2025-10-24T05:52:07.084400Z"
    }
   },
   "source": [
    "from sklearn.model_selection import train_test_split\n",
    "from sklearn.metrics import accuracy_score, f1_score, classification_report\n",
    "from sklearn.linear_model import LogisticRegression\n",
    "from sklearn.neighbors import KNeighborsClassifier\n",
    "from sklearn.naive_bayes import GaussianNB\n",
    "from sklearn.tree import DecisionTreeClassifier\n",
    "from sklearn.svm import SVC"
   ],
   "outputs": [],
   "execution_count": 103
  },
  {
   "cell_type": "code",
   "metadata": {
    "id": "lxHe7kWuAJmV",
    "ExecuteTime": {
     "end_time": "2025-10-24T05:52:07.252751Z",
     "start_time": "2025-10-24T05:52:07.248346Z"
    }
   },
   "source": [
    "X = df_encoded.drop('HeartDisease', axis=1)\n",
    "y = df_encoded['HeartDisease']"
   ],
   "outputs": [],
   "execution_count": 104
  },
  {
   "cell_type": "code",
   "metadata": {
    "id": "nbXzqiyIAg6B",
    "ExecuteTime": {
     "end_time": "2025-10-24T05:52:07.262848Z",
     "start_time": "2025-10-24T05:52:07.258302Z"
    }
   },
   "source": [
    "X_train, X_test, y_train, y_test = train_test_split(X, y, test_size=0.2, random_state=42)"
   ],
   "outputs": [],
   "execution_count": 105
  },
  {
   "cell_type": "code",
   "metadata": {
    "id": "tE0V9roXA3kS",
    "ExecuteTime": {
     "end_time": "2025-10-24T05:52:07.274827Z",
     "start_time": "2025-10-24T05:52:07.268500Z"
    }
   },
   "source": [
    "scaler = StandardScaler()\n",
    "X_train_scaled = scaler.fit_transform(X_train)\n",
    "X_test_scaled = scaler.fit_transform(X_test)"
   ],
   "outputs": [],
   "execution_count": 106
  },
  {
   "cell_type": "code",
   "metadata": {
    "id": "hiNeNXQzBetP",
    "ExecuteTime": {
     "end_time": "2025-10-24T05:52:07.285155Z",
     "start_time": "2025-10-24T05:52:07.281710Z"
    }
   },
   "source": [
    "models = {\n",
    "    'Logistic Regression': LogisticRegression(),\n",
    "    'KNN': KNeighborsClassifier(),\n",
    "    'Naive Bayes': GaussianNB(),\n",
    "    'Decision Tree': DecisionTreeClassifier(),\n",
    "    'SVM': SVC()\n",
    "}"
   ],
   "outputs": [],
   "execution_count": 107
  },
  {
   "cell_type": "code",
   "metadata": {
    "id": "VTbhIiMrBsD7",
    "ExecuteTime": {
     "end_time": "2025-10-24T05:52:07.331885Z",
     "start_time": "2025-10-24T05:52:07.297158Z"
    }
   },
   "source": [
    "import pandas as pd\n",
    "\n",
    "# Initialize the result list\n",
    "result = []\n",
    "\n",
    "# Loop through models, train, predict, and store results\n",
    "for name, model in models.items():\n",
    "    model.fit(X_train_scaled, y_train)\n",
    "    y_pred = model.predict(X_test_scaled)\n",
    "\n",
    "    accuracy = accuracy_score(y_test, y_pred)\n",
    "    f1 = f1_score(y_test, y_pred)\n",
    "\n",
    "    result.append({\n",
    "        'Model': name,\n",
    "        'Accuracy': round(accuracy, 4),\n",
    "        'F1 Score': round(f1, 4)\n",
    "    })\n",
    "\n",
    "# Convert the result list into a DataFrame\n",
    "results_df = pd.DataFrame(result)\n",
    "\n",
    "# Sort by Accuracy in descending order\n",
    "results_df = results_df.sort_values(by='Accuracy', ascending=False)\n"
   ],
   "outputs": [],
   "execution_count": 108
  },
  {
   "cell_type": "code",
   "metadata": {
    "colab": {
     "base_uri": "https://localhost:8080/",
     "height": 206
    },
    "id": "GvIsrq3zCjnc",
    "outputId": "fc9cfb3a-8c65-483d-8391-e9994c0640f9",
    "ExecuteTime": {
     "end_time": "2025-10-24T05:52:07.343702Z",
     "start_time": "2025-10-24T05:52:07.337531Z"
    }
   },
   "source": [
    "# Reset index to start from 1\n",
    "results_df.index = range(1, len(results_df) + 1)\n",
    "\n",
    "# Display\n",
    "results_df"
   ],
   "outputs": [
    {
     "data": {
      "text/plain": [
       "                 Model  Accuracy  F1 Score\n",
       "1  Logistic Regression    0.8696    0.8857\n",
       "2                  KNN    0.8641    0.8815\n",
       "3          Naive Bayes    0.8533    0.8683\n",
       "4                  SVM    0.8478    0.8679\n",
       "5        Decision Tree    0.7717    0.7961"
      ],
      "text/html": [
       "<div>\n",
       "<style scoped>\n",
       "    .dataframe tbody tr th:only-of-type {\n",
       "        vertical-align: middle;\n",
       "    }\n",
       "\n",
       "    .dataframe tbody tr th {\n",
       "        vertical-align: top;\n",
       "    }\n",
       "\n",
       "    .dataframe thead th {\n",
       "        text-align: right;\n",
       "    }\n",
       "</style>\n",
       "<table border=\"1\" class=\"dataframe\">\n",
       "  <thead>\n",
       "    <tr style=\"text-align: right;\">\n",
       "      <th></th>\n",
       "      <th>Model</th>\n",
       "      <th>Accuracy</th>\n",
       "      <th>F1 Score</th>\n",
       "    </tr>\n",
       "  </thead>\n",
       "  <tbody>\n",
       "    <tr>\n",
       "      <th>1</th>\n",
       "      <td>Logistic Regression</td>\n",
       "      <td>0.8696</td>\n",
       "      <td>0.8857</td>\n",
       "    </tr>\n",
       "    <tr>\n",
       "      <th>2</th>\n",
       "      <td>KNN</td>\n",
       "      <td>0.8641</td>\n",
       "      <td>0.8815</td>\n",
       "    </tr>\n",
       "    <tr>\n",
       "      <th>3</th>\n",
       "      <td>Naive Bayes</td>\n",
       "      <td>0.8533</td>\n",
       "      <td>0.8683</td>\n",
       "    </tr>\n",
       "    <tr>\n",
       "      <th>4</th>\n",
       "      <td>SVM</td>\n",
       "      <td>0.8478</td>\n",
       "      <td>0.8679</td>\n",
       "    </tr>\n",
       "    <tr>\n",
       "      <th>5</th>\n",
       "      <td>Decision Tree</td>\n",
       "      <td>0.7717</td>\n",
       "      <td>0.7961</td>\n",
       "    </tr>\n",
       "  </tbody>\n",
       "</table>\n",
       "</div>"
      ]
     },
     "execution_count": 109,
     "metadata": {},
     "output_type": "execute_result"
    }
   ],
   "execution_count": 109
  },
  {
   "cell_type": "code",
   "metadata": {
    "colab": {
     "base_uri": "https://localhost:8080/"
    },
    "id": "bzXFi4-YCtO-",
    "outputId": "dd8c5dfb-5ee7-4f27-e309-01ad4eeb101b",
    "ExecuteTime": {
     "end_time": "2025-10-24T05:52:07.361447Z",
     "start_time": "2025-10-24T05:52:07.354664Z"
    }
   },
   "source": [
    "import joblib\n",
    "joblib.dump(models['Logistic Regression'], \"LogisticR_heart.pkl\" )\n",
    "joblib.dump(scaler, 'scaler.pkl')\n",
    "joblib.dump(X.columns.tolist(), \"columns.pkl\" )"
   ],
   "outputs": [
    {
     "data": {
      "text/plain": [
       "['columns.pkl']"
      ]
     },
     "execution_count": 110,
     "metadata": {},
     "output_type": "execute_result"
    }
   ],
   "execution_count": 110
  }
 ],
 "metadata": {
  "colab": {
   "provenance": []
  },
  "kernelspec": {
   "display_name": "Python 3 (ipykernel)",
   "name": "python3",
   "language": "python"
  },
  "language_info": {
   "codemirror_mode": {
    "name": "ipython",
    "version": 3
   },
   "file_extension": ".py",
   "mimetype": "text/x-python",
   "name": "python",
   "nbconvert_exporter": "python",
   "pygments_lexer": "ipython3",
   "version": "3.13.5"
  }
 },
 "nbformat": 4,
 "nbformat_minor": 0
}
