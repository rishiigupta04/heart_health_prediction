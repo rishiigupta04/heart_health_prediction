{
<<<<<<< HEAD
 "cells": [
  {
   "cell_type": "code",
   "metadata": {
    "id": "BhVzekzfknAz",
    "ExecuteTime": {
     "end_time": "2025-10-24T05:52:04.823136Z",
     "start_time": "2025-10-24T05:52:04.818697Z"
    }
   },
   "source": [
    "import pandas as pd\n",
    "import seaborn as sns\n",
    "import matplotlib.pyplot as plt\n",
    "import warnings\n",
    "warnings.filterwarnings('ignore')"
   ],
   "outputs": [],
   "execution_count": 70
  },
  {
   "cell_type": "code",
   "metadata": {
    "colab": {
     "base_uri": "https://localhost:8080/",
     "height": 206
    },
    "id": "BbNArBB7kSEz",
    "outputId": "7b2399c2-4284-4dc8-b52d-67b78b27b4d8",
    "ExecuteTime": {
     "end_time": "2025-10-24T05:52:04.844186Z",
     "start_time": "2025-10-24T05:52:04.832642Z"
    }
   },
   "source": [
    "df = pd.read_csv('heart.csv')\n",
    "df.head()"
   ],
   "outputs": [
    {
     "data": {
      "text/plain": [
       "   Age Sex ChestPainType  RestingBP  Cholesterol  FastingBS RestingECG  MaxHR  \\\n",
       "0   40   M           ATA        140          289          0     Normal    172   \n",
       "1   49   F           NAP        160          180          0     Normal    156   \n",
       "2   37   M           ATA        130          283          0         ST     98   \n",
       "3   48   F           ASY        138          214          0     Normal    108   \n",
       "4   54   M           NAP        150          195          0     Normal    122   \n",
       "\n",
       "  ExerciseAngina  Oldpeak ST_Slope  HeartDisease  \n",
       "0              N      0.0       Up             0  \n",
       "1              N      1.0     Flat             1  \n",
       "2              N      0.0       Up             0  \n",
       "3              Y      1.5     Flat             1  \n",
       "4              N      0.0       Up             0  "
      ],
      "text/html": [
       "<div>\n",
       "<style scoped>\n",
       "    .dataframe tbody tr th:only-of-type {\n",
       "        vertical-align: middle;\n",
       "    }\n",
       "\n",
       "    .dataframe tbody tr th {\n",
       "        vertical-align: top;\n",
       "    }\n",
       "\n",
       "    .dataframe thead th {\n",
       "        text-align: right;\n",
       "    }\n",
       "</style>\n",
       "<table border=\"1\" class=\"dataframe\">\n",
       "  <thead>\n",
       "    <tr style=\"text-align: right;\">\n",
       "      <th></th>\n",
       "      <th>Age</th>\n",
       "      <th>Sex</th>\n",
       "      <th>ChestPainType</th>\n",
       "      <th>RestingBP</th>\n",
       "      <th>Cholesterol</th>\n",
       "      <th>FastingBS</th>\n",
       "      <th>RestingECG</th>\n",
       "      <th>MaxHR</th>\n",
       "      <th>ExerciseAngina</th>\n",
       "      <th>Oldpeak</th>\n",
       "      <th>ST_Slope</th>\n",
       "      <th>HeartDisease</th>\n",
       "    </tr>\n",
       "  </thead>\n",
       "  <tbody>\n",
       "    <tr>\n",
       "      <th>0</th>\n",
       "      <td>40</td>\n",
       "      <td>M</td>\n",
       "      <td>ATA</td>\n",
       "      <td>140</td>\n",
       "      <td>289</td>\n",
       "      <td>0</td>\n",
       "      <td>Normal</td>\n",
       "      <td>172</td>\n",
       "      <td>N</td>\n",
       "      <td>0.0</td>\n",
       "      <td>Up</td>\n",
       "      <td>0</td>\n",
       "    </tr>\n",
       "    <tr>\n",
       "      <th>1</th>\n",
       "      <td>49</td>\n",
       "      <td>F</td>\n",
       "      <td>NAP</td>\n",
       "      <td>160</td>\n",
       "      <td>180</td>\n",
       "      <td>0</td>\n",
       "      <td>Normal</td>\n",
       "      <td>156</td>\n",
       "      <td>N</td>\n",
       "      <td>1.0</td>\n",
       "      <td>Flat</td>\n",
       "      <td>1</td>\n",
       "    </tr>\n",
       "    <tr>\n",
       "      <th>2</th>\n",
       "      <td>37</td>\n",
       "      <td>M</td>\n",
       "      <td>ATA</td>\n",
       "      <td>130</td>\n",
       "      <td>283</td>\n",
       "      <td>0</td>\n",
       "      <td>ST</td>\n",
       "      <td>98</td>\n",
       "      <td>N</td>\n",
       "      <td>0.0</td>\n",
       "      <td>Up</td>\n",
       "      <td>0</td>\n",
       "    </tr>\n",
       "    <tr>\n",
       "      <th>3</th>\n",
       "      <td>48</td>\n",
       "      <td>F</td>\n",
       "      <td>ASY</td>\n",
       "      <td>138</td>\n",
       "      <td>214</td>\n",
       "      <td>0</td>\n",
       "      <td>Normal</td>\n",
       "      <td>108</td>\n",
       "      <td>Y</td>\n",
       "      <td>1.5</td>\n",
       "      <td>Flat</td>\n",
       "      <td>1</td>\n",
       "    </tr>\n",
       "    <tr>\n",
       "      <th>4</th>\n",
       "      <td>54</td>\n",
       "      <td>M</td>\n",
       "      <td>NAP</td>\n",
       "      <td>150</td>\n",
       "      <td>195</td>\n",
       "      <td>0</td>\n",
       "      <td>Normal</td>\n",
       "      <td>122</td>\n",
       "      <td>N</td>\n",
       "      <td>0.0</td>\n",
       "      <td>Up</td>\n",
       "      <td>0</td>\n",
       "    </tr>\n",
       "  </tbody>\n",
       "</table>\n",
       "</div>"
      ]
     },
     "execution_count": 71,
     "metadata": {},
     "output_type": "execute_result"
    }
   ],
   "execution_count": 71
  },
  {
   "cell_type": "markdown",
   "metadata": {
    "id": "Z-mNV7W1llIn"
   },
   "source": [
    "##EDA"
   ]
  },
  {
   "cell_type": "code",
   "metadata": {
    "colab": {
     "base_uri": "https://localhost:8080/"
    },
    "id": "RYkcN3h6lk0_",
    "outputId": "3727fd51-b76d-481b-fc3f-d4049a21b25a",
    "ExecuteTime": {
     "end_time": "2025-10-24T05:52:04.864348Z",
     "start_time": "2025-10-24T05:52:04.859952Z"
    }
   },
   "source": [
    "df.columns"
   ],
   "outputs": [
    {
     "data": {
      "text/plain": [
       "Index(['Age', 'Sex', 'ChestPainType', 'RestingBP', 'Cholesterol', 'FastingBS',\n",
       "       'RestingECG', 'MaxHR', 'ExerciseAngina', 'Oldpeak', 'ST_Slope',\n",
       "       'HeartDisease'],\n",
       "      dtype='object')"
      ]
     },
     "execution_count": 72,
     "metadata": {},
     "output_type": "execute_result"
    }
   ],
   "execution_count": 72
  },
  {
   "cell_type": "code",
   "metadata": {
    "colab": {
     "base_uri": "https://localhost:8080/"
    },
    "id": "T0_smiJeklR6",
    "outputId": "c4223a80-c47e-4c95-9ee6-ed1992323105",
    "ExecuteTime": {
     "end_time": "2025-10-24T05:52:04.890176Z",
     "start_time": "2025-10-24T05:52:04.886290Z"
    }
   },
   "source": [
    "df.shape"
   ],
   "outputs": [
    {
     "data": {
      "text/plain": [
       "(918, 12)"
      ]
     },
     "execution_count": 73,
     "metadata": {},
     "output_type": "execute_result"
    }
   ],
   "execution_count": 73
  },
  {
   "cell_type": "code",
   "metadata": {
    "colab": {
     "base_uri": "https://localhost:8080/"
    },
    "id": "ILJ_wzmiloso",
    "outputId": "48a7f59e-05e4-42c7-e94a-2c39a7de8823",
    "ExecuteTime": {
     "end_time": "2025-10-24T05:52:04.923531Z",
     "start_time": "2025-10-24T05:52:04.916515Z"
    }
   },
   "source": [
    "df.info()"
   ],
   "outputs": [
    {
     "name": "stdout",
     "output_type": "stream",
     "text": [
      "<class 'pandas.core.frame.DataFrame'>\n",
      "RangeIndex: 918 entries, 0 to 917\n",
      "Data columns (total 12 columns):\n",
      " #   Column          Non-Null Count  Dtype  \n",
      "---  ------          --------------  -----  \n",
      " 0   Age             918 non-null    int64  \n",
      " 1   Sex             918 non-null    object \n",
      " 2   ChestPainType   918 non-null    object \n",
      " 3   RestingBP       918 non-null    int64  \n",
      " 4   Cholesterol     918 non-null    int64  \n",
      " 5   FastingBS       918 non-null    int64  \n",
      " 6   RestingECG      918 non-null    object \n",
      " 7   MaxHR           918 non-null    int64  \n",
      " 8   ExerciseAngina  918 non-null    object \n",
      " 9   Oldpeak         918 non-null    float64\n",
      " 10  ST_Slope        918 non-null    object \n",
      " 11  HeartDisease    918 non-null    int64  \n",
      "dtypes: float64(1), int64(6), object(5)\n",
      "memory usage: 86.2+ KB\n"
     ]
    }
   ],
   "execution_count": 74
  },
  {
   "cell_type": "code",
   "metadata": {
    "colab": {
     "base_uri": "https://localhost:8080/",
     "height": 300
    },
    "id": "0HDDGsSXlqkD",
    "outputId": "3b98bb8a-d7d3-4527-c8ce-301715d9ab79",
    "ExecuteTime": {
     "end_time": "2025-10-24T05:52:04.955222Z",
     "start_time": "2025-10-24T05:52:04.940855Z"
    }
   },
   "source": [
    "df.describe()"
   ],
   "outputs": [
    {
     "data": {
      "text/plain": [
       "              Age   RestingBP  Cholesterol   FastingBS       MaxHR  \\\n",
       "count  918.000000  918.000000   918.000000  918.000000  918.000000   \n",
       "mean    53.510893  132.396514   198.799564    0.233115  136.809368   \n",
       "std      9.432617   18.514154   109.384145    0.423046   25.460334   \n",
       "min     28.000000    0.000000     0.000000    0.000000   60.000000   \n",
       "25%     47.000000  120.000000   173.250000    0.000000  120.000000   \n",
       "50%     54.000000  130.000000   223.000000    0.000000  138.000000   \n",
       "75%     60.000000  140.000000   267.000000    0.000000  156.000000   \n",
       "max     77.000000  200.000000   603.000000    1.000000  202.000000   \n",
       "\n",
       "          Oldpeak  HeartDisease  \n",
       "count  918.000000    918.000000  \n",
       "mean     0.887364      0.553377  \n",
       "std      1.066570      0.497414  \n",
       "min     -2.600000      0.000000  \n",
       "25%      0.000000      0.000000  \n",
       "50%      0.600000      1.000000  \n",
       "75%      1.500000      1.000000  \n",
       "max      6.200000      1.000000  "
      ],
      "text/html": [
       "<div>\n",
       "<style scoped>\n",
       "    .dataframe tbody tr th:only-of-type {\n",
       "        vertical-align: middle;\n",
       "    }\n",
       "\n",
       "    .dataframe tbody tr th {\n",
       "        vertical-align: top;\n",
       "    }\n",
       "\n",
       "    .dataframe thead th {\n",
       "        text-align: right;\n",
       "    }\n",
       "</style>\n",
       "<table border=\"1\" class=\"dataframe\">\n",
       "  <thead>\n",
       "    <tr style=\"text-align: right;\">\n",
       "      <th></th>\n",
       "      <th>Age</th>\n",
       "      <th>RestingBP</th>\n",
       "      <th>Cholesterol</th>\n",
       "      <th>FastingBS</th>\n",
       "      <th>MaxHR</th>\n",
       "      <th>Oldpeak</th>\n",
       "      <th>HeartDisease</th>\n",
       "    </tr>\n",
       "  </thead>\n",
       "  <tbody>\n",
       "    <tr>\n",
       "      <th>count</th>\n",
       "      <td>918.000000</td>\n",
       "      <td>918.000000</td>\n",
       "      <td>918.000000</td>\n",
       "      <td>918.000000</td>\n",
       "      <td>918.000000</td>\n",
       "      <td>918.000000</td>\n",
       "      <td>918.000000</td>\n",
       "    </tr>\n",
       "    <tr>\n",
       "      <th>mean</th>\n",
       "      <td>53.510893</td>\n",
       "      <td>132.396514</td>\n",
       "      <td>198.799564</td>\n",
       "      <td>0.233115</td>\n",
       "      <td>136.809368</td>\n",
       "      <td>0.887364</td>\n",
       "      <td>0.553377</td>\n",
       "    </tr>\n",
       "    <tr>\n",
       "      <th>std</th>\n",
       "      <td>9.432617</td>\n",
       "      <td>18.514154</td>\n",
       "      <td>109.384145</td>\n",
       "      <td>0.423046</td>\n",
       "      <td>25.460334</td>\n",
       "      <td>1.066570</td>\n",
       "      <td>0.497414</td>\n",
       "    </tr>\n",
       "    <tr>\n",
       "      <th>min</th>\n",
       "      <td>28.000000</td>\n",
       "      <td>0.000000</td>\n",
       "      <td>0.000000</td>\n",
       "      <td>0.000000</td>\n",
       "      <td>60.000000</td>\n",
       "      <td>-2.600000</td>\n",
       "      <td>0.000000</td>\n",
       "    </tr>\n",
       "    <tr>\n",
       "      <th>25%</th>\n",
       "      <td>47.000000</td>\n",
       "      <td>120.000000</td>\n",
       "      <td>173.250000</td>\n",
       "      <td>0.000000</td>\n",
       "      <td>120.000000</td>\n",
       "      <td>0.000000</td>\n",
       "      <td>0.000000</td>\n",
       "    </tr>\n",
       "    <tr>\n",
       "      <th>50%</th>\n",
       "      <td>54.000000</td>\n",
       "      <td>130.000000</td>\n",
       "      <td>223.000000</td>\n",
       "      <td>0.000000</td>\n",
       "      <td>138.000000</td>\n",
       "      <td>0.600000</td>\n",
       "      <td>1.000000</td>\n",
       "    </tr>\n",
       "    <tr>\n",
       "      <th>75%</th>\n",
       "      <td>60.000000</td>\n",
       "      <td>140.000000</td>\n",
       "      <td>267.000000</td>\n",
       "      <td>0.000000</td>\n",
       "      <td>156.000000</td>\n",
       "      <td>1.500000</td>\n",
       "      <td>1.000000</td>\n",
       "    </tr>\n",
       "    <tr>\n",
       "      <th>max</th>\n",
       "      <td>77.000000</td>\n",
       "      <td>200.000000</td>\n",
       "      <td>603.000000</td>\n",
       "      <td>1.000000</td>\n",
       "      <td>202.000000</td>\n",
       "      <td>6.200000</td>\n",
       "      <td>1.000000</td>\n",
       "    </tr>\n",
       "  </tbody>\n",
       "</table>\n",
       "</div>"
      ]
     },
     "execution_count": 75,
     "metadata": {},
     "output_type": "execute_result"
    }
   ],
   "execution_count": 75
  },
  {
   "cell_type": "code",
   "metadata": {
    "colab": {
     "base_uri": "https://localhost:8080/"
    },
    "id": "CmCqAXrOlyeR",
    "outputId": "312276cf-3f72-4382-ce92-0f5d2f7446e8",
    "ExecuteTime": {
     "end_time": "2025-10-24T05:52:04.973394Z",
     "start_time": "2025-10-24T05:52:04.968598Z"
    }
   },
   "source": [
    "df.duplicated().sum()"
   ],
   "outputs": [
    {
     "data": {
      "text/plain": [
       "np.int64(0)"
      ]
     },
     "execution_count": 76,
     "metadata": {},
     "output_type": "execute_result"
    }
   ],
   "execution_count": 76
  },
  {
   "cell_type": "code",
   "metadata": {
    "colab": {
     "base_uri": "https://localhost:8080/",
     "height": 460
    },
    "id": "FwTbjuE8l-wB",
    "outputId": "c80f279e-3f71-4e56-c2b9-7fbab6b6eae1",
    "ExecuteTime": {
     "end_time": "2025-10-24T05:52:05.005115Z",
     "start_time": "2025-10-24T05:52:04.998504Z"
    }
   },
   "source": [
    "df.isnull().sum()"
   ],
   "outputs": [
    {
     "data": {
      "text/plain": [
       "Age               0\n",
       "Sex               0\n",
       "ChestPainType     0\n",
       "RestingBP         0\n",
       "Cholesterol       0\n",
       "FastingBS         0\n",
       "RestingECG        0\n",
       "MaxHR             0\n",
       "ExerciseAngina    0\n",
       "Oldpeak           0\n",
       "ST_Slope          0\n",
       "HeartDisease      0\n",
       "dtype: int64"
      ]
     },
     "execution_count": 77,
     "metadata": {},
     "output_type": "execute_result"
    }
   ],
   "execution_count": 77
  },
  {
   "cell_type": "code",
   "metadata": {
    "colab": {
     "base_uri": "https://localhost:8080/",
     "height": 178
    },
    "id": "AuHr241em5aC",
    "outputId": "025ac73b-3dfd-436d-9fdd-403472403f06",
    "ExecuteTime": {
     "end_time": "2025-10-24T05:52:05.035393Z",
     "start_time": "2025-10-24T05:52:05.030793Z"
    }
   },
   "source": [
    "df['HeartDisease'].value_counts()"
   ],
   "outputs": [
    {
     "data": {
      "text/plain": [
       "HeartDisease\n",
       "1    508\n",
       "0    410\n",
       "Name: count, dtype: int64"
      ]
     },
     "execution_count": 78,
     "metadata": {},
     "output_type": "execute_result"
    }
   ],
   "execution_count": 78
  },
  {
   "cell_type": "code",
   "metadata": {
    "colab": {
     "base_uri": "https://localhost:8080/",
     "height": 461
    },
    "id": "b7LVZcZEmA8J",
    "outputId": "5fe9c8ce-2adb-40a0-8766-d312061e4d7d",
    "ExecuteTime": {
     "end_time": "2025-10-24T05:52:05.119792Z",
     "start_time": "2025-10-24T05:52:05.059368Z"
    }
   },
   "source": [
    "df['HeartDisease'].value_counts().plot(kind='bar' )"
   ],
   "outputs": [
    {
     "data": {
      "text/plain": [
       "<Axes: xlabel='HeartDisease'>"
      ]
     },
     "execution_count": 79,
     "metadata": {},
     "output_type": "execute_result"
    },
    {
     "data": {
      "text/plain": [
       "<Figure size 640x480 with 1 Axes>"
      ],
      "image/png": "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"
     },
     "metadata": {},
     "output_type": "display_data",
     "jetTransient": {
      "display_id": null
     }
    }
   ],
   "execution_count": 79
  },
  {
   "cell_type": "markdown",
   "metadata": {
    "id": "06acnpGd4AUW"
   },
   "source": [
    "# Now we create histograms which are best to visualize distribution of **Numerical Variables** and identify anamolies if any in our dataset\n",
    "\n",
    "---\n",
    "\n"
   ]
  },
  {
   "cell_type": "code",
   "metadata": {
    "id": "qeJWjaXFmMFs",
    "ExecuteTime": {
     "end_time": "2025-10-24T05:52:05.129115Z",
     "start_time": "2025-10-24T05:52:05.125603Z"
    }
   },
   "source": [
    "def numeric_var_plotting(var, num):\n",
    "  plt.subplot(2,2,num)\n",
    "  sns.histplot(data = df[var], kde=True)\n",
    "  plt.tight_layout()"
   ],
   "outputs": [],
   "execution_count": 80
  },
  {
   "cell_type": "code",
   "metadata": {
    "colab": {
     "base_uri": "https://localhost:8080/",
     "height": 487
    },
    "id": "uEJk2KbJnXYx",
    "outputId": "792eb24d-1b69-412d-aa83-1868cc435ab7",
    "ExecuteTime": {
     "end_time": "2025-10-24T05:52:05.539095Z",
     "start_time": "2025-10-24T05:52:05.147603Z"
    }
   },
   "source": [
    "numeric_var_plotting('Age',1)\n",
    "numeric_var_plotting('RestingBP',2)\n",
    "numeric_var_plotting('Cholesterol',3)\n",
    "numeric_var_plotting('MaxHR',4)\n"
   ],
   "outputs": [
    {
     "data": {
      "text/plain": [
       "<Figure size 640x480 with 4 Axes>"
      ],
      "image/png": "iVBORw0KGgoAAAANSUhEUgAAAnYAAAHWCAYAAAD6oMSKAAAAOnRFWHRTb2Z0d2FyZQBNYXRwbG90bGliIHZlcnNpb24zLjEwLjYsIGh0dHBzOi8vbWF0cGxvdGxpYi5vcmcvq6yFwwAAAAlwSFlzAAAPYQAAD2EBqD+naQAApalJREFUeJztnQd4VNXWhr9Meu8JCQmEGlpooSlFUFFAbGDvFRTR/9ordq9e7AUFFRVFEWkqNsRG7yV0SCGFhDSSkN7nf9YeZkxCQgozmfa9z3Myp82ZfXZm9ll7VQetVqsFIYQQQgixejTmbgAhhBBCCDEOFOwIIYQQQmwECnaEEEIIITYCBTtCCCGEEBuBgh0hhBBCiI1AwY4QQgghxEagYEcIIYQQYiNQsCOEEEIIsREo2BFCCCGE2AgU7AghxIRUVlZi8uTJ2LJli2Hfyy+/jOjo6HrLwoULDcd/+uknXHjhhRgwYADuu+8+5OXlman1hBBrg4IdIYSYiIqKCjz00EOIj4+vtz8xMREPP/ww1q9fb1imTp2qju3ZswdPP/00Zs6cicWLF6OwsBBPPvmkme6AEGJtOJm7AYQQYoskJCQo4a2xctwi2N15550IDg4+7Zho7iZOnIgrrrhCbc+ePRvjxo1DWloaIiMj26XthBDrxW4Fu9raWlRXV0Oj0cDBwcHczSGEnAUiPMlv2snJSf2mLYGtW7di+PDhePDBBzFw4EDD/uLiYmRlZSEqKqrR98XFxeHuu+82bIeFhSE8PFztb6lgx/GNEPsd3+xWsJNBb+/eveZuBiHEiMTExMDFxQWWwA033NDoftHWibA1d+5crF27Fn5+frj99ttx5ZVXquPZ2dkICQmp957AwEBkZma2+LM5vhFiv+Ob3Qp2eqlXOsrR0RH2SE1NjRr87bkP2gv2dfv0r6Vo685EUlKSEuy6du2Km266Cdu2bcOsWbPg5eWF8ePHo7y8/LTBW7YlCKOlWEM/EEJaR0t/13Yr2OnNE/KQtfcHLfug/WBfmxZrMDuK75z4zImmTujVqxeSk5OxaNEiJdi5urqeJsTJtru7e6v7oSUTCVufdNjy/dnyvdn6/dW04t7057Z0fLNbwY4QQsyBDM56oU6PaO82b96s1kNDQ5Gbm1vvuGw3FmhhzImErU86bPn+bPnebP3+HE1wb9TXE0JIO/Luu+/itttuq7fv0KFDSrgTJHfdjh07DMeOHz+uFtlPCCHNQcGOEELaETHDil/d/PnzkZqaim+++Qbff/897rjjDnX8+uuvxw8//IAlS5Yoge+xxx7D2LFjmeqEENIiaIolhJB2pH///kpr995776nXjh074s0338SgQYPUcXl98cUX1fGTJ09i5MiReOmll8zdbEKIlUDBjhBCTMzhw4frbUu5MFmaYsqUKWohhJDWQsGO2C3VkvCxheHjrTmXEEKsmYLSShSVVxu2vd2c4OdhGfkhiZUIdhLKL7NTyeUkmdqF3bt347XXXlMzXUnWedddd+Hqq682vOeyyy47bRa8cuVK9OzZs93bT6wTEdQ++icB1TXaM5/n6IB7x3Zvt3YRQog5EaFu6Y5jhu2rYiMo2FkRTpZQJFvqKdYtkp2Tk6NK6ogTsQh3+/fvV0WwJdxfnIglp4vkfZKainXL8vj7+5vpLoi1IkJdde2ZBTtCCCHEWnCyxCLZf/zxB4KCgvDQQw+pbRHetmzZojRyItgdO3YMVVVVyglZknkSQgghhBAzC3ZNFckePXo0evfufdr5UjxbLxBKYWwKdYQQQgghFiLYNVUkOyIiQi16Tpw4gZ9//hn333+/oYi2s7Mzpk+fjn379qFLly4q15No8AghhBBC7BWz+9g1hxTEFoFOTLPXXnut2nf06FGV30mCKR544AF89913uPXWW/HLL78oTV5rEH89e0V/7/baB1LGRautPc0VoCFarcNZ95O997WpYb8SQogVCHYlJSWYMWOGCpSQ7Oz6ItiSrFMEPi8vL7X9/PPPY+fOnSpb+z333NOqz5DCuvaOPfaB1OscPHgwsrKyUFVTe8ZznR0lzUk04uLimhUCm8Me+5oQYnswJYrlYrGCnfjTSYoTKbmzYMGCetGvTk5OBqFO/5CWOovykG4tMTExNltcuCVaDhE07LkPpOB6c1GxThqdxu5sanWyr02Lvn8JIe0DU6JYLhYp2NXW1mLmzJkq+vWrr75Ct27d6h2/+eabVdCFnKM/X3La3Xjjja3+LHnI2vuD1p77wMFBAweHMwt2MnEQjNFH9tzXhBBC7FSwW7p0qUpv8tFHH8HHx0fltRMkYMLPzw/nn38+5syZoyJnJXDiyy+/RFFREa688kpzN50QQgghxGxYpGC3atUqpYWTqNe6DBs2TGnwbrvtNpXY+OWXX0Zubq4ykX3++ef1zLOEEEIIIfaGxQh2dcuDzZ8/v1nTmARJtDZQghBCCCHElmFVc0IIIYQQG4GCHSGEEEKIjUDBjhBCCCHERqBgRwghhBBiI1CwI4QQQgixESjYEUIIIYTYCBTsCCGEEEJsBAp2hBBCCCE2gsUkKCaEEEKI7VJQWomi8up6+7zdnODn4WK2NtkiFOwIIYQQYnJEqFu641i9fVfFRlCwMzI0xRJCCCGE2AgU7AghhBBCbAQKdoQQQgghNgIFO0IIIYQQG4GCHSGEEEKIjUDBjhBCCCHERqBgRwghhBBiI1CwI4QQQgixESjYEUIIIYTYCBTsCCGEEEJsBIsQ7CorKzF58mRs2bLFsC8tLQ233XYbBg4ciEmTJmH9+vX13rNx40b1ngEDBuCWW25R5xNCCCGE2DNmF+wqKirw0EMPIT4+3rBPq9XivvvuQ1BQEJYtW4bLL78cM2fOREZGhjour3J8ypQpWLp0KQICAjBjxgz1PkIIIYQQe8XJnB+ekJCAhx9++DSBbPPmzUoD9+2338LDwwPdunXDpk2blJB3//33Y8mSJejXrx/uuOMOdf6rr76KkSNHYuvWrRg+fLiZ7oZYO+VVNTh+shzFFdVwAODl6oQQH1f4uDmbu2mEEEKI5Qt2ekHswQcfVCZXPXFxcejTp48S6vTExsZi9+7dhuNDhgwxHHN3d0ffvn3VcQp2pLUcyy/F9pR8pJwobfR4Rz939Aj1xkV9QqHRiMhHCCGEWCZmFexuuOGGRvfn5OQgJCSk3r7AwEBkZma26HhrqKmpgb2iv3d77YPiilr8tCcDh7OKDfv8PZzh5+EMUSKfLKtCfmkV0gvKcM/CHegW7InnLu2Dkd0CW/1Z9t7Xpob9SgghFiDYNUVZWRlcXFzq7ZNtCbJoyfHWsHfvXtg79tgH6UU1eGNrCVLzSpXZtau/E3oGOsPbpa7bqQtKq5xwtKAGaUW1SMwpwS2fbcP4ru64pb83PJxb76Jqj31NCCHEzgU7V1dXFBQU1NsnQpubm5vheEMhTrZ9fHxa/VkxMTFwdHSEvWo5RNCwtz44lFmE537eqrRxvu5OuLhvKDr46L5bjdGzswNuH9UV//v1EBZuScXqpDIcLdJg7k2D0SXIs0Wfaa993V7o+5cQQuwdixTsQkNDVWBFXXJzcw3mVzku2w2P9+7du9WfJQ9Ze3/Q2lMfpOWVKq2bCHUDInxxbrdAuDid+d4dHBzg7eaMl6+MwSX9w/Hg4t1IyCnBlI824cMbYzGqR1CLPluuY099TQghxA7TnTSG5Kbbv38/ysvLDft27Nih9uuPy7YeMc0eOHDAcJyQxiipqMbdX27HiZJK9A33wZd3DoeHS+vmNud0C8SPM0diUCc/FJZX4/YvtuLXvcdPO6+6trbetghzgwcPblKoa3g+IYQQYjMau2HDhiEsLAxPPvmkyk/3999/Y8+ePSqtiTB16lTMnz8fH3/8McaNG4c5c+YgIiKCEbGkSWprtXj4uzhlhg3ycsWntw6Br3vb0piE+Lhh0d0j1PV+3nsc932zE69fNQBTYyMM5zhpNPjonwRU1+hS+Wi1tcjKylLaZgeH+vMpJ0cH3Du2+1neISGEEGKhGjvRanz44Ycq+lWSEP/4449KeAsPD1fHRYh7//33VV67q666SvnjyXExdRHSGJ9vTMZv+zPh4qjBvJtjEebrflbXc3N2xHvXD8I1QyJQqwUeWRqHH+N0CbT1iFBXXfvvUlVTW2/bsJwS/gghhBCb0dgdPny43nbnzp2xcOHCJs8/77zz1EJIcyTmFGP2b4fU+qxL+yC2s79RruuoccBrU/rDxUmDhZtT8dDi3fB2dcK4XvVT8RBCCCF2rbEjxFjU1GrxyJI4VFTXYnSPINw0vJNRry8Ji1+8rB8uHxiutG+S727r0TyjfgaxblgLmxDSnlCwIzbN/PVJ2JVaoDRp/5va3yTmehHu3rh6AM7vFaIEyDu/2IYDGYVG/xxifbAWNiGkvaFgR2yW4yfL8M4fugfqM5N7I9zv7PzqzoSzowZzbhiMYVEBKKqoxl0LtqkoXGK/SMqma665BqmpqY3Wwn7xxRdVHezp06crzZ0IeULdWtg9evRQQWPp6emqBCMhhDQHBTtis/z3l0MorazB4E5+uDo20uSf5+7iiE9uGaKSFmecLMcPcRmormEaE3tFXwt78eLF9fafTS1sQgixmuAJQozJpsQTWBmXAbG8vnh5P2UubQ98PZxVKpUr52zA8ZPl+PNQNi7qE9oun00sC2uphW3rdYxt+f5MdW9i9pcUTXW3G35GS85p7rrNvY//O7Tp/inYEZsMmHhh5X61fuPwTujX0bddP79bsJeqSHHzZ1tU3rxATxfEdvZr1zYQy8VSa2Hbekk2W74/Y9+bo09IvYlEXp4ncpKzW31Oc9dt6fv4v2sdFOyIzfH9rnQlUPm4OeGRi6LN0gYpM3Z+dIjS2G1MPIFQH1f+2IhF1sK29TrGtnx/prq39IJydOhQYtiWAJ6OXcNbfU5z123uffzfta0WNp81xKYor6rBW6uPqPUZ47rDz6O+5qM9kVq0GSfLcPB4EX7bn4ULo1zN1hZiOVhqLWxbr2Nsy/dn7HuT7AF1K+To61y39pzmrtvS9/F/1zoYPEFsioWbU5BeUIYOPm647dwos7ZFBqxx0SHKFCtBHJuPlaOWKSvsHtbCJoSYEgp2xGY4WVaFD/7WaUIeGt9Tlf0yN5IGZVJMGJwdHZBdWoutR/PN3SRiQbWwJb+d1LyWWthSHlFfC3vnzp1qvxyX81gLmxDSUijYEZth3ppEFJRWoUeIF6YM7ghLIcDTBeOig9X61uR8pOeX1TsuAbvVta1Li9La84nlwFrYhBBTQh87YhNknizHZxuOqvXHJvSCk6NlzVl6dfDGkYw8JBdU4/cDmbhxeGdVY1bQODjASaPBR/8koLqmeVOtk6MD7h3bvR1aTYwFa2ETQtoLy3r6EdJG3v3zCMqrajGksz8u7F0/B5ilMCjUBd5uTigsr8a6+JzTjotQJ/Vmm11aIPwRQgixTyjYEasnIbsYi7fpiqQ/MbGXxZqsxM9OL3TuyyhEcm79sH9CCCHkbKFgR6yeN1YdRq0WuLB3KIZEBcCSifR3x8BIXbLiPw5mqfQshBBCiLGgYEesmt1pBfhtf6YKQHhsgnmSEbeWkd0C4e/hjJLKGqyLr5+vjBBCCLEowS4vL8/YlySkUaTG4P9+PaTWpwyOQM9Qb1gDEtgx/lT92APHC5GWV2ruJpEWwvGNEGKTgp1kQG9sgEtPT8cFF1xgjHYR0mxKD9F2bUo6ARdHDf5zYQ+rSgES5uuOfuG6ElGrDmShstp62m7rcHwjhNhFupPvv/8ey5cvN2hK7rvvPjg7O9c7Jzs7G8HBunxdhJwtZ0oBIt/BhVtS1Xq/jj5YGZdhshQg+jxz0h5jMrJ7EBJzSnCipBIfr0006rVJ6+D4RgixO8Fu/PjxOHbsmFrfunUrBg4cCE9Pz3rneHh4qPOMgQyyknG9IRLxeOjQIdx7773466+/6h2bO3cuxo0bZ5TPJ5aBPgVIQ45kFSG7qEJp62I7+5s0BUhr88y5OWtw95huLTjPEWN6BmHV/izM+TsRN4/oBHcXppY0B+09vhFCiKlo8VNEBrmZM2eq9Y4dO2LSpElwdTVdUXO5/ujRow3b1dXVuPXWWzF27Fi1nZiYiNdffx3nnHOO4RxfX1+TtYdYDjW1WmxMPKHWB3fyg0c7CUNNCZmNnddSokO9sS/9JNILyrE+IRfj+3Q4y1aSttDe4xshtkBVTS3is4uRV1Kp6mDfOaoL/DxczN0su6dNT8Qrr7wSKSkp2LdvH6qqqk47fsUVV5x1w9zc3NSiZ968ecpE8sgjj6CyslLNrmNiYmgasUMOZBSqurDuzo4Y1Mkf1oxooC/oFYIvN6fiwPEixHT0Qwfff7/3pP1pj/GNEGtnb/pJfLkpBcUV1Wp7R0o+Pt+QjNemxmByf115PGJFgt2nn36KN954Q2nIGpor5EFl7IFPaiV+8sknePnll+Hi4qJMsfI5kZGRRv0cYvlUVNeogAlhWJcAQ1kua0YCKaYOjsCyncewNj4HV8dGWGySZXugvcc3QqwJUbAs2JiMl34+qKwnUk2na5CnSt8kyeJnfrMLOUUVuH1kF3M31W5pk2D32Wef4dFHH8Wdd96J9mDRokUICQnBhAkT1HZSUhK8vLzw2GOPKX+YDh064P7772dtRTtgW3I+yqpq4OfujJiOtmN6lxx8P+xOx/GT5UjKLUG3YC9zN8luae/xjRBrIfVEKZ5asVe5jQg9QrxUYniZYF85qCO+2pyC+euP4oWVB+Dq5Igbhncyd5PtkjYJdhUVFbjooovQXrODJUuW4K677jLsE8GuvLwco0aNwrRp07B69WoVTLF48WJlnm0NNTX2m/lff++W2geOjo7QamvVd0AoKK3CrtR8tT66RyA0DlrDMa3WodX30vD6TaE/3JJzmzq/tvbfV42mfmoTOSXUxw2xnfywJTkfGxNzERXoroI2Gr9+6+/V1jFmX7Tn+EaINSCauU/XJeHN34+oibWrkwbTx3RVx/TWBUeNA565pDecHB0wb00Snv5+rzpvamyEmVtvf7RJsLv00kvxzTffKI2ZqU1Ge/fuRVZWFi655BLDvhkzZuDmm282BEv06tUL+/fvx3fffddqwU6ub+9YYh/I92rw4MHqfy8OusL6tHJVOqyDpyPcqgqRmVlkON/ZUUyy0YiLi2uR8NXY9ZtCF5zRE1lZ2ahqgQBxpvOzs7OaPL+TRzV2aYC8kipsPXwMUX7102209V6J5Y5vhFg6Ehhx79c7cPC4brwd0TUAr03prwS5pTt0keR65PfyxIReKK+swYJNKXh0aZyK/r+kf5iZWm+ftEmwKy4uxtKlS/HTTz8hIiLitHxPX375pbHah3Xr1mHIkCH1Il41Gs1pEbBdu3ZFQkJCq68vgqBobuxVyyFCnSX3QWhoqIpETc0rRUZRCeQ5e0G/cAR61o+8cpJkcwAGDBjQpuufCbdTfnyhoSEtiopt7HzR1IlQFxISCs2ptjY8PzI8FEMrnLEhMQ8HT9RiSM9Qw30Z417t4btsDNpzfCPEkhFfueW7jqG8qhberk546pLeuHZIpBrDmqqYI8Ldc5f2Ve9ZvD0N//ftLmWq1VfbIRYq2EVFReGee+5Be7Bnzx6lWanLE088ob48r776qmGfBFT07Nmz1dcXgcZShZr2wpL7wMFBo0ya6+J1ARMDOvohyOv0qFGDOaCV9yHXd3DQNntOS89t6ny9+VUGRP3xxs4fGOmP3cdOoqiiGoeOFyMmwtdo90osb3wjxFIRS8bKPRlKQOvdwRuf3z6sxRH7Ms79d0oMyqtr8MPuDMz8ZieW3XsufN0bt0IQCxDs9Pme2oP4+Hhcdtll9fadf/75eOihhzB8+HAMGjQIK1euxI4dO/Diiy+2W7tI+7ErrUBVZxDN1vCuAbBlpI7skM4BWHMkB9tT8tAn3EeZPEj70Z7jGyGWytajeSgqr1ZRr29eM6DVaZhk3Hrz6gEqNdU/h3Mw/asdmH/rEJO1l5ylYNdYRYi61NWknS25ubnw8dHV1NQjjs3PPfccPvroI2RkZKBHjx4qRYGYTYhtUVBaic2n0puM7hGs/DVsHakhK4NqYXk1DmcWKeGOtB/tOb4RYqnjrkyohfN6BsPbzbnNE9X3rh+ES99fj5QTpfhsw1GV3omYFqMkAZOqEEePHsUvv/yCgIAAo5ti61ag0HP11Vdj1apVyq9Gyo8NHTrUqJ9LzI8EBvxxMFv5qUX4u6N3mDfsAadTZdKEbcl5KqM7MR+mHN8IsUR+25epImFDvF1VjrqzwcfNGS9c1letL9uRjvzSSiO1khhVY9fUjFW0ZkeOHGnLJQk5jSU7jiElr1Sp9M/vFWJXEYqSo297ch4KyqoQn1WM6A72IdRaAhzfiL1PqH+IyzCMQ8YYd8dGh2BsdLAyye5OK8C46BAjtJQ0hVHT9ksCYckpR8jZIhFXL/y4X60P7xIA/2bqD4obWnXtmdOWWBMSRaYvlyZaO6Y1MT8c34g9sOfYSRzLL4OzowN6hhpvQnn3aF3eu4PHC1FRxRycpsRo1dNLS0tVHjl/f+uu3UnMj5gAHv4uTpWoCfdzM5glz4Qk83XSaPDRPwmormlBShJnDe4e0w2WzIBIX+xIzVeBIwk5xegRQq2dueD4RuyFPw/qcm12DvA0asnGc7sFokuQJ47mluBIVuMR/8SMgp0kBG5MPevq6qrquRJyNsxdk4ityXnwdHHEpH5hTVZgaAwR6lqSa64lwp+5kZI8AyP8VF/sTClA92AvuzJHmwuOb8SeEb9moWvw2fnWNUR+Uxf3DcXcNUlqokrBzsIEu4YJOuUfJkk8u3fvrmq4EtJWpJzWm78fVuvPXdYXWSfLWySo2Sp6rV1mYbmqIxvux4gyU8PxjdgrGQVlOHC8ULm2RAUaV7DTR9iKYJeWX6pKk7nbQZYDc9AmPeuwYcPUEhISgqKiIhQUFKgBj4Oe9dNaPzVj+rVlnizHA4t2qbJhV8VG4GrWGFTlxnqdCpzYeapOLjEtHN+IvbIhIVe99g7zgbuL8YWuCH8PBHm5qPrYR3NKjH59chYau8LCQpXr6c8//1SlvaScT0lJiUo5MmfOHHh70xfIWmmNn5oUe753bHejfG55VQ1mfL0DucWVSpB56fJ+NDueYnAnf+zPKERiTonKLxXk5WruJtk0HN+IvbI5KU+9DurkZ7LP6BrkhdziPKTklTBHpyVp7MTPJDMzU+V12rJlC7Zv366qP4iDMZN3Wj96P7VmFyP5qUkd1YeXxGFnagF83Jzw0U2xJpktWisBni6ICvRQ6/qkocR0cHwj9oo+GfygSNMFCUUG6NxJ0vLKGO1vSYLdX3/9heeffx5du+rClwXxP3n22WfVLJeQ1vD674fx857jKrx+3s1DVOQUOV1rJxzIKFS+KcR0cHwj9ppiKr2gDE4aB/TraDpNmpQmk8+QcUwi/omFCHYSHabRnP5WMZ2J2YKQ1kTAfvRPolp/bUp/nNMt0NxNskik8kawl6vSlO45Rq2dKeH4RuyRLUd1ZliJVhXfXlO6++iDwESYJBYi2J1//vl44YUXkJqaatiXnJysTBjnnXeeMdtHbJjP1h/Fa78eUuuPXhyNqQyWaBIRKgaf8nvZlVqAimoKGKaC4xuxR/TBWUOjTF82L9JfJ9iJhpBYiGD36KOPqlntxRdfjOHDh6tFsrKLo/GsWbOM30pikbSl2oOcL34Voql78acDat8DF/TAfeOME4Rhy/QI9YaXq5NK3Pzjbl3JH2J8OL4Re2RnSn49tw9TEubrbsiEQD8749NqfWtKSgrCw8Px1Vdf4fDhw0hMTFSDYFRUFLp1s+xM/sS4tLbag0TRTh/TDa/8fBCfrj+q9t07thsevLBHO7TW+pGauQMifLEh8QQ+XXdUpYRh5LBx4fhG7JHC8ioczipS64M7+6GiyrTlGUN8XJViQCap2UUV6GSCnHn2TIs1diJViyli4sSJ2LVrl9oXHR2NSZMmYdmyZZg8eTJee+01St92SEujaEsranDfNzsNQt1Tk3rh8QmNZ/knjSNFuSXIRAbh9adyTpGzh+MbsWfi0gpUbjmJWA3xdjP55zk7agxpm/alnzT559kbmtZkY5fwf8njJMk76/Lhhx+q/StWrMCiRYtM0U5i5eSXVuKbran4dV+mEkzeumYApll4rVZLxNXZEf3CdaV4RGtHjAPHN2KLSN5LCVDQL7LdGDtOmWFj28EMqyfMVydASo5OYibBTgpgi3/JuHHjmnQ4fuSRRzjwkXqIhkNmZIu2pqrQ9hBvV3w77RxMGcxAibYiQRSi5FxzJAdHTplPyNnB8Y3YIkXl1Vi645hhke3GkByiwuDO7SfYSdoTgYKdGQW79PR09O/f/4znjBgxAmlpacZoF7EBCsuq8GNcBv48lI2qGq2KhPrp/lGIbcfBwxbx83DBxX06qPX51NoZBY5vxF6RBPG7UtsvcKJhAIVMTqXyEDGDYBcYGKgGvzMh2dr9/ExXioRYB1U1tdh6NA9fbU5B8olSODo4YHT3IFX7NcTH9P4b9sBdo7uo1xW705FTVGHu5lg9HN+IvZKQU6w0eR4ujoa61O2BVBlyd3ZU/tfU2plJsBs/fjzef/99VFVVNXq8uroaH3zwAUaNGmXM9hErorqmVs38vtiYjE1JJ9QPNsLPHdcPi1QqfgZJGA/Reg6I9ENldS0Wbk4xd3OsHo5vxF7R+9cNiPCDk2ObMqC1CXke6P3s9BpDYhxa/F+cMWMGsrKyMGXKFOWPcuDAAWWW2LdvHxYvXowrr7xSbd9///2mbTGxOCQ3nURViUC3Nj4XpZU1ajZ2cd9QTBncEYEsWm+SQfHuU1o7Eexoyjg7OL4Re2V78ikzbOf210br/ez0yZFJO+ex8/HxUQPeG2+8ocL+y8rKDM7x3t7eKi2ADHpBQUFGahqwevVqzJw5s94+SRr63nvvqYH3ueeew5EjR1QdR8kU369fP6N9NmmemlqtEirmr09GcYXOKdfbzQnDogLQO8xH5V0jpmNC3w7o6Oeusrd/vysd1w3rZO4mWS3mGN8IsQS2Jp9Qr8O6tH85R73GbmcKyySaLUGx+JdIricphi2z18LCQrWvU6dOcHR0hLFJSEhQUWovvfSSYZ8kCy0tLcW0adNw6aWXqkFYItWmT5+uBEEPDw+jt4Oc7mx7MLNQ+dEVnoqykooIQ6P80TfclwJdOyFmk9tHRuHlUwmfrx0aSXP3WdDe4xsh5iajoAxpeWVqzDZHUFuoj5vywc4sLFdt0deQJWdHmyr9uri4tEsWdsn63rNnTwQHB9fbv3TpUiXgPfbYY+pB9vTTT2Pt2rX47bfflCmFmAbRXkgwxIaEXJW6RJD0Jf3CfZSGrj39M4iOa4ZG4p0/4pGQXazSn4yNDjF3k6ye9hrfCDE3W47qtHUyhsvkvL2RRMXdQjxxJKtYmWMp2BkHi34Si2AnpXwaEhcXh9jYWIN2QhVIHzwYu3fvNkMr7YMTxRVYvjNdpS8Roc7NSYNx0cFY+9g4DOrkT6HOTPi4OStNnTD/VEUPQghpCWJ1EYZ3bX8zrB59wnW9ObZuUuX0gnI4+oQYLEOkZbS/iN4K7dDRo0exfv16zJs3DzU1NaoQ9wMPPICcnBzlV9cwXUF8fHyrP0eua6/o771uH4jJSautNZROkshWca7dnpKPWq2uXunACF8M6ewHX3dnuDnXP/9MaLUOrerzhm0587X1r8Y/3xjXFvO1/lWjqT3L69fvx1tGROLzDUexLj4XB9ILEN2OKQssBXv+HRPSVrYk6QQ78Ys2F33DfbB8V7ohgEKfVFk/JkqaoZmXBMDfk0F4Vi/YZWRkKAdmMYu88847OHbsmPJ/KS8vN+yvi2xXVjZeLuVM7N27F/aOvg/0mk+JDpRcdEUVtdicXoH8cp0gEu7liEEdXODpUoX8EzmocJGvT09kZUkC4uYfrCIEVtf2gFMr/JVaem2PVralNecb89rZ2VlnfX0xXwDRSnOtFwSHd3TDpmPleGPlTtw3VDcDJoSQpsguKkdSbomqYjPUjIJdv4668Wp/xklG99u6YNexY0ds2bIFvr6+SuDo3bs3amtr8eijj6pajg2FONl2c2t98tuYmBi7dYwWLYcIdQ37IDQ0FAeOF+HPZF3FCDdnDcb2DEaPEM96zvlijtWdH6I0e80h5ztpNPjw73iV8+6M5zo7Ytp53Vt17da2paXnG+PaoqkToS4kJBSaBsElrb2+06n3DxgwwLDv4YACXDVvM9anleO/141AsLerXX6XrQlG/RNLMMP26uADXw9nk3yGmFXrljGrbGTcl8jYIC8X5BZXKuEuxJtJ7G1WsBMaZnkXh+aKigoVTJGbm1vvmGyHhLTecVwEGnsV7BrrAxFANibmYfOpH72k05B8dN5up//wHRw0hlcHh+YFEv358tuuOWVObAr977+11zbF+ca4tt78KkKd/njbr6/ru7rf2yFdAlUNWan5uHBLGh65OLrZ6xDzwqh/YhH+dV1Mp62ra1YVJsXoSiE2HM8GRvrjj4NZys9uQr/TzyGtw2I93tetW4fhw4cb8kkJBw8eVMKeBE7s2rXLYIaS1507d9bTYJDWU1Fdgwe+3WUQ6mI7+WPKoI6NCnXE8rh7dFf1+uWmZBSVN15BgVgOdaP+9Yvk0/vll18MUf8ymZWof09PTxX1T4ix2JR4wuSCXUvRJ0dmomIbF+wGDRqkBrdnnnkGSUlJWLNmDWbPno277rpLBVFIjqlXXnlFzXrlVQTAiRMnmrvZVktZZQ3u/nIHftpzHGLpu7B3CEb1CDrNbEgsl4v6dkDXYE8VQbZwc6q5m0OagVH/xFxIUvP47GI11p/bzfxJtwd38jcIdi0JICNWaor18vLC/Pnz8d///hdTp05VM9brrrtOCXYy0EmkrPigSLb46OhofPzxxzRTtBGpGnH3VzuVal6KMou6PMKffWltSMTyfWO74+Elcfh0XRJuOzcK7i727WZgqVhS1H9j0fG2hC3fX3P3Jt8ziSytuy3n/nUwU20P6uQHL1fNae9v6n1nf44u0rXhOf3CvJXvcFZhhUpUrD9Hn02gsWvb0/eyppX3brGCndCjRw98/vnnjR7r378/VqxY0e5tsjUqarSYdkqo83Z1wue3D1Uq+pY48RPL47KB4XjnzyMqm/yiram4Y5SuniyxLCwx6t/agk9aiy3fX1P3JjngJF2Inrw8T+QkZ+PHbTqTZ0/v6kY1wQ3fV14ejL2nUqPocXZ1a/TaZ7pORXRgve267+vu74RDJ6qw7mA6cvLqm2Tz8/ORm3L4jH3gFRCMsur6FiZ3Jy2K83Jgb99LixbsiGmRlCZvbSrA9uMVKuv4wruGY0Ckn8H3glgfkgrlnvO64ekV+/Dx2iTcOKITXJ2otbM0LCnqv6noeFvBlu+vuXuTBL8dOpQYtgMCAhAYGYr9P/yltq8bE2NIN3Km99VqnPHX0X+3hUkxvujQoUO9a3fsGn7G67i6uNZ7T933XZgbj0N/J+LwiUr0CetQL5uAv78/Ihpcu7E2/7wjrd6+q2Ij0b1TR1j797K1Uf8U7OyUmlotHl26Vwl1rk4azL91iBLqiPVzVWwE3vszXtVfXLYjHTcM72TuJhEriPq39QwBtnx/Td2bTBrqRuHL9rqEPJRW1qiMB/0j/RutL336+/6N3m9qn7ynYRtadh3d+0Z2D8YHfyeqyP4+YT5qvz6bQGPXbq7NLX2fLX4vLTZ4gpgO8Vd4YeV+rNxzHI4OwJwbBpm1pAwxLqKhmz5GV+v0ozUJSjNLLAtG/RNz8eu+4+p1Yr8OjQp15kL8/UTJkFdSaahFTtoGBTs7RGqKfrkpRc2e/m+4r6r5SmyL64d1Ukk/xdfuu+31zRPE/DDqn5grpdWfB3V+cJP6h8GSkKT053TTKRiSc+ubfUnroGBnZ/y+PxOv/HJQrT85IRojI93N3SRiAiQadsZYXWSlmGVZqscyo/7z8vJU1L/kqrv22muVYCfHJFJ2x44dmDJlikp/wqh/Ygyk7rdkQZBqDwMjLM/15oJeOneDoxTszgr62NkRe4+dxP99u1uFnN84vBPuGBmlHhrENpHACdHOSs6qBRuTMf08nXmWWAaM+iftzT+HdRGiUt3BEnOUnt87FLN+2I/jJ8tRVlUDNyfLa6M1QI2dnZBVWI47F2xTP5YxPYPxwmV9Lcq/gpjG1+4/F/ZQ6x+tSUQhq1EQYrdU19ZifYIuKGdSjGWZYfVIQEe3YE+Id2lSTrG5m2O1ULCzE7+KexbuQHZRBXqGeqlgCSdH/uvtgSmDI9A9xAsFpVX4ZG2SuZtDCDET4m8rZtgQb1dVLtJSOf+UOfZwVpG5m2K18Olu40hE3XM/7Meu1AL4uDnhk1uGsParnVWjePCU1k7MsjlFFS2a2RNCbIuE7GKLNsPqubB3qHo9lleGkopqczfHKqGPnY3z9ZZUfLstTUXAvnf9IHQO9DR3k0g7I2aXMN+Dym/lrgXbDANnYzg5OuDeU0EXhBDbyVuaeMq0ObGfZZph9YT7uaODj5vKw3k4qxjh9YuwkBZAjZ0Nsz05T+WrEx69OBpjo1uf4JRYP+JLOaaHrtD3nmMnlYAnJeMaXWpYSo4QW+NYfikqqmvh7+GMYV0CYOn0CfdRr/vSCw35HEnLoWBno2SeLMc9C3eiqkaLS2LCcC8jIu2aCH8P9AjxUk7Ja47kcLAkxI5IzNGlDxnVPUi5Z1g60aHecHHUoKCsCtkldA1pLRTsbDhYIre4Ar06eOP1q/szApYYBnVJf6L3tyGE2DYyidNHmEpGBGvAxUmDXmHeav1IHqP5WwsFOxv8Ec/6fh92pxXA190ZH988BB4udKW0JWTC3ZYABx93ZwzprIuGW5eQy1JjhNgBWYUVKKmsURqwwSaNhtUiLa+03lJ5FmPMoEg/iDrieHGNwT+QtAw+8W2MhZtT8N32Y+rh//71g9ApkNnqbQ2NgwOcNBp89E9Csz5xbs4a3H2qbqwQ29kf+zMKUVRejR0p+RjBGsGE2DQJp4SiqEAPpQkzFaWVNfhlb2a9fZNiOrT5en4eLugW4omE7BIs3JyKcb2aDvoi9aHGzgppSluz9agESxxQ649N6KXU7kxdYbuIUNdkEEQTwRDOjhqMPhVIsT0lH/mlLLZNiC1bcPTarm4hXrA2hp6yMPx5KBsHMgrN3RyrgRo7K6QxbU1ReRUWbklVD3NxPK2sqlHnMHUFaYgEURwI8EBKXqkqCD51cEf6YBJig8hvXJKTOzo4oLMVWm+CvV0R6eOItMIavPbbISy4fSjHqhZAjZ0NaGukwPsPcRlKFR7k5YILeodAZD6mriCNIQPjuF4hcDoVSCGmWUKI7bH2iK42bESAuyoxaI30C3GBs6ODupc/DmabuzlWAQU7G1C1/3U4WznIujlpMLl/uDK3EXImJLDmnG46/zqpH8kM74TYHuvjdbVhuwVbnxlWj7eLBtcOiVTrz/+4X1mnyJmxaAkgKysLDzzwAIYNG4bRo0fj1VdfRUWFriTSyy+/jOjo6HrLwoULYW/EHTuJg8eLVPTQxJgw9cAmpCUMjPBTdSMlcanktiOE2A7HT5bhYKau3mrXIOuuOHTziM6IDHBXFoaXftL5kRMr9LETTZQIdT4+Pvj6669x8uRJPPXUU9BoNHj88ceRmJiIhx9+GFdeeaXhPV5e1jsraWs28bXxOYYcZZ0CWu9DQX8F+0XqRUp5sUXbUhGfXYz4rCL0DtNlfCeEWDerD2Sp1zBfN3i6Nv2oLyitVFHydTmbNCVtTZNyps92d3HE61cNwHUfb1ZZH4ZGBeDqU1o8YkWCXVJSEnbv3o0NGzYgKEgXxSeC3v/+9z+DYHfnnXciONg6Ei4am8KyKhVaLgUEJFhiUCe/JvOdSbBFYzg6OmLw4MHt0Fpiyc7JQzsHYGtynoo8i/B3N3eTCCFGYNX+zBaZYUWoW7rjmNHSlJxtmpSmPltSM/3nwh545494PL1iHwI8xZ+cKVCsSrATge3TTz81CHV6iouL1SJm2qioKNgj+mCJsqoaBHu5qmCJxjRvzeU702prVT+GhobCwUFzWs4zYh9I7cjkEyXILqrAqgNZeHJSb2pyCbFiTpZWYXNSnlrvFmzdZti6PHB+D1U156c9x1V1pQ9vjMX4PhTurMbHTkyw4lenp7a2VvnQjRgxQmnr5MEzd+5cjBkzBpdddhlWrFgBe0BM1I8u3aMewu7OjpjcP6zZYIkz5TuT6gMsAG/fSJmxi/t2UK8pJ0rx5aYUczeJEHIW/HkoCzW1WuVbJ4l+bcl95O1rB+KS/mGqDvq9C3fgt33Hzd0si8NiNXYNef3113HgwAEsXboU+/fvV4Jd165dcdNNN2Hbtm2YNWuW8rEbP358q65bU1MDa+LdP+OxMi5DmVkn9AuFt5uj0rw1hr7OuxxvrOh7ba3W8KrR1DZ7fmuvfzbn21pbGva1pbXd38MJo7oHYs2RXPz3l4MY0cUf3a0ooam1/Y4JaQ8zrD4ZuS0hiox3rx2ocvP9GJeB+77ZhfeuA/pH+Jq7aRaDk7UIdQsWLMDbb7+Nnj17okePHhg3bhz8/HR+Zb169UJycjIWLVrUasFu7969sBbWpZbhvS0n1frQcFc4V5xEZqZuuzF0NWJ7IisrG1VnePBlZ2e16vzWXr8t59tqW/R9bYltD3HUIszLUdVmvOvzzXjtggCVQocQYj0UV1Tjn8O6oLrzegarzAm2hpOjRmnuJBfn8l3peODbXXjxsr7mbpbFYPGC3UsvvaQENhHuLr74YrVPtHV6oU6PaO82b97c6uvHxMSoIAJLZ2dqPj5csU2tTx/TFZ4uGmU+PRP6h3JoaEij54r2SASNkJBQpeJu7vzWXv9szre1tjTsa0tt+2VBNVi++zjSCiuw5KgT3rgqxir87URjZ02TNEJMxR8HslQKIzHDitbdFgU7QVxHXr96gBpPJfjj5Z8P4urYCPh72o7p2SYFuw8++ADffvst3nrrLUyYMMGw/91338WuXbvwxRdfGPYdOnRICXetRYQ6SxfsJBT8noW7UFldqxxFpQ7sh38nwMHhzA9qCYjQvzZ2rt4kKD8M3TlnPr+11z+b822tLQ372lLb7uXmiA+uH4QbPt2C73dnYFiXQNwwvFOz7yOEWAY/7clQr+J/bQ2TsrMV7l6bEqOekVuO5uG3/Zm4dmikChy0ZyzWziIBEh9++CHuvvtuxMbGIicnx7CIGVb86ubPn4/U1FR88803+P7773HHHXfAFqOb7lywDSdKKtE33AfvXjdQfZkJMRXDuwbisYujDZne99rojJ8QW3xe6JONTx4QDntAzLLvXz8IXq5OKqhwD8cryxXs/vzzT2Ve+eijjzBq1Kh6S//+/ZXW7ocffsDkyZPx1Vdf4c0338SgQYNgS5RV1iih7khWMUJ9XPHprUNO+UwRYlqmjemqtMOSLFTSCmQXlpu7SYSQZlh1IFNFi0pu056h3rAXQnzc1JglbEk6oaxb9ozFSgnTpk1TS1NceOGFarFVqmtqcf+indiekg8fNyd8ecdwhPkyeSxpH8SE88bVA3DlnA1Iyi3BnQu2Y/H0EZxYEGLBSH43vRnW3rhsQDg+23AUBaVViDtWoKpT2CsWq7GzZyQtxVMr9uKPg9lwddJg/m1DEd3BfmZfxDKQusOf3z5UZXjfm34SDyzarXJjEUIsj6zCcmxIyLUrM2xdxEVp+ClhbmdKvl1r7SjYWSCvrzqs6uGJK90HNwy265kHMS+dAz3xyS2xcHHS4I+DWSzATYiFsmR7mpp4DY3yR5cg26k20RrE/Ozn4Yzy6lqltbNXKNhZGPPWJOLDfxLV+qtTYlguhZid2M4BePuagWr9i43JeO/PeHM3iRBSBxHoFm1NU+vXD7PfKHbJOjBMr7VLzVd+6vYIBTsLoLpWpzL+dF0SXv31kFp/9OJoXDvUfn+gxLKQEj7PXNJbrb+1+gg+/CfB3E0ixK4pKK1EekE5HH1CsHj7MaQXlCn3iUkx9udfV5foUG/VD+VVtYbUL/YGPaEtACeNBnd8sRV/HdKFqZ/TNVAltH2/Ec2Im7MGd4/pZoZWEnvnrtFdVeJTcRWY/dth1NRoMfP87jafK4sQS6SovBpLd6Th+PHjWJuu00zdPKIz3JwtOy9re2jtBnfyw9+Hc7B4exruv6BHs/XUbQ37ulsL5bP1Rw1CnaiRh3UJUFUCGl1q6LxOzMd947rjwQt7qvU3Vx9Ree70dXAJIe1Pdkktsgor4OKowa3nRsFWkSTE+kW0lWeiT5gP3J0dVb9IbXV7gxo7M0e/vr36CN77S2fWEqfXEV0ZKEEsm/+7sAd83Z3wwk8HsGBTCo6fLMdb1w5UCUIJIe37DNmbrRNyJg8IQ7C3a3PvUIJRXSRXpaVTWlmDX/dlGravio2An4fLGZMWD+rkh42JJzBvTRKuHNTRriwL1NiZ0dl11g/7DELdud0ClQnWnr58xHq5bWQXvHvdIKUl+P1AFq6YswGJOcXmbhYhdkV8dgnyymvh7OiAW8+JapGAJHVV6y6SM9UW6d/RFx4ujjicVYTVB7JgT1CwMwPlVTV44NtdWLg5FSLHvXRFPwp1xCoTgkrSYqmKkpBdjEvfX49FW1OVFoEQYlpKK6ux7lTeukGRfgjwdK5nrpTFGrRxpsLV2RFTBndU62/+fsSuXEYo2LUzx0+W4Zp5m/DznuNqliU17sThlRBrZFAnf6y8f5RyIRBtwJPL96oqFQ3NPYQQ4yImxpKKGng6O2BIZz+70sa1lBuGdVKVm0Rrt2znMeWb11D4bc5fzxqhYNeO7EjJw6Xvb1BFiv09nLHgjmGY3N/+MoQTy0WSYuvT77QUqUzxzV0j8PSk3so0+9ehbFz41hq888cRpZ2uS2uvTQg5nX8OZ2P5rnS1HhvmonzKyOl4uzmrgC9BUoml55edJvxKdLGtQW/ndkBUwJLY9dVfD6oCzb06eOOTW4YgMsDD3E0jpB4aBweVfuejfxJaFIGtT7+jP/+GYZH463A2UvPK8M4f8Srie2S3IPQK81bVK+4dqxtkCSFtI6+kEo8u3aPWB0T4ooOX7QkmxuSOUV2Utu5IVjFmrzqs+szW3Z4o2LVD/b5HlsRhXbzOF2Jivw6quLonIwiJBSNCmqTXacl5dc/39XDBFQM7Kp+7tfG5KCyvxq/7M7Hp6Amc2zVQBQ1JTUdCSNuUBI8uiUNOUQWiAj0wslsAcnOyzd0si8bZUYPZVw3A1XM3Ys2RHFVDVlKKtQYx19bV7Hm7OZ0xKtfcUH9rIsSB/Me4DFz8zlol1Ilm46XL++LDGwdTqCM2jcyGe4R645ZzOqtobzcnDQpKq/DLvkxc9PYafL8r3e59fwhpCx/8nYA/D2Ur7fezk/vQBNtCBkb6YdbkPmp9U9IJbE460aogL10yaOsx31LCMAGHMgvx4soDKoeO0K+jD965dhC6h3iZu2mEtOtMeWhUAAZE+GH3sQLsSslHYk4J/rN4N974/TDuHt0V1wyJhLuLfWfKJ6Ql/H0oG2//cUStv3JFPzV52p2Wb+5mWQ23nBOF5NwSfLYhGVuO5qkSbGN6BMMWoWBnRPJLKlUNzc83JCuzlNOpgsSi9v117/FG38MSYcTWEe2C/A5iO/mpckfy+ziWX4bnftyPd/+Mx23nRintniWbNggxd+Dd/Yt2QZRMlw8Mx4iugXadyqSt3D6yC1LzSlW5MRmDvtmaij3pBbhpuFgXghAZ4G4T/ncU7IzAydIqzF+fpGYCxRU6FW23YE+M7hGsihGLwrcpfyWWCCP2gpT4mT62G+4c1VXVuPx4XRLS8srw1uojmLsmEdcN7YS7RndBuJ97vShaCeYgxF7JLa7AzG92qWdLmK8bIvzdlTlwUkwHczfNKukb7osIfw9sTMhFfE4x9qUX4onle9UxqdwhwY3dgr3QLcQL3YO9lMXN2qBgd5Y56b7clIKFm1MMNvfeYT547OJo7Es/2SLnc0LsLeL2k426CNqrBkXgSHYRth7NR05xBT7bcBRfbDyKXh18VHm9Dr5ujKIlsPckxHd/uV2V7RMlwaX9wznRMQK+7s6YGBOGMRXV0GgcsD05D3vTT6qgFFn0wY6CpHASq5sETIg7lYxjlg4Fu1YiDpfbU/KVQPfL3uMqyk/oGeqliqNf3LeD+qKIYEcIOXPEbfcQ3exYzCPyuxLzyIHjhWrpGuSpzCMDIv3M3WRC2h3JAXnXgu3YlVqghIrLB4TTH9XINW89XZ1U3dmnJvVGWWUNDhw/qSL6xRdYXg9nFilfvPWnKnwEeLioZOyWXl2Hgl0LST5RjB92HcfyXceQcuLfL5T8k8VuP753qBLoCCGtQ3xaOgd6qiWzsBw7kvORkFOMpNwSXD1vE7Y9faGaYRNiT0LdtK92qAA8TxdHzJ7aH4cyi8zdLItBqmz8sjez3r6zNU27uzgitnOAWvSIACf5777ekoLF29KQV1qpovtT80vx8hUxKtrWErFqwa6iogIvvPACfv/9d7i5ueGOO+5QizE5UVyhovjqqmalFFh0qDcGdfJDiLcbjmQWqUVgMAQhbaeDjxsu6R+G/NJKxKUVoE+4rpC3PdIe4xuxPDJPlmP6V9sRd+yk8kv9/PZhyreOgp15Jp3RHbxVBL+MQztTCrAzNV/55V0xZwOmDOqIB8f3tLhiA1Yt2M2ePRv79u3DggULkJGRgccffxzh4eGYMGGC0T5DTEIi1IlZPdLfQzlWip1dUjkIDf3oGAxByNnj7+GCC3uH4v4LesBeaY/xjVgW4tD/f4t3Kz8vPw9nzL0pVvl3sfay+XF1csQ53QIR09EX6SfL8Nu+TFXWbcXudFzQK0SZdCVa+UzR/XUTHYs20CvANOlWrFawKy0txZIlS/DJJ5+gb9++aomPj8fXX39t1IFvVPcgLJ42Qknky6SoMgMiCCE2Mr4R8yMPeHHcn7cmCT+fSoslFiEpO9kp0LI0Qdbui1fZqB9e/XMkPZNUp6hL3fd5uTnh6ZG9MWNsN7y+6rBS/PxxMFstogASn+FOAR5KyyoaV2cnjVIEiadWYVkV9mcU6j5Vq8WAMHf8J6wDPB2Na5WwWsHu0KFDqK6uxqBBgwz7YmNjMXfuXNTW1kJjpMghUcUO7xpolGsRQogljW+COI1nFlcrE6Cbi5N6sKnFUWMTOb3aG3lgS03wsqoa5Ssn/SvravvUekllDY7ll+JoTgm2Jech+ZTftnT3jcM74cmJvVmhyAS+eJMa8cNr7JyW+O/1j/DDV3cOV0EWi7am4q9D2Tiaqwu6kKUlbE3Ox6AuoZjUPxzGxGq/OTk5OfD394eLy79qz6CgIOWXUlBQgICAM9eC00e1VFZWwrEF0rKc46LRQqM9c+SNs8YBNTU1LTrX1Oc3d24ttHB31sDZQQuNQ61Vtd3a2tKwr62p7eZqi6R1kPNlaQ79OZYerWZp45sIHRPfX4/8kipg9Zp6x0TIcFVCniNcHR2UsCfbrs6OcHJ0gEHkqyP8OZz2WudYHRlR/2/Sqiyf8qrfrn+CtuH5/57Q4Dr1L2C4rla3XlZWAbcN6//9/AbX/fdjm/jcJj5Pv12r1aKiWgS5WrXosyW0FF83R1zYOxh3nNsFPUK9UFReiZzCf7VIUoJPg/q/g9qaGjhoJc8j1KtsN3ZO3X0tOaet7zPFOdKvcn/aWsu6j5qaaiTn6DRvTg7AzcMjcP2QcCzZnobcEp25tZO/h9L0iZAv+Tj192MIvtQC0cFuGNbJW/1OjTm+OWitdCT8/vvv8e677+Lvv/827EtLS8OFF16INWvWoEOHM0fISEfu3atLSkgIsQ1iYmLqCUPWCsc3Qkhbxzer1di5urqeJuXqtyWCrDmcnJxUJ4lJg+YGQqwbmZ+KiVJ+17YAxzdCSFvHN6sdBUNDQ5Gfn6/8UPQ3K+YLGfR8fJovASIDni3M7AkhtgfHN0JIW7Ha2iS9e/dWA97u3bsN+3bs2GGYpRJCiLXC8Y0Q0lasdoRwd3fHFVdcgeeffx579uzBH3/8gc8++wy33HKLuZtGCCFnBcc3QkhbsdrgCaGsrEwNfJKZ3cvLC3feeSduu+02czeLEELOGo5vhBC7E+wIIYQQQogNmGIJIYQQQkh9KNgRQgghhNgIFOwIIYQQQmwECnZ2yLRp0/DEE08Ytg8cOICrr74aAwYMwNSpU7Fv3z6zts/akUSyL7zwAoYOHYpzzz0Xb731lqEUDPuaWBJSouypp57CkCFDMGrUKBV5a62sXr0a0dHR9ZYHHnjA6n93Mp5MnjwZW7ZsqVeFRAJpBg4ciEmTJmH9+n/LpQkbN25U75H7lUhqOd+a7u/ll18+7X+5cOFCw/GffvpJVWGR+7vvvvuQl5cHSyIrK0t994YNG4bRo0fj1VdfVb+19vrfUbCzM37++WdVkkhPaWmpEvRkYF++fLkqOj59+nS1n7QNGZTkxzl//ny8+eab+O6777B48WL2NbE4Zs+erYScBQsW4LnnnsMHH3yA3377DdZIQkICxo0bpx6U+kV+i9b8uxNh4KGHHkJ8fLxhn0wSRZiR2sHLli3D5ZdfjpkzZyIjI0Mdl1c5PmXKFCxdulTVFZ4xY4ZF1lFu7P6ExMREPPzww/X+lyKQC5L+5+mnn1b3LONqYWEhnnzySVgKWq1WCXUS1f7111/j7bffVqUB33nnnfb730lULLEP8vPztWPGjNFOnTpV+/jjj6t9S5Ys0Z5//vna2tpatS2v48eP1y5btszMrbXePu7Tp492y5Ythn3z5s3TPvHEE+xrYlGUlJRoY2JitJs3bzbsmzNnjvamm27SWiMPP/yw9s033zxtv7X+7uLj47WXXXaZ9tJLL9X27NnT8H/auHGjduDAger/p+fWW2/Vvvfee2r9nXfeqfc/LC0t1Q4aNKje/9mS708YPXq0dt26dY2+79FHHzU8v4SMjAxtdHS0NjU1VWsJJCQkqPvJyckx7Fu5cqV21KhR7fa/o8bOjvjf//6nZgjdu3c37IuLi0NsbKyhnqS8Dh48uF7Ge9JypDqA5BwTFbwe0RaIKp59TSyJQ4cOqZJlosHSI99P+Z5KXUprQ7Q8UVFRp+231t/d1q1bMXz4cKWVang/ffr0gYeHh2Gf3J/+fuS4aCfrJrvu27evxd1vU/dXXFysTJmN/S8bu7+wsDCEh4er/ZZAcHAwPv30U6WVa3hf7fW/o2BnJ2zatAnbt29Xat26SP3JkJCQevsCAwORmZnZzi20DcQfomPHjvj+++8xYcIEXHDBBZgzZ456ULKviSUh30d/f/96NWXlYSTmsYKCAlgTYqo6evSoMtldfPHFyv/qjTfeUP5b1vq7u+GGG5T/ozzc69Lc/VjL/TZ1fyKgi/A9d+5cjBkzBpdddhlWrFhhOJ6dnW3R9+fj46P86vTI2C/+gSNGjGi3/52uujSxaWSgFv+ZZ599VhURr4v4ATQsFi7bMiCS1iN+OykpKfj222+Vlk5+qNLvMnixr4kl0dT3UbC276T4JunvR3yZjh07pvzrysvLbe5319z9WPv9JiUlKcGua9euuOmmm7Bt2zbMmjVLWULGjx+v/qfWdH+vv/66Ct4Rn7kvvviiXf53FOzsAHGI7tevX71ZhB5XV9fTvjSy3VAAJC1DCreLyl2CJkRzp3/oLFq0CJ07d2ZfE4uhqd++YG3fSfmtSVSlr6+vEgp69+6tNCWPPvqocouwpd+d/N8aalTr3k9T/1fRJFkDUiNZgmD8/PzUdq9evZCcnKzGUBHsmrq/hpo/SxHqJDBJAih69uzZbv87CnZ2Egmbm5tr8KXRf3FWrVqlwqrlWF1ku6E6mLTcv0J+nHqhTujSpQuOHz+uHjDsa2IphIaGIj8/X/nZyYREEA2zPGSsRQioi14Q0NOtWzdlrZDfpC397uT/JhHATd2PHG/sfkXYtQZEMG/4vxTt3ebNm894f/J/tiReeuklJYyKcCfuAe35v6OPnR3w1VdfYeXKlcrvS5bzzz9fLbIuuXJ27dplCKeW1507d6r9pPVIv8nDRPx96poWRNBjXxNLQh4WItDVdcyW4J+YmBhoNNb1aFi3bp1yxBdTlp6DBw8qAUGc023pdyft3r9/vzJJ1v2/6e9HXmVbj/SJmAKt5X7fffddleetYaCPCHeN3Z9MmmWxpPv74IMPlDuO5DC95JJL2v1/Z12/XtImRKgQM6B+8fT0VIusi4O/5AF65ZVX1ExCXuXLNHHiRHM32yqRwWfs2LEqr5IMRvLA+fjjj3H99dezr4lFIaYrMXs9//zzKjfYH3/8oRIUS1JUa0OsEaIpf+aZZ9RESnJ1So6+u+66y+Z+d6L5l0hQGWMk/5uML/L/u+qqq9Rxyfcmgqvsl+NyXkREhBJ8rQExw4pfneQBTU1NxTfffKOUEHfccYc6LmPpDz/8gCVLlqgx9rHHHlNjbmRkJCyBxMREfPjhh7j77rvVpEK04Pql3f53RkncQqwKyQFUNw9QXFyc9oorrlA5ra666irt/v37zdo+a6ewsFDlWpJ8Reecc472/fffN+TQYl8TS0LyZD322GPquyp5tj7//HOttXLkyBHtbbfdpu5l5MiRNvW7a5jnLTk5WXvjjTdq+/Xrp73kkku0GzZsqHf+P//8o73ooou0/fv3V3nSLCXHW0vvb/Xq1Sq/nfy/JkyYoF21alW98yUH4Xnnnaf+1/fdd582Ly9PaynMmzdP3U9jS3v97xzkj2nkVkIIIYQQ0p7QFEsIIYQQYiNQsCOEEEIIsREo2BFCCCGE2AgU7AghhBBCbAQKdoQQQgghNgIFO0IIIYQQG4GCHSGEEEKIjUDBjhBCCCHERqBgR6ya5cuXIzo6WpWXIYSQ9kbqbssYpF969eqlSkfde++9qobp2fLrr7/ixIkTav3999/HzTffbIRWQ12nbrulLNudd96JlJSU08bXuvc2ePBgPPDAA6p0FrFMKNgRq+bnn39Gp06dVO1AQggxB0899RTWr1+vFqlT+/bbb6tan48//vhZXTc9PR3/+c9/VG1bQeqlinBnLOR60mapaf3dd9/Bz88PM2bMkFKjhnM6dOhguLe1a9eq4vb5+flKcK2trTVaW4jxoGBHrBaZxW7atAn33Xcftm/fjrS0NHM3iRBih3h7eyM4OFgtoaGhGDlypNJqbdmyBUVFRW2+bsOKn56enkr4MhYeHh6qzSEhIejRoweeeOIJJCQk4PDhw4ZzHB0dDfcm5/Xs2RMPP/yw0uzVPY9YDhTsiNXy22+/qQH1sssuUwNOXa1deXk5nn76acTGxmL06NHKVNunTx8cO3ZMHRcTyT333IMBAwYoU8oHH3yAmpoaM94NIcSWcHFxUa8ajQaFhYV49NFHlRlz1KhReOmll9QYpeett95S+/v3769MpKLtEy644ALDq5hF65piZVvW33vvPQwfPhxDhgzBq6++Wk8Y/OKLL9T4J5/78ssvq/PlfU3h7u7eonsTYU9wdnZuU98Q00LBjli1GXbs2LFq4BTh7PvvvzcMajKI7dq1C/Pnz1dmkU8//dQguMk5M2fORGBgIFasWKEGw5UrV2Lu3LlmviNCiC2QmpqKjz/+WAlVomWTSaZo7hYtWoQPP/wQe/fuxYsvvqjOXb16NRYvXox33nkHP/30E4KCgvDkk0+qY3rfYXmdNGnSaZ8jY9zRo0fVdWfNmoUvv/wSGzduVMd+/PFHJfSJmViuL5Pabdu2NdnmyspKNQbq/emaIisrC++++y66du2KLl26nHVfEePjZIJrEmJyROO2c+dO3H777Wr7oosuUoPbjh070Lt3byXkffLJJxg4cKA6/swzz+Cuu+5S65s3b0ZGRoYaLEUolAFKfGFkMBWzLiGEtIbnnntOaeGE6upqpckSLZsIVSLk/fHHH9i6dauyMAhy7hVXXKHGHPGjk/PDw8PVIgJaUlKSOi8gIMDw6ubmdtrnymRVruXl5aXGMdHQidAopuBvvvkGt956KyZOnKjO/d///ofzzjuv3vvnzZuHzz77TK2LBlEmvSIMOjg4GM6RsVICK/SfV1FRocZY0TLqNXfEsqBgR6xWW+fq6qrMF4JEofn6+ioNnOyvqqpCTEyM4Xz9wCRINFdBQYEy0+oRJ2AZ2MQp2N/fv53vhhBizYg/nUwuS0pKlLlUhDXxQ5OxZPfu3Wp8GTNmTL33yD7xU7vkkkuwcOFCJQjKRPTCCy/EVVdd1aLPFauDCHV6ZF0ES0H836ZNm2Y4JuNjQw3bddddZzDtlpaWqsCPhx56SE2KzznnHLVf3Fy++uortS4TYbmOj49Pm/uKmB4KdsRqBTsRxOoKZzKbFL+7xgbFun4nMvDJ7FZMIg3Rz6gJIaSliIDVuXNntS5mShmDJLpUTKAyLsm4smzZstPeJ4EWoomTlCYbNmzA33//rdxHJEJVrA4t9eNrbKwTbVrD4IuG2yKk6dstiCZOzLVi/dALdk5OTvXOIZYPfeyI1SE+JQcOHFDmVRn89Iv40hUXF6tZsJg29u3bZ3hP3XWZtYp5QcwbMmDJIv4nDU0QhBDSWkTYEh/fgwcPKtOojDfiXydji368kUnp7NmzlV/bP//8o9xCxF/4hRdeUEFgycnJOHLkyFmNR927d8f+/fsN2/qxsTlE+GMgmXVDwY5YpbZOQv6vvfZaFXqvX8S5WAYzCYSYMmUKXnnlFcTFxSlTiKwLMlCK+bZjx44qSk3MFZIqRfxaJCKMPiOEkLNFoltFaydWATGPShDFI488gj179ihhS3zrxPQpJk0xyYqQJ0EUMsGUqFUZi6KiogxRqocOHVJm3tYgJlYJpvj999+V+4n4+8ln1hUWZTsnJ0ct4rf89ddfqxRSer88Yp3QFEusUrC79NJLGzVDXH/99UqIE2dl0eDddtttamC98cYb1bZo8kR4++ijj5TT8TXXXKNyOU2YMOGsk4kSQoieBx98EKtWrcLrr7+uBDfR4sl4JKZNEfTE4iBIRL/46El0vghYejcRMZMKks5JkhSLYNgaxHdPNHQS2CEBDzIRlglt3RQlEjihD56Q/aJNfPbZZzF58mSj9gVpXxy0DY3uhNgAItiJj4ikGhBkpnzDDTeo9ADMvUQIsXUkCjcyMhJhYWEG3+IRI0Zgzpw5Ku8dsV2osSM2iSQcFkdkiQoTE4bMmmVmTKGOEGIvk1uZyIrfnkxwxSwr1gt9Cihiu1BjR2wSKYsjplbR1InJVoQ68TFh1CshxB6QYAlJgiwpTMQUKymfJFGy+CET24aCHSGEEEKIjcCoWEIIIYQQG4GCHSGEEEKIjUDBjhBCCCHERqBgRwghhBBiI1CwI4QQQgixESjYEUIIIYTYCBTsCCGEEEJsBAp2hBBCCCE2AgU7QgghhBAbgYIdIYQQQoiNQMGOEEIIIcRGoGBHCCGEEGIjULAjhBBCCLERnGCn1NbWorq6GhqNBg4ODuZuDiHkLNBqteo37eTkpH7T9g7HN0Lsd3yzW8FOBr29e/eauxmEECMSExMDFxcX2Dsc3wix3/HNbgU7vdQrHeXo6HjGc2tqatQg2ZJz7RX2UctgP5mmn/TnU1vX+vHNnuHvsW2w39q331o7vtmtYKc3T0jntrSDW3OuvcI+ahnsJ9P0E82ObR/f7Bn2U9tgv7Vvv7V0fOP0lhBCCCHERqBgRwghhBBiI1CwI4QQQgixESjYEUIIIYTYCBTsCCGEEEJsBLuNim0tHSI642RZNeBQc9oxVycNPF3ZlYQQQiyXmlotHDUORj+XWBaURlpILTT4YuNRODicruS89dwoeLqapVmEEAunsrISU6ZMwaxZszB8+HC1Ly0tTW3v3r0b4eHheOqppzBq1CjDezZu3Ij//ve/6rwBAwbglVdeQWRkpBnvgtgCIqh9sjYJldW1ZzzPxUmDu8d0bbd2EeNCUywhhJiIiooKPPTQQ4iPj69XHui+++5DUFAQli1bhssvvxwzZ85ERkaGOi6vclyEwaVLlyIgIAAzZsxQ7yPkbBGhrrKmmaUZwY9YNhTsCCHEBCQkJOCaa65Bampqvf2bN29WmrgXX3wR3bp1w/Tp0zFw4EAl5AlLlixBv379cMcdd6BHjx549dVXkZ6ejq1bt5rpTggh1gQFO0IIMQEiiInpdfHixfX2x8XFoU+fPvDw8DDsi42NVWZZ/fEhQ4YYjrm7u6Nv376G48T2Ef82U5xL7AP62BFCiAm44YYbGt2fk5ODkJCQevsCAwORmZnZouOtQWpMkub7x9L6ScpNfbwmoUW+cNPO697i9st1tdpatZwJvdW/qetaar9ZOjVt7LfWnk/BjhBC2pGysjK4uLjU2yfbEmTRkuOtQQqHE+vqJyn0PmjQIKRlHEdF1Zkf6K7OUm+0O/bs2YPa2toWXTcrO6uF1+3Z7HUtqd+sib0m7jcKdoQQ0o64urqioKCg3j4R2tzc3AzHGwpxsu3j49Pqz4qJiWGR9mY0IfKQtcR+Cg0JVYEMZ8LFUedN1b9//3a9riX3myXT1n7Tv6+lULAjhJB2JDQ0VAVW1CU3N9dgfpXjst3weO/evVv9WfLw4IPXOvtJUms5NJNGTp9+qzVtN+Z1LbHfrAFT9xuDJwghpB2RvHT79+9HeXm5Yd+OHTvUfv1x2dYjptkDBw4YjhNCyJmgYEcIIe3IsGHDEBYWhieffFLlt/v444+VL9NVV12ljk+dOhU7d+5U++W4nBcREWFIbkwIIWeCgh0hhLQjYoL58MMPVfSrJCH+8ccfMWfOHFWBQhAh7v3331d57UTYE388Oe7QnP2MEELoY0cIIabn8OHD9bY7d+6MhQsXNnn+eeedpxZCCGkt1NgRQgghhNgIFOwIIYQQQmwEixDsJEfT5MmTsWXLFsO+l19+GdHR0fWWuqaLn376CRdeeKGKFJOC2Xl5eWZqPSGEEEKIZWB2wa6iogIPPfSQiv6qS2JiIh5++GGsX7/esEi0mCARZE8//TRmzpyp6jAWFhaqyDFCCCGEEHvGrMETkqRThDetvjBdA8HuzjvvRHBw8GnHRHM3ceJEXHHFFWp79uzZGDduHNLS0hAZGdkubSeEEEIIsTTMqrHbunWrys0kWre6FBcXIysrC1FRUY2+Ly4uDkOGDDFsS04oSRUg+wkhhBBC7BWzauxuuOGGRveLtk5yNs2dOxdr166Fn58fbr/9dlx55ZXqeHZ2tqH8jp7AwEBkZma2S7sJIYQQQiwRi8xjl5SUpAS7rl274qabbsK2bdswa9YseHl5Yfz48aoUj4uLS733yHbDwtktLa7b0nNqa7XQaBopnqzVtug6toz+/u29H5qD/WSafmJ/EkunplYLRw2TTBM7FezEd0585kRTJ/Tq1QvJyclYtGiREuxcXV1PE+Jk293dvdWftXfv3hadFxLRBdnZWY0eKykJwdHDR1v92bZIS/vT3mE/tQz2E7EVRKj7ZG0SKqsbUQ7UwdPVEbeN7NJu7SK2h0UKdqKt0wt1ekR7t3nzZrUeGhqK3Nzcesdlu7FAi+aIiYlRJX6a0wZk5RcjJCQUmkZmXJ6enhg4cCDsGekjeQi3pD/tGfaTafpJfz4hlowIdZU1ZxbsnKup1SM2KNi9++672LVrF7744gvDvkOHDinhTpDcdTt27FB1FoXjx4+rRfa3FnlotPQBK0Kdg0Mj8SYODnxIt6E/7Rn2U8tgPxF7orqmFocyS/D8j/uxKfEENBogwNMFnQM8Eeztau7mESvBIgU7McN+/PHHmD9/vjK9Sg6777//Hl9++aU6fv311+Pmm29WWjKZ0b/yyisYO3YsU50QQgixOiTl1+HMIqxPzEVJxen+ohtwAiHerojp6IteHbzh5Hj2CS0qqmuQXlCGrMIK5BVXoqq2FrVaLbxcnRDq7YadqfkYFOmnLGjEurBIwa5///5Ka/fee++p144dO+LNN9/EoEGD1HF5ffHFF9XxkydPYuTIkXjppZfM3WxCCCGk1UEVfx7KwsHjRWrb280JUwdHIPVEKcqqapBVWI7kEyXILqrAn4eysTnpBAZ38ke/jr5waaWAJ591NLcEe9NPIiGnWG03hrTlnyM5iAr0wNVDInHruVFK4CPWgcX8pw4fPlxvW8qFydIUYobVm2IJIYQQa0M0ZL/uO47EnBLx6MGILoEY3T0QM87vgTl/JRj88Uorq3HoeBF2pRWguKIa6xJysS05D4M7++PGEZ3g51E/S0RDEnOKsWzHMSzfmY7MwnLDfl93Z4T7uSHYyxUuThpoHBxwsqwKeSWVSpuXfKIUr686jM83HMWD43viuqGdDJG9GrETE4vEYgQ7QgghxJ5YF5+rhDoRlibFdEDXIK9GzaweLk5KiBsQ6YdDmYXYnpyPgrIqbEw8gZGv/YWL+3XAmB7B6B/hq4S8ovIqJcztTi3Aqv1ZOJyl0wYKbk4a9Az1Ru9wH4R6uzZqanV3dsQNwzth1f5MzPk7QQl4T6/Yh5VxGXjn2kHo4OtmsKDpYToXy4GCHSGEENLOHMkqwu60ArV+cZ9QJdQ1hwhOfcN90TvMBwnZxUrAyymuUJo4Wc70vvN6BuOq2AjEZxWhCQusAZHPfNydUVBahSmDIlQ71yXkYHNSHsa98Q8uiQmFe00xQkNCVUChaPvuHqMLbiTmh4IdIYQQ0o4Ul1crfzlhaJQ/eoR6t+r9YjIVrVvfMB/ERgVgzZEcrE/IQWJ2ifLLc3XSoEuQp7ru2J7BuKB3iMFcOyenpNmUK3XTs9RotYiJ8EVEgDt+3ZeJnKIKLN+VgSFhLvAPrFUmZGJZULAjhBBC2pF/jmQroSnUxxXDuwS2+TpiRj2nW6BagF4qula0caJxM3Y0q7+HC64ZEoE/DmarCN6tGZVw8ShAbOcAo34OOXvo/UgIIYS0EyknSgzBEhf0CjWqX5oIc3I9U6UocdJolNl4UKSv2l6fcAJxp8zJxHKgYEcIIWZAkqpPnz4dgwcPxvnnn18vIfuBAwdw9dVXq6TrU6dOxb59+8zaVmIcRKO2IfGEWh8Y4WeVSYdFaBzdIwh9gpzVtqRF2Zd+0tzNInWgYEcIIWbgP//5Dzw8PLB8+XI89dRTeOedd7B69WqUlpZi2rRpGDJkiDom0YciAMp+Yt1IdKr4qEn+uaFR1m3C7BvsjIGnNHe/7c/E2iM55m4SOQUFO0IIaWcksfru3btx7733IioqSuXsHD16NDZt2oRffvkFrq6ueOyxx9CtWzc8/fTTqh71b7/9Zu5mk7MsF7Y+QVfjfFAnP7i7WHepPKW56x6I3h28IUG2932zU6VYIeaHgh0hhLQzbm5ucHd3Vxq5qqoqJCUlYefOnejduzfi4uIQGxtr8JOSVzHXiiBIrJdlO48hv7RK5YiTyhG2gHw3z+8dopIcF5VX4+4F23GytMrczbJ7KNgRQkg7Ixq5Z599FosXL1Z+dBMnTsSYMWOUX11OTg5CQkLqnR8YGIjMzEyztZecHbW1Wsxbk6TWh3T2V3nfbAUJqLhiQEd09HNHUm4JHl0ap3wJiflguhNCCDEDiYmJGDduHG6//XbEx8eretfnnHMOysrK4OJSv0SUbFdWVrb6M2pqTi8oT07vH1P3058Hs5XQI/nl+oZ7Q6ttOo+cVqsT+uScM52nOwetar+jo2MLr3vmNoigqn/VaGrh4aLB3JtiMfWjDfj9QBY+W5+E286NalGb7ImaNn7fWns+BTtCCGlnxJdu6dKlWLNmjTLLxsTEICsrCx999BEiIyNPE+JkW85rLXv37jViq20XU/fTu//kqddu/k7Iy9UlJm4KH3cR6rsjOycb5ZXVZzzX1Vn89Hpiz549qK09s7AmtV0lECcrOwsVVTVGaUN2dpahHTEX9MStA3zwyc6TePWXQ/Aqz0H3AF3kLGnf7xsFO0IIaWckfUnnzp3rCWt9+vTB3LlzVTRsbq7OyV6PbDc0z7YEERhFS0Oa1oTIQ9aU/bQ3/ST252TCSeOA0b3CTwljTePponsshwSHNFshQqJrhf79+7e4PVIGrLnrNtcG0dSJUBcSEgqNxsHQjsenjEBqxW5Vn3ZeXDlWzhwMt2bu156oaeP3Tf++lkLBjhBC2hkR0lJSUpQmTm92lQCKiIgI5XP3ySefKD8lcU6XVwmsuOeee1r9OfLwoGBn3n76fGOKep3cPww+7q7NClX/Bs1omi3XJecIrWl7y6575jaI+VX36nDqHF07nJycMHvqAOxOW6NMz2/9kYBZk/u0uG32gqOJf5e248FJCCFWgiQkdnZ2xjPPPIOjR4/ir7/+Utq6m2++GRMmTEBhYSFeeeUVJCQkqFfxu5MAC2Jd5BZX4Je9x9X6naO6wh7w9XDGa1N1GsTPNhzF5iRdQmbSflCwIyahpKIaeSWVjS5yjBB7xtvbW1WakAjYq666Cq+++qrKaXfttdfCy8sL8+bNw44dOzBlyhSV/uTjjz9WyYyJZVFzKoigKZbuOIaqGi0GRPgiJkKXzNceGBcdguuGRqrgDomS5ZjfvtAUS0xCRXUtFmxMbvTYredGwdP6KukQYlS6d++Ozz//vNFj4jO1YsWKdm8TaR1Sl/WTtUmorD7dvCom9E/XH1XrnQPtTyh/+pLeWBefi7S8Mvz3l4N45coYczfJbqDGjhBCCGkjItSJ31zDJTG3BAVlVSqwoGeIN+wNbzdnvH61ziT79ZZUbD2qiwwmpoeCHSGEEGJk9h47qV57hXnbVELi1nButyBcPyxSrT+1Yq9Bs9mcCbsurTmX6KAplhBCCDEipZXVSMrV1U2N6Wg/vnWN8fiEXlh9IAsJ2cX4ZF0S7hvX/Ywm7LqIQHz3GPsIOjEm9jmNIIQQQkzEocwiiKIp1McVQV727VDs5+GCZy7RpTx57894pJwoOaMJu97SjOBHGoeCHSGEEGJEDh4vVK+9w3zM3RSL4PKB4RjVPUgF1T3z/T7WkjUxFOwIIYQQI5FTVIHc4ko4OjggOtT+giaaSnj88hX9lGlVImV/jMswd5NsGgp2hBBCiJE4cEpb1zXYk+W06hAV5In7x3VX6y/9dBDlzdSrJW2Hgh0hhBBiBCSC83BmkVqnGfZ0pp3XFd2CPVVFjnUJ9eshE+NBwY4QQggxAsknSlBWVQMPF0d0DjB9UmKJLrWmdCCuTo54+QpdouK4tAJkF5abu0k2CdOdEEIIIUYMmujVwRsajYPJP08+oqWpQzxdHXHbyC4wN+d0C8RlA8KVn93fh3NwzZAI5YNHjAc1doQQQshZUlZZg6O5JWYxw1pb6hApN+bs6IDMwnKDTyIxHhTsCCGEkLPkcJYud12IN3PXNUeoj5uqSiFsSDjBQAojQ8GOEEIIOUuYu651xHbyR4CHi/JJ3JR0wtzNsSko2BFCCCFnQV5JJbKLKpTPW89QL3M3xyoQ38Cx0cGGurqS/48YBwp2hBBCiBG0dZ0DPeHhwpjElhIZ4IGeIV6QuN6/D2ezIoWRoGBHCCGEtBERRqQ2rNC7AytNtJZRPYJUIMXxk+U4eKofiYUJdnl5eca+JCGEWAQc30hD0vLLUFxRrcpldQnyNHdzrA5vN2cM7xKo1tfH56KCgRTmEex69+7d6ACXnp6OCy644OxbRQghZoLjG2kN+zNOqlcxKTo50gjWFgZG+sHfw5mBFEaixc4A33//PZYvX25QPd93331wdnaud052djaCg3XOkIQQYi1wfCNtzV0naU6EXoyGPctAihCs2JWOPcdOom+4L4K9mTLG5ILd+PHjcezYMbW+detWDBw4EJ6e9dXOHh4e6rzWUllZiSlTpmDWrFkYPny42peWlqa2d+/ejfDwcDz11FMYNWqU4T0bN27Ef//7X3XegAED8MorryAyMrLVn00IIaYc34jt8vuBTFTVaOHj5oRwXzdzN8eq6RTggR4hXojPLlaBFFfHRpi7SbYv2MkgN3PmTLXesWNHTJo0Ca6uZy9RV1RU4OGHH0Z8fLxhn37G3LNnTyxbtgx//PGH+uxffvlFCXkZGRnq+P3334/Ro0djzpw5mDFjBn788UeWJiGEtBpTjW/NTWhfffVV/PTTT0o7eNVVV+HBBx9UY9iBAwfw3HPP4ciRI+jevTteeOEF9OvXz6TtIa1n+c50g7aOz56zZ3SPIFVvVwIpJCBlQISfuZtklbQpLvvKK69ESkoK9u3bh6qqqtOOX3HFFS26TkJCghLqGoY4b968WWnivv32WzVL7tatGzZt2qSEPBHmlixZoga5O+64Q50vg+PIkSPVTFuv8SOEEHOOb83x8ssvY8uWLZg/fz5KSkqUUCcT18suuwzTpk3DpZdeitdeew2LFi3C9OnTsXr1ajUeEstACtivi88x1IYlxgmkGBYVgA2JJ7AuPhfRoezXdhPsPv30U7zxxhvw9fU9zVwhs5aWDnx6QUwGNDF96ImLi0OfPn3qDWKxsbHKLKs/PmTIEMMxd3d39O3bVx2nYEcIORuMNb6diYKCAjVR/fzzz9G/f3+1TyaqMrY5OTkpbeFjjz2mPu/pp5/G2rVr8dtvvymXFWIZSBF7KSEmJlh/DxdzN8dmGNTJX9WPzS+twobEXDyMaHM3yT4Eu88++wyPPvoo7rzzzrP68BtuuKHR/Tk5OQgJCam3LzAwEJmZmS063hpqampafE5trRYaTSOFlLXaFl3HltHfv6EftFpotU0Unbbj/jqtn4hR+smY/Wms8e1M7NixA15eXhg2bJhhn2jpBPEtloms3rQnr4MHD1YTVwp2lsOyU2bYPuEMmjB2IMV5PYPx/e4M7EotUMmfWaatHQQ78Yu76KKLYCrKysrg4lJ/BiTb4pPSkuOtYe/evS06LySiC7Kzsxo9VlISgqOHj7b6s20RfX9KfzUlaLO/Wv69s3fM0U+mHt8EcTURXz6Jxp07d64y+YrQdu+996qJq/jVNZy41vVDbimcQJhmoiX+XyJwSGLd6FCvpiexp9BqdWlQ5DxbOFeUHHWVHRoHB9TUapVQ1lLO1I5OAe7oHuyJhJwSPPvDPiy6a5hN+DDWtPH71trz2yTYie/HN998YzAVGBsxQ4ipoi4itLm5uRmONxTiZNvHp/VSfUxMDBwdHZvt1Kz8YoSEhELTyBdXzDV1Tcn2iPSRPIT1/XmyrBodOnRo9Fx77q+G/USM00/6842Bqcc3obS0VPnxiR+x+AiLMPfss88qtxJzTFztndb204I4XQmx83uFoDC/+aS6Pu7y/+yO7JxslFdW28y5emWHnO+o6YH/LtuEsmav7YpHrxjW7LV7+dXi6AlgW3I+3l+5BWM62U7U8V4T/y7bJNgVFxdj6dKlKporIiLitHxPX3755Vk1KjQ0VAVW1CU3N9dgfpXjst3wuCQWbS3y0GjpA1aEOgeHRhJQOjjwId2wPx1qTuur6tpaJGQV44nle5FfWokgL1ec2y0Qlw3sCF/3+t8hW6c13zt7xhz9ZOrxTRA/OvmcN998U2nuBIn2l0CJzp07Nzpx1U9sWwMnEMafaFXX1GLzb2vU+pTBEYjPLERlzZk1YJ6n6seGBIfYxLmiqROhTq/s0J/v4xcINyO241xtAdYlnMDX+0tx+0WxKrjCHif2Na2cuLZJsIuKisI999wDUyF56T7++GOUl5cbBjPxSRG/E/1x2dYjM1xJD6BPV0Asj8yT5SrnkzjE1uXXfZl4c/URPDGhF64dGmkT6nZi3Zh6fBMk0bFYHvRCndClSxccP35c+d01NnFt6FfcEjiBMH4//XMkF9lFFapSwrjoEDVZbW7Y+tdfUmMT5+p9zfXKDlO1Y0hUANILypGUW4L3/krCs5f2gS3gaOLfZZsEO1MLUDKwhYWF4cknn1T56f7++2/s2bNHmSyEqVOnqhQBIvyNGzdO5bGTmTUjYi2To7kl+HnvceWD4eHiiBuHd0b/CF8cyy/Dsp3HkJCt0+KJyv21qTFwZlkeYkbaY4Iok1Px5Tt69KgS6ISkpCQl6MmxTz75RKWBkoegvO7cudPkwiZpGd9uS1OvUwdHqPqwxHQ4aTR4/rK+uOWzrViwKRnXDI1Arw4MpDCJYCcC15nQC2BtRSTZDz/8UIX5i0OxmCZEeJMcT4IIce+//76qPCH7Bw0apF6p7bFMTZ1eqIsK9MCEvh0w7bxuCPDU+RDdPboLPl1/FK+vOqyEvMLyKnx442AKd8RsmHp8E7p27YqxY8eqz3r++eeVj51MVCV4YsKECcpEK9V0rrvuOuWHJ1aJiRMnnvXnkrPPXffXoWy1LhYGYnrG9AxWz43f9mfi2e/3Y/H0EXzWm0Kwa0h1dbWK8jp48CBuuummNl3j8OHD9bZFmFu4cGGT55933nlqIZZLeVUNftqbYRDqJvcPPy1qSopm33NeN0R38Mb0r3Zg9YEsPP/jfrxyZYzZ2k2Isce3xpBceS+99BKuv/56FTRx44034uabb1YPrXnz5qnKE9999x2io6OV0MfkxOZn6c5jajyL7eyPHkyea3LkeSH9PevSPvjnSDa2Jufhh90ZuGLQvy4MdWltZK6t0ibBrqkZqyT2lBI4hAhS76+kokb5okzsF2b4wclLXkl953ApHfO/KTF4aEkcvt6SqjK533xOlJlaTuyZ9hrfvL29MXv27EaPSdLiFStWGO2zyNkjJvHFp8yw1Na1D/KskOfGL3uOY2jnAKxLyMXTK/YiKacYrk71fdTELH73mK5ma6vNaez0iAlBTKKEbEo8gSPiVAzgoj4d6vmiVFbXKuGtMe4f1x3v/ZWA5388gA6+7mpmrMfVSQNPV6N+ZQlpMRzf7JvNSXlIOVEKL1cnXBITZu7m2BXyzOgf6Yu96SdRUFalBLwxPYLN3SyLRWPMvExiNvD3//dBTOwTSQfw5u860/qASD908G15moYbh3dS9QFrtFo8/N1ufLI2CQs2JqulovrMofGEmAqOb2TxNt1k9NIB4ZxgmimQ4rxonTC3O60AucUV5m6SxdKmb2evXr0adV6U8H0pbE3sm+U701V4upuzBsO7BLTqvfK9kqSfGSfLUFhejfUJuWqbkPaC4xtpyMnSKvyyT1dJ5/phNMOai6hAT3QL9kRiTgn+OZyDqYM7MpDCWIJdwwSd0rGSxFPK4Ej9Q2K/VNXU4v2/daWPhkYFwM259bl6xGw7vncolu9KV6p3+SF3DqxfjJ0QU8HxjTQWNCHmQPH9jenoa+7m2DVighWTeHpBmRLwuofwN2kUU6zkmZNFEmYWFRWp8l8y4HHQIyv3HEdaXplKZ3I2A2BkgAcGROje//fhHGXeJaQ94PhGGlZZ+GpTslq/aURnaojMjI+7MwZ30rlEbEzMNdStJWepsSssLFT5l/7880/4+vqqchclJSUYOnSoci6WaC9in1FjCzamqPUbhnU667Dzc7sFISGnGCfLqrAztQB3GqmdhJwJjm+kLmuO5CD5RCm83ZxwZRNpNkj7MrizH/akF6hKRgeOF6Iftahnr7ETP5PMzEz88ssv2LJlC7Zv346VK1cqB2NjJO8k1smRvCrsyyhUptQrB5/9ACjXGdU9SK1vS85TyY4JMTUc30hdvtio09ZdMySSQRMWgqQ6EVcfYcvRPOUCRM5SsPvrr79UtnTJnq5H/E+effZZNcsl9skv8aXq9fIB4fD30FWWOFskQjbc1w3VtVq88wdzJBLTw/GN1C2HKBo7sb7eck5nczeH1KF/R1+lRS2uqEZcWoG5m2P9gp1Eh2k0p79VfA/EbEHsg5KKapVoWJaE7BJsSteFn4u5wlh+D/KdGhuti4r9/UAW1sXnGD6z7iJtIcQYcHwjeiTNkjAuOoQBXBaGVC0a0TVQrW9PyVeVjshZCHbnn38+XnjhBaSm/ptkNjk5WZkwWObLfpC8cvocc7N+2KfKuYT5uinVeK3WeA6twd6u6B2m82t6avlew2fWXZjjjhgLjm9EyC+pNFSauGNkF3M3hzSCRCkHerqo8V/KjZGzEOweffRRNau9+OKLMXz4cLVIVnZxNJ41a1ZbLkmsPGjiUGaRWu/f0ccknzGiSyCcHR2Qll+G1DydyZcQU8DxjQhfbkpBWVUN+nX0wcjuOs0QsSw0Dg44p5vuf7MrtUDlGyRtiIpNSUlBeHg4vvrqKxw+fBiJiYlqEIyKikK3bt1M00pi0WQUlKtkws4aqJxzpgpxnzo4At9uS8OGhFxEDo1k2gFidDi+EaGssgYLTqU4mT6mG8caC6ZrkCcCvVxworhSBbr834U9YO9oWqOVEVPExIkTsWvXLrUvOjoakyZNwrJlyzB58mS89tpr6jxiXxzMLFSvET5Oyu/BVNx2bpTS2mUXVajKFoQYC45vpC5Ld6Qp393IAHdM7NfB3M0hZ0CE7mGnImQ/23BUBVPYO5rWZGOX8H/J4yTJO+vy4Ycfqv0rVqzAokWLTNFOYqFImHl8VrFaj/I1bSoASXo8IMLPkP6ED1liLDi+ET1SYWLe2iS1fvforiadrBLjINUn/D2cVc7ThZt1uVTtmRZ/Y6UAtviXjBs3rkmH40ceeYQDn52RlFOCyppa+Lg5IcjD9APgoE5+cNI4IKuwgr52xGhwfCN6lu88hmP5ZQjycsXVsawLay2+duKHLXy6LkmZ0u2ZFj+J09PT0b9//zOeM2LECKSl6aKIiH2ZYSU6qT38UDxcnAylyhgFRYwFxzei19Z98HeCWr93bDe4u7S+1jUxD73DfBDh747c4kp8u+3fiHZ7pMWCXWBgoBr8zoRka/fz05nKiO1TWFaFtFNas+jQ9qujObizPxwdHFTQxrF8au3I2cPxjdTV1kmKpRuHdzJ3c0grkBKWIowLH69NsutqFC0W7MaPH4/3338fVVWNhxNXV1fjgw8+wKhRo4zZPmLBSEZ2yUMseYT8PY1TaaIleLk6oU+4Lq0KtXbEGHB8s1/0yagrqmvw/l86bd0953WDmzO1ddbGVbERyoR+/GQ5ftl7HPZKiwW7GTNmICsrC1OmTFH+KAcOHFBmiX379mHx4sW48sor1fb9999v2hYTi+GvQ9kGx9X2Zkhnf2gcgLS8Mhw/Wdbun09sC45vto0kT28MR0dHDBo0SL1+tSkF6QVlCKG2zqpryN5yqvTb/PVH7TbArsVhjD4+PmrAe+ONN1TYf1mZ7mEqHeft7a3SAsigFxSkK9pObBsJKd+UeEKtdwtuf8FO8tpFd/DGweNF2JGS3+6fT2wLc49v06ZNQ0BAgPpsQQTL5557DkeOHFF1aqUSRr9+/Uzy2fZipvtkbZLyoauLVluLrOws+PgHYf56Xd66Ry6KprbOirlxeCflJ7nn2ElVamzoqVQo9kSr8lOIf4nkepJi2DJ7LSwsVPs6deqkZjzEfvj7ULaKhvV1d0aQl5hh239mFNvJXwl2iTklSD1RotKhENJWzDW+/fzzz1izZo3SCgqlpaVK0Lv00kuVoCeRuNOnT8fq1avh4eFhsnbYOiLUyZjVULCrqKrBxsQTKK+uVWPZ1NgIs7WRnD2BXq6YMqijSmY/f91RuxTs2pSfwsXFRWVhFxV2ly5dKNTZIb/tyzSYYc2VlV1+wFGBugfd11vtOwqKGI/2HN8KCgowe/ZsxMTEGPZJPj2pdvHYY4+pdjz99NPw9PTEb7/9ZrJ22DPFlbWIO3ZSrY/tGaK0e8S6uWOUrrbvqgOZSD1hfwF2zLxIWk15VQ3+Pmw+/7q6DO7kr15X7s5QRbsJsSb+97//4fLLL1fmVj1xcXGIjY01TJjkdfDgwdi9e7cZW2q77M2uVEFgnQI80CXINCURiekRgVzvS9kz1BtjegZDXOw+33i0VX6XtoBpSwUQm2TtkRyUVtagg48bQr1dzdoWyVsU7OWKnOIKfL0lBTPPZ51AYh1s2rQJ27dvx8qVK/H8888b9ufk5NQT9PTpWOLj483QSttGoifTCnXJbEd1p3+4NSOK1rq+lCFeumeTVKLwdnGCax2/SRcnDe4e0xW2CgU70mYz7LheIWYvjq20GZ38sOpAFhZsSlE/VomMIsSSqaioUMER4s/n5uZW75gEbog5uC6yXVnZeo10TY19Z+DXI+Z08aeTRY8ExqyPz1XrvTt4IcjL2XC8pf3W2HUbQ6vVGcds5dzaU9ouedVoai2qzRVV1cqXMszXBQGezsgrqcLuY/kYGOl32rnt/fvQf15rP7e151OwI61CZkJ/HMxS6xf0DsHeU74p5qRHqDd2pRUgu6gCP+zOwDVDWAaIWDaSE0+iXEePHn3aMfGvayjEyXZDAbAl7N27F/aO5KkTf0mJfpVACT3HCqtxvLACjg5AN+8alYBap9XpiT179qC2trZN120MH3cR1LsjOycb5ZXVNnNudnaWRbSjqXOjvB2QVwLsSslDqFOZQRHRmv+zKTD175KCHWkVm5JOoLC8WiWBHBDhZxGCnajfrx/WCe/+Ga/qBF4dG2F2TSIhzUXC5ubmKsFA0Atyq1atwuTJk9Wxush2SEhIqz9HgjIY3KYjNCTUEBUr/lWrjurKw0UHOiOqYxg0Gge4OOo0Oc2Vl2vquk3h6aJ71IYEh9jEuaKpE6EuJCRU9ZultjkgqBZ7c5JRVKlFtasvIgN0wXZt+T8bA9G8iVDX2t+l/n0thYIdaRW/7dNl876ob6hFRY9NGdxRCXVHsoqxPiEXo3sEm7tJhDTJV199papZ6JH8ecIjjzyCbdu24ZNPPlGmQpmgyOvOnTtxzz33tPpz5OFBwU6Hg4MG+vnevowCnCyrgoeLoxLsRDjRHdc98FvTZ3Wv2/Q5DjZ1rphfda/6frPMNrs6a1QNWclptye9EJ0CdcF+bfk/GxNT/y4ZFUtajMxyf9+vU71P7NcBloS3mzOuPmWC/Wx941FQhFgKHTt2ROfOnQ2LpDORRdYnTJigcui98sorSEhIUK/idzdx4kRzN9smELPpliRdcvXhXfzhLLZYYrP07+irXpNyS1BU3njJQFuDgh1pMduS83CipFIlJR7RNRCWxm3nRqmZ2t+Hc5CQXWzu5hDSJry8vDBv3jzs2LFDlTiT9Ccff/wxkxMbiW0p+SoZcYCHC/qG6WpOE9sl0MsVHf3cVeqTfRmFsAdoiiWtjoYd3ycUzqd8FCyJqCBPXNArVAV3fLHxKF6+4t+kr4RYMvpSYnrE92fFihVma4+tUlhWhd1pBWp9VI8gZUoktk//CF9VB3hf+kkMk0oUNu6dYHlPZ2KRiLOsXrCzNDOsIONzXkklrhmiKwe0dMcxHM0tUftKKs4cTUUIsQ+kdJi4lEj+S33VmqaS3BLboVuwl/KnlPyriTm2b82hxo60iLhjBcgsLIeniyNGWmAiT0nD8vWWVOVoLvUec4sr8cyKvRgSFYBbz42Cp3nzKBNCzIyMX4ezitT66O5BhsCUMyW5PROero64baSudBWxbBw1DujX0Rdbj+apQIp+4Tq/O1uFGjvSIvTauvN7h8KtTgZvS0MG60GnyoxJ/UfOvgkhIsCtOZKj1qM7eCPE58w5AUWok5QZZ1yaEfyIZdEv3Ef5YItJNre4ArYMBTvSokHxVws2wzakZ6hO7V5cUc0gCkII1sbnIjWvFI4ODjjXAgO/SPtkTuh6qhawJLS3ZSxasFu9ejWio6PrLQ888IA6duDAAVx99dUYMGAApk6din379pm7uTbLweNFalB0ddJgbLTl54dz0mgMIe670vJPM7cQQuzLP/i1Xw+p9ZgIX/i4O5u7ScRMDIjQlRU7kFGoJv62ikULdpLDady4cVi/fr1hefnll1FaWopp06ZhyJAhWL58ucrePn36dLWfGBcJPFix65haP7dbIMqralVAgiz6eoGWiAzg4leRVVihfCoIIfbJ97vTcfB4oSr8riIiid0S4e8Ofw9nZUr/flc6bBWLFuwSExPRs2dPBAcHGxYfHx/88ssvqp7iY489hm7duuHpp59WyT1/++03czfZ5qiorsWynemGMiwLNiYblloL1oR5uDghOtRbrX+zJdXczSGEmIHyqhq8+fsRtT48KgDuLpbrH0zaxwc75pQ1Z+HmFJu15li8YBcVFXXafknYGRsbW6eEiAMGDx6M3bt3m6GVto0+ZYhEi3U55Z9gLQzqpFO7/3koC8fyqc0lxN6Qh7c4y3fwcUNsZ11QFbFv+oT5wEnjgEOZRdiRkg9bxGLTnYgkffToUWV+lSzsUgRXSu2Ij11OTg66d+9e7/zAwEDEx8e3+nPkui09R0yP+hp5DRrboutYI38d1JUQk+LJLk6SHqD+/eu39WbZun3U8NzG3mfKY4Gezoj0d0dafhm+2HAUT07sBXOj/57Y6vfFXP3E/iQNkVqwH/ydoNYfHN8DuUWVzRaSJ7aPq7Ojqh+7N/0kvtqcolJi2RoWK9hlZGSo+oguLi545513cOzYMeVfV15ebthfF9murKxs9efs3bu3ReeFRHRBdrZOyGlISUkIjh62zfqkv+/XlWAJdqlGZqYuMlZPbW3kafv0fdTYsTO9z1THOnvVIi1fzLEpGBtcCncny1BSt/R7Z++wn0hbmbsmEQWlVegR4oWpgyMwb02SuZtELISBkX5KsPt1byZmTa5AkJdtJTp1suQi2Vu2bIGvr68ytfbu3Ru1tbV49NFHMWzYsNOEONl2cztzbqLGiImJgaOjY7PagKz8YoSEhDZagkb8+wYOHAhbNMPG56xTZthB3cPh3iB/nUbjiA4dOhg0dSLU6fuo7rGGtOex0FAt0koykZJXiviqQNwypDPMiXyXRFhpyffOnmltP+nPJ0TIKizH5xt0k+3HJvSCkwWWQCTmo4OPGwZE+iEurQDfbU/DjLH1LYDWjsUKdoKfn85HSo8ESlRUVKggitzc3HrHZDskJKTVnyEPjTM9OERgWX0wE1WVlRBjo4NDIwOEg4NNPqR/2fevGdbDpfEUAfr+0JtfRajT72u0rxq8z9THxA3z+uGdVLqDBZtScOu5XSyiPmRz3zuig/1E2sJ7f8arCH7xq7uwd+ufC8T2uWl4JyXYSXDd9DHdVBYFW8FipzHr1q3D8OHDldlVz8GDB5WwJ4ETu3btMkS0yOvOnTtVTjtjszY+B/ct2o3/LDuAr7ekIfNkOeyFn/ccV689Q3TRpdbK5P5h8HFzQvKJUvx1KNvczSGEmNjS8O22NLX++IRehiA7Qupy6YBw+Lo741h+GdYcsa3ngsUKdpKbTlKaPPPMM0hKSsKaNWswe/Zs3HXXXSqIorCwEK+88orKdSevIgBOnDjR+O3o5I+rYzvC190JBWVVWLbzmF0Id/FZRaquokQPdQ22rmjYxlKfiNZOmL/eNn0hCSE63vz9sColOC46GMO62J5jPDEObs6OuDo2Qq1/tSkFtoTFCnZeXl6YP38+8vLyVGUJyVV37bXXKsFOjkmk7I4dOzBlyhSV/uTjjz+Gh4eH0dshEv1rU2Kw6LZBKsKyulaLH+MyUFppu1mrhZ9OaevO6RZo0bVhW4Jo2C8f0FGVE9qUdAKbEk8YkixLAmZCiG2wL/2kGrtESffoxeaPgieWzY0jdD7X/xzJQVqe7aTEsmgfux49euDzzz9v9Fj//v2xYsWKdmuLt5sTLonpgCU70nGipBL/HM7BpJgw2CJi2v5pT4ZaH98nFCeKWx9tbElIse5V+zPRLdgTR7KL8eJP+3FRH12gxa3nRsHTtgKiCLFb/vebrnTY5QPC0Sfcx9zNIRZOlyBPjO4RhHXxufh6SyqesICUWDatsbNEpCTNRX1D1WwwPrsYKSdKYItI4sbEnBJ1v2OjbcfxeOCphMVHMoupqSPExtiYkKse0OI+8tD4aHM3h1gJN53S2kl0bEW1beTDpGDXSkK83QyFhDcknrDJkiT6oInzegbDy9WilbqtIszXXYW512i1KocRIcQ2kHH4f6sOq/UbhndCp0Dju+UQ2+SCXiEI83VTrjmS184WoGDXBqSQtNRNzSmqQEJOMWzVDCvRpLaGvszYnmMnUc0s9ITYBOJqIakrPFwccf/5PczdHGJFODlqcP0wXXCdVKKwBSjYtQEpJC2Zq4VdqQWwJXalFai0IG7OGlzYOxS2RvdgL6WFLKuqUVG/hBDrpqqmFrNPaevuHNUFwd50miWt47qhkcqEL7VjD2Toqi1ZMxTs2kj/CF8VZXn8ZDnijtmOcLdsxzH1OrFfGDxtyAyrR5ITG4TytAKbNKUT6yArK0vVvpZKOqNHj8arr76qErALaWlpuO2221RFm0mTJqma2aRxFm5OQVJOCQI8XXD3mK7mbg6xQkJ83HBxP11A3YKNybB2KNi1ERF6ojvoEvd+bSPq2/KqGqyM05lhrzqV38cW6RvuA2dHBxXtK87WhLQ3MqEQoU7yb3799dd4++238ffff6u62HLsvvvuQ1BQEJYtW4bLL78cM2fOVPWzSX3EL+rt1UfU+sMX9YSPW+MVcghpjjtGRqnXFbvSlZuVNUPBzgj+WlLNwBZy4PxxMAuF5dUI93XDOV0DYatIXr7+pwJg5q1NpNaOtDuSdH337t1KSydpnYYMGaIEvZ9++gmbN29WGrsXX3xRlVGcPn260tyJkEfqI0KdjFm9OnjjuqE6PylC2kJs5wD1TK+sqbV6XzsKdmdBkJcrOgV4oFYLfGED6lu9GXbK4AiLqKdqSgZ38lM+FQePF+Hvw7ZVToZYPlLv+tNPP1VauboUFxerhOt9+vSpl3BdyiiKIEj+5XBmEb7eonsAP3tpH5uq9UnMw12juhrM+2LBslZsz4mqnRF/rdS8UlVq7NGLo622SkN2YTnWHMlR61MGd4StI2XGBkT6KWfZd/6Ix7joENaUJO2Gj4+P8qvTU1tbi4ULF2LEiBHIyclBSEj9/JGBgYHIzGx9KoaaGut9OJ0J0bK/uHK/mlRf3DcUw6P8z3ivjo6O0Gpr1VKXWrnAqVeNRo7rdB2NnXt6G+z3XOvvNygafmcu7BWECH93VT92yfZU3HAqWtZY6D+vtb/L1p5Pwe4s6RzogQ6+bqp+7K/7juPKQdbpm7Z4W5oaJGM7+6NrsBfsAdHa7c84qVKfSCWRcb1sJxkzsS5ef/11HDhwAEuXLsUXX3wBFxeXesdlu7Ky9RVg9u7dC1tk07FybEgsgLMGuKxTzRm1mRqNRtUez8rOQkUTWpjs7Cz16uMu/d4d2TnZKG+mbCTPtd5+c1UKmJ7Ys2ePmlTVZXwnJ3yeD3z012H0cj4BjQkm/Kb+XVKwO0vkn37lwI74aE0ivtmSapWCneRz+2Zrqlq/+VQWbntAtHbXDInEl5tS8M4fRzA2OphaO2IWoW7BggUqgKJnz55wdXVFQUH9SHsR6tzc3Fp97ZiYGKWtsiUKy6pwz6+6KOHp53XDhFEty1sXGhKq/KfqIhonEU5CQkKV+4mni+6RGBIcctq5DbHnc62931wcNYbSpA3p3rsaSw79g4yiahS4d8T5Rpzwi+ZNhLrW/i7172spFOyMwBWDwvHxuiRsS87Hkawi9AzVRctaC38czFZpWwI9XTAxRhfybS/cck4Ulmw/hrhjJ1UQzAU2mLuPWC4vvfQSFi1apIS7iy++WO0LDQ1FQkJCvfNyc3NPM8+2BHl42JpgN/v3/cgprkDXYE/MPL9Hi+/PwUGjykHWRcyIuleHU8cdmjz39OvZ77nW3m9Ojo6oqdU2+t3x9XBU1Us+XpuET9cnY3zfMN25RvThNPXvksETRiDY2w0X9tYNuqK1szbEUVS4dmgkXJ1s6yHQHJL76pZzOxsKiLMaBWkvPvjgA3z77bd46623cMkllxj2DxgwAPv370d5eblh344dO9R+e2dT4gks2pqm1l+b0t9qfZqJedE4QAlqn6xNwpy/Ek5bNKfO2XI0D7O+32d1gTnU2BmJG4d3xqr9WSqI4vEJvVR1CmsgMacY6xNyIV/bSTFhKi9UY06ytsyM87rj261pOJJVjKU7juE6IzvMEtKQxMREfPjhh5g2bZqKeJWACT2SsDgsLAxPPvkkZsyYofLbiS+QpEaxZ06WVeGRJXFqXUpASQmxbUfzmn2fp6sjbhvZpR1aSKyNyuraRs224oPXJ8wH+zIKsTb+39+mtUCNnZEY1T1IpT4pKq/GylO1Vq2BzzccVa9RQZ5YfSBLZd2uu9TaQY43Xw9nPHCBzk/nzdVHUFJxZsdbQs6WP//8U/nNfPTRRxg1alS9RUw0IvSJsDdlyhT8+OOPmDNnDsLDw2GvSBTsM9/vQ3pBmRpnn76kt+Gh3OxSTS08aT1DowKU1i7lRCl2pebDmqBgZyTE1+C6YZFWZY7NLirHd9uPGSJE7RkJGpEHhmQcn7c2ydzNITaOaOoOHz7c6CJ07txZpT8Rh2lJWnzuuefCnvl+d7qqiiMmsXeuG6jqPRNiSnzcndGrg49af+/PeFgTFOyMyNWxkapU1e60ApVGw9L5bH2yms3GdPRFRz932DMuThplQhfmrklEcm6JuZtECAFw8Hghnlq+T63/3wU9MLiTv7mbROyEoVH+yk3p78M52JHSvNnfUqBgZ0SCvV1xUd8OVqG1E38VfdDEHaO6MM2H8jHsoEzqIuw+++N+lhojxMzkl1Ri2lfbUVZVg9E9gnDfuO7mbhKxI/w8XJTiQ3jt10NW80ygYGdkbjzleP/9rnQUW7Cv1lebklX7okO91YBJdOHyL17eV+U4WnskB7/ua32mf0KIcZAJ1v2LdiEtT+dX9/71g6wuOpFYP+d2C4Srk0alM5PUYNYABTsjc063QHQN8kRJZQ1+3J1hsbNgvR/ZvWO7mSSztrUiVTfuOU9XL/D5H/ejoLT12f4JIa1HcoXVjcaXCFiJ2Hd3dsTHt8Qq7Qkh7Y23m7OyagmzrSQlFgU7E2h9JBRfkALVlqi6fe+veBW92zvMB5cOsN9Iu6aYMa67Sn6aXVSBWT/sN3dzCLEL9HnFPvgzHlfN3Ygf4zJUVOIlMWH480C2IcfYF6ci+QlpL+45rxv8PJwRn11sqNJkyVCwMwFTYyOUM/7+jEJVh9SSkKAAvW/dU5N60bTRCJL09O1rBqq+kUg8ecAQQkyP1HL981A2dqbqSqqN7xOKjv7uTF9CzIqvuzMeGt9Trb++6rDKnmDJULAzUTWDSf0sM4hi9qpDqKrR4ryewRjdIxj2jsi1kpS54RIZ4IHpY3QmWck8npZXau6mEmLTiPl19cEs7ErTCXVSu1mfboIQSyhCENPRV1m7/vvLQVgyFOxMxA3DdWWqRNsjEaiWwJ8Hs/DL3kwlzDw5SZfaw96R2X/DpMz65dZzozAg0k/9/+5ZuAPlVTXmbi4hNokkBb/36x2qZrPYEKRE44AI+86tSSwLR40DXr6in6pDu2JXOjYm5MJSoWBnwvw3PUO9VJi+RKCaGxFOnlqxV63fNborZ8ItwNlRgw9vHKw0sGJWl/6zRJ9JQqwZqSZx1dxNqiSjo4MDJvTrgL7huhQThFgSAyL9cONwnQ/9o0v3oLDcMpQ2DaFgZ8IgCn3OpU/XH0WRmb8Ar/5yEFmFFegS5GnwFSDNI4mbP7h+kNJyLt+Zjo/WJJq7SYTYDL/tO45J765TSYiDvFxw7dBI9Az1NnezCGmSJyb2Vul3ZELynIUG11GwMyGT+4er6MqC0ip8uUkXsGCuwfPbbWlq/X9T+6vgANJy/7teYT54aHy02jf7t8P4dF0S68kSchZIGqHHlsbhnoU7lTVhQIQvvr9vpN1XwCGWj5erE96+dqB6PohJ9ofd6bA0KNiZ2CZ///k6rd0n65LMkrA4PqsID38Xp9anjemKYV0C2r0NtuB/V1VTiyGddaWMXvn5oEX+mAmxhgCJZTuO4YI316g61eKvNGNsNyy991xE+HuYu3mEtIjYzv6YeX4Ptf7k8r04kFEIS4KCnYm5VLR2QTqtnWh62hOZCU/7aodKlizZsx+7WKd1Im1D+rBfuA/Ey+7pFfuYT4uQFiK+qX8dysIl76/Hw0vicKKkEj1CvPDd9HPw2IReyp+VEGvigfO7qxKUpZU1uGvBNotKgcJfk4lxctTgoYt0Pm0f/ZOIY/ntkzZDtIO3fb4VR3NLlHlDyvFIW8jZ+U2O6xWC/hG+Srh7fuUBFfZuDZnICTEHEkn+7dZUTHhnHe74YrvypfN2dcJjE6Lx8wOjMTSKFgRinTg5ajDnhsFKcZNxshx3f7ndYsqI8knfDkjm9OFdAlBRXatyopk6srK0shq3f74Vu1ILVGLFT24ZgkAvV5N+pr0g5dfG9gxW5iPh47VJuO7jzcgoKDN30wixCGR8251WgJd+OoBzXv0TTyzfi8NZRfBwcVS5Idc+Ng4zxnZXSdwJsWZ8PZzx6a1D1HNWvvO3frbVIoQ7/rLaSdMj+W+kuPzfh3Pw3XZdIIMpyCosx/WfbFEFi73dnLDwzuHoE87UJsb+f0rKmA9uGKQcaben5OPid9biy03J9epdEmKLNPYdF2FO/IykluaY1//GFXM2YP76o8gvrUKEvzuentQbm568AE9O6g1/T9Z8JdblK19zhnFd6ovLc9bHzQk7UvJxy/ytqh67OXEy66fbET1CvfHg+J7432+H8NyP+xHT0c/oAteu1HxM/2qHqnEqde0+v20oYiJ0+aAkilM0hk05NJO2RT1LJvIHFu1SiVWf/WE/vt2apv7PF/QKgYbl2ogN13QtrahGal4pEnNLkJRTjMLyfzUVzhoHlbZEfgvivsDShcRa0Tj8+50/Uzm7ywd2xJLtadiZmo/L52xQlrLoDuZJ3UPBrh2RqNRNSSew9kiOcrZccu+5RgnvFz+W9/6Mx7y1SWpmIU7Joh7uHOhpOEeEOonubAx9wkXSeqSPl88YiW+2pKgaggeOFypfi14dvHHLOVGYPCAMPm7O5m4mIUYhu7Acfx3KxuJtaUg+UYLqOpNCefh1DvBQDzPJl+np4oQL+4Sas7mEGA0R6qRWcVNIIvvrhnbCn4ez1ITnyg834PlL++LqIRHKytOeULBrR2Tge++6gZj60UYk5pTg+o83Y8Edw9Qg2BZE0/bLvuN48/cjKkhCmNw/DK9OiYE3hYl2/b/efE4UJsWEqWTUYpI9lFmkKlW8uHI/RvUIUnV5JYIq1Ie+jsR6kDFGqq78cTBLCXR700/WOy6uCFFBHmoMi/T3qBfdqjdhUVtH7IVgb1f8eN8o3PfNTmxMPIHHlu3Byj0ZeOnyfohq43Pe7gS7iooKvPDCC/j999/h5uaGO+64Qy2WjJ+HCxbeNRzXzNukpHrxRXnpin64tH9Yi6V6cc5cGZehNHAiQOi/ULMu6Y1RPYJRVaNViXXrQnOr6ZEAlccn9MK1QyJVkIw8EPNKK/HHwWy1CJIupYtXNSY6Z2JolyD1fyPEksY3SR4sDyWxLIgwJ64dDcsqebk4Km21VItoatxqqQlL8HR1xG0juxj1PggxB+JD+uUdw/DZhqNK6bIuPhcXvLUGV8dG4N7z2uc7btWC3ezZs7Fv3z4sWLAAGRkZePzxxxEeHo4JEybAkgnzdcfye0cqk51E0oiPlr7o/Njo4NNMdyKUpeWXYuvRPPxzOAf/HM5WuekESR0gjvx3jIpSAh3NrebHx90Zgzv7Y1AnP/VQTMopURrVnOIK7MsoxD4AK4/sVud2DvRAv46+6BPmg95h3ugT5qu0eu2tuif2O75VVNdg29F8bEzMxfqEXKWVqxu4L9Gso3sE4YLeoWp8CvF2w5y/Es5olmqNCUtwrub3ndhWKpRpY7phfJ8OymojQZNS/Wnx9jQM7uCKu1yyMK5XqMmqQFmtYFdaWoolS5bgk08+Qd++fdUSHx+Pr7/+2uIFO0E0NUvuOQcf/JWAuWsSVTSNLPI8D/V2Q5ifmyHo4Vh+mUqCWBfxZblycEflsCmh1iLUUStnWYhwFurjppZzugWqesHdgryw9WgO9meWIDG7GCknStXy857jhvf5ezgrP6XOAZ7oFOih6hKKACjX8fdwYZoIO6C9xjcRui56e636DtYl0NNFfee6BnkhMsAdThoNcgor8Mue49SsEdJCxEXh89uHqWf7O3/otHc7jldgx9e71IRpfJ9QvHBZX2XJMyZWK9gdOnQI1dXVGDRokGFfbGws5s6di9raWmg0lv/wE38UiRq7flgnfL0lBT/tOa40O5mF5WqpizzMe4f5YFhUAArLqpRWR2bV3+/6t7QVtXLtX0e2MZoSsMXvcXzfUMTFH8Wkfh1QWR2i/s+iycstqkR1bS2ST5SqFBGbk/LU0hgSVh/k5ao0gzI4yHdDUunI7M/dxRHOjg7qQezqpIGHixOcHB0M+9SrowZOGtmnUcfq7pdoRmenxo9LDj/ZFvOa7NO9OtR7pabRusa3Wq1WfU9koilmVSnr1cnfA15u/z4a5Ous17hRs0ZI0zTlVyolyL66c7iKHhfN3U9xGSqp8Q+7M1Se24v6doAxsVrBLicnB/7+/nBx+VfSDQoKUn4pBQUFCAiwnozmHXzd8PBF0WrJLa5Aen4Zjp8sUw9ST1cnJcRFBXqqB68IE02ZW0n7IZqOr7ekNnqspQK2q7POT0kfvSymeBHUErKL1aK0eXklSD1RqvwxpQyTDBqSVqJuaglLQgY0tYgQKK9KMGxcGFTrIig6NDiuhEigpKgIw3Pi8cjF0XYnMLbX+CaTgd8fPE+tt8a8SghpvV+pVluLspO5uH5oBPLLqjEkKgAX9jZ+5LjVCnZlZWX1Bj1Bv11Z2XxyQH31BznX0fHMdu6amho1S3bQ1kLjcLo2pra6Gi34yBbh4+IA5wA3dPSpf28FxToNXo1WskrXN8sa2lFTY7ZjMvMXC6G+j8zZFks/Vref6lFTg+LSanTwckYHL3+M6upvOCRaNFdHBxSWVymNngj4orktq6pBfmk1NiTkoLpGi6parfpf1Gi16BHspSYHogmUtBRqqdEtMuhICpxqre5YjeyX89SrbJ96j1Z3vgiUoonUX+fMaOUHhuoaqOVsKigezE3CbSMi4NuMqUJ+o+qTTVzVxRbHN0HOcXXUQtNM/8k50tfWcm5z59fW6gI3XB0AjUZrEW22hnPZb2c+10FbA432dMFOxlAZ/+U64T4uuLhPCKqrq9AcrR3fHLRWOhL++uuvePnll7FhwwbDvsTEREyaNAlbtmyBn5/fGd8vA97evXvboaWEkPYiJibmNIHIGuH4Rghp6/hmtRq70NBQ5OfnKz8UJycng/lC0gL4+DRf0UHeI50kvir2ZuYhxNaQ+alo1fVjgbXD8Y0Q0tbxzWpHwd69e6ub3L17N4YMGaL27dixwzCYNYecYwsze0KI7cHxjRDSViw/dLQJ3N3dccUVV+D555/Hnj178Mcff+Czzz7DLbfcYu6mEULIWcHxjRDSVqzWx07vYCwDn2Rm9/Lywp133onbbrvN3M0ihJCzhuMbIcTuBDtCCCGEEGIDplhCCCGEEFIfCnaEEEIIITYCBTtCCCGEEBuBgt0ZkPI9Tz31lEo3MGrUKBWVZo9kZWXhgQcewLBhwzB69Gi8+uqrqm+EtLQ05dA9cOBAlTx1/fr19d67ceNGTJ48GQMGDFARfXK+PTBt2jQ88cQThu0DBw7g6quvVv0wdepU7Nu3r975P/30Ey688EJ1/L777kNeXuN1Ym0BSZ77wgsvYOjQoTj33HPx1ltvGTKqs5+IKb5vMgZJYmc9HLfa1m+SNDs6OrresnDhQsNxe/59ZlnQc5KC3RmYPXu2erAsWLAAzz33HD744AP89ttvsCfkgStfVonQ+/rrr/H222/j77//xjvvvKOOyY9XalguW7YMl19+OWbOnImMjAz1XnmV41OmTMHSpUtVfcsZM2bYTNmnpvj555+xZs0aw3ZpaakS9GSCsHz5clXYffr06Wq/IOksnn76adV3ixcvRmFhIZ588knYKvJwkIFs/vz5ePPNN/Hdd9+p+2Y/EWMjD9aHHnoI8fHxhn0ct9rWb/rqJw8//LASTPSLTMDs/feptbTnpETFktMpKSnRxsTEaDdv3mzYN2fOHO1NN92ktScSEhK0PXv21Obk5Bj2rVy5Ujtq1Cjtxo0btQMHDlR9pefWW2/Vvvfee2r9nXfeqddfpaWl2kGDBtXrU1sjPz9fO2bMGO3UqVO1jz/+uNq3ZMkS7fnnn6+tra1V2/I6fvx47bJly9T2o48+ajhXyMjI0EZHR2tTU1O1ttg/ffr00W7ZssWwb968edonnniC/USMSnx8vPayyy7TXnrppWoM0487HLfa1m/C6NGjtevWrWv0ffb8+0ywsOckNXZNcOjQIVXOR7QGemJjYxEXF6dKe9gLwcHB+PTTT9Vsoy7FxcWqL/r06QMPD496fSTZ8gU5rs+ar0+62rdvX8NxW+R///ufmpF1797dsE/6QfpFX9pJXgcPHtxkP4WFhSE8PFzttzWkeoLkZBNzhR7R0onZgv1EjMnWrVsxfPhwpT2qC8ettvWbjPliboyKimr0ffb8+wy2sOek1ZYUMzVSl9Hf379eWR75p4mKuqCgQKlL7QGpSyn+AnpEqBWfihEjRqg+CgkJqXd+YGAgMjMz1Xpzx22NTZs2Yfv27Vi5cqVKLKtH+qGuoKfvB72ZIzs72276SXxHOnbsiO+//x5z585FVVWVMkHce++97CdiVG644YZG93Pcalu/iRlWJlvyu127di38/Pxw++2348orr4S9/z59LOw5ScGuCcRW3rDWon5bnErtlddff105uIsvwBdffNFoH+n7p6k+tMX+E4Ff/DCfffZZVai9Ls31Q3l5ud30k/jLpaSk4Ntvv1VaOhnUpM9klsp+Iu1Bc98zexq3WkNSUpIS7Lp27YqbbroJ27Ztw6xZs5QGfvz48fx9WtBzkoJdE7i6up7Wsfrthg9ue/qySiCJOIb27NlT9ZFoLxv2kb5/mupDmd3YGhJY069fv3qzNj1N9UNz/STCjq0hhe3FPCFBE6K50zsPL1q0CJ07d2Y/EZPDcattSO3icePGKU2d0KtXLyQnJ6vfrgh2/H1aznOSgl0ThIaGIj8/X/nZycNIEO2C/DPs8Qf+0ksvqR+wfGkvvvhiQx8lJCTUOy83N9egVpbjst3weO/evWGLkbByb3qfTP0PddWqVSqMvbF+aK6fxG/D1pB7koFML9QJXbp0wfHjx5XfHfuJmBqOW21DtHV6oU6PaO82b96s1vn7hMU8Jxk80QTSqSLQ1XVgFMfvmJgYaDT21W2ijRLTmeQbu+SSSwz7JefO/v37lQq+bh/Jfv1x2dYjKmdRT+uP2xJfffWV8q0T3zFZzj//fLXIutzvrl27DOHr8rpz584m+0mEHFlssZ/knsRsffTo0XomHhH02E+kPeC41TbeffddlYutYZChCHeCvf8+P7Ck52Sb42ntgFmzZmkvueQSbVxcnHb16tXawYMHa1etWqW1JySMu3fv3tq3335bm52dXW+prq7WTpo0Sfuf//xHe+TIEZW2QsK609PT1XvT0tJUyhjZL8f/7//+T4XQ69NZ2DIS9q8P/S8qKtKOGDFC+9JLL6lUAvI6cuRIQ/j7zp07tX379tV+99132oMHD6rQ9+nTp2ttlWnTpmmvvfZada9r165VfbNgwQL2EzEZddN2cNxqW7/Jc1BSFX366afalJQU7ddff63t16+f+l3a++8zwcKekxTszoDkk3nsscfUP0Hy0Xz++edae0O+bPLjbmwRkpOTtTfeeKP6gYsQvGHDhnrv/+eff7QXXXSRtn///ip3jz3kNGoo2OkHxSuuuEL9gK+66irt/v37650vudrOO+889V277777tHl5eVpbpbCwUOW8kns955xztO+//75hEGM/EVPQMB8bx6229ZsoOETokN/nhAkTTlN02Ovvc56FPScd5E/b9X2EEEIIIcRSsC9nMUIIIYQQG4aCHSGEEEKIjUDBjhBCCCHERqBgRwghhBBiI1CwI4QQQgixESjYEUIIIYTYCBTsCCGEEEJsBAp2hBBCCCE2AgU7YlJOnjyJ1157TdVNldp3EydOxBdffIHa2lp1PDo6Glu2bGnTtd9//33cfPPNZ93G4uJiVdPVVEgbpa2EEPtFxjpZMjIyTjsmhePlmDHGiSeeeEItDTl27Jj6DHnVn6dvk34ZNGgQrr76amzbtu2s20HMBwU7YjLy8/PVILFv3z688sor+Omnn3D//fdj3rx5attSEEFz2bJl5m4GIcTGcXZ2xl9//XXa/j/++AMODg7t3h6ZaK9fv96wLFy4ED4+PpgxY4aa8BLrxMncDSC2y5tvvgkXFxfMnz8frq6ual9kZCTc3NzUwHHTTTfBEmBVPUJIezBkyBAl2NUd+0SA2rVrF/r06dPu7ZGxODg42LAt6//9738xZswYbN68GRdeeGG7t4mcPdTYEZNQWVmJn3/+GTfeeKNBqNMzbtw4pSXr2LGj2t6+fTsuvfRSxMTEqAEvPT3dcG5iYiLuvPNODB48GKNHj8YHH3xgMOM2RK4zZcoU9O/fX11v1apVhmNi/rjjjjuUqeGcc87BSy+9hKqqKixfvlxdc+vWrcoUoW/7yy+/jOHDh6vlkUceQUFBQT1zxpw5czB06FC8+OKLav/ff/+NK6+8Un32pEmT8Pvvv5ugVwkh1swFF1ygxpq62rB//vlHCXyenp6GfTIGvfrqq2rM69u3r3JlWbx4sWFM7Nevn8F9RM69+OKLlUBmLK2i4OREvY+1QsGOmITU1FSUlpYqYa0hYnIYMWKE0uYJS5YswTPPPIOlS5cqn7w33nhD7c/Ly8MNN9yAkJAQdc5zzz2nTAVffvnladfMycnB9OnTlWC3cuVK3HXXXcqHRIQ9QQQ5Dw8PNRiKUCZC33fffaeEML3AJ6YI4a233lLm408++UR9lgzC//d//1fv83bu3KnMt7fccgs2bdqkTMyXX345fvjhB2V+fvDBB9U1CCFET8+ePREaGoq1a9ca9q1evfo0zdjHH3+sBD7xufvtt99wxRVXqDEsNzcX3bp1w7Rp09Q4KWOTjGcy2ZUx52yR8Xf27NkIDAxUwiaxTiiSE5NQWFioXr29vZs9995771WaMeGqq67Ct99+q9bFJ8/d3V0NaDJ7lAFNBDgZyG677bZ61/j6669x7rnnGkwcnTt3xsGDB7FgwQI1QIkWUGa+4eHh6pgMnOJLIqYIEfhklipmiLKyMiU8itCm1+DJQCftO3z4sGFWfeutt6JTp05qXQZYmTHr29SlSxfs2bMHn332mRISCSGkrtZOzLEyqRRt24YNG/Dss8+qCameXr16qcnvwIED1fY999yjxr3k5GQEBQWp7V9//RVPP/00/vzzTzXWyFipR65V12LRlMtJ3fPkuFgxxDoi1/Py8jJhLxBTQsGOmAQ/Pz/DDLA59AKSXhCsqKgwmBxEGKtrEhDNmgh3esFRT1JSkjKHynE9MkiJkCWIBu+pp55Ss2PxH5FBtTGflrS0NPW+6667rt5+mRHLoCrtEfRmZH07G54v7WBABiGkMcHugQceQHV1tdL2ixZPNGR1EQ2eCHySUUDGtgMHDqj9NTU16lWsHS+88IKKuJ86dSqGDRtW7/1iuhUXkrpkZWWdlkVAf560RYQ8mVSL/7MIlsR6oWBHTIIIayKk7d+/X/mdNaal0w8yGk3jHgENffMEvX+dfoDTIwOT+NXJTLYueqHwsssuU751En0mJg4ZWO++++7TzBf6637zzTdKk1cXGXz1vnZ129ZUO5vyBSSE2C+xsbHqdceOHWo8Gj9+/GnnvP3228r9RFxLxAwrbigihNXl0KFDcHR0VIEXovnTu7YIYlkQy0Rd5NyG1D3vP//5j3J/mTlzpnIpiYiIMNo9k/aFPnbEJIhAJVoxMZHKoFMXMUPIIr5zZ0K0bSIYigZNjwxiAQEBBo1g3XNTUlLUIKVfxEShN2/IQHnixAlcf/31Kt2KDGL6AIe6aQYkalcGQBHg9NcRk4Q4Msv7m2pnXFxcvX3STr22kBBC6o6N5513nhoDxcrQWOSpaM5mzZqltGkyjoqLSF1zamZmJt555x2l0ZPxce7cuUZp22OPPaYmtKINJNYLBTtiMiSgQJx7JapVIsEkoEJmoRLUIEEH3bt3P+P7RQMnQqH4n4i5U2a34kwswlnDnE8SZCHBCiLAiclUBDrxbxOfOkHMGRLBKrPc+Ph4rFmzxmCKFd+U7OxsFfEqQpwEPzz//PMqcXJCQoIa7ERobGoGK7514qci/nzy2RLxKyZfaSchhDRmjpWxUKwAMplsiExcRegT1xAJAJMxSNBPkkXwEncPsUSIi4n4DMtYdbbI+CefJcEdjeXbI9YBBTtiMiQYQTKqy8AlM8/Jkycr4UfMoI1lRm9skPn000+VQKiPCpOgBTEVNER83mTWum7dOvU5MpuVz5CBTxBBTZyOxfx7zTXXKG2hOB4LYgoRs+kll1yitHLyPjHbSjvlXJlhy8DZmClDkIoaEmAh9yqfLb518vlyDUIIacioUaOU+0hTeeIkdYkEf8mY9OSTT2LChAnKpUX2ySRSxjnJJCCIiXbkyJFKw2eMnJwyoZaAM7FSNLS2EOvAQcvsrIQQQgghNgE1doQQQgghNgIFO0IIIYQQG4GCHSGEEEKIjUDBjhBCCCHERqBgRwghhBBiI1CwI4QQQgixESjYEUIIIYTYCBTsCCGEEEJsBAp2hBBCCCE2AgU7QgghhBAbgYIdIYQQQoiNQMGOEEIIIQS2wf8DNiQxHBqpGCcAAAAASUVORK5CYII="
     },
     "metadata": {},
     "output_type": "display_data",
     "jetTransient": {
      "display_id": null
     }
    }
   ],
   "execution_count": 81
  },
  {
   "cell_type": "code",
   "metadata": {
    "colab": {
     "base_uri": "https://localhost:8080/",
     "height": 489
    },
    "id": "GAjZp6Jyng0J",
    "outputId": "bc164e65-b5af-45c4-e1e8-56f95f7ba984",
    "ExecuteTime": {
     "end_time": "2025-10-24T05:52:05.555481Z",
     "start_time": "2025-10-24T05:52:05.547671Z"
    }
   },
   "source": [
    "df['Cholesterol'].value_counts()"
   ],
   "outputs": [
    {
     "data": {
      "text/plain": [
       "Cholesterol\n",
       "0      172\n",
       "254     11\n",
       "220     10\n",
       "223     10\n",
       "204      9\n",
       "      ... \n",
       "353      1\n",
       "278      1\n",
       "157      1\n",
       "176      1\n",
       "131      1\n",
       "Name: count, Length: 222, dtype: int64"
      ]
     },
     "execution_count": 82,
     "metadata": {},
     "output_type": "execute_result"
    }
   ],
   "execution_count": 82
  },
  {
   "cell_type": "markdown",
   "metadata": {
    "id": "h8kXQG1HpgIl"
   },
   "source": [
    "## We find out that though there were no null or duplicate values find in our dataset, there are still outliers and anamolies present in the datasat such as Cholesterol value as 0 which is not humanly possible.\n",
    "\n",
    "## We need to perform **data cleaning** to discard these anamolies\n",
    "\n",
    "\n",
    "---\n",
    "\n"
   ]
  },
  {
   "cell_type": "code",
   "metadata": {
    "id": "V9qF6Cohp7f4",
    "ExecuteTime": {
     "end_time": "2025-10-24T05:52:05.577100Z",
     "start_time": "2025-10-24T05:52:05.573535Z"
    }
   },
   "source": [
    "ch_mean = df.loc[df['Cholesterol'] != 0,'Cholesterol'].mean()"
   ],
   "outputs": [],
   "execution_count": 83
  },
  {
   "cell_type": "markdown",
   "metadata": {
    "id": "y6bZCOeismZf"
   },
   "source": [
    "### Calculate the mean of the 'Cholesterol' column, excluding values that are 0.\n",
    "\n",
    "### In many medical datasets, a value of 0 may represent missing or invalid data.\n",
    "### Including such values would distort the true average, so we filter them out first.\n",
    "\n",
    "### Breakdown:\n",
    "### 1. df['Cholesterol'] != 0 → Creates a boolean mask to identify non-zero values.\n",
    "### 2. df.loc[condition, 'Cholesterol'] → Selects only those rows where Cholesterol is not zero.\n",
    "### 3. .mean() → Calculates the average of the filtered Cholesterol values."
   ]
  },
  {
   "cell_type": "code",
   "metadata": {
    "colab": {
     "base_uri": "https://localhost:8080/"
    },
    "id": "rBoqwv4uqDA-",
    "outputId": "994f414d-1922-4f01-d300-50088177ca25",
    "ExecuteTime": {
     "end_time": "2025-10-24T05:52:05.600170Z",
     "start_time": "2025-10-24T05:52:05.595027Z"
    }
   },
   "source": [
    "ch_mean"
   ],
   "outputs": [
    {
     "data": {
      "text/plain": [
       "np.float64(244.6353887399464)"
      ]
     },
     "execution_count": 84,
     "metadata": {},
     "output_type": "execute_result"
    }
   ],
   "execution_count": 84
  },
  {
   "cell_type": "code",
   "metadata": {
    "id": "edRMl1aPqFEE",
    "ExecuteTime": {
     "end_time": "2025-10-24T05:52:05.618681Z",
     "start_time": "2025-10-24T05:52:05.614605Z"
    }
   },
   "source": [
    "df['Cholesterol']= df['Cholesterol'].replace(0,ch_mean).round(2)"
   ],
   "outputs": [],
   "execution_count": 85
  },
  {
   "cell_type": "code",
   "metadata": {
    "id": "fKz_vYc_tMxy",
    "ExecuteTime": {
     "end_time": "2025-10-24T05:52:05.639726Z",
     "start_time": "2025-10-24T05:52:05.635275Z"
    }
   },
   "source": [
    "resBP_mean = df.loc[df['RestingBP'] != 0, 'RestingBP'].mean()"
   ],
   "outputs": [],
   "execution_count": 86
  },
  {
   "cell_type": "code",
   "metadata": {
    "id": "b2uEZkEPt1tD",
    "ExecuteTime": {
     "end_time": "2025-10-24T05:52:05.648978Z",
     "start_time": "2025-10-24T05:52:05.645253Z"
    }
   },
   "source": [
    "df['RestingBP'] = df['RestingBP'].replace(0,resBP_mean).round(2)"
   ],
   "outputs": [],
   "execution_count": 87
  },
  {
   "cell_type": "code",
   "metadata": {
    "colab": {
     "base_uri": "https://localhost:8080/",
     "height": 487
    },
    "id": "1h51_x0Et60E",
    "outputId": "0c65feaa-09cc-4ff5-e153-4509e831aab3",
    "ExecuteTime": {
     "end_time": "2025-10-24T05:52:06.029446Z",
     "start_time": "2025-10-24T05:52:05.654556Z"
    }
   },
   "source": [
    "numeric_var_plotting('Age',1)\n",
    "numeric_var_plotting('RestingBP',2)\n",
    "numeric_var_plotting('Cholesterol',3)\n",
    "numeric_var_plotting('MaxHR',4)\n"
   ],
   "outputs": [
    {
     "data": {
      "text/plain": [
       "<Figure size 640x480 with 4 Axes>"
      ],
      "image/png": "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"
     },
     "metadata": {},
     "output_type": "display_data",
     "jetTransient": {
      "display_id": null
     }
    }
   ],
   "execution_count": 88
  },
  {
   "cell_type": "markdown",
   "metadata": {
    "id": "fqeBCIRS3zUB"
   },
   "source": [
    "# Now we create countplots which are best to visualize distribution of **Categorical Variables**\n",
    "\n",
    "\n",
    "---\n",
    "\n"
   ]
  },
  {
   "cell_type": "code",
   "metadata": {
    "id": "We6Ca1divQ10",
    "ExecuteTime": {
     "end_time": "2025-10-24T05:52:06.039520Z",
     "start_time": "2025-10-24T05:52:06.035747Z"
    }
   },
   "source": [
    "def categorical_var_plotting(var_list, hue_column):\n",
    "    plt.figure(figsize=(8, 3 * len(var_list)))  # Adjust height based on number of plots\n",
    "\n",
    "    for idx, var in enumerate(var_list, 1):\n",
    "        plt.subplot(len(var_list), 2, idx)\n",
    "        sns.countplot(data=df, x=var, hue=df[hue_column])\n",
    "\n",
    "    plt.tight_layout()\n"
   ],
   "outputs": [],
   "execution_count": 89
  },
  {
   "cell_type": "markdown",
   "metadata": {
    "id": "I0aKPblo13Tp"
   },
   "source": [
    "# Line-by-line explanation of the function:\n",
    "\n",
    "def categorical_var_plotting(var_list, hue_column):\n",
    "    # Start of the function. It takes two inputs:\n",
    "    # var_list: a list of categorical column names (e.g., ['Sex', 'ChestPainType'])\n",
    "    # hue_column: the name of another column (like 'Target')\n",
    "    used to color the bars differently\n",
    "    \n",
    "    plt.figure(figsize=(8, 5 * len(var_list)))\n",
    "    # Creates a blank figure to hold all subplots.\n",
    "    # figsize controls the size of the figure. Width is 8, height is\n",
    "    5 multiplied by number of plots.\n",
    "    # This ensures that each plot has enough vertical space.\n",
    "\n",
    "    for idx, var in enumerate(var_list, 1):\n",
    "        # Loop through each variable in var_list.\n",
    "        # enumerate(..., 1) means it gives both index (starting from 1)\n",
    "        and variable name.\n",
    "\n",
    "        plt.subplot(len(var_list), 1, idx)\n",
    "        # This creates a subplot (i.e., one section of the full figure)\n",
    "        where the plot will be drawn.\n",
    "        # len(var_list): total number of rows of subplots\n",
    "        # 1: number of columns\n",
    "        # idx: which subplot position (1st, 2nd, etc.)\n",
    "\n",
    "        sns.countplot(data=df, x=var, hue=df[hue_column])\n",
    "        # Creates a countplot (bar chart) using Seaborn.\n",
    "        # x=var → category to be counted on the x-axis.\n",
    "        # hue=df[hue_column] → splits bars by hue_column\n",
    "        (adds different colors).\n",
    "\n",
    "        plt.title(f'{var} vs {hue_column}')\n",
    "        # Adds a title above each subplot showing what is being compared.\n",
    "\n",
    "    plt.tight_layout()\n",
    "    # Automatically adjusts spacing between subplots\n",
    "    so they don't overlap.\n"
   ]
  },
  {
   "cell_type": "code",
   "metadata": {
    "colab": {
     "base_uri": "https://localhost:8080/",
     "height": 636
    },
    "id": "MLB1FGHKvxuA",
    "outputId": "a66a0650-65e5-4169-d0a2-f60c49d0c7a3",
    "ExecuteTime": {
     "end_time": "2025-10-24T05:52:06.337340Z",
     "start_time": "2025-10-24T05:52:06.054944Z"
    }
   },
   "source": [
    "cat_cols = ['Sex', 'ChestPainType', 'FastingBS', 'RestingECG']\n",
    "categorical_var_plotting(cat_cols, 'HeartDisease')  # HeartDisease is hue column"
   ],
   "outputs": [
    {
     "data": {
      "text/plain": [
       "<Figure size 800x1200 with 4 Axes>"
      ],
      "image/png": "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"
     },
     "metadata": {},
     "output_type": "display_data",
     "jetTransient": {
      "display_id": null
     }
    }
   ],
   "execution_count": 90
  },
  {
   "cell_type": "markdown",
   "metadata": {
    "id": "gZyb1TeU4Wvw"
   },
   "source": [
    "# Now we will create some **Boxplots** - used to identify relationships between our numerical and categorical variables\n",
    "\n",
    "---\n",
    "\n"
   ]
  },
  {
   "cell_type": "code",
   "metadata": {
    "colab": {
     "base_uri": "https://localhost:8080/",
     "height": 466
    },
    "id": "altvvFEr2pPs",
    "outputId": "63b79eee-3c12-417d-e485-ecefd9879b2e",
    "ExecuteTime": {
     "end_time": "2025-10-24T05:52:06.433815Z",
     "start_time": "2025-10-24T05:52:06.356009Z"
    }
   },
   "source": [
    "sns.boxplot(x = 'HeartDisease',y = 'Cholesterol',  data = df)"
   ],
   "outputs": [
    {
     "data": {
      "text/plain": [
       "<Axes: xlabel='HeartDisease', ylabel='Cholesterol'>"
      ]
     },
     "execution_count": 91,
     "metadata": {},
     "output_type": "execute_result"
    },
    {
     "data": {
      "text/plain": [
       "<Figure size 640x480 with 1 Axes>"
      ],
      "image/png": "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"
     },
     "metadata": {},
     "output_type": "display_data",
     "jetTransient": {
      "display_id": null
     }
    }
   ],
   "execution_count": 91
  },
  {
   "cell_type": "markdown",
   "metadata": {
    "id": "7nBJf6Z052i-"
   },
   "source": [
    "#🔍 Interpretation of  BoxPlot:\n",
    "###1. Both groups (0 and 1) have similar median cholesterol levels (around 240–250).\n",
    "\n",
    "###2. Outliers are present in both groups, indicating some individuals with very high cholesterol.\n",
    "\n",
    "###3. People with heart disease (1) have slightly lower variability in cholesterol, but the difference is not large."
   ]
  },
  {
   "cell_type": "code",
   "metadata": {
    "colab": {
     "base_uri": "https://localhost:8080/",
     "height": 466
    },
    "id": "dcUZ4iEd6J15",
    "outputId": "0f3b30e0-fb12-4c1e-8b2b-29e36871aaf5",
    "ExecuteTime": {
     "end_time": "2025-10-24T05:52:06.556083Z",
     "start_time": "2025-10-24T05:52:06.451319Z"
    }
   },
   "source": [
    "sns.violinplot(x = 'HeartDisease', y = 'Age', data = df)"
   ],
   "outputs": [
    {
     "data": {
      "text/plain": [
       "<Axes: xlabel='HeartDisease', ylabel='Age'>"
      ]
     },
     "execution_count": 92,
     "metadata": {},
     "output_type": "execute_result"
    },
    {
     "data": {
      "text/plain": [
       "<Figure size 640x480 with 1 Axes>"
      ],
      "image/png": "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"
     },
     "metadata": {},
     "output_type": "display_data",
     "jetTransient": {
      "display_id": null
     }
    }
   ],
   "execution_count": 92
  },
  {
   "cell_type": "markdown",
   "metadata": {
    "id": "12t9FgyB6_8p"
   },
   "source": [
    "##🔍 Key Elements:\n",
    "\n",
    "```\n",
    "Thick white dot\t- Median age (middle value)\n",
    "\n",
    "Thick black bar -\tInterquartile range (25% to 75%)\n",
    "\n",
    "Thin vertical line\tWhiskers — range of typical values\n",
    "\n",
    "Width of the violin -\tMore data points (wider =\n",
    "                          more frequent values)\n",
    "```\n",
    "\n",
    "\n",
    "\n",
    "#🧠 Interpretation:\n",
    "```\n",
    "People without heart disease (0):\n",
    "Median age slightly lower, with more spread in the 40–55 range.\n",
    "\n",
    "\n",
    "People with heart disease (1):\n",
    "Median age is slightly higher, and distribution is denser\n",
    "between ages 50–65.\n",
    "\n",
    "\n",
    "Both groups have a similar overall age range (~30 to ~80),\n",
    " but the distribution shape differs.\n",
    "```\n",
    "\n",
    "##💡 Conclusion:\n",
    "\n",
    "###This plot suggests that people with heart disease tend to be slightly older on average, and their age distribution is more centered in the 50s and 60s. Violin plots help visualize both summary statistics and distribution shape together."
   ]
  },
  {
   "cell_type": "code",
   "metadata": {
    "colab": {
     "base_uri": "https://localhost:8080/",
     "height": 532
    },
    "id": "ICYEUvtz7SAi",
    "outputId": "cfa92dbe-e753-401b-b16d-cce2c5eec6d1",
    "ExecuteTime": {
     "end_time": "2025-10-24T05:52:06.735716Z",
     "start_time": "2025-10-24T05:52:06.573215Z"
    }
   },
   "source": [
    "sns.heatmap(df.corr(numeric_only=True), annot = True, cmap = 'coolwarm')"
   ],
   "outputs": [
    {
     "data": {
      "text/plain": [
       "<Axes: >"
      ]
     },
     "execution_count": 93,
     "metadata": {},
     "output_type": "execute_result"
    },
    {
     "data": {
      "text/plain": [
       "<Figure size 640x480 with 2 Axes>"
      ],
      "image/png": "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"
     },
     "metadata": {},
     "output_type": "display_data",
     "jetTransient": {
      "display_id": null
     }
    }
   ],
   "execution_count": 93
  },
  {
   "cell_type": "markdown",
   "metadata": {
    "id": "QJU4fG9C8sXk"
   },
   "source": [
    "## We will select all columns as they are all kind of correlated with our target output variable i.e Heart Disease"
   ]
  },
  {
   "cell_type": "markdown",
   "metadata": {
    "id": "wk6c-jCb88Ul"
   },
   "source": [
    "# Data Preprocessing and Feature Scaling\n",
    "\n",
    "---\n",
    "\n"
   ]
  },
  {
   "cell_type": "code",
   "metadata": {
    "colab": {
     "base_uri": "https://localhost:8080/",
     "height": 143
    },
    "id": "tjJLoLPD8Uhw",
    "outputId": "ba9f630a-f19e-4319-dbc7-37092c2f0108",
    "ExecuteTime": {
     "end_time": "2025-10-24T05:52:06.760288Z",
     "start_time": "2025-10-24T05:52:06.751494Z"
    }
   },
   "source": [
    "df.head(3)"
   ],
   "outputs": [
    {
     "data": {
      "text/plain": [
       "   Age Sex ChestPainType  RestingBP  Cholesterol  FastingBS RestingECG  MaxHR  \\\n",
       "0   40   M           ATA      140.0        289.0          0     Normal    172   \n",
       "1   49   F           NAP      160.0        180.0          0     Normal    156   \n",
       "2   37   M           ATA      130.0        283.0          0         ST     98   \n",
       "\n",
       "  ExerciseAngina  Oldpeak ST_Slope  HeartDisease  \n",
       "0              N      0.0       Up             0  \n",
       "1              N      1.0     Flat             1  \n",
       "2              N      0.0       Up             0  "
      ],
      "text/html": [
       "<div>\n",
       "<style scoped>\n",
       "    .dataframe tbody tr th:only-of-type {\n",
       "        vertical-align: middle;\n",
       "    }\n",
       "\n",
       "    .dataframe tbody tr th {\n",
       "        vertical-align: top;\n",
       "    }\n",
       "\n",
       "    .dataframe thead th {\n",
       "        text-align: right;\n",
       "    }\n",
       "</style>\n",
       "<table border=\"1\" class=\"dataframe\">\n",
       "  <thead>\n",
       "    <tr style=\"text-align: right;\">\n",
       "      <th></th>\n",
       "      <th>Age</th>\n",
       "      <th>Sex</th>\n",
       "      <th>ChestPainType</th>\n",
       "      <th>RestingBP</th>\n",
       "      <th>Cholesterol</th>\n",
       "      <th>FastingBS</th>\n",
       "      <th>RestingECG</th>\n",
       "      <th>MaxHR</th>\n",
       "      <th>ExerciseAngina</th>\n",
       "      <th>Oldpeak</th>\n",
       "      <th>ST_Slope</th>\n",
       "      <th>HeartDisease</th>\n",
       "    </tr>\n",
       "  </thead>\n",
       "  <tbody>\n",
       "    <tr>\n",
       "      <th>0</th>\n",
       "      <td>40</td>\n",
       "      <td>M</td>\n",
       "      <td>ATA</td>\n",
       "      <td>140.0</td>\n",
       "      <td>289.0</td>\n",
       "      <td>0</td>\n",
       "      <td>Normal</td>\n",
       "      <td>172</td>\n",
       "      <td>N</td>\n",
       "      <td>0.0</td>\n",
       "      <td>Up</td>\n",
       "      <td>0</td>\n",
       "    </tr>\n",
       "    <tr>\n",
       "      <th>1</th>\n",
       "      <td>49</td>\n",
       "      <td>F</td>\n",
       "      <td>NAP</td>\n",
       "      <td>160.0</td>\n",
       "      <td>180.0</td>\n",
       "      <td>0</td>\n",
       "      <td>Normal</td>\n",
       "      <td>156</td>\n",
       "      <td>N</td>\n",
       "      <td>1.0</td>\n",
       "      <td>Flat</td>\n",
       "      <td>1</td>\n",
       "    </tr>\n",
       "    <tr>\n",
       "      <th>2</th>\n",
       "      <td>37</td>\n",
       "      <td>M</td>\n",
       "      <td>ATA</td>\n",
       "      <td>130.0</td>\n",
       "      <td>283.0</td>\n",
       "      <td>0</td>\n",
       "      <td>ST</td>\n",
       "      <td>98</td>\n",
       "      <td>N</td>\n",
       "      <td>0.0</td>\n",
       "      <td>Up</td>\n",
       "      <td>0</td>\n",
       "    </tr>\n",
       "  </tbody>\n",
       "</table>\n",
       "</div>"
      ]
     },
     "execution_count": 94,
     "metadata": {},
     "output_type": "execute_result"
    }
   ],
   "execution_count": 94
  },
  {
   "cell_type": "code",
   "metadata": {
    "colab": {
     "base_uri": "https://localhost:8080/"
    },
    "id": "Fnqs3hF89D5L",
    "outputId": "083dba70-c822-4c0f-9e51-fd3425a055e0",
    "ExecuteTime": {
     "end_time": "2025-10-24T05:52:06.782151Z",
     "start_time": "2025-10-24T05:52:06.776005Z"
    }
   },
   "source": [
    "df.info()"
   ],
   "outputs": [
    {
     "name": "stdout",
     "output_type": "stream",
     "text": [
      "<class 'pandas.core.frame.DataFrame'>\n",
      "RangeIndex: 918 entries, 0 to 917\n",
      "Data columns (total 12 columns):\n",
      " #   Column          Non-Null Count  Dtype  \n",
      "---  ------          --------------  -----  \n",
      " 0   Age             918 non-null    int64  \n",
      " 1   Sex             918 non-null    object \n",
      " 2   ChestPainType   918 non-null    object \n",
      " 3   RestingBP       918 non-null    float64\n",
      " 4   Cholesterol     918 non-null    float64\n",
      " 5   FastingBS       918 non-null    int64  \n",
      " 6   RestingECG      918 non-null    object \n",
      " 7   MaxHR           918 non-null    int64  \n",
      " 8   ExerciseAngina  918 non-null    object \n",
      " 9   Oldpeak         918 non-null    float64\n",
      " 10  ST_Slope        918 non-null    object \n",
      " 11  HeartDisease    918 non-null    int64  \n",
      "dtypes: float64(3), int64(4), object(5)\n",
      "memory usage: 86.2+ KB\n"
     ]
    }
   ],
   "execution_count": 95
  },
  {
   "cell_type": "code",
   "metadata": {
    "id": "u5BX7rj_9Hcc",
    "ExecuteTime": {
     "end_time": "2025-10-24T05:52:06.805350Z",
     "start_time": "2025-10-24T05:52:06.798247Z"
    }
   },
   "source": [
    "df_encoded = pd.get_dummies(df, drop_first=True) #this scales down categorical vars into 0s and 1s"
   ],
   "outputs": [],
   "execution_count": 96
  },
  {
   "cell_type": "code",
   "metadata": {
    "colab": {
     "base_uri": "https://localhost:8080/",
     "height": 163
    },
    "id": "4BT907va9knd",
    "outputId": "176ea7d7-84ee-4a8f-9cbc-82df95513f10",
    "ExecuteTime": {
     "end_time": "2025-10-24T05:52:06.828486Z",
     "start_time": "2025-10-24T05:52:06.819699Z"
    }
   },
   "source": [
    "df_encoded.head(3)"
   ],
   "outputs": [
    {
     "data": {
      "text/plain": [
       "   Age  RestingBP  Cholesterol  FastingBS  MaxHR  Oldpeak  HeartDisease  \\\n",
       "0   40      140.0        289.0          0    172      0.0             0   \n",
       "1   49      160.0        180.0          0    156      1.0             1   \n",
       "2   37      130.0        283.0          0     98      0.0             0   \n",
       "\n",
       "   Sex_M  ChestPainType_ATA  ChestPainType_NAP  ChestPainType_TA  \\\n",
       "0   True               True              False             False   \n",
       "1  False              False               True             False   \n",
       "2   True               True              False             False   \n",
       "\n",
       "   RestingECG_Normal  RestingECG_ST  ExerciseAngina_Y  ST_Slope_Flat  \\\n",
       "0               True          False             False          False   \n",
       "1               True          False             False           True   \n",
       "2              False           True             False          False   \n",
       "\n",
       "   ST_Slope_Up  \n",
       "0         True  \n",
       "1        False  \n",
       "2         True  "
      ],
      "text/html": [
       "<div>\n",
       "<style scoped>\n",
       "    .dataframe tbody tr th:only-of-type {\n",
       "        vertical-align: middle;\n",
       "    }\n",
       "\n",
       "    .dataframe tbody tr th {\n",
       "        vertical-align: top;\n",
       "    }\n",
       "\n",
       "    .dataframe thead th {\n",
       "        text-align: right;\n",
       "    }\n",
       "</style>\n",
       "<table border=\"1\" class=\"dataframe\">\n",
       "  <thead>\n",
       "    <tr style=\"text-align: right;\">\n",
       "      <th></th>\n",
       "      <th>Age</th>\n",
       "      <th>RestingBP</th>\n",
       "      <th>Cholesterol</th>\n",
       "      <th>FastingBS</th>\n",
       "      <th>MaxHR</th>\n",
       "      <th>Oldpeak</th>\n",
       "      <th>HeartDisease</th>\n",
       "      <th>Sex_M</th>\n",
       "      <th>ChestPainType_ATA</th>\n",
       "      <th>ChestPainType_NAP</th>\n",
       "      <th>ChestPainType_TA</th>\n",
       "      <th>RestingECG_Normal</th>\n",
       "      <th>RestingECG_ST</th>\n",
       "      <th>ExerciseAngina_Y</th>\n",
       "      <th>ST_Slope_Flat</th>\n",
       "      <th>ST_Slope_Up</th>\n",
       "    </tr>\n",
       "  </thead>\n",
       "  <tbody>\n",
       "    <tr>\n",
       "      <th>0</th>\n",
       "      <td>40</td>\n",
       "      <td>140.0</td>\n",
       "      <td>289.0</td>\n",
       "      <td>0</td>\n",
       "      <td>172</td>\n",
       "      <td>0.0</td>\n",
       "      <td>0</td>\n",
       "      <td>True</td>\n",
       "      <td>True</td>\n",
       "      <td>False</td>\n",
       "      <td>False</td>\n",
       "      <td>True</td>\n",
       "      <td>False</td>\n",
       "      <td>False</td>\n",
       "      <td>False</td>\n",
       "      <td>True</td>\n",
       "    </tr>\n",
       "    <tr>\n",
       "      <th>1</th>\n",
       "      <td>49</td>\n",
       "      <td>160.0</td>\n",
       "      <td>180.0</td>\n",
       "      <td>0</td>\n",
       "      <td>156</td>\n",
       "      <td>1.0</td>\n",
       "      <td>1</td>\n",
       "      <td>False</td>\n",
       "      <td>False</td>\n",
       "      <td>True</td>\n",
       "      <td>False</td>\n",
       "      <td>True</td>\n",
       "      <td>False</td>\n",
       "      <td>False</td>\n",
       "      <td>True</td>\n",
       "      <td>False</td>\n",
       "    </tr>\n",
       "    <tr>\n",
       "      <th>2</th>\n",
       "      <td>37</td>\n",
       "      <td>130.0</td>\n",
       "      <td>283.0</td>\n",
       "      <td>0</td>\n",
       "      <td>98</td>\n",
       "      <td>0.0</td>\n",
       "      <td>0</td>\n",
       "      <td>True</td>\n",
       "      <td>True</td>\n",
       "      <td>False</td>\n",
       "      <td>False</td>\n",
       "      <td>False</td>\n",
       "      <td>True</td>\n",
       "      <td>False</td>\n",
       "      <td>False</td>\n",
       "      <td>True</td>\n",
       "    </tr>\n",
       "  </tbody>\n",
       "</table>\n",
       "</div>"
      ]
     },
     "execution_count": 97,
     "metadata": {},
     "output_type": "execute_result"
    }
   ],
   "execution_count": 97
  },
  {
   "cell_type": "code",
   "metadata": {
    "id": "h4tx0FeS9qCs",
    "ExecuteTime": {
     "end_time": "2025-10-24T05:52:06.840875Z",
     "start_time": "2025-10-24T05:52:06.837519Z"
    }
   },
   "source": [
    "df_encoded= df_encoded.astype(int)"
   ],
   "outputs": [],
   "execution_count": 98
  },
  {
   "cell_type": "code",
   "metadata": {
    "colab": {
     "base_uri": "https://localhost:8080/",
     "height": 163
    },
    "id": "L6D9oUWq95I-",
    "outputId": "f2be8769-d89f-4f8e-aae2-59485102ff0a",
    "ExecuteTime": {
     "end_time": "2025-10-24T05:52:06.860726Z",
     "start_time": "2025-10-24T05:52:06.853412Z"
    }
   },
   "source": [
    "df_encoded.head(3)"
   ],
   "outputs": [
    {
     "data": {
      "text/plain": [
       "   Age  RestingBP  Cholesterol  FastingBS  MaxHR  Oldpeak  HeartDisease  \\\n",
       "0   40        140          289          0    172        0             0   \n",
       "1   49        160          180          0    156        1             1   \n",
       "2   37        130          283          0     98        0             0   \n",
       "\n",
       "   Sex_M  ChestPainType_ATA  ChestPainType_NAP  ChestPainType_TA  \\\n",
       "0      1                  1                  0                 0   \n",
       "1      0                  0                  1                 0   \n",
       "2      1                  1                  0                 0   \n",
       "\n",
       "   RestingECG_Normal  RestingECG_ST  ExerciseAngina_Y  ST_Slope_Flat  \\\n",
       "0                  1              0                 0              0   \n",
       "1                  1              0                 0              1   \n",
       "2                  0              1                 0              0   \n",
       "\n",
       "   ST_Slope_Up  \n",
       "0            1  \n",
       "1            0  \n",
       "2            1  "
      ],
      "text/html": [
       "<div>\n",
       "<style scoped>\n",
       "    .dataframe tbody tr th:only-of-type {\n",
       "        vertical-align: middle;\n",
       "    }\n",
       "\n",
       "    .dataframe tbody tr th {\n",
       "        vertical-align: top;\n",
       "    }\n",
       "\n",
       "    .dataframe thead th {\n",
       "        text-align: right;\n",
       "    }\n",
       "</style>\n",
       "<table border=\"1\" class=\"dataframe\">\n",
       "  <thead>\n",
       "    <tr style=\"text-align: right;\">\n",
       "      <th></th>\n",
       "      <th>Age</th>\n",
       "      <th>RestingBP</th>\n",
       "      <th>Cholesterol</th>\n",
       "      <th>FastingBS</th>\n",
       "      <th>MaxHR</th>\n",
       "      <th>Oldpeak</th>\n",
       "      <th>HeartDisease</th>\n",
       "      <th>Sex_M</th>\n",
       "      <th>ChestPainType_ATA</th>\n",
       "      <th>ChestPainType_NAP</th>\n",
       "      <th>ChestPainType_TA</th>\n",
       "      <th>RestingECG_Normal</th>\n",
       "      <th>RestingECG_ST</th>\n",
       "      <th>ExerciseAngina_Y</th>\n",
       "      <th>ST_Slope_Flat</th>\n",
       "      <th>ST_Slope_Up</th>\n",
       "    </tr>\n",
       "  </thead>\n",
       "  <tbody>\n",
       "    <tr>\n",
       "      <th>0</th>\n",
       "      <td>40</td>\n",
       "      <td>140</td>\n",
       "      <td>289</td>\n",
       "      <td>0</td>\n",
       "      <td>172</td>\n",
       "      <td>0</td>\n",
       "      <td>0</td>\n",
       "      <td>1</td>\n",
       "      <td>1</td>\n",
       "      <td>0</td>\n",
       "      <td>0</td>\n",
       "      <td>1</td>\n",
       "      <td>0</td>\n",
       "      <td>0</td>\n",
       "      <td>0</td>\n",
       "      <td>1</td>\n",
       "    </tr>\n",
       "    <tr>\n",
       "      <th>1</th>\n",
       "      <td>49</td>\n",
       "      <td>160</td>\n",
       "      <td>180</td>\n",
       "      <td>0</td>\n",
       "      <td>156</td>\n",
       "      <td>1</td>\n",
       "      <td>1</td>\n",
       "      <td>0</td>\n",
       "      <td>0</td>\n",
       "      <td>1</td>\n",
       "      <td>0</td>\n",
       "      <td>1</td>\n",
       "      <td>0</td>\n",
       "      <td>0</td>\n",
       "      <td>1</td>\n",
       "      <td>0</td>\n",
       "    </tr>\n",
       "    <tr>\n",
       "      <th>2</th>\n",
       "      <td>37</td>\n",
       "      <td>130</td>\n",
       "      <td>283</td>\n",
       "      <td>0</td>\n",
       "      <td>98</td>\n",
       "      <td>0</td>\n",
       "      <td>0</td>\n",
       "      <td>1</td>\n",
       "      <td>1</td>\n",
       "      <td>0</td>\n",
       "      <td>0</td>\n",
       "      <td>0</td>\n",
       "      <td>1</td>\n",
       "      <td>0</td>\n",
       "      <td>0</td>\n",
       "      <td>1</td>\n",
       "    </tr>\n",
       "  </tbody>\n",
       "</table>\n",
       "</div>"
      ]
     },
     "execution_count": 99,
     "metadata": {},
     "output_type": "execute_result"
    }
   ],
   "execution_count": 99
  },
  {
   "cell_type": "code",
   "metadata": {
    "id": "f-vHUl_o96fs",
    "ExecuteTime": {
     "end_time": "2025-10-24T05:52:07.048683Z",
     "start_time": "2025-10-24T05:52:06.870902Z"
    }
   },
   "source": [
    "from sklearn.preprocessing import StandardScaler\n",
    "\n",
    "ss = StandardScaler() #used for scaling numerical vars"
   ],
   "outputs": [],
   "execution_count": 100
  },
  {
   "cell_type": "code",
   "metadata": {
    "id": "jE9cmKHy-AyI",
    "ExecuteTime": {
     "end_time": "2025-10-24T05:52:07.060126Z",
     "start_time": "2025-10-24T05:52:07.054298Z"
    }
   },
   "source": [
    "numerical_cols = ['Age', 'RestingBP', 'Cholesterol', 'MaxHR', 'Oldpeak']\n",
    "df_encoded[numerical_cols] = ss.fit_transform(df_encoded[numerical_cols])"
   ],
   "outputs": [],
   "execution_count": 101
  },
  {
   "cell_type": "code",
   "metadata": {
    "colab": {
     "base_uri": "https://localhost:8080/",
     "height": 163
    },
    "id": "SmpkWEfU-TJ0",
    "outputId": "814566e3-833d-4e08-d475-cdd71a16d689",
    "ExecuteTime": {
     "end_time": "2025-10-24T05:52:07.074705Z",
     "start_time": "2025-10-24T05:52:07.066014Z"
    }
   },
   "source": [
    "df_encoded.head(3)"
   ],
   "outputs": [
    {
     "data": {
      "text/plain": [
       "        Age  RestingBP  Cholesterol  FastingBS     MaxHR   Oldpeak  \\\n",
       "0 -1.433140   0.414885     0.834754          0  1.382928 -0.727592   \n",
       "1 -0.478484   1.527224    -1.210675          0  0.754157  0.282891   \n",
       "2 -1.751359  -0.141284     0.722161          0 -1.525138 -0.727592   \n",
       "\n",
       "   HeartDisease  Sex_M  ChestPainType_ATA  ChestPainType_NAP  \\\n",
       "0             0      1                  1                  0   \n",
       "1             1      0                  0                  1   \n",
       "2             0      1                  1                  0   \n",
       "\n",
       "   ChestPainType_TA  RestingECG_Normal  RestingECG_ST  ExerciseAngina_Y  \\\n",
       "0                 0                  1              0                 0   \n",
       "1                 0                  1              0                 0   \n",
       "2                 0                  0              1                 0   \n",
       "\n",
       "   ST_Slope_Flat  ST_Slope_Up  \n",
       "0              0            1  \n",
       "1              1            0  \n",
       "2              0            1  "
      ],
      "text/html": [
       "<div>\n",
       "<style scoped>\n",
       "    .dataframe tbody tr th:only-of-type {\n",
       "        vertical-align: middle;\n",
       "    }\n",
       "\n",
       "    .dataframe tbody tr th {\n",
       "        vertical-align: top;\n",
       "    }\n",
       "\n",
       "    .dataframe thead th {\n",
       "        text-align: right;\n",
       "    }\n",
       "</style>\n",
       "<table border=\"1\" class=\"dataframe\">\n",
       "  <thead>\n",
       "    <tr style=\"text-align: right;\">\n",
       "      <th></th>\n",
       "      <th>Age</th>\n",
       "      <th>RestingBP</th>\n",
       "      <th>Cholesterol</th>\n",
       "      <th>FastingBS</th>\n",
       "      <th>MaxHR</th>\n",
       "      <th>Oldpeak</th>\n",
       "      <th>HeartDisease</th>\n",
       "      <th>Sex_M</th>\n",
       "      <th>ChestPainType_ATA</th>\n",
       "      <th>ChestPainType_NAP</th>\n",
       "      <th>ChestPainType_TA</th>\n",
       "      <th>RestingECG_Normal</th>\n",
       "      <th>RestingECG_ST</th>\n",
       "      <th>ExerciseAngina_Y</th>\n",
       "      <th>ST_Slope_Flat</th>\n",
       "      <th>ST_Slope_Up</th>\n",
       "    </tr>\n",
       "  </thead>\n",
       "  <tbody>\n",
       "    <tr>\n",
       "      <th>0</th>\n",
       "      <td>-1.433140</td>\n",
       "      <td>0.414885</td>\n",
       "      <td>0.834754</td>\n",
       "      <td>0</td>\n",
       "      <td>1.382928</td>\n",
       "      <td>-0.727592</td>\n",
       "      <td>0</td>\n",
       "      <td>1</td>\n",
       "      <td>1</td>\n",
       "      <td>0</td>\n",
       "      <td>0</td>\n",
       "      <td>1</td>\n",
       "      <td>0</td>\n",
       "      <td>0</td>\n",
       "      <td>0</td>\n",
       "      <td>1</td>\n",
       "    </tr>\n",
       "    <tr>\n",
       "      <th>1</th>\n",
       "      <td>-0.478484</td>\n",
       "      <td>1.527224</td>\n",
       "      <td>-1.210675</td>\n",
       "      <td>0</td>\n",
       "      <td>0.754157</td>\n",
       "      <td>0.282891</td>\n",
       "      <td>1</td>\n",
       "      <td>0</td>\n",
       "      <td>0</td>\n",
       "      <td>1</td>\n",
       "      <td>0</td>\n",
       "      <td>1</td>\n",
       "      <td>0</td>\n",
       "      <td>0</td>\n",
       "      <td>1</td>\n",
       "      <td>0</td>\n",
       "    </tr>\n",
       "    <tr>\n",
       "      <th>2</th>\n",
       "      <td>-1.751359</td>\n",
       "      <td>-0.141284</td>\n",
       "      <td>0.722161</td>\n",
       "      <td>0</td>\n",
       "      <td>-1.525138</td>\n",
       "      <td>-0.727592</td>\n",
       "      <td>0</td>\n",
       "      <td>1</td>\n",
       "      <td>1</td>\n",
       "      <td>0</td>\n",
       "      <td>0</td>\n",
       "      <td>0</td>\n",
       "      <td>1</td>\n",
       "      <td>0</td>\n",
       "      <td>0</td>\n",
       "      <td>1</td>\n",
       "    </tr>\n",
       "  </tbody>\n",
       "</table>\n",
       "</div>"
      ]
     },
     "execution_count": 102,
     "metadata": {},
     "output_type": "execute_result"
    }
   ],
   "execution_count": 102
  },
  {
   "cell_type": "markdown",
   "metadata": {
    "id": "_5yX_xj5_2tt"
   },
   "source": [
    "# Model Creation and Evaluation\n",
    "\n",
    "---\n",
    "\n"
   ]
  },
  {
   "cell_type": "code",
   "metadata": {
    "id": "X2KxZyBw-UoE",
    "ExecuteTime": {
     "end_time": "2025-10-24T05:52:07.240416Z",
     "start_time": "2025-10-24T05:52:07.084400Z"
    }
   },
   "source": [
    "from sklearn.model_selection import train_test_split\n",
    "from sklearn.metrics import accuracy_score, f1_score, classification_report\n",
    "from sklearn.linear_model import LogisticRegression\n",
    "from sklearn.neighbors import KNeighborsClassifier\n",
    "from sklearn.naive_bayes import GaussianNB\n",
    "from sklearn.tree import DecisionTreeClassifier\n",
    "from sklearn.svm import SVC"
   ],
   "outputs": [],
   "execution_count": 103
  },
  {
   "cell_type": "code",
   "metadata": {
    "id": "lxHe7kWuAJmV",
    "ExecuteTime": {
     "end_time": "2025-10-24T05:52:07.252751Z",
     "start_time": "2025-10-24T05:52:07.248346Z"
    }
   },
   "source": [
    "X = df_encoded.drop('HeartDisease', axis=1)\n",
    "y = df_encoded['HeartDisease']"
   ],
   "outputs": [],
   "execution_count": 104
  },
  {
   "cell_type": "code",
   "metadata": {
    "id": "nbXzqiyIAg6B",
    "ExecuteTime": {
     "end_time": "2025-10-24T05:52:07.262848Z",
     "start_time": "2025-10-24T05:52:07.258302Z"
    }
   },
   "source": [
    "X_train, X_test, y_train, y_test = train_test_split(X, y, test_size=0.2, random_state=42)"
   ],
   "outputs": [],
   "execution_count": 105
  },
  {
   "cell_type": "code",
   "metadata": {
    "id": "tE0V9roXA3kS",
    "ExecuteTime": {
     "end_time": "2025-10-24T05:52:07.274827Z",
     "start_time": "2025-10-24T05:52:07.268500Z"
    }
   },
   "source": [
    "scaler = StandardScaler()\n",
    "X_train_scaled = scaler.fit_transform(X_train)\n",
    "X_test_scaled = scaler.fit_transform(X_test)"
   ],
   "outputs": [],
   "execution_count": 106
  },
  {
   "cell_type": "code",
   "metadata": {
    "id": "hiNeNXQzBetP",
    "ExecuteTime": {
     "end_time": "2025-10-24T05:52:07.285155Z",
     "start_time": "2025-10-24T05:52:07.281710Z"
    }
   },
   "source": [
    "models = {\n",
    "    'Logistic Regression': LogisticRegression(),\n",
    "    'KNN': KNeighborsClassifier(),\n",
    "    'Naive Bayes': GaussianNB(),\n",
    "    'Decision Tree': DecisionTreeClassifier(),\n",
    "    'SVM': SVC()\n",
    "}"
   ],
   "outputs": [],
   "execution_count": 107
  },
  {
   "cell_type": "code",
   "metadata": {
    "id": "VTbhIiMrBsD7",
    "ExecuteTime": {
     "end_time": "2025-10-24T05:52:07.331885Z",
     "start_time": "2025-10-24T05:52:07.297158Z"
    }
   },
   "source": [
    "import pandas as pd\n",
    "\n",
    "# Initialize the result list\n",
    "result = []\n",
    "\n",
    "# Loop through models, train, predict, and store results\n",
    "for name, model in models.items():\n",
    "    model.fit(X_train_scaled, y_train)\n",
    "    y_pred = model.predict(X_test_scaled)\n",
    "\n",
    "    accuracy = accuracy_score(y_test, y_pred)\n",
    "    f1 = f1_score(y_test, y_pred)\n",
    "\n",
    "    result.append({\n",
    "        'Model': name,\n",
    "        'Accuracy': round(accuracy, 4),\n",
    "        'F1 Score': round(f1, 4)\n",
    "    })\n",
    "\n",
    "# Convert the result list into a DataFrame\n",
    "results_df = pd.DataFrame(result)\n",
    "\n",
    "# Sort by Accuracy in descending order\n",
    "results_df = results_df.sort_values(by='Accuracy', ascending=False)\n"
   ],
   "outputs": [],
   "execution_count": 108
  },
  {
   "cell_type": "code",
   "metadata": {
    "colab": {
     "base_uri": "https://localhost:8080/",
     "height": 206
    },
    "id": "GvIsrq3zCjnc",
    "outputId": "fc9cfb3a-8c65-483d-8391-e9994c0640f9",
    "ExecuteTime": {
     "end_time": "2025-10-24T05:52:07.343702Z",
     "start_time": "2025-10-24T05:52:07.337531Z"
    }
   },
   "source": [
    "# Reset index to start from 1\n",
    "results_df.index = range(1, len(results_df) + 1)\n",
    "\n",
    "# Display\n",
    "results_df"
   ],
   "outputs": [
    {
     "data": {
      "text/plain": [
       "                 Model  Accuracy  F1 Score\n",
       "1  Logistic Regression    0.8696    0.8857\n",
       "2                  KNN    0.8641    0.8815\n",
       "3          Naive Bayes    0.8533    0.8683\n",
       "4                  SVM    0.8478    0.8679\n",
       "5        Decision Tree    0.7717    0.7961"
      ],
      "text/html": [
       "<div>\n",
       "<style scoped>\n",
       "    .dataframe tbody tr th:only-of-type {\n",
       "        vertical-align: middle;\n",
       "    }\n",
       "\n",
       "    .dataframe tbody tr th {\n",
       "        vertical-align: top;\n",
       "    }\n",
       "\n",
       "    .dataframe thead th {\n",
       "        text-align: right;\n",
       "    }\n",
       "</style>\n",
       "<table border=\"1\" class=\"dataframe\">\n",
       "  <thead>\n",
       "    <tr style=\"text-align: right;\">\n",
       "      <th></th>\n",
       "      <th>Model</th>\n",
       "      <th>Accuracy</th>\n",
       "      <th>F1 Score</th>\n",
       "    </tr>\n",
       "  </thead>\n",
       "  <tbody>\n",
       "    <tr>\n",
       "      <th>1</th>\n",
       "      <td>Logistic Regression</td>\n",
       "      <td>0.8696</td>\n",
       "      <td>0.8857</td>\n",
       "    </tr>\n",
       "    <tr>\n",
       "      <th>2</th>\n",
       "      <td>KNN</td>\n",
       "      <td>0.8641</td>\n",
       "      <td>0.8815</td>\n",
       "    </tr>\n",
       "    <tr>\n",
       "      <th>3</th>\n",
       "      <td>Naive Bayes</td>\n",
       "      <td>0.8533</td>\n",
       "      <td>0.8683</td>\n",
       "    </tr>\n",
       "    <tr>\n",
       "      <th>4</th>\n",
       "      <td>SVM</td>\n",
       "      <td>0.8478</td>\n",
       "      <td>0.8679</td>\n",
       "    </tr>\n",
       "    <tr>\n",
       "      <th>5</th>\n",
       "      <td>Decision Tree</td>\n",
       "      <td>0.7717</td>\n",
       "      <td>0.7961</td>\n",
       "    </tr>\n",
       "  </tbody>\n",
       "</table>\n",
       "</div>"
      ]
     },
     "execution_count": 109,
     "metadata": {},
     "output_type": "execute_result"
    }
   ],
   "execution_count": 109
  },
  {
   "cell_type": "code",
   "metadata": {
    "colab": {
     "base_uri": "https://localhost:8080/"
    },
    "id": "bzXFi4-YCtO-",
    "outputId": "dd8c5dfb-5ee7-4f27-e309-01ad4eeb101b",
    "ExecuteTime": {
     "end_time": "2025-10-24T05:52:07.361447Z",
     "start_time": "2025-10-24T05:52:07.354664Z"
    }
   },
   "source": [
    "import joblib\n",
    "joblib.dump(models['Logistic Regression'], \"LogisticR_heart.pkl\" )\n",
    "joblib.dump(scaler, 'scaler.pkl')\n",
    "joblib.dump(X.columns.tolist(), \"columns.pkl\" )"
   ],
   "outputs": [
    {
     "data": {
      "text/plain": [
       "['columns.pkl']"
      ]
     },
     "execution_count": 110,
     "metadata": {},
     "output_type": "execute_result"
    }
   ],
   "execution_count": 110
  }
 ],
 "metadata": {
  "colab": {
   "provenance": []
  },
  "kernelspec": {
   "display_name": "Python 3 (ipykernel)",
   "name": "python3",
   "language": "python"
  },
  "language_info": {
   "codemirror_mode": {
    "name": "ipython",
    "version": 3
   },
   "file_extension": ".py",
   "mimetype": "text/x-python",
   "name": "python",
   "nbconvert_exporter": "python",
   "pygments_lexer": "ipython3",
   "version": "3.13.5"
  }
 },
 "nbformat": 4,
 "nbformat_minor": 0
}
=======
  "nbformat": 4,
  "nbformat_minor": 0,
  "metadata": {
    "colab": {
      "provenance": []
    },
    "kernelspec": {
      "name": "python3",
      "display_name": "Python 3"
    },
    "language_info": {
      "name": "python"
    }
  },
  "cells": [
    {
      "cell_type": "code",
      "source": [
        "import pandas as pd\n",
        "import seaborn as sns\n",
        "import matplotlib.pyplot as plt\n",
        "import warnings\n",
        "warnings.filterwarnings('ignore')"
      ],
      "metadata": {
        "id": "BhVzekzfknAz"
      },
      "execution_count": null,
      "outputs": []
    },
    {
      "cell_type": "code",
      "source": [
        "df = pd.read_csv('/content/drive/MyDrive/Datasets/heart.csv')\n",
        "df.head()"
      ],
      "metadata": {
        "id": "BbNArBB7kSEz",
        "colab": {
          "base_uri": "https://localhost:8080/",
          "height": 206
        },
        "outputId": "7b2399c2-4284-4dc8-b52d-67b78b27b4d8"
      },
      "execution_count": null,
      "outputs": [
        {
          "output_type": "execute_result",
          "data": {
            "text/plain": [
              "   Age Sex ChestPainType  RestingBP  Cholesterol  FastingBS RestingECG  MaxHR  \\\n",
              "0   40   M           ATA        140          289          0     Normal    172   \n",
              "1   49   F           NAP        160          180          0     Normal    156   \n",
              "2   37   M           ATA        130          283          0         ST     98   \n",
              "3   48   F           ASY        138          214          0     Normal    108   \n",
              "4   54   M           NAP        150          195          0     Normal    122   \n",
              "\n",
              "  ExerciseAngina  Oldpeak ST_Slope  HeartDisease  \n",
              "0              N      0.0       Up             0  \n",
              "1              N      1.0     Flat             1  \n",
              "2              N      0.0       Up             0  \n",
              "3              Y      1.5     Flat             1  \n",
              "4              N      0.0       Up             0  "
            ],
            "text/html": [
              "\n",
              "  <div id=\"df-1eada253-b222-48ed-b23c-04204352b1fd\" class=\"colab-df-container\">\n",
              "    <div>\n",
              "<style scoped>\n",
              "    .dataframe tbody tr th:only-of-type {\n",
              "        vertical-align: middle;\n",
              "    }\n",
              "\n",
              "    .dataframe tbody tr th {\n",
              "        vertical-align: top;\n",
              "    }\n",
              "\n",
              "    .dataframe thead th {\n",
              "        text-align: right;\n",
              "    }\n",
              "</style>\n",
              "<table border=\"1\" class=\"dataframe\">\n",
              "  <thead>\n",
              "    <tr style=\"text-align: right;\">\n",
              "      <th></th>\n",
              "      <th>Age</th>\n",
              "      <th>Sex</th>\n",
              "      <th>ChestPainType</th>\n",
              "      <th>RestingBP</th>\n",
              "      <th>Cholesterol</th>\n",
              "      <th>FastingBS</th>\n",
              "      <th>RestingECG</th>\n",
              "      <th>MaxHR</th>\n",
              "      <th>ExerciseAngina</th>\n",
              "      <th>Oldpeak</th>\n",
              "      <th>ST_Slope</th>\n",
              "      <th>HeartDisease</th>\n",
              "    </tr>\n",
              "  </thead>\n",
              "  <tbody>\n",
              "    <tr>\n",
              "      <th>0</th>\n",
              "      <td>40</td>\n",
              "      <td>M</td>\n",
              "      <td>ATA</td>\n",
              "      <td>140</td>\n",
              "      <td>289</td>\n",
              "      <td>0</td>\n",
              "      <td>Normal</td>\n",
              "      <td>172</td>\n",
              "      <td>N</td>\n",
              "      <td>0.0</td>\n",
              "      <td>Up</td>\n",
              "      <td>0</td>\n",
              "    </tr>\n",
              "    <tr>\n",
              "      <th>1</th>\n",
              "      <td>49</td>\n",
              "      <td>F</td>\n",
              "      <td>NAP</td>\n",
              "      <td>160</td>\n",
              "      <td>180</td>\n",
              "      <td>0</td>\n",
              "      <td>Normal</td>\n",
              "      <td>156</td>\n",
              "      <td>N</td>\n",
              "      <td>1.0</td>\n",
              "      <td>Flat</td>\n",
              "      <td>1</td>\n",
              "    </tr>\n",
              "    <tr>\n",
              "      <th>2</th>\n",
              "      <td>37</td>\n",
              "      <td>M</td>\n",
              "      <td>ATA</td>\n",
              "      <td>130</td>\n",
              "      <td>283</td>\n",
              "      <td>0</td>\n",
              "      <td>ST</td>\n",
              "      <td>98</td>\n",
              "      <td>N</td>\n",
              "      <td>0.0</td>\n",
              "      <td>Up</td>\n",
              "      <td>0</td>\n",
              "    </tr>\n",
              "    <tr>\n",
              "      <th>3</th>\n",
              "      <td>48</td>\n",
              "      <td>F</td>\n",
              "      <td>ASY</td>\n",
              "      <td>138</td>\n",
              "      <td>214</td>\n",
              "      <td>0</td>\n",
              "      <td>Normal</td>\n",
              "      <td>108</td>\n",
              "      <td>Y</td>\n",
              "      <td>1.5</td>\n",
              "      <td>Flat</td>\n",
              "      <td>1</td>\n",
              "    </tr>\n",
              "    <tr>\n",
              "      <th>4</th>\n",
              "      <td>54</td>\n",
              "      <td>M</td>\n",
              "      <td>NAP</td>\n",
              "      <td>150</td>\n",
              "      <td>195</td>\n",
              "      <td>0</td>\n",
              "      <td>Normal</td>\n",
              "      <td>122</td>\n",
              "      <td>N</td>\n",
              "      <td>0.0</td>\n",
              "      <td>Up</td>\n",
              "      <td>0</td>\n",
              "    </tr>\n",
              "  </tbody>\n",
              "</table>\n",
              "</div>\n",
              "    <div class=\"colab-df-buttons\">\n",
              "\n",
              "  <div class=\"colab-df-container\">\n",
              "    <button class=\"colab-df-convert\" onclick=\"convertToInteractive('df-1eada253-b222-48ed-b23c-04204352b1fd')\"\n",
              "            title=\"Convert this dataframe to an interactive table.\"\n",
              "            style=\"display:none;\">\n",
              "\n",
              "  <svg xmlns=\"http://www.w3.org/2000/svg\" height=\"24px\" viewBox=\"0 -960 960 960\">\n",
              "    <path d=\"M120-120v-720h720v720H120Zm60-500h600v-160H180v160Zm220 220h160v-160H400v160Zm0 220h160v-160H400v160ZM180-400h160v-160H180v160Zm440 0h160v-160H620v160ZM180-180h160v-160H180v160Zm440 0h160v-160H620v160Z\"/>\n",
              "  </svg>\n",
              "    </button>\n",
              "\n",
              "  <style>\n",
              "    .colab-df-container {\n",
              "      display:flex;\n",
              "      gap: 12px;\n",
              "    }\n",
              "\n",
              "    .colab-df-convert {\n",
              "      background-color: #E8F0FE;\n",
              "      border: none;\n",
              "      border-radius: 50%;\n",
              "      cursor: pointer;\n",
              "      display: none;\n",
              "      fill: #1967D2;\n",
              "      height: 32px;\n",
              "      padding: 0 0 0 0;\n",
              "      width: 32px;\n",
              "    }\n",
              "\n",
              "    .colab-df-convert:hover {\n",
              "      background-color: #E2EBFA;\n",
              "      box-shadow: 0px 1px 2px rgba(60, 64, 67, 0.3), 0px 1px 3px 1px rgba(60, 64, 67, 0.15);\n",
              "      fill: #174EA6;\n",
              "    }\n",
              "\n",
              "    .colab-df-buttons div {\n",
              "      margin-bottom: 4px;\n",
              "    }\n",
              "\n",
              "    [theme=dark] .colab-df-convert {\n",
              "      background-color: #3B4455;\n",
              "      fill: #D2E3FC;\n",
              "    }\n",
              "\n",
              "    [theme=dark] .colab-df-convert:hover {\n",
              "      background-color: #434B5C;\n",
              "      box-shadow: 0px 1px 3px 1px rgba(0, 0, 0, 0.15);\n",
              "      filter: drop-shadow(0px 1px 2px rgba(0, 0, 0, 0.3));\n",
              "      fill: #FFFFFF;\n",
              "    }\n",
              "  </style>\n",
              "\n",
              "    <script>\n",
              "      const buttonEl =\n",
              "        document.querySelector('#df-1eada253-b222-48ed-b23c-04204352b1fd button.colab-df-convert');\n",
              "      buttonEl.style.display =\n",
              "        google.colab.kernel.accessAllowed ? 'block' : 'none';\n",
              "\n",
              "      async function convertToInteractive(key) {\n",
              "        const element = document.querySelector('#df-1eada253-b222-48ed-b23c-04204352b1fd');\n",
              "        const dataTable =\n",
              "          await google.colab.kernel.invokeFunction('convertToInteractive',\n",
              "                                                    [key], {});\n",
              "        if (!dataTable) return;\n",
              "\n",
              "        const docLinkHtml = 'Like what you see? Visit the ' +\n",
              "          '<a target=\"_blank\" href=https://colab.research.google.com/notebooks/data_table.ipynb>data table notebook</a>'\n",
              "          + ' to learn more about interactive tables.';\n",
              "        element.innerHTML = '';\n",
              "        dataTable['output_type'] = 'display_data';\n",
              "        await google.colab.output.renderOutput(dataTable, element);\n",
              "        const docLink = document.createElement('div');\n",
              "        docLink.innerHTML = docLinkHtml;\n",
              "        element.appendChild(docLink);\n",
              "      }\n",
              "    </script>\n",
              "  </div>\n",
              "\n",
              "\n",
              "    <div id=\"df-7e18fc8d-c5f7-47d7-adf4-595a444620c5\">\n",
              "      <button class=\"colab-df-quickchart\" onclick=\"quickchart('df-7e18fc8d-c5f7-47d7-adf4-595a444620c5')\"\n",
              "                title=\"Suggest charts\"\n",
              "                style=\"display:none;\">\n",
              "\n",
              "<svg xmlns=\"http://www.w3.org/2000/svg\" height=\"24px\"viewBox=\"0 0 24 24\"\n",
              "     width=\"24px\">\n",
              "    <g>\n",
              "        <path d=\"M19 3H5c-1.1 0-2 .9-2 2v14c0 1.1.9 2 2 2h14c1.1 0 2-.9 2-2V5c0-1.1-.9-2-2-2zM9 17H7v-7h2v7zm4 0h-2V7h2v10zm4 0h-2v-4h2v4z\"/>\n",
              "    </g>\n",
              "</svg>\n",
              "      </button>\n",
              "\n",
              "<style>\n",
              "  .colab-df-quickchart {\n",
              "      --bg-color: #E8F0FE;\n",
              "      --fill-color: #1967D2;\n",
              "      --hover-bg-color: #E2EBFA;\n",
              "      --hover-fill-color: #174EA6;\n",
              "      --disabled-fill-color: #AAA;\n",
              "      --disabled-bg-color: #DDD;\n",
              "  }\n",
              "\n",
              "  [theme=dark] .colab-df-quickchart {\n",
              "      --bg-color: #3B4455;\n",
              "      --fill-color: #D2E3FC;\n",
              "      --hover-bg-color: #434B5C;\n",
              "      --hover-fill-color: #FFFFFF;\n",
              "      --disabled-bg-color: #3B4455;\n",
              "      --disabled-fill-color: #666;\n",
              "  }\n",
              "\n",
              "  .colab-df-quickchart {\n",
              "    background-color: var(--bg-color);\n",
              "    border: none;\n",
              "    border-radius: 50%;\n",
              "    cursor: pointer;\n",
              "    display: none;\n",
              "    fill: var(--fill-color);\n",
              "    height: 32px;\n",
              "    padding: 0;\n",
              "    width: 32px;\n",
              "  }\n",
              "\n",
              "  .colab-df-quickchart:hover {\n",
              "    background-color: var(--hover-bg-color);\n",
              "    box-shadow: 0 1px 2px rgba(60, 64, 67, 0.3), 0 1px 3px 1px rgba(60, 64, 67, 0.15);\n",
              "    fill: var(--button-hover-fill-color);\n",
              "  }\n",
              "\n",
              "  .colab-df-quickchart-complete:disabled,\n",
              "  .colab-df-quickchart-complete:disabled:hover {\n",
              "    background-color: var(--disabled-bg-color);\n",
              "    fill: var(--disabled-fill-color);\n",
              "    box-shadow: none;\n",
              "  }\n",
              "\n",
              "  .colab-df-spinner {\n",
              "    border: 2px solid var(--fill-color);\n",
              "    border-color: transparent;\n",
              "    border-bottom-color: var(--fill-color);\n",
              "    animation:\n",
              "      spin 1s steps(1) infinite;\n",
              "  }\n",
              "\n",
              "  @keyframes spin {\n",
              "    0% {\n",
              "      border-color: transparent;\n",
              "      border-bottom-color: var(--fill-color);\n",
              "      border-left-color: var(--fill-color);\n",
              "    }\n",
              "    20% {\n",
              "      border-color: transparent;\n",
              "      border-left-color: var(--fill-color);\n",
              "      border-top-color: var(--fill-color);\n",
              "    }\n",
              "    30% {\n",
              "      border-color: transparent;\n",
              "      border-left-color: var(--fill-color);\n",
              "      border-top-color: var(--fill-color);\n",
              "      border-right-color: var(--fill-color);\n",
              "    }\n",
              "    40% {\n",
              "      border-color: transparent;\n",
              "      border-right-color: var(--fill-color);\n",
              "      border-top-color: var(--fill-color);\n",
              "    }\n",
              "    60% {\n",
              "      border-color: transparent;\n",
              "      border-right-color: var(--fill-color);\n",
              "    }\n",
              "    80% {\n",
              "      border-color: transparent;\n",
              "      border-right-color: var(--fill-color);\n",
              "      border-bottom-color: var(--fill-color);\n",
              "    }\n",
              "    90% {\n",
              "      border-color: transparent;\n",
              "      border-bottom-color: var(--fill-color);\n",
              "    }\n",
              "  }\n",
              "</style>\n",
              "\n",
              "      <script>\n",
              "        async function quickchart(key) {\n",
              "          const quickchartButtonEl =\n",
              "            document.querySelector('#' + key + ' button');\n",
              "          quickchartButtonEl.disabled = true;  // To prevent multiple clicks.\n",
              "          quickchartButtonEl.classList.add('colab-df-spinner');\n",
              "          try {\n",
              "            const charts = await google.colab.kernel.invokeFunction(\n",
              "                'suggestCharts', [key], {});\n",
              "          } catch (error) {\n",
              "            console.error('Error during call to suggestCharts:', error);\n",
              "          }\n",
              "          quickchartButtonEl.classList.remove('colab-df-spinner');\n",
              "          quickchartButtonEl.classList.add('colab-df-quickchart-complete');\n",
              "        }\n",
              "        (() => {\n",
              "          let quickchartButtonEl =\n",
              "            document.querySelector('#df-7e18fc8d-c5f7-47d7-adf4-595a444620c5 button');\n",
              "          quickchartButtonEl.style.display =\n",
              "            google.colab.kernel.accessAllowed ? 'block' : 'none';\n",
              "        })();\n",
              "      </script>\n",
              "    </div>\n",
              "\n",
              "    </div>\n",
              "  </div>\n"
            ],
            "application/vnd.google.colaboratory.intrinsic+json": {
              "type": "dataframe",
              "variable_name": "df",
              "summary": "{\n  \"name\": \"df\",\n  \"rows\": 918,\n  \"fields\": [\n    {\n      \"column\": \"Age\",\n      \"properties\": {\n        \"dtype\": \"number\",\n        \"std\": 9,\n        \"min\": 28,\n        \"max\": 77,\n        \"num_unique_values\": 50,\n        \"samples\": [\n          44,\n          68,\n          66\n        ],\n        \"semantic_type\": \"\",\n        \"description\": \"\"\n      }\n    },\n    {\n      \"column\": \"Sex\",\n      \"properties\": {\n        \"dtype\": \"category\",\n        \"num_unique_values\": 2,\n        \"samples\": [\n          \"F\",\n          \"M\"\n        ],\n        \"semantic_type\": \"\",\n        \"description\": \"\"\n      }\n    },\n    {\n      \"column\": \"ChestPainType\",\n      \"properties\": {\n        \"dtype\": \"category\",\n        \"num_unique_values\": 4,\n        \"samples\": [\n          \"NAP\",\n          \"TA\"\n        ],\n        \"semantic_type\": \"\",\n        \"description\": \"\"\n      }\n    },\n    {\n      \"column\": \"RestingBP\",\n      \"properties\": {\n        \"dtype\": \"number\",\n        \"std\": 18,\n        \"min\": 0,\n        \"max\": 200,\n        \"num_unique_values\": 67,\n        \"samples\": [\n          165,\n          118\n        ],\n        \"semantic_type\": \"\",\n        \"description\": \"\"\n      }\n    },\n    {\n      \"column\": \"Cholesterol\",\n      \"properties\": {\n        \"dtype\": \"number\",\n        \"std\": 109,\n        \"min\": 0,\n        \"max\": 603,\n        \"num_unique_values\": 222,\n        \"samples\": [\n          305,\n          321\n        ],\n        \"semantic_type\": \"\",\n        \"description\": \"\"\n      }\n    },\n    {\n      \"column\": \"FastingBS\",\n      \"properties\": {\n        \"dtype\": \"number\",\n        \"std\": 0,\n        \"min\": 0,\n        \"max\": 1,\n        \"num_unique_values\": 2,\n        \"samples\": [\n          1,\n          0\n        ],\n        \"semantic_type\": \"\",\n        \"description\": \"\"\n      }\n    },\n    {\n      \"column\": \"RestingECG\",\n      \"properties\": {\n        \"dtype\": \"category\",\n        \"num_unique_values\": 3,\n        \"samples\": [\n          \"Normal\",\n          \"ST\"\n        ],\n        \"semantic_type\": \"\",\n        \"description\": \"\"\n      }\n    },\n    {\n      \"column\": \"MaxHR\",\n      \"properties\": {\n        \"dtype\": \"number\",\n        \"std\": 25,\n        \"min\": 60,\n        \"max\": 202,\n        \"num_unique_values\": 119,\n        \"samples\": [\n          132,\n          157\n        ],\n        \"semantic_type\": \"\",\n        \"description\": \"\"\n      }\n    },\n    {\n      \"column\": \"ExerciseAngina\",\n      \"properties\": {\n        \"dtype\": \"category\",\n        \"num_unique_values\": 2,\n        \"samples\": [\n          \"Y\",\n          \"N\"\n        ],\n        \"semantic_type\": \"\",\n        \"description\": \"\"\n      }\n    },\n    {\n      \"column\": \"Oldpeak\",\n      \"properties\": {\n        \"dtype\": \"number\",\n        \"std\": 1.0665701510493233,\n        \"min\": -2.6,\n        \"max\": 6.2,\n        \"num_unique_values\": 53,\n        \"samples\": [\n          1.3,\n          0.6\n        ],\n        \"semantic_type\": \"\",\n        \"description\": \"\"\n      }\n    },\n    {\n      \"column\": \"ST_Slope\",\n      \"properties\": {\n        \"dtype\": \"category\",\n        \"num_unique_values\": 3,\n        \"samples\": [\n          \"Up\",\n          \"Flat\"\n        ],\n        \"semantic_type\": \"\",\n        \"description\": \"\"\n      }\n    },\n    {\n      \"column\": \"HeartDisease\",\n      \"properties\": {\n        \"dtype\": \"number\",\n        \"std\": 0,\n        \"min\": 0,\n        \"max\": 1,\n        \"num_unique_values\": 2,\n        \"samples\": [\n          1,\n          0\n        ],\n        \"semantic_type\": \"\",\n        \"description\": \"\"\n      }\n    }\n  ]\n}"
            }
          },
          "metadata": {},
          "execution_count": 237
        }
      ]
    },
    {
      "cell_type": "markdown",
      "source": [
        "##EDA"
      ],
      "metadata": {
        "id": "Z-mNV7W1llIn"
      }
    },
    {
      "cell_type": "code",
      "source": [
        "df.columns"
      ],
      "metadata": {
        "colab": {
          "base_uri": "https://localhost:8080/"
        },
        "id": "RYkcN3h6lk0_",
        "outputId": "3727fd51-b76d-481b-fc3f-d4049a21b25a"
      },
      "execution_count": null,
      "outputs": [
        {
          "output_type": "execute_result",
          "data": {
            "text/plain": [
              "Index(['Age', 'Sex', 'ChestPainType', 'RestingBP', 'Cholesterol', 'FastingBS',\n",
              "       'RestingECG', 'MaxHR', 'ExerciseAngina', 'Oldpeak', 'ST_Slope',\n",
              "       'HeartDisease'],\n",
              "      dtype='object')"
            ]
          },
          "metadata": {},
          "execution_count": 238
        }
      ]
    },
    {
      "cell_type": "code",
      "source": [
        "df.shape"
      ],
      "metadata": {
        "colab": {
          "base_uri": "https://localhost:8080/"
        },
        "id": "T0_smiJeklR6",
        "outputId": "c4223a80-c47e-4c95-9ee6-ed1992323105"
      },
      "execution_count": null,
      "outputs": [
        {
          "output_type": "execute_result",
          "data": {
            "text/plain": [
              "(918, 12)"
            ]
          },
          "metadata": {},
          "execution_count": 239
        }
      ]
    },
    {
      "cell_type": "code",
      "source": [
        "df.info()"
      ],
      "metadata": {
        "colab": {
          "base_uri": "https://localhost:8080/"
        },
        "id": "ILJ_wzmiloso",
        "outputId": "48a7f59e-05e4-42c7-e94a-2c39a7de8823"
      },
      "execution_count": null,
      "outputs": [
        {
          "output_type": "stream",
          "name": "stdout",
          "text": [
            "<class 'pandas.core.frame.DataFrame'>\n",
            "RangeIndex: 918 entries, 0 to 917\n",
            "Data columns (total 12 columns):\n",
            " #   Column          Non-Null Count  Dtype  \n",
            "---  ------          --------------  -----  \n",
            " 0   Age             918 non-null    int64  \n",
            " 1   Sex             918 non-null    object \n",
            " 2   ChestPainType   918 non-null    object \n",
            " 3   RestingBP       918 non-null    int64  \n",
            " 4   Cholesterol     918 non-null    int64  \n",
            " 5   FastingBS       918 non-null    int64  \n",
            " 6   RestingECG      918 non-null    object \n",
            " 7   MaxHR           918 non-null    int64  \n",
            " 8   ExerciseAngina  918 non-null    object \n",
            " 9   Oldpeak         918 non-null    float64\n",
            " 10  ST_Slope        918 non-null    object \n",
            " 11  HeartDisease    918 non-null    int64  \n",
            "dtypes: float64(1), int64(6), object(5)\n",
            "memory usage: 86.2+ KB\n"
          ]
        }
      ]
    },
    {
      "cell_type": "code",
      "source": [
        "df.describe()"
      ],
      "metadata": {
        "colab": {
          "base_uri": "https://localhost:8080/",
          "height": 300
        },
        "id": "0HDDGsSXlqkD",
        "outputId": "3b98bb8a-d7d3-4527-c8ce-301715d9ab79"
      },
      "execution_count": null,
      "outputs": [
        {
          "output_type": "execute_result",
          "data": {
            "text/plain": [
              "              Age   RestingBP  Cholesterol   FastingBS       MaxHR  \\\n",
              "count  918.000000  918.000000   918.000000  918.000000  918.000000   \n",
              "mean    53.510893  132.396514   198.799564    0.233115  136.809368   \n",
              "std      9.432617   18.514154   109.384145    0.423046   25.460334   \n",
              "min     28.000000    0.000000     0.000000    0.000000   60.000000   \n",
              "25%     47.000000  120.000000   173.250000    0.000000  120.000000   \n",
              "50%     54.000000  130.000000   223.000000    0.000000  138.000000   \n",
              "75%     60.000000  140.000000   267.000000    0.000000  156.000000   \n",
              "max     77.000000  200.000000   603.000000    1.000000  202.000000   \n",
              "\n",
              "          Oldpeak  HeartDisease  \n",
              "count  918.000000    918.000000  \n",
              "mean     0.887364      0.553377  \n",
              "std      1.066570      0.497414  \n",
              "min     -2.600000      0.000000  \n",
              "25%      0.000000      0.000000  \n",
              "50%      0.600000      1.000000  \n",
              "75%      1.500000      1.000000  \n",
              "max      6.200000      1.000000  "
            ],
            "text/html": [
              "\n",
              "  <div id=\"df-32bc441a-8096-4d27-9d8a-d9398f528b43\" class=\"colab-df-container\">\n",
              "    <div>\n",
              "<style scoped>\n",
              "    .dataframe tbody tr th:only-of-type {\n",
              "        vertical-align: middle;\n",
              "    }\n",
              "\n",
              "    .dataframe tbody tr th {\n",
              "        vertical-align: top;\n",
              "    }\n",
              "\n",
              "    .dataframe thead th {\n",
              "        text-align: right;\n",
              "    }\n",
              "</style>\n",
              "<table border=\"1\" class=\"dataframe\">\n",
              "  <thead>\n",
              "    <tr style=\"text-align: right;\">\n",
              "      <th></th>\n",
              "      <th>Age</th>\n",
              "      <th>RestingBP</th>\n",
              "      <th>Cholesterol</th>\n",
              "      <th>FastingBS</th>\n",
              "      <th>MaxHR</th>\n",
              "      <th>Oldpeak</th>\n",
              "      <th>HeartDisease</th>\n",
              "    </tr>\n",
              "  </thead>\n",
              "  <tbody>\n",
              "    <tr>\n",
              "      <th>count</th>\n",
              "      <td>918.000000</td>\n",
              "      <td>918.000000</td>\n",
              "      <td>918.000000</td>\n",
              "      <td>918.000000</td>\n",
              "      <td>918.000000</td>\n",
              "      <td>918.000000</td>\n",
              "      <td>918.000000</td>\n",
              "    </tr>\n",
              "    <tr>\n",
              "      <th>mean</th>\n",
              "      <td>53.510893</td>\n",
              "      <td>132.396514</td>\n",
              "      <td>198.799564</td>\n",
              "      <td>0.233115</td>\n",
              "      <td>136.809368</td>\n",
              "      <td>0.887364</td>\n",
              "      <td>0.553377</td>\n",
              "    </tr>\n",
              "    <tr>\n",
              "      <th>std</th>\n",
              "      <td>9.432617</td>\n",
              "      <td>18.514154</td>\n",
              "      <td>109.384145</td>\n",
              "      <td>0.423046</td>\n",
              "      <td>25.460334</td>\n",
              "      <td>1.066570</td>\n",
              "      <td>0.497414</td>\n",
              "    </tr>\n",
              "    <tr>\n",
              "      <th>min</th>\n",
              "      <td>28.000000</td>\n",
              "      <td>0.000000</td>\n",
              "      <td>0.000000</td>\n",
              "      <td>0.000000</td>\n",
              "      <td>60.000000</td>\n",
              "      <td>-2.600000</td>\n",
              "      <td>0.000000</td>\n",
              "    </tr>\n",
              "    <tr>\n",
              "      <th>25%</th>\n",
              "      <td>47.000000</td>\n",
              "      <td>120.000000</td>\n",
              "      <td>173.250000</td>\n",
              "      <td>0.000000</td>\n",
              "      <td>120.000000</td>\n",
              "      <td>0.000000</td>\n",
              "      <td>0.000000</td>\n",
              "    </tr>\n",
              "    <tr>\n",
              "      <th>50%</th>\n",
              "      <td>54.000000</td>\n",
              "      <td>130.000000</td>\n",
              "      <td>223.000000</td>\n",
              "      <td>0.000000</td>\n",
              "      <td>138.000000</td>\n",
              "      <td>0.600000</td>\n",
              "      <td>1.000000</td>\n",
              "    </tr>\n",
              "    <tr>\n",
              "      <th>75%</th>\n",
              "      <td>60.000000</td>\n",
              "      <td>140.000000</td>\n",
              "      <td>267.000000</td>\n",
              "      <td>0.000000</td>\n",
              "      <td>156.000000</td>\n",
              "      <td>1.500000</td>\n",
              "      <td>1.000000</td>\n",
              "    </tr>\n",
              "    <tr>\n",
              "      <th>max</th>\n",
              "      <td>77.000000</td>\n",
              "      <td>200.000000</td>\n",
              "      <td>603.000000</td>\n",
              "      <td>1.000000</td>\n",
              "      <td>202.000000</td>\n",
              "      <td>6.200000</td>\n",
              "      <td>1.000000</td>\n",
              "    </tr>\n",
              "  </tbody>\n",
              "</table>\n",
              "</div>\n",
              "    <div class=\"colab-df-buttons\">\n",
              "\n",
              "  <div class=\"colab-df-container\">\n",
              "    <button class=\"colab-df-convert\" onclick=\"convertToInteractive('df-32bc441a-8096-4d27-9d8a-d9398f528b43')\"\n",
              "            title=\"Convert this dataframe to an interactive table.\"\n",
              "            style=\"display:none;\">\n",
              "\n",
              "  <svg xmlns=\"http://www.w3.org/2000/svg\" height=\"24px\" viewBox=\"0 -960 960 960\">\n",
              "    <path d=\"M120-120v-720h720v720H120Zm60-500h600v-160H180v160Zm220 220h160v-160H400v160Zm0 220h160v-160H400v160ZM180-400h160v-160H180v160Zm440 0h160v-160H620v160ZM180-180h160v-160H180v160Zm440 0h160v-160H620v160Z\"/>\n",
              "  </svg>\n",
              "    </button>\n",
              "\n",
              "  <style>\n",
              "    .colab-df-container {\n",
              "      display:flex;\n",
              "      gap: 12px;\n",
              "    }\n",
              "\n",
              "    .colab-df-convert {\n",
              "      background-color: #E8F0FE;\n",
              "      border: none;\n",
              "      border-radius: 50%;\n",
              "      cursor: pointer;\n",
              "      display: none;\n",
              "      fill: #1967D2;\n",
              "      height: 32px;\n",
              "      padding: 0 0 0 0;\n",
              "      width: 32px;\n",
              "    }\n",
              "\n",
              "    .colab-df-convert:hover {\n",
              "      background-color: #E2EBFA;\n",
              "      box-shadow: 0px 1px 2px rgba(60, 64, 67, 0.3), 0px 1px 3px 1px rgba(60, 64, 67, 0.15);\n",
              "      fill: #174EA6;\n",
              "    }\n",
              "\n",
              "    .colab-df-buttons div {\n",
              "      margin-bottom: 4px;\n",
              "    }\n",
              "\n",
              "    [theme=dark] .colab-df-convert {\n",
              "      background-color: #3B4455;\n",
              "      fill: #D2E3FC;\n",
              "    }\n",
              "\n",
              "    [theme=dark] .colab-df-convert:hover {\n",
              "      background-color: #434B5C;\n",
              "      box-shadow: 0px 1px 3px 1px rgba(0, 0, 0, 0.15);\n",
              "      filter: drop-shadow(0px 1px 2px rgba(0, 0, 0, 0.3));\n",
              "      fill: #FFFFFF;\n",
              "    }\n",
              "  </style>\n",
              "\n",
              "    <script>\n",
              "      const buttonEl =\n",
              "        document.querySelector('#df-32bc441a-8096-4d27-9d8a-d9398f528b43 button.colab-df-convert');\n",
              "      buttonEl.style.display =\n",
              "        google.colab.kernel.accessAllowed ? 'block' : 'none';\n",
              "\n",
              "      async function convertToInteractive(key) {\n",
              "        const element = document.querySelector('#df-32bc441a-8096-4d27-9d8a-d9398f528b43');\n",
              "        const dataTable =\n",
              "          await google.colab.kernel.invokeFunction('convertToInteractive',\n",
              "                                                    [key], {});\n",
              "        if (!dataTable) return;\n",
              "\n",
              "        const docLinkHtml = 'Like what you see? Visit the ' +\n",
              "          '<a target=\"_blank\" href=https://colab.research.google.com/notebooks/data_table.ipynb>data table notebook</a>'\n",
              "          + ' to learn more about interactive tables.';\n",
              "        element.innerHTML = '';\n",
              "        dataTable['output_type'] = 'display_data';\n",
              "        await google.colab.output.renderOutput(dataTable, element);\n",
              "        const docLink = document.createElement('div');\n",
              "        docLink.innerHTML = docLinkHtml;\n",
              "        element.appendChild(docLink);\n",
              "      }\n",
              "    </script>\n",
              "  </div>\n",
              "\n",
              "\n",
              "    <div id=\"df-ba0bd17d-ee29-4b3f-b84e-a315bdda5a42\">\n",
              "      <button class=\"colab-df-quickchart\" onclick=\"quickchart('df-ba0bd17d-ee29-4b3f-b84e-a315bdda5a42')\"\n",
              "                title=\"Suggest charts\"\n",
              "                style=\"display:none;\">\n",
              "\n",
              "<svg xmlns=\"http://www.w3.org/2000/svg\" height=\"24px\"viewBox=\"0 0 24 24\"\n",
              "     width=\"24px\">\n",
              "    <g>\n",
              "        <path d=\"M19 3H5c-1.1 0-2 .9-2 2v14c0 1.1.9 2 2 2h14c1.1 0 2-.9 2-2V5c0-1.1-.9-2-2-2zM9 17H7v-7h2v7zm4 0h-2V7h2v10zm4 0h-2v-4h2v4z\"/>\n",
              "    </g>\n",
              "</svg>\n",
              "      </button>\n",
              "\n",
              "<style>\n",
              "  .colab-df-quickchart {\n",
              "      --bg-color: #E8F0FE;\n",
              "      --fill-color: #1967D2;\n",
              "      --hover-bg-color: #E2EBFA;\n",
              "      --hover-fill-color: #174EA6;\n",
              "      --disabled-fill-color: #AAA;\n",
              "      --disabled-bg-color: #DDD;\n",
              "  }\n",
              "\n",
              "  [theme=dark] .colab-df-quickchart {\n",
              "      --bg-color: #3B4455;\n",
              "      --fill-color: #D2E3FC;\n",
              "      --hover-bg-color: #434B5C;\n",
              "      --hover-fill-color: #FFFFFF;\n",
              "      --disabled-bg-color: #3B4455;\n",
              "      --disabled-fill-color: #666;\n",
              "  }\n",
              "\n",
              "  .colab-df-quickchart {\n",
              "    background-color: var(--bg-color);\n",
              "    border: none;\n",
              "    border-radius: 50%;\n",
              "    cursor: pointer;\n",
              "    display: none;\n",
              "    fill: var(--fill-color);\n",
              "    height: 32px;\n",
              "    padding: 0;\n",
              "    width: 32px;\n",
              "  }\n",
              "\n",
              "  .colab-df-quickchart:hover {\n",
              "    background-color: var(--hover-bg-color);\n",
              "    box-shadow: 0 1px 2px rgba(60, 64, 67, 0.3), 0 1px 3px 1px rgba(60, 64, 67, 0.15);\n",
              "    fill: var(--button-hover-fill-color);\n",
              "  }\n",
              "\n",
              "  .colab-df-quickchart-complete:disabled,\n",
              "  .colab-df-quickchart-complete:disabled:hover {\n",
              "    background-color: var(--disabled-bg-color);\n",
              "    fill: var(--disabled-fill-color);\n",
              "    box-shadow: none;\n",
              "  }\n",
              "\n",
              "  .colab-df-spinner {\n",
              "    border: 2px solid var(--fill-color);\n",
              "    border-color: transparent;\n",
              "    border-bottom-color: var(--fill-color);\n",
              "    animation:\n",
              "      spin 1s steps(1) infinite;\n",
              "  }\n",
              "\n",
              "  @keyframes spin {\n",
              "    0% {\n",
              "      border-color: transparent;\n",
              "      border-bottom-color: var(--fill-color);\n",
              "      border-left-color: var(--fill-color);\n",
              "    }\n",
              "    20% {\n",
              "      border-color: transparent;\n",
              "      border-left-color: var(--fill-color);\n",
              "      border-top-color: var(--fill-color);\n",
              "    }\n",
              "    30% {\n",
              "      border-color: transparent;\n",
              "      border-left-color: var(--fill-color);\n",
              "      border-top-color: var(--fill-color);\n",
              "      border-right-color: var(--fill-color);\n",
              "    }\n",
              "    40% {\n",
              "      border-color: transparent;\n",
              "      border-right-color: var(--fill-color);\n",
              "      border-top-color: var(--fill-color);\n",
              "    }\n",
              "    60% {\n",
              "      border-color: transparent;\n",
              "      border-right-color: var(--fill-color);\n",
              "    }\n",
              "    80% {\n",
              "      border-color: transparent;\n",
              "      border-right-color: var(--fill-color);\n",
              "      border-bottom-color: var(--fill-color);\n",
              "    }\n",
              "    90% {\n",
              "      border-color: transparent;\n",
              "      border-bottom-color: var(--fill-color);\n",
              "    }\n",
              "  }\n",
              "</style>\n",
              "\n",
              "      <script>\n",
              "        async function quickchart(key) {\n",
              "          const quickchartButtonEl =\n",
              "            document.querySelector('#' + key + ' button');\n",
              "          quickchartButtonEl.disabled = true;  // To prevent multiple clicks.\n",
              "          quickchartButtonEl.classList.add('colab-df-spinner');\n",
              "          try {\n",
              "            const charts = await google.colab.kernel.invokeFunction(\n",
              "                'suggestCharts', [key], {});\n",
              "          } catch (error) {\n",
              "            console.error('Error during call to suggestCharts:', error);\n",
              "          }\n",
              "          quickchartButtonEl.classList.remove('colab-df-spinner');\n",
              "          quickchartButtonEl.classList.add('colab-df-quickchart-complete');\n",
              "        }\n",
              "        (() => {\n",
              "          let quickchartButtonEl =\n",
              "            document.querySelector('#df-ba0bd17d-ee29-4b3f-b84e-a315bdda5a42 button');\n",
              "          quickchartButtonEl.style.display =\n",
              "            google.colab.kernel.accessAllowed ? 'block' : 'none';\n",
              "        })();\n",
              "      </script>\n",
              "    </div>\n",
              "\n",
              "    </div>\n",
              "  </div>\n"
            ],
            "application/vnd.google.colaboratory.intrinsic+json": {
              "type": "dataframe",
              "summary": "{\n  \"name\": \"df\",\n  \"rows\": 8,\n  \"fields\": [\n    {\n      \"column\": \"Age\",\n      \"properties\": {\n        \"dtype\": \"number\",\n        \"std\": 308.627347039806,\n        \"min\": 9.432616506732007,\n        \"max\": 918.0,\n        \"num_unique_values\": 8,\n        \"samples\": [\n          53.510893246187365,\n          54.0,\n          918.0\n        ],\n        \"semantic_type\": \"\",\n        \"description\": \"\"\n      }\n    },\n    {\n      \"column\": \"RestingBP\",\n      \"properties\": {\n        \"dtype\": \"number\",\n        \"std\": 294.5935541913639,\n        \"min\": 0.0,\n        \"max\": 918.0,\n        \"num_unique_values\": 8,\n        \"samples\": [\n          132.39651416122004,\n          130.0,\n          918.0\n        ],\n        \"semantic_type\": \"\",\n        \"description\": \"\"\n      }\n    },\n    {\n      \"column\": \"Cholesterol\",\n      \"properties\": {\n        \"dtype\": \"number\",\n        \"std\": 300.55294190735805,\n        \"min\": 0.0,\n        \"max\": 918.0,\n        \"num_unique_values\": 8,\n        \"samples\": [\n          198.7995642701525,\n          223.0,\n          918.0\n        ],\n        \"semantic_type\": \"\",\n        \"description\": \"\"\n      }\n    },\n    {\n      \"column\": \"FastingBS\",\n      \"properties\": {\n        \"dtype\": \"number\",\n        \"std\": 324.4785490336432,\n        \"min\": 0.0,\n        \"max\": 918.0,\n        \"num_unique_values\": 5,\n        \"samples\": [\n          0.23311546840958605,\n          1.0,\n          0.423045624739302\n        ],\n        \"semantic_type\": \"\",\n        \"description\": \"\"\n      }\n    },\n    {\n      \"column\": \"MaxHR\",\n      \"properties\": {\n        \"dtype\": \"number\",\n        \"std\": 287.52953225319146,\n        \"min\": 25.460334138250293,\n        \"max\": 918.0,\n        \"num_unique_values\": 8,\n        \"samples\": [\n          136.80936819172112,\n          138.0,\n          918.0\n        ],\n        \"semantic_type\": \"\",\n        \"description\": \"\"\n      }\n    },\n    {\n      \"column\": \"Oldpeak\",\n      \"properties\": {\n        \"dtype\": \"number\",\n        \"std\": 324.18454495166225,\n        \"min\": -2.6,\n        \"max\": 918.0,\n        \"num_unique_values\": 8,\n        \"samples\": [\n          0.8873638344226579,\n          0.6,\n          918.0\n        ],\n        \"semantic_type\": \"\",\n        \"description\": \"\"\n      }\n    },\n    {\n      \"column\": \"HeartDisease\",\n      \"properties\": {\n        \"dtype\": \"number\",\n        \"std\": 324.35768309524013,\n        \"min\": 0.0,\n        \"max\": 918.0,\n        \"num_unique_values\": 5,\n        \"samples\": [\n          0.5533769063180828,\n          1.0,\n          0.4974137382845986\n        ],\n        \"semantic_type\": \"\",\n        \"description\": \"\"\n      }\n    }\n  ]\n}"
            }
          },
          "metadata": {},
          "execution_count": 241
        }
      ]
    },
    {
      "cell_type": "code",
      "source": [
        "df.duplicated().sum()"
      ],
      "metadata": {
        "colab": {
          "base_uri": "https://localhost:8080/"
        },
        "id": "CmCqAXrOlyeR",
        "outputId": "312276cf-3f72-4382-ce92-0f5d2f7446e8"
      },
      "execution_count": null,
      "outputs": [
        {
          "output_type": "execute_result",
          "data": {
            "text/plain": [
              "np.int64(0)"
            ]
          },
          "metadata": {},
          "execution_count": 242
        }
      ]
    },
    {
      "cell_type": "code",
      "source": [
        "df.isnull().sum()"
      ],
      "metadata": {
        "colab": {
          "base_uri": "https://localhost:8080/",
          "height": 460
        },
        "id": "FwTbjuE8l-wB",
        "outputId": "c80f279e-3f71-4e56-c2b9-7fbab6b6eae1"
      },
      "execution_count": null,
      "outputs": [
        {
          "output_type": "execute_result",
          "data": {
            "text/plain": [
              "Age               0\n",
              "Sex               0\n",
              "ChestPainType     0\n",
              "RestingBP         0\n",
              "Cholesterol       0\n",
              "FastingBS         0\n",
              "RestingECG        0\n",
              "MaxHR             0\n",
              "ExerciseAngina    0\n",
              "Oldpeak           0\n",
              "ST_Slope          0\n",
              "HeartDisease      0\n",
              "dtype: int64"
            ],
            "text/html": [
              "<div>\n",
              "<style scoped>\n",
              "    .dataframe tbody tr th:only-of-type {\n",
              "        vertical-align: middle;\n",
              "    }\n",
              "\n",
              "    .dataframe tbody tr th {\n",
              "        vertical-align: top;\n",
              "    }\n",
              "\n",
              "    .dataframe thead th {\n",
              "        text-align: right;\n",
              "    }\n",
              "</style>\n",
              "<table border=\"1\" class=\"dataframe\">\n",
              "  <thead>\n",
              "    <tr style=\"text-align: right;\">\n",
              "      <th></th>\n",
              "      <th>0</th>\n",
              "    </tr>\n",
              "  </thead>\n",
              "  <tbody>\n",
              "    <tr>\n",
              "      <th>Age</th>\n",
              "      <td>0</td>\n",
              "    </tr>\n",
              "    <tr>\n",
              "      <th>Sex</th>\n",
              "      <td>0</td>\n",
              "    </tr>\n",
              "    <tr>\n",
              "      <th>ChestPainType</th>\n",
              "      <td>0</td>\n",
              "    </tr>\n",
              "    <tr>\n",
              "      <th>RestingBP</th>\n",
              "      <td>0</td>\n",
              "    </tr>\n",
              "    <tr>\n",
              "      <th>Cholesterol</th>\n",
              "      <td>0</td>\n",
              "    </tr>\n",
              "    <tr>\n",
              "      <th>FastingBS</th>\n",
              "      <td>0</td>\n",
              "    </tr>\n",
              "    <tr>\n",
              "      <th>RestingECG</th>\n",
              "      <td>0</td>\n",
              "    </tr>\n",
              "    <tr>\n",
              "      <th>MaxHR</th>\n",
              "      <td>0</td>\n",
              "    </tr>\n",
              "    <tr>\n",
              "      <th>ExerciseAngina</th>\n",
              "      <td>0</td>\n",
              "    </tr>\n",
              "    <tr>\n",
              "      <th>Oldpeak</th>\n",
              "      <td>0</td>\n",
              "    </tr>\n",
              "    <tr>\n",
              "      <th>ST_Slope</th>\n",
              "      <td>0</td>\n",
              "    </tr>\n",
              "    <tr>\n",
              "      <th>HeartDisease</th>\n",
              "      <td>0</td>\n",
              "    </tr>\n",
              "  </tbody>\n",
              "</table>\n",
              "</div><br><label><b>dtype:</b> int64</label>"
            ]
          },
          "metadata": {},
          "execution_count": 243
        }
      ]
    },
    {
      "cell_type": "code",
      "source": [
        "df['HeartDisease'].value_counts()"
      ],
      "metadata": {
        "colab": {
          "base_uri": "https://localhost:8080/",
          "height": 178
        },
        "id": "AuHr241em5aC",
        "outputId": "025ac73b-3dfd-436d-9fdd-403472403f06"
      },
      "execution_count": null,
      "outputs": [
        {
          "output_type": "execute_result",
          "data": {
            "text/plain": [
              "HeartDisease\n",
              "1    508\n",
              "0    410\n",
              "Name: count, dtype: int64"
            ],
            "text/html": [
              "<div>\n",
              "<style scoped>\n",
              "    .dataframe tbody tr th:only-of-type {\n",
              "        vertical-align: middle;\n",
              "    }\n",
              "\n",
              "    .dataframe tbody tr th {\n",
              "        vertical-align: top;\n",
              "    }\n",
              "\n",
              "    .dataframe thead th {\n",
              "        text-align: right;\n",
              "    }\n",
              "</style>\n",
              "<table border=\"1\" class=\"dataframe\">\n",
              "  <thead>\n",
              "    <tr style=\"text-align: right;\">\n",
              "      <th></th>\n",
              "      <th>count</th>\n",
              "    </tr>\n",
              "    <tr>\n",
              "      <th>HeartDisease</th>\n",
              "      <th></th>\n",
              "    </tr>\n",
              "  </thead>\n",
              "  <tbody>\n",
              "    <tr>\n",
              "      <th>1</th>\n",
              "      <td>508</td>\n",
              "    </tr>\n",
              "    <tr>\n",
              "      <th>0</th>\n",
              "      <td>410</td>\n",
              "    </tr>\n",
              "  </tbody>\n",
              "</table>\n",
              "</div><br><label><b>dtype:</b> int64</label>"
            ]
          },
          "metadata": {},
          "execution_count": 244
        }
      ]
    },
    {
      "cell_type": "code",
      "source": [
        "df['HeartDisease'].value_counts().plot(kind='bar' )"
      ],
      "metadata": {
        "colab": {
          "base_uri": "https://localhost:8080/",
          "height": 461
        },
        "id": "b7LVZcZEmA8J",
        "outputId": "5fe9c8ce-2adb-40a0-8766-d312061e4d7d"
      },
      "execution_count": null,
      "outputs": [
        {
          "output_type": "execute_result",
          "data": {
            "text/plain": [
              "<Axes: xlabel='HeartDisease'>"
            ]
          },
          "metadata": {},
          "execution_count": 245
        },
        {
          "output_type": "display_data",
          "data": {
            "text/plain": [
              "<Figure size 640x480 with 1 Axes>"
            ],
            "image/png": "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\n"
          },
          "metadata": {}
        }
      ]
    },
    {
      "cell_type": "markdown",
      "source": [
        "# Now we create histograms which are best to visualize distribution of **Numerical Variables** and identify anamolies if any in our dataset\n",
        "\n",
        "---\n",
        "\n"
      ],
      "metadata": {
        "id": "06acnpGd4AUW"
      }
    },
    {
      "cell_type": "code",
      "source": [
        "def numeric_var_plotting(var, num):\n",
        "  plt.subplot(2,2,num)\n",
        "  sns.histplot(data = df[var], kde=True)\n",
        "  plt.tight_layout()"
      ],
      "metadata": {
        "id": "qeJWjaXFmMFs"
      },
      "execution_count": null,
      "outputs": []
    },
    {
      "cell_type": "code",
      "source": [
        "numeric_var_plotting('Age',1)\n",
        "numeric_var_plotting('RestingBP',2)\n",
        "numeric_var_plotting('Cholesterol',3)\n",
        "numeric_var_plotting('MaxHR',4)\n"
      ],
      "metadata": {
        "colab": {
          "base_uri": "https://localhost:8080/",
          "height": 487
        },
        "id": "uEJk2KbJnXYx",
        "outputId": "792eb24d-1b69-412d-aa83-1868cc435ab7"
      },
      "execution_count": null,
      "outputs": [
        {
          "output_type": "display_data",
          "data": {
            "text/plain": [
              "<Figure size 640x480 with 4 Axes>"
            ],
            "image/png": "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\n"
          },
          "metadata": {}
        }
      ]
    },
    {
      "cell_type": "code",
      "source": [
        "df['Cholesterol'].value_counts()"
      ],
      "metadata": {
        "colab": {
          "base_uri": "https://localhost:8080/",
          "height": 489
        },
        "id": "GAjZp6Jyng0J",
        "outputId": "bc164e65-b5af-45c4-e1e8-56f95f7ba984"
      },
      "execution_count": null,
      "outputs": [
        {
          "output_type": "execute_result",
          "data": {
            "text/plain": [
              "Cholesterol\n",
              "0      172\n",
              "254     11\n",
              "220     10\n",
              "223     10\n",
              "204      9\n",
              "      ... \n",
              "353      1\n",
              "278      1\n",
              "157      1\n",
              "176      1\n",
              "131      1\n",
              "Name: count, Length: 222, dtype: int64"
            ],
            "text/html": [
              "<div>\n",
              "<style scoped>\n",
              "    .dataframe tbody tr th:only-of-type {\n",
              "        vertical-align: middle;\n",
              "    }\n",
              "\n",
              "    .dataframe tbody tr th {\n",
              "        vertical-align: top;\n",
              "    }\n",
              "\n",
              "    .dataframe thead th {\n",
              "        text-align: right;\n",
              "    }\n",
              "</style>\n",
              "<table border=\"1\" class=\"dataframe\">\n",
              "  <thead>\n",
              "    <tr style=\"text-align: right;\">\n",
              "      <th></th>\n",
              "      <th>count</th>\n",
              "    </tr>\n",
              "    <tr>\n",
              "      <th>Cholesterol</th>\n",
              "      <th></th>\n",
              "    </tr>\n",
              "  </thead>\n",
              "  <tbody>\n",
              "    <tr>\n",
              "      <th>0</th>\n",
              "      <td>172</td>\n",
              "    </tr>\n",
              "    <tr>\n",
              "      <th>254</th>\n",
              "      <td>11</td>\n",
              "    </tr>\n",
              "    <tr>\n",
              "      <th>220</th>\n",
              "      <td>10</td>\n",
              "    </tr>\n",
              "    <tr>\n",
              "      <th>223</th>\n",
              "      <td>10</td>\n",
              "    </tr>\n",
              "    <tr>\n",
              "      <th>204</th>\n",
              "      <td>9</td>\n",
              "    </tr>\n",
              "    <tr>\n",
              "      <th>...</th>\n",
              "      <td>...</td>\n",
              "    </tr>\n",
              "    <tr>\n",
              "      <th>353</th>\n",
              "      <td>1</td>\n",
              "    </tr>\n",
              "    <tr>\n",
              "      <th>278</th>\n",
              "      <td>1</td>\n",
              "    </tr>\n",
              "    <tr>\n",
              "      <th>157</th>\n",
              "      <td>1</td>\n",
              "    </tr>\n",
              "    <tr>\n",
              "      <th>176</th>\n",
              "      <td>1</td>\n",
              "    </tr>\n",
              "    <tr>\n",
              "      <th>131</th>\n",
              "      <td>1</td>\n",
              "    </tr>\n",
              "  </tbody>\n",
              "</table>\n",
              "<p>222 rows × 1 columns</p>\n",
              "</div><br><label><b>dtype:</b> int64</label>"
            ]
          },
          "metadata": {},
          "execution_count": 248
        }
      ]
    },
    {
      "cell_type": "markdown",
      "source": [
        "## We find out that though there were no null or duplicate values find in our dataset, there are still outliers and anamolies present in the datasat such as Cholesterol value as 0 which is not humanly possible.\n",
        "\n",
        "## We need to perform **data cleaning** to discard these anamolies\n",
        "\n",
        "\n",
        "---\n",
        "\n"
      ],
      "metadata": {
        "id": "h8kXQG1HpgIl"
      }
    },
    {
      "cell_type": "code",
      "source": [
        "ch_mean = df.loc[df['Cholesterol'] != 0,'Cholesterol'].mean()"
      ],
      "metadata": {
        "id": "V9qF6Cohp7f4"
      },
      "execution_count": null,
      "outputs": []
    },
    {
      "cell_type": "markdown",
      "source": [
        "### Calculate the mean of the 'Cholesterol' column, excluding values that are 0.\n",
        "\n",
        "### In many medical datasets, a value of 0 may represent missing or invalid data.\n",
        "### Including such values would distort the true average, so we filter them out first.\n",
        "\n",
        "### Breakdown:\n",
        "### 1. df['Cholesterol'] != 0 → Creates a boolean mask to identify non-zero values.\n",
        "### 2. df.loc[condition, 'Cholesterol'] → Selects only those rows where Cholesterol is not zero.\n",
        "### 3. .mean() → Calculates the average of the filtered Cholesterol values."
      ],
      "metadata": {
        "id": "y6bZCOeismZf"
      }
    },
    {
      "cell_type": "code",
      "source": [
        "ch_mean"
      ],
      "metadata": {
        "colab": {
          "base_uri": "https://localhost:8080/"
        },
        "id": "rBoqwv4uqDA-",
        "outputId": "994f414d-1922-4f01-d300-50088177ca25"
      },
      "execution_count": null,
      "outputs": [
        {
          "output_type": "execute_result",
          "data": {
            "text/plain": [
              "np.float64(244.6353887399464)"
            ]
          },
          "metadata": {},
          "execution_count": 250
        }
      ]
    },
    {
      "cell_type": "code",
      "source": [
        "df['Cholesterol']= df['Cholesterol'].replace(0,ch_mean).round(2)"
      ],
      "metadata": {
        "id": "edRMl1aPqFEE"
      },
      "execution_count": null,
      "outputs": []
    },
    {
      "cell_type": "code",
      "source": [
        "resBP_mean = df.loc[df['RestingBP'] != 0, 'RestingBP'].mean()"
      ],
      "metadata": {
        "id": "fKz_vYc_tMxy"
      },
      "execution_count": null,
      "outputs": []
    },
    {
      "cell_type": "code",
      "source": [
        "df['RestingBP'] = df['RestingBP'].replace(0,resBP_mean).round(2)"
      ],
      "metadata": {
        "id": "b2uEZkEPt1tD"
      },
      "execution_count": null,
      "outputs": []
    },
    {
      "cell_type": "code",
      "source": [
        "numeric_var_plotting('Age',1)\n",
        "numeric_var_plotting('RestingBP',2)\n",
        "numeric_var_plotting('Cholesterol',3)\n",
        "numeric_var_plotting('MaxHR',4)\n"
      ],
      "metadata": {
        "colab": {
          "base_uri": "https://localhost:8080/",
          "height": 487
        },
        "id": "1h51_x0Et60E",
        "outputId": "0c65feaa-09cc-4ff5-e153-4509e831aab3"
      },
      "execution_count": null,
      "outputs": [
        {
          "output_type": "display_data",
          "data": {
            "text/plain": [
              "<Figure size 640x480 with 4 Axes>"
            ],
            "image/png": "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\n"
          },
          "metadata": {}
        }
      ]
    },
    {
      "cell_type": "code",
      "source": [
        "import sheryanalysis as sher"
      ],
      "metadata": {
        "id": "APG_yVOHunC5"
      },
      "execution_count": null,
      "outputs": []
    },
    {
      "cell_type": "code",
      "source": [
        "sher.analyze(df)"
      ],
      "metadata": {
        "colab": {
          "base_uri": "https://localhost:8080/"
        },
        "id": "LZrvQKawuspP",
        "outputId": "45e9da17-4edb-4494-e91c-fe5515177cae"
      },
      "execution_count": null,
      "outputs": [
        {
          "output_type": "stream",
          "name": "stdout",
          "text": [
            "\n",
            "🔍 Basic Analysis Report\n"
          ]
        },
        {
          "output_type": "stream",
          "name": "stderr",
          "text": [
            "INFO:sheryanalysis:\n",
            "🔍 Basic Analysis Report\n"
          ]
        },
        {
          "output_type": "stream",
          "name": "stdout",
          "text": [
            "------------------------------------------------------------\n"
          ]
        },
        {
          "output_type": "stream",
          "name": "stderr",
          "text": [
            "INFO:sheryanalysis:------------------------------------------------------------\n"
          ]
        },
        {
          "output_type": "stream",
          "name": "stdout",
          "text": [
            "📏 Shape: (918, 12)\n"
          ]
        },
        {
          "output_type": "stream",
          "name": "stderr",
          "text": [
            "INFO:sheryanalysis:📏 Shape: (918, 12)\n"
          ]
        },
        {
          "output_type": "stream",
          "name": "stdout",
          "text": [
            "🧱 Columns: ['Age', 'Sex', 'ChestPainType', 'RestingBP', 'Cholesterol', 'FastingBS', 'RestingECG', 'MaxHR', 'ExerciseAngina', 'Oldpeak', 'ST_Slope', 'HeartDisease']\n"
          ]
        },
        {
          "output_type": "stream",
          "name": "stderr",
          "text": [
            "INFO:sheryanalysis:🧱 Columns: ['Age', 'Sex', 'ChestPainType', 'RestingBP', 'Cholesterol', 'FastingBS', 'RestingECG', 'MaxHR', 'ExerciseAngina', 'Oldpeak', 'ST_Slope', 'HeartDisease']\n"
          ]
        },
        {
          "output_type": "stream",
          "name": "stdout",
          "text": [
            "\n",
            "✅ No null values found\n"
          ]
        },
        {
          "output_type": "stream",
          "name": "stderr",
          "text": [
            "INFO:sheryanalysis:\n",
            "✅ No null values found\n"
          ]
        },
        {
          "output_type": "stream",
          "name": "stdout",
          "text": [
            "\n",
            "🔠 Categorical Columns: ['Sex', 'ChestPainType', 'FastingBS', 'RestingECG', 'ExerciseAngina', 'ST_Slope', 'HeartDisease']\n"
          ]
        },
        {
          "output_type": "stream",
          "name": "stderr",
          "text": [
            "INFO:sheryanalysis:\n",
            "🔠 Categorical Columns: ['Sex', 'ChestPainType', 'FastingBS', 'RestingECG', 'ExerciseAngina', 'ST_Slope', 'HeartDisease']\n"
          ]
        },
        {
          "output_type": "stream",
          "name": "stdout",
          "text": [
            "\n",
            "🔢 Numerical Columns: ['Age', 'RestingBP', 'Cholesterol', 'MaxHR', 'Oldpeak']\n"
          ]
        },
        {
          "output_type": "stream",
          "name": "stderr",
          "text": [
            "INFO:sheryanalysis:\n",
            "🔢 Numerical Columns: ['Age', 'RestingBP', 'Cholesterol', 'MaxHR', 'Oldpeak']\n"
          ]
        },
        {
          "output_type": "execute_result",
          "data": {
            "text/plain": [
              "{'shape': (918, 12),\n",
              " 'columns': ['Age',\n",
              "  'Sex',\n",
              "  'ChestPainType',\n",
              "  'RestingBP',\n",
              "  'Cholesterol',\n",
              "  'FastingBS',\n",
              "  'RestingECG',\n",
              "  'MaxHR',\n",
              "  'ExerciseAngina',\n",
              "  'Oldpeak',\n",
              "  'ST_Slope',\n",
              "  'HeartDisease'],\n",
              " 'dtypes': {'Age': dtype('int64'),\n",
              "  'Sex': dtype('O'),\n",
              "  'ChestPainType': dtype('O'),\n",
              "  'RestingBP': dtype('float64'),\n",
              "  'Cholesterol': dtype('float64'),\n",
              "  'FastingBS': dtype('int64'),\n",
              "  'RestingECG': dtype('O'),\n",
              "  'MaxHR': dtype('int64'),\n",
              "  'ExerciseAngina': dtype('O'),\n",
              "  'Oldpeak': dtype('float64'),\n",
              "  'ST_Slope': dtype('O'),\n",
              "  'HeartDisease': dtype('int64')},\n",
              " 'null_counts': {'Age': 0,\n",
              "  'Sex': 0,\n",
              "  'ChestPainType': 0,\n",
              "  'RestingBP': 0,\n",
              "  'Cholesterol': 0,\n",
              "  'FastingBS': 0,\n",
              "  'RestingECG': 0,\n",
              "  'MaxHR': 0,\n",
              "  'ExerciseAngina': 0,\n",
              "  'Oldpeak': 0,\n",
              "  'ST_Slope': 0,\n",
              "  'HeartDisease': 0},\n",
              " 'total_rows': 918,\n",
              " 'column_types': {'categorical': ['Sex',\n",
              "   'ChestPainType',\n",
              "   'FastingBS',\n",
              "   'RestingECG',\n",
              "   'ExerciseAngina',\n",
              "   'ST_Slope',\n",
              "   'HeartDisease'],\n",
              "  'numerical': ['Age', 'RestingBP', 'Cholesterol', 'MaxHR', 'Oldpeak'],\n",
              "  'datetime': [],\n",
              "  'text': []}}"
            ]
          },
          "metadata": {},
          "execution_count": 256
        }
      ]
    },
    {
      "cell_type": "markdown",
      "source": [
        "# Now we create countplots which are best to visualize distribution of **Categorical Variables**\n",
        "\n",
        "\n",
        "---\n",
        "\n"
      ],
      "metadata": {
        "id": "fqeBCIRS3zUB"
      }
    },
    {
      "cell_type": "code",
      "source": [
        "def categorical_var_plotting(var_list, hue_column):\n",
        "    plt.figure(figsize=(8, 3 * len(var_list)))  # Adjust height based on number of plots\n",
        "\n",
        "    for idx, var in enumerate(var_list, 1):\n",
        "        plt.subplot(len(var_list), 2, idx)\n",
        "        sns.countplot(data=df, x=var, hue=df[hue_column])\n",
        "\n",
        "    plt.tight_layout()\n"
      ],
      "metadata": {
        "id": "We6Ca1divQ10"
      },
      "execution_count": null,
      "outputs": []
    },
    {
      "cell_type": "markdown",
      "source": [
        "# Line-by-line explanation of the function:\n",
        "\n",
        "def categorical_var_plotting(var_list, hue_column):\n",
        "    # Start of the function. It takes two inputs:\n",
        "    # var_list: a list of categorical column names (e.g., ['Sex', 'ChestPainType'])\n",
        "    # hue_column: the name of another column (like 'Target')\n",
        "    used to color the bars differently\n",
        "    \n",
        "    plt.figure(figsize=(8, 5 * len(var_list)))\n",
        "    # Creates a blank figure to hold all subplots.\n",
        "    # figsize controls the size of the figure. Width is 8, height is\n",
        "    5 multiplied by number of plots.\n",
        "    # This ensures that each plot has enough vertical space.\n",
        "\n",
        "    for idx, var in enumerate(var_list, 1):\n",
        "        # Loop through each variable in var_list.\n",
        "        # enumerate(..., 1) means it gives both index (starting from 1)\n",
        "        and variable name.\n",
        "\n",
        "        plt.subplot(len(var_list), 1, idx)\n",
        "        # This creates a subplot (i.e., one section of the full figure)\n",
        "        where the plot will be drawn.\n",
        "        # len(var_list): total number of rows of subplots\n",
        "        # 1: number of columns\n",
        "        # idx: which subplot position (1st, 2nd, etc.)\n",
        "\n",
        "        sns.countplot(data=df, x=var, hue=df[hue_column])\n",
        "        # Creates a countplot (bar chart) using Seaborn.\n",
        "        # x=var → category to be counted on the x-axis.\n",
        "        # hue=df[hue_column] → splits bars by hue_column\n",
        "        (adds different colors).\n",
        "\n",
        "        plt.title(f'{var} vs {hue_column}')\n",
        "        # Adds a title above each subplot showing what is being compared.\n",
        "\n",
        "    plt.tight_layout()\n",
        "    # Automatically adjusts spacing between subplots\n",
        "    so they don't overlap.\n"
      ],
      "metadata": {
        "id": "I0aKPblo13Tp"
      }
    },
    {
      "cell_type": "code",
      "source": [
        "cat_cols = ['Sex', 'ChestPainType', 'FastingBS', 'RestingECG']\n",
        "categorical_var_plotting(cat_cols, 'HeartDisease')  # HeartDisease is hue column"
      ],
      "metadata": {
        "colab": {
          "base_uri": "https://localhost:8080/",
          "height": 636
        },
        "id": "MLB1FGHKvxuA",
        "outputId": "a66a0650-65e5-4169-d0a2-f60c49d0c7a3"
      },
      "execution_count": null,
      "outputs": [
        {
          "output_type": "display_data",
          "data": {
            "text/plain": [
              "<Figure size 800x1200 with 4 Axes>"
            ],
            "image/png": "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\n"
          },
          "metadata": {}
        }
      ]
    },
    {
      "cell_type": "markdown",
      "source": [
        "# Now we will create some **Boxplots** - used to identify relationships between our numerical and categorical variables\n",
        "\n",
        "---\n",
        "\n"
      ],
      "metadata": {
        "id": "gZyb1TeU4Wvw"
      }
    },
    {
      "cell_type": "code",
      "source": [
        "sns.boxplot(x = 'HeartDisease',y = 'Cholesterol',  data = df)"
      ],
      "metadata": {
        "colab": {
          "base_uri": "https://localhost:8080/",
          "height": 466
        },
        "id": "altvvFEr2pPs",
        "outputId": "63b79eee-3c12-417d-e485-ecefd9879b2e"
      },
      "execution_count": null,
      "outputs": [
        {
          "output_type": "execute_result",
          "data": {
            "text/plain": [
              "<Axes: xlabel='HeartDisease', ylabel='Cholesterol'>"
            ]
          },
          "metadata": {},
          "execution_count": 259
        },
        {
          "output_type": "display_data",
          "data": {
            "text/plain": [
              "<Figure size 640x480 with 1 Axes>"
            ],
            "image/png": "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\n"
          },
          "metadata": {}
        }
      ]
    },
    {
      "cell_type": "markdown",
      "source": [
        "#🔍 Interpretation of  BoxPlot:\n",
        "###1. Both groups (0 and 1) have similar median cholesterol levels (around 240–250).\n",
        "\n",
        "###2. Outliers are present in both groups, indicating some individuals with very high cholesterol.\n",
        "\n",
        "###3. People with heart disease (1) have slightly lower variability in cholesterol, but the difference is not large."
      ],
      "metadata": {
        "id": "7nBJf6Z052i-"
      }
    },
    {
      "cell_type": "code",
      "source": [
        "sns.violinplot(x = 'HeartDisease', y = 'Age', data = df)"
      ],
      "metadata": {
        "colab": {
          "base_uri": "https://localhost:8080/",
          "height": 466
        },
        "id": "dcUZ4iEd6J15",
        "outputId": "0f3b30e0-fb12-4c1e-8b2b-29e36871aaf5"
      },
      "execution_count": null,
      "outputs": [
        {
          "output_type": "execute_result",
          "data": {
            "text/plain": [
              "<Axes: xlabel='HeartDisease', ylabel='Age'>"
            ]
          },
          "metadata": {},
          "execution_count": 260
        },
        {
          "output_type": "display_data",
          "data": {
            "text/plain": [
              "<Figure size 640x480 with 1 Axes>"
            ],
            "image/png": "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\n"
          },
          "metadata": {}
        }
      ]
    },
    {
      "cell_type": "markdown",
      "source": [
        "##🔍 Key Elements:\n",
        "\n",
        "```\n",
        "Thick white dot\t- Median age (middle value)\n",
        "\n",
        "Thick black bar -\tInterquartile range (25% to 75%)\n",
        "\n",
        "Thin vertical line\tWhiskers — range of typical values\n",
        "\n",
        "Width of the violin -\tMore data points (wider =\n",
        "                          more frequent values)\n",
        "```\n",
        "\n",
        "\n",
        "\n",
        "#🧠 Interpretation:\n",
        "```\n",
        "People without heart disease (0):\n",
        "Median age slightly lower, with more spread in the 40–55 range.\n",
        "\n",
        "\n",
        "People with heart disease (1):\n",
        "Median age is slightly higher, and distribution is denser\n",
        "between ages 50–65.\n",
        "\n",
        "\n",
        "Both groups have a similar overall age range (~30 to ~80),\n",
        " but the distribution shape differs.\n",
        "```\n",
        "\n",
        "##💡 Conclusion:\n",
        "\n",
        "###This plot suggests that people with heart disease tend to be slightly older on average, and their age distribution is more centered in the 50s and 60s. Violin plots help visualize both summary statistics and distribution shape together."
      ],
      "metadata": {
        "id": "12t9FgyB6_8p"
      }
    },
    {
      "cell_type": "code",
      "source": [
        "sns.heatmap(df.corr(numeric_only=True), annot = True, cmap = 'coolwarm')"
      ],
      "metadata": {
        "colab": {
          "base_uri": "https://localhost:8080/",
          "height": 532
        },
        "id": "ICYEUvtz7SAi",
        "outputId": "cfa92dbe-e753-401b-b16d-cce2c5eec6d1"
      },
      "execution_count": null,
      "outputs": [
        {
          "output_type": "execute_result",
          "data": {
            "text/plain": [
              "<Axes: >"
            ]
          },
          "metadata": {},
          "execution_count": 261
        },
        {
          "output_type": "display_data",
          "data": {
            "text/plain": [
              "<Figure size 640x480 with 2 Axes>"
            ],
            "image/png": "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\n"
          },
          "metadata": {}
        }
      ]
    },
    {
      "cell_type": "markdown",
      "source": [
        "## We will select all columns as they are all kind of correlated with our target output variable i.e Heart Disease"
      ],
      "metadata": {
        "id": "QJU4fG9C8sXk"
      }
    },
    {
      "cell_type": "markdown",
      "source": [
        "# Data Preprocessing and Feature Scaling\n",
        "\n",
        "---\n",
        "\n"
      ],
      "metadata": {
        "id": "wk6c-jCb88Ul"
      }
    },
    {
      "cell_type": "code",
      "source": [
        "df.head(3)"
      ],
      "metadata": {
        "colab": {
          "base_uri": "https://localhost:8080/",
          "height": 143
        },
        "id": "tjJLoLPD8Uhw",
        "outputId": "ba9f630a-f19e-4319-dbc7-37092c2f0108"
      },
      "execution_count": null,
      "outputs": [
        {
          "output_type": "execute_result",
          "data": {
            "text/plain": [
              "   Age Sex ChestPainType  RestingBP  Cholesterol  FastingBS RestingECG  MaxHR  \\\n",
              "0   40   M           ATA      140.0        289.0          0     Normal    172   \n",
              "1   49   F           NAP      160.0        180.0          0     Normal    156   \n",
              "2   37   M           ATA      130.0        283.0          0         ST     98   \n",
              "\n",
              "  ExerciseAngina  Oldpeak ST_Slope  HeartDisease  \n",
              "0              N      0.0       Up             0  \n",
              "1              N      1.0     Flat             1  \n",
              "2              N      0.0       Up             0  "
            ],
            "text/html": [
              "\n",
              "  <div id=\"df-b1d047b8-6f9c-4394-b2fc-5025b935cbb4\" class=\"colab-df-container\">\n",
              "    <div>\n",
              "<style scoped>\n",
              "    .dataframe tbody tr th:only-of-type {\n",
              "        vertical-align: middle;\n",
              "    }\n",
              "\n",
              "    .dataframe tbody tr th {\n",
              "        vertical-align: top;\n",
              "    }\n",
              "\n",
              "    .dataframe thead th {\n",
              "        text-align: right;\n",
              "    }\n",
              "</style>\n",
              "<table border=\"1\" class=\"dataframe\">\n",
              "  <thead>\n",
              "    <tr style=\"text-align: right;\">\n",
              "      <th></th>\n",
              "      <th>Age</th>\n",
              "      <th>Sex</th>\n",
              "      <th>ChestPainType</th>\n",
              "      <th>RestingBP</th>\n",
              "      <th>Cholesterol</th>\n",
              "      <th>FastingBS</th>\n",
              "      <th>RestingECG</th>\n",
              "      <th>MaxHR</th>\n",
              "      <th>ExerciseAngina</th>\n",
              "      <th>Oldpeak</th>\n",
              "      <th>ST_Slope</th>\n",
              "      <th>HeartDisease</th>\n",
              "    </tr>\n",
              "  </thead>\n",
              "  <tbody>\n",
              "    <tr>\n",
              "      <th>0</th>\n",
              "      <td>40</td>\n",
              "      <td>M</td>\n",
              "      <td>ATA</td>\n",
              "      <td>140.0</td>\n",
              "      <td>289.0</td>\n",
              "      <td>0</td>\n",
              "      <td>Normal</td>\n",
              "      <td>172</td>\n",
              "      <td>N</td>\n",
              "      <td>0.0</td>\n",
              "      <td>Up</td>\n",
              "      <td>0</td>\n",
              "    </tr>\n",
              "    <tr>\n",
              "      <th>1</th>\n",
              "      <td>49</td>\n",
              "      <td>F</td>\n",
              "      <td>NAP</td>\n",
              "      <td>160.0</td>\n",
              "      <td>180.0</td>\n",
              "      <td>0</td>\n",
              "      <td>Normal</td>\n",
              "      <td>156</td>\n",
              "      <td>N</td>\n",
              "      <td>1.0</td>\n",
              "      <td>Flat</td>\n",
              "      <td>1</td>\n",
              "    </tr>\n",
              "    <tr>\n",
              "      <th>2</th>\n",
              "      <td>37</td>\n",
              "      <td>M</td>\n",
              "      <td>ATA</td>\n",
              "      <td>130.0</td>\n",
              "      <td>283.0</td>\n",
              "      <td>0</td>\n",
              "      <td>ST</td>\n",
              "      <td>98</td>\n",
              "      <td>N</td>\n",
              "      <td>0.0</td>\n",
              "      <td>Up</td>\n",
              "      <td>0</td>\n",
              "    </tr>\n",
              "  </tbody>\n",
              "</table>\n",
              "</div>\n",
              "    <div class=\"colab-df-buttons\">\n",
              "\n",
              "  <div class=\"colab-df-container\">\n",
              "    <button class=\"colab-df-convert\" onclick=\"convertToInteractive('df-b1d047b8-6f9c-4394-b2fc-5025b935cbb4')\"\n",
              "            title=\"Convert this dataframe to an interactive table.\"\n",
              "            style=\"display:none;\">\n",
              "\n",
              "  <svg xmlns=\"http://www.w3.org/2000/svg\" height=\"24px\" viewBox=\"0 -960 960 960\">\n",
              "    <path d=\"M120-120v-720h720v720H120Zm60-500h600v-160H180v160Zm220 220h160v-160H400v160Zm0 220h160v-160H400v160ZM180-400h160v-160H180v160Zm440 0h160v-160H620v160ZM180-180h160v-160H180v160Zm440 0h160v-160H620v160Z\"/>\n",
              "  </svg>\n",
              "    </button>\n",
              "\n",
              "  <style>\n",
              "    .colab-df-container {\n",
              "      display:flex;\n",
              "      gap: 12px;\n",
              "    }\n",
              "\n",
              "    .colab-df-convert {\n",
              "      background-color: #E8F0FE;\n",
              "      border: none;\n",
              "      border-radius: 50%;\n",
              "      cursor: pointer;\n",
              "      display: none;\n",
              "      fill: #1967D2;\n",
              "      height: 32px;\n",
              "      padding: 0 0 0 0;\n",
              "      width: 32px;\n",
              "    }\n",
              "\n",
              "    .colab-df-convert:hover {\n",
              "      background-color: #E2EBFA;\n",
              "      box-shadow: 0px 1px 2px rgba(60, 64, 67, 0.3), 0px 1px 3px 1px rgba(60, 64, 67, 0.15);\n",
              "      fill: #174EA6;\n",
              "    }\n",
              "\n",
              "    .colab-df-buttons div {\n",
              "      margin-bottom: 4px;\n",
              "    }\n",
              "\n",
              "    [theme=dark] .colab-df-convert {\n",
              "      background-color: #3B4455;\n",
              "      fill: #D2E3FC;\n",
              "    }\n",
              "\n",
              "    [theme=dark] .colab-df-convert:hover {\n",
              "      background-color: #434B5C;\n",
              "      box-shadow: 0px 1px 3px 1px rgba(0, 0, 0, 0.15);\n",
              "      filter: drop-shadow(0px 1px 2px rgba(0, 0, 0, 0.3));\n",
              "      fill: #FFFFFF;\n",
              "    }\n",
              "  </style>\n",
              "\n",
              "    <script>\n",
              "      const buttonEl =\n",
              "        document.querySelector('#df-b1d047b8-6f9c-4394-b2fc-5025b935cbb4 button.colab-df-convert');\n",
              "      buttonEl.style.display =\n",
              "        google.colab.kernel.accessAllowed ? 'block' : 'none';\n",
              "\n",
              "      async function convertToInteractive(key) {\n",
              "        const element = document.querySelector('#df-b1d047b8-6f9c-4394-b2fc-5025b935cbb4');\n",
              "        const dataTable =\n",
              "          await google.colab.kernel.invokeFunction('convertToInteractive',\n",
              "                                                    [key], {});\n",
              "        if (!dataTable) return;\n",
              "\n",
              "        const docLinkHtml = 'Like what you see? Visit the ' +\n",
              "          '<a target=\"_blank\" href=https://colab.research.google.com/notebooks/data_table.ipynb>data table notebook</a>'\n",
              "          + ' to learn more about interactive tables.';\n",
              "        element.innerHTML = '';\n",
              "        dataTable['output_type'] = 'display_data';\n",
              "        await google.colab.output.renderOutput(dataTable, element);\n",
              "        const docLink = document.createElement('div');\n",
              "        docLink.innerHTML = docLinkHtml;\n",
              "        element.appendChild(docLink);\n",
              "      }\n",
              "    </script>\n",
              "  </div>\n",
              "\n",
              "\n",
              "    <div id=\"df-64f7f625-cbba-433f-ba3e-bbd912f0aaf8\">\n",
              "      <button class=\"colab-df-quickchart\" onclick=\"quickchart('df-64f7f625-cbba-433f-ba3e-bbd912f0aaf8')\"\n",
              "                title=\"Suggest charts\"\n",
              "                style=\"display:none;\">\n",
              "\n",
              "<svg xmlns=\"http://www.w3.org/2000/svg\" height=\"24px\"viewBox=\"0 0 24 24\"\n",
              "     width=\"24px\">\n",
              "    <g>\n",
              "        <path d=\"M19 3H5c-1.1 0-2 .9-2 2v14c0 1.1.9 2 2 2h14c1.1 0 2-.9 2-2V5c0-1.1-.9-2-2-2zM9 17H7v-7h2v7zm4 0h-2V7h2v10zm4 0h-2v-4h2v4z\"/>\n",
              "    </g>\n",
              "</svg>\n",
              "      </button>\n",
              "\n",
              "<style>\n",
              "  .colab-df-quickchart {\n",
              "      --bg-color: #E8F0FE;\n",
              "      --fill-color: #1967D2;\n",
              "      --hover-bg-color: #E2EBFA;\n",
              "      --hover-fill-color: #174EA6;\n",
              "      --disabled-fill-color: #AAA;\n",
              "      --disabled-bg-color: #DDD;\n",
              "  }\n",
              "\n",
              "  [theme=dark] .colab-df-quickchart {\n",
              "      --bg-color: #3B4455;\n",
              "      --fill-color: #D2E3FC;\n",
              "      --hover-bg-color: #434B5C;\n",
              "      --hover-fill-color: #FFFFFF;\n",
              "      --disabled-bg-color: #3B4455;\n",
              "      --disabled-fill-color: #666;\n",
              "  }\n",
              "\n",
              "  .colab-df-quickchart {\n",
              "    background-color: var(--bg-color);\n",
              "    border: none;\n",
              "    border-radius: 50%;\n",
              "    cursor: pointer;\n",
              "    display: none;\n",
              "    fill: var(--fill-color);\n",
              "    height: 32px;\n",
              "    padding: 0;\n",
              "    width: 32px;\n",
              "  }\n",
              "\n",
              "  .colab-df-quickchart:hover {\n",
              "    background-color: var(--hover-bg-color);\n",
              "    box-shadow: 0 1px 2px rgba(60, 64, 67, 0.3), 0 1px 3px 1px rgba(60, 64, 67, 0.15);\n",
              "    fill: var(--button-hover-fill-color);\n",
              "  }\n",
              "\n",
              "  .colab-df-quickchart-complete:disabled,\n",
              "  .colab-df-quickchart-complete:disabled:hover {\n",
              "    background-color: var(--disabled-bg-color);\n",
              "    fill: var(--disabled-fill-color);\n",
              "    box-shadow: none;\n",
              "  }\n",
              "\n",
              "  .colab-df-spinner {\n",
              "    border: 2px solid var(--fill-color);\n",
              "    border-color: transparent;\n",
              "    border-bottom-color: var(--fill-color);\n",
              "    animation:\n",
              "      spin 1s steps(1) infinite;\n",
              "  }\n",
              "\n",
              "  @keyframes spin {\n",
              "    0% {\n",
              "      border-color: transparent;\n",
              "      border-bottom-color: var(--fill-color);\n",
              "      border-left-color: var(--fill-color);\n",
              "    }\n",
              "    20% {\n",
              "      border-color: transparent;\n",
              "      border-left-color: var(--fill-color);\n",
              "      border-top-color: var(--fill-color);\n",
              "    }\n",
              "    30% {\n",
              "      border-color: transparent;\n",
              "      border-left-color: var(--fill-color);\n",
              "      border-top-color: var(--fill-color);\n",
              "      border-right-color: var(--fill-color);\n",
              "    }\n",
              "    40% {\n",
              "      border-color: transparent;\n",
              "      border-right-color: var(--fill-color);\n",
              "      border-top-color: var(--fill-color);\n",
              "    }\n",
              "    60% {\n",
              "      border-color: transparent;\n",
              "      border-right-color: var(--fill-color);\n",
              "    }\n",
              "    80% {\n",
              "      border-color: transparent;\n",
              "      border-right-color: var(--fill-color);\n",
              "      border-bottom-color: var(--fill-color);\n",
              "    }\n",
              "    90% {\n",
              "      border-color: transparent;\n",
              "      border-bottom-color: var(--fill-color);\n",
              "    }\n",
              "  }\n",
              "</style>\n",
              "\n",
              "      <script>\n",
              "        async function quickchart(key) {\n",
              "          const quickchartButtonEl =\n",
              "            document.querySelector('#' + key + ' button');\n",
              "          quickchartButtonEl.disabled = true;  // To prevent multiple clicks.\n",
              "          quickchartButtonEl.classList.add('colab-df-spinner');\n",
              "          try {\n",
              "            const charts = await google.colab.kernel.invokeFunction(\n",
              "                'suggestCharts', [key], {});\n",
              "          } catch (error) {\n",
              "            console.error('Error during call to suggestCharts:', error);\n",
              "          }\n",
              "          quickchartButtonEl.classList.remove('colab-df-spinner');\n",
              "          quickchartButtonEl.classList.add('colab-df-quickchart-complete');\n",
              "        }\n",
              "        (() => {\n",
              "          let quickchartButtonEl =\n",
              "            document.querySelector('#df-64f7f625-cbba-433f-ba3e-bbd912f0aaf8 button');\n",
              "          quickchartButtonEl.style.display =\n",
              "            google.colab.kernel.accessAllowed ? 'block' : 'none';\n",
              "        })();\n",
              "      </script>\n",
              "    </div>\n",
              "\n",
              "    </div>\n",
              "  </div>\n"
            ],
            "application/vnd.google.colaboratory.intrinsic+json": {
              "type": "dataframe",
              "variable_name": "df",
              "summary": "{\n  \"name\": \"df\",\n  \"rows\": 918,\n  \"fields\": [\n    {\n      \"column\": \"Age\",\n      \"properties\": {\n        \"dtype\": \"number\",\n        \"std\": 9,\n        \"min\": 28,\n        \"max\": 77,\n        \"num_unique_values\": 50,\n        \"samples\": [\n          44,\n          68,\n          66\n        ],\n        \"semantic_type\": \"\",\n        \"description\": \"\"\n      }\n    },\n    {\n      \"column\": \"Sex\",\n      \"properties\": {\n        \"dtype\": \"category\",\n        \"num_unique_values\": 2,\n        \"samples\": [\n          \"F\",\n          \"M\"\n        ],\n        \"semantic_type\": \"\",\n        \"description\": \"\"\n      }\n    },\n    {\n      \"column\": \"ChestPainType\",\n      \"properties\": {\n        \"dtype\": \"category\",\n        \"num_unique_values\": 4,\n        \"samples\": [\n          \"NAP\",\n          \"TA\"\n        ],\n        \"semantic_type\": \"\",\n        \"description\": \"\"\n      }\n    },\n    {\n      \"column\": \"RestingBP\",\n      \"properties\": {\n        \"dtype\": \"number\",\n        \"std\": 17.989931646360347,\n        \"min\": 80.0,\n        \"max\": 200.0,\n        \"num_unique_values\": 67,\n        \"samples\": [\n          165.0,\n          118.0\n        ],\n        \"semantic_type\": \"\",\n        \"description\": \"\"\n      }\n    },\n    {\n      \"column\": \"Cholesterol\",\n      \"properties\": {\n        \"dtype\": \"number\",\n        \"std\": 53.31802926823504,\n        \"min\": 85.0,\n        \"max\": 603.0,\n        \"num_unique_values\": 222,\n        \"samples\": [\n          305.0,\n          321.0\n        ],\n        \"semantic_type\": \"\",\n        \"description\": \"\"\n      }\n    },\n    {\n      \"column\": \"FastingBS\",\n      \"properties\": {\n        \"dtype\": \"number\",\n        \"std\": 0,\n        \"min\": 0,\n        \"max\": 1,\n        \"num_unique_values\": 2,\n        \"samples\": [\n          1,\n          0\n        ],\n        \"semantic_type\": \"\",\n        \"description\": \"\"\n      }\n    },\n    {\n      \"column\": \"RestingECG\",\n      \"properties\": {\n        \"dtype\": \"category\",\n        \"num_unique_values\": 3,\n        \"samples\": [\n          \"Normal\",\n          \"ST\"\n        ],\n        \"semantic_type\": \"\",\n        \"description\": \"\"\n      }\n    },\n    {\n      \"column\": \"MaxHR\",\n      \"properties\": {\n        \"dtype\": \"number\",\n        \"std\": 25,\n        \"min\": 60,\n        \"max\": 202,\n        \"num_unique_values\": 119,\n        \"samples\": [\n          132,\n          157\n        ],\n        \"semantic_type\": \"\",\n        \"description\": \"\"\n      }\n    },\n    {\n      \"column\": \"ExerciseAngina\",\n      \"properties\": {\n        \"dtype\": \"category\",\n        \"num_unique_values\": 2,\n        \"samples\": [\n          \"Y\",\n          \"N\"\n        ],\n        \"semantic_type\": \"\",\n        \"description\": \"\"\n      }\n    },\n    {\n      \"column\": \"Oldpeak\",\n      \"properties\": {\n        \"dtype\": \"number\",\n        \"std\": 1.0665701510493233,\n        \"min\": -2.6,\n        \"max\": 6.2,\n        \"num_unique_values\": 53,\n        \"samples\": [\n          1.3,\n          0.6\n        ],\n        \"semantic_type\": \"\",\n        \"description\": \"\"\n      }\n    },\n    {\n      \"column\": \"ST_Slope\",\n      \"properties\": {\n        \"dtype\": \"category\",\n        \"num_unique_values\": 3,\n        \"samples\": [\n          \"Up\",\n          \"Flat\"\n        ],\n        \"semantic_type\": \"\",\n        \"description\": \"\"\n      }\n    },\n    {\n      \"column\": \"HeartDisease\",\n      \"properties\": {\n        \"dtype\": \"number\",\n        \"std\": 0,\n        \"min\": 0,\n        \"max\": 1,\n        \"num_unique_values\": 2,\n        \"samples\": [\n          1,\n          0\n        ],\n        \"semantic_type\": \"\",\n        \"description\": \"\"\n      }\n    }\n  ]\n}"
            }
          },
          "metadata": {},
          "execution_count": 262
        }
      ]
    },
    {
      "cell_type": "code",
      "source": [
        "df.info()"
      ],
      "metadata": {
        "colab": {
          "base_uri": "https://localhost:8080/"
        },
        "id": "Fnqs3hF89D5L",
        "outputId": "083dba70-c822-4c0f-9e51-fd3425a055e0"
      },
      "execution_count": null,
      "outputs": [
        {
          "output_type": "stream",
          "name": "stdout",
          "text": [
            "<class 'pandas.core.frame.DataFrame'>\n",
            "RangeIndex: 918 entries, 0 to 917\n",
            "Data columns (total 12 columns):\n",
            " #   Column          Non-Null Count  Dtype  \n",
            "---  ------          --------------  -----  \n",
            " 0   Age             918 non-null    int64  \n",
            " 1   Sex             918 non-null    object \n",
            " 2   ChestPainType   918 non-null    object \n",
            " 3   RestingBP       918 non-null    float64\n",
            " 4   Cholesterol     918 non-null    float64\n",
            " 5   FastingBS       918 non-null    int64  \n",
            " 6   RestingECG      918 non-null    object \n",
            " 7   MaxHR           918 non-null    int64  \n",
            " 8   ExerciseAngina  918 non-null    object \n",
            " 9   Oldpeak         918 non-null    float64\n",
            " 10  ST_Slope        918 non-null    object \n",
            " 11  HeartDisease    918 non-null    int64  \n",
            "dtypes: float64(3), int64(4), object(5)\n",
            "memory usage: 86.2+ KB\n"
          ]
        }
      ]
    },
    {
      "cell_type": "code",
      "source": [
        "df_encoded = pd.get_dummies(df, drop_first=True) #this scales down categorical vars into 0s and 1s"
      ],
      "metadata": {
        "id": "u5BX7rj_9Hcc"
      },
      "execution_count": null,
      "outputs": []
    },
    {
      "cell_type": "code",
      "source": [
        "df_encoded.head(3)"
      ],
      "metadata": {
        "colab": {
          "base_uri": "https://localhost:8080/",
          "height": 163
        },
        "id": "4BT907va9knd",
        "outputId": "176ea7d7-84ee-4a8f-9cbc-82df95513f10"
      },
      "execution_count": null,
      "outputs": [
        {
          "output_type": "execute_result",
          "data": {
            "text/plain": [
              "   Age  RestingBP  Cholesterol  FastingBS  MaxHR  Oldpeak  HeartDisease  \\\n",
              "0   40      140.0        289.0          0    172      0.0             0   \n",
              "1   49      160.0        180.0          0    156      1.0             1   \n",
              "2   37      130.0        283.0          0     98      0.0             0   \n",
              "\n",
              "   Sex_M  ChestPainType_ATA  ChestPainType_NAP  ChestPainType_TA  \\\n",
              "0   True               True              False             False   \n",
              "1  False              False               True             False   \n",
              "2   True               True              False             False   \n",
              "\n",
              "   RestingECG_Normal  RestingECG_ST  ExerciseAngina_Y  ST_Slope_Flat  \\\n",
              "0               True          False             False          False   \n",
              "1               True          False             False           True   \n",
              "2              False           True             False          False   \n",
              "\n",
              "   ST_Slope_Up  \n",
              "0         True  \n",
              "1        False  \n",
              "2         True  "
            ],
            "text/html": [
              "\n",
              "  <div id=\"df-398f4088-a436-4d57-b3dc-6b5116125944\" class=\"colab-df-container\">\n",
              "    <div>\n",
              "<style scoped>\n",
              "    .dataframe tbody tr th:only-of-type {\n",
              "        vertical-align: middle;\n",
              "    }\n",
              "\n",
              "    .dataframe tbody tr th {\n",
              "        vertical-align: top;\n",
              "    }\n",
              "\n",
              "    .dataframe thead th {\n",
              "        text-align: right;\n",
              "    }\n",
              "</style>\n",
              "<table border=\"1\" class=\"dataframe\">\n",
              "  <thead>\n",
              "    <tr style=\"text-align: right;\">\n",
              "      <th></th>\n",
              "      <th>Age</th>\n",
              "      <th>RestingBP</th>\n",
              "      <th>Cholesterol</th>\n",
              "      <th>FastingBS</th>\n",
              "      <th>MaxHR</th>\n",
              "      <th>Oldpeak</th>\n",
              "      <th>HeartDisease</th>\n",
              "      <th>Sex_M</th>\n",
              "      <th>ChestPainType_ATA</th>\n",
              "      <th>ChestPainType_NAP</th>\n",
              "      <th>ChestPainType_TA</th>\n",
              "      <th>RestingECG_Normal</th>\n",
              "      <th>RestingECG_ST</th>\n",
              "      <th>ExerciseAngina_Y</th>\n",
              "      <th>ST_Slope_Flat</th>\n",
              "      <th>ST_Slope_Up</th>\n",
              "    </tr>\n",
              "  </thead>\n",
              "  <tbody>\n",
              "    <tr>\n",
              "      <th>0</th>\n",
              "      <td>40</td>\n",
              "      <td>140.0</td>\n",
              "      <td>289.0</td>\n",
              "      <td>0</td>\n",
              "      <td>172</td>\n",
              "      <td>0.0</td>\n",
              "      <td>0</td>\n",
              "      <td>True</td>\n",
              "      <td>True</td>\n",
              "      <td>False</td>\n",
              "      <td>False</td>\n",
              "      <td>True</td>\n",
              "      <td>False</td>\n",
              "      <td>False</td>\n",
              "      <td>False</td>\n",
              "      <td>True</td>\n",
              "    </tr>\n",
              "    <tr>\n",
              "      <th>1</th>\n",
              "      <td>49</td>\n",
              "      <td>160.0</td>\n",
              "      <td>180.0</td>\n",
              "      <td>0</td>\n",
              "      <td>156</td>\n",
              "      <td>1.0</td>\n",
              "      <td>1</td>\n",
              "      <td>False</td>\n",
              "      <td>False</td>\n",
              "      <td>True</td>\n",
              "      <td>False</td>\n",
              "      <td>True</td>\n",
              "      <td>False</td>\n",
              "      <td>False</td>\n",
              "      <td>True</td>\n",
              "      <td>False</td>\n",
              "    </tr>\n",
              "    <tr>\n",
              "      <th>2</th>\n",
              "      <td>37</td>\n",
              "      <td>130.0</td>\n",
              "      <td>283.0</td>\n",
              "      <td>0</td>\n",
              "      <td>98</td>\n",
              "      <td>0.0</td>\n",
              "      <td>0</td>\n",
              "      <td>True</td>\n",
              "      <td>True</td>\n",
              "      <td>False</td>\n",
              "      <td>False</td>\n",
              "      <td>False</td>\n",
              "      <td>True</td>\n",
              "      <td>False</td>\n",
              "      <td>False</td>\n",
              "      <td>True</td>\n",
              "    </tr>\n",
              "  </tbody>\n",
              "</table>\n",
              "</div>\n",
              "    <div class=\"colab-df-buttons\">\n",
              "\n",
              "  <div class=\"colab-df-container\">\n",
              "    <button class=\"colab-df-convert\" onclick=\"convertToInteractive('df-398f4088-a436-4d57-b3dc-6b5116125944')\"\n",
              "            title=\"Convert this dataframe to an interactive table.\"\n",
              "            style=\"display:none;\">\n",
              "\n",
              "  <svg xmlns=\"http://www.w3.org/2000/svg\" height=\"24px\" viewBox=\"0 -960 960 960\">\n",
              "    <path d=\"M120-120v-720h720v720H120Zm60-500h600v-160H180v160Zm220 220h160v-160H400v160Zm0 220h160v-160H400v160ZM180-400h160v-160H180v160Zm440 0h160v-160H620v160ZM180-180h160v-160H180v160Zm440 0h160v-160H620v160Z\"/>\n",
              "  </svg>\n",
              "    </button>\n",
              "\n",
              "  <style>\n",
              "    .colab-df-container {\n",
              "      display:flex;\n",
              "      gap: 12px;\n",
              "    }\n",
              "\n",
              "    .colab-df-convert {\n",
              "      background-color: #E8F0FE;\n",
              "      border: none;\n",
              "      border-radius: 50%;\n",
              "      cursor: pointer;\n",
              "      display: none;\n",
              "      fill: #1967D2;\n",
              "      height: 32px;\n",
              "      padding: 0 0 0 0;\n",
              "      width: 32px;\n",
              "    }\n",
              "\n",
              "    .colab-df-convert:hover {\n",
              "      background-color: #E2EBFA;\n",
              "      box-shadow: 0px 1px 2px rgba(60, 64, 67, 0.3), 0px 1px 3px 1px rgba(60, 64, 67, 0.15);\n",
              "      fill: #174EA6;\n",
              "    }\n",
              "\n",
              "    .colab-df-buttons div {\n",
              "      margin-bottom: 4px;\n",
              "    }\n",
              "\n",
              "    [theme=dark] .colab-df-convert {\n",
              "      background-color: #3B4455;\n",
              "      fill: #D2E3FC;\n",
              "    }\n",
              "\n",
              "    [theme=dark] .colab-df-convert:hover {\n",
              "      background-color: #434B5C;\n",
              "      box-shadow: 0px 1px 3px 1px rgba(0, 0, 0, 0.15);\n",
              "      filter: drop-shadow(0px 1px 2px rgba(0, 0, 0, 0.3));\n",
              "      fill: #FFFFFF;\n",
              "    }\n",
              "  </style>\n",
              "\n",
              "    <script>\n",
              "      const buttonEl =\n",
              "        document.querySelector('#df-398f4088-a436-4d57-b3dc-6b5116125944 button.colab-df-convert');\n",
              "      buttonEl.style.display =\n",
              "        google.colab.kernel.accessAllowed ? 'block' : 'none';\n",
              "\n",
              "      async function convertToInteractive(key) {\n",
              "        const element = document.querySelector('#df-398f4088-a436-4d57-b3dc-6b5116125944');\n",
              "        const dataTable =\n",
              "          await google.colab.kernel.invokeFunction('convertToInteractive',\n",
              "                                                    [key], {});\n",
              "        if (!dataTable) return;\n",
              "\n",
              "        const docLinkHtml = 'Like what you see? Visit the ' +\n",
              "          '<a target=\"_blank\" href=https://colab.research.google.com/notebooks/data_table.ipynb>data table notebook</a>'\n",
              "          + ' to learn more about interactive tables.';\n",
              "        element.innerHTML = '';\n",
              "        dataTable['output_type'] = 'display_data';\n",
              "        await google.colab.output.renderOutput(dataTable, element);\n",
              "        const docLink = document.createElement('div');\n",
              "        docLink.innerHTML = docLinkHtml;\n",
              "        element.appendChild(docLink);\n",
              "      }\n",
              "    </script>\n",
              "  </div>\n",
              "\n",
              "\n",
              "    <div id=\"df-5d58fcc2-2322-444c-9c66-c8dcbc33d7ae\">\n",
              "      <button class=\"colab-df-quickchart\" onclick=\"quickchart('df-5d58fcc2-2322-444c-9c66-c8dcbc33d7ae')\"\n",
              "                title=\"Suggest charts\"\n",
              "                style=\"display:none;\">\n",
              "\n",
              "<svg xmlns=\"http://www.w3.org/2000/svg\" height=\"24px\"viewBox=\"0 0 24 24\"\n",
              "     width=\"24px\">\n",
              "    <g>\n",
              "        <path d=\"M19 3H5c-1.1 0-2 .9-2 2v14c0 1.1.9 2 2 2h14c1.1 0 2-.9 2-2V5c0-1.1-.9-2-2-2zM9 17H7v-7h2v7zm4 0h-2V7h2v10zm4 0h-2v-4h2v4z\"/>\n",
              "    </g>\n",
              "</svg>\n",
              "      </button>\n",
              "\n",
              "<style>\n",
              "  .colab-df-quickchart {\n",
              "      --bg-color: #E8F0FE;\n",
              "      --fill-color: #1967D2;\n",
              "      --hover-bg-color: #E2EBFA;\n",
              "      --hover-fill-color: #174EA6;\n",
              "      --disabled-fill-color: #AAA;\n",
              "      --disabled-bg-color: #DDD;\n",
              "  }\n",
              "\n",
              "  [theme=dark] .colab-df-quickchart {\n",
              "      --bg-color: #3B4455;\n",
              "      --fill-color: #D2E3FC;\n",
              "      --hover-bg-color: #434B5C;\n",
              "      --hover-fill-color: #FFFFFF;\n",
              "      --disabled-bg-color: #3B4455;\n",
              "      --disabled-fill-color: #666;\n",
              "  }\n",
              "\n",
              "  .colab-df-quickchart {\n",
              "    background-color: var(--bg-color);\n",
              "    border: none;\n",
              "    border-radius: 50%;\n",
              "    cursor: pointer;\n",
              "    display: none;\n",
              "    fill: var(--fill-color);\n",
              "    height: 32px;\n",
              "    padding: 0;\n",
              "    width: 32px;\n",
              "  }\n",
              "\n",
              "  .colab-df-quickchart:hover {\n",
              "    background-color: var(--hover-bg-color);\n",
              "    box-shadow: 0 1px 2px rgba(60, 64, 67, 0.3), 0 1px 3px 1px rgba(60, 64, 67, 0.15);\n",
              "    fill: var(--button-hover-fill-color);\n",
              "  }\n",
              "\n",
              "  .colab-df-quickchart-complete:disabled,\n",
              "  .colab-df-quickchart-complete:disabled:hover {\n",
              "    background-color: var(--disabled-bg-color);\n",
              "    fill: var(--disabled-fill-color);\n",
              "    box-shadow: none;\n",
              "  }\n",
              "\n",
              "  .colab-df-spinner {\n",
              "    border: 2px solid var(--fill-color);\n",
              "    border-color: transparent;\n",
              "    border-bottom-color: var(--fill-color);\n",
              "    animation:\n",
              "      spin 1s steps(1) infinite;\n",
              "  }\n",
              "\n",
              "  @keyframes spin {\n",
              "    0% {\n",
              "      border-color: transparent;\n",
              "      border-bottom-color: var(--fill-color);\n",
              "      border-left-color: var(--fill-color);\n",
              "    }\n",
              "    20% {\n",
              "      border-color: transparent;\n",
              "      border-left-color: var(--fill-color);\n",
              "      border-top-color: var(--fill-color);\n",
              "    }\n",
              "    30% {\n",
              "      border-color: transparent;\n",
              "      border-left-color: var(--fill-color);\n",
              "      border-top-color: var(--fill-color);\n",
              "      border-right-color: var(--fill-color);\n",
              "    }\n",
              "    40% {\n",
              "      border-color: transparent;\n",
              "      border-right-color: var(--fill-color);\n",
              "      border-top-color: var(--fill-color);\n",
              "    }\n",
              "    60% {\n",
              "      border-color: transparent;\n",
              "      border-right-color: var(--fill-color);\n",
              "    }\n",
              "    80% {\n",
              "      border-color: transparent;\n",
              "      border-right-color: var(--fill-color);\n",
              "      border-bottom-color: var(--fill-color);\n",
              "    }\n",
              "    90% {\n",
              "      border-color: transparent;\n",
              "      border-bottom-color: var(--fill-color);\n",
              "    }\n",
              "  }\n",
              "</style>\n",
              "\n",
              "      <script>\n",
              "        async function quickchart(key) {\n",
              "          const quickchartButtonEl =\n",
              "            document.querySelector('#' + key + ' button');\n",
              "          quickchartButtonEl.disabled = true;  // To prevent multiple clicks.\n",
              "          quickchartButtonEl.classList.add('colab-df-spinner');\n",
              "          try {\n",
              "            const charts = await google.colab.kernel.invokeFunction(\n",
              "                'suggestCharts', [key], {});\n",
              "          } catch (error) {\n",
              "            console.error('Error during call to suggestCharts:', error);\n",
              "          }\n",
              "          quickchartButtonEl.classList.remove('colab-df-spinner');\n",
              "          quickchartButtonEl.classList.add('colab-df-quickchart-complete');\n",
              "        }\n",
              "        (() => {\n",
              "          let quickchartButtonEl =\n",
              "            document.querySelector('#df-5d58fcc2-2322-444c-9c66-c8dcbc33d7ae button');\n",
              "          quickchartButtonEl.style.display =\n",
              "            google.colab.kernel.accessAllowed ? 'block' : 'none';\n",
              "        })();\n",
              "      </script>\n",
              "    </div>\n",
              "\n",
              "    </div>\n",
              "  </div>\n"
            ],
            "application/vnd.google.colaboratory.intrinsic+json": {
              "type": "dataframe",
              "variable_name": "df_encoded",
              "summary": "{\n  \"name\": \"df_encoded\",\n  \"rows\": 918,\n  \"fields\": [\n    {\n      \"column\": \"Age\",\n      \"properties\": {\n        \"dtype\": \"number\",\n        \"std\": 9,\n        \"min\": 28,\n        \"max\": 77,\n        \"num_unique_values\": 50,\n        \"samples\": [\n          44,\n          68,\n          66\n        ],\n        \"semantic_type\": \"\",\n        \"description\": \"\"\n      }\n    },\n    {\n      \"column\": \"RestingBP\",\n      \"properties\": {\n        \"dtype\": \"number\",\n        \"std\": 17.989931646360347,\n        \"min\": 80.0,\n        \"max\": 200.0,\n        \"num_unique_values\": 67,\n        \"samples\": [\n          165.0,\n          118.0,\n          150.0\n        ],\n        \"semantic_type\": \"\",\n        \"description\": \"\"\n      }\n    },\n    {\n      \"column\": \"Cholesterol\",\n      \"properties\": {\n        \"dtype\": \"number\",\n        \"std\": 53.31802926823504,\n        \"min\": 85.0,\n        \"max\": 603.0,\n        \"num_unique_values\": 222,\n        \"samples\": [\n          305.0,\n          321.0,\n          196.0\n        ],\n        \"semantic_type\": \"\",\n        \"description\": \"\"\n      }\n    },\n    {\n      \"column\": \"FastingBS\",\n      \"properties\": {\n        \"dtype\": \"number\",\n        \"std\": 0,\n        \"min\": 0,\n        \"max\": 1,\n        \"num_unique_values\": 2,\n        \"samples\": [\n          1,\n          0\n        ],\n        \"semantic_type\": \"\",\n        \"description\": \"\"\n      }\n    },\n    {\n      \"column\": \"MaxHR\",\n      \"properties\": {\n        \"dtype\": \"number\",\n        \"std\": 25,\n        \"min\": 60,\n        \"max\": 202,\n        \"num_unique_values\": 119,\n        \"samples\": [\n          132,\n          157\n        ],\n        \"semantic_type\": \"\",\n        \"description\": \"\"\n      }\n    },\n    {\n      \"column\": \"Oldpeak\",\n      \"properties\": {\n        \"dtype\": \"number\",\n        \"std\": 1.0665701510493233,\n        \"min\": -2.6,\n        \"max\": 6.2,\n        \"num_unique_values\": 53,\n        \"samples\": [\n          1.3,\n          0.6\n        ],\n        \"semantic_type\": \"\",\n        \"description\": \"\"\n      }\n    },\n    {\n      \"column\": \"HeartDisease\",\n      \"properties\": {\n        \"dtype\": \"number\",\n        \"std\": 0,\n        \"min\": 0,\n        \"max\": 1,\n        \"num_unique_values\": 2,\n        \"samples\": [\n          1,\n          0\n        ],\n        \"semantic_type\": \"\",\n        \"description\": \"\"\n      }\n    },\n    {\n      \"column\": \"Sex_M\",\n      \"properties\": {\n        \"dtype\": \"boolean\",\n        \"num_unique_values\": 2,\n        \"samples\": [\n          false,\n          true\n        ],\n        \"semantic_type\": \"\",\n        \"description\": \"\"\n      }\n    },\n    {\n      \"column\": \"ChestPainType_ATA\",\n      \"properties\": {\n        \"dtype\": \"boolean\",\n        \"num_unique_values\": 2,\n        \"samples\": [\n          false,\n          true\n        ],\n        \"semantic_type\": \"\",\n        \"description\": \"\"\n      }\n    },\n    {\n      \"column\": \"ChestPainType_NAP\",\n      \"properties\": {\n        \"dtype\": \"boolean\",\n        \"num_unique_values\": 2,\n        \"samples\": [\n          true,\n          false\n        ],\n        \"semantic_type\": \"\",\n        \"description\": \"\"\n      }\n    },\n    {\n      \"column\": \"ChestPainType_TA\",\n      \"properties\": {\n        \"dtype\": \"boolean\",\n        \"num_unique_values\": 2,\n        \"samples\": [\n          true,\n          false\n        ],\n        \"semantic_type\": \"\",\n        \"description\": \"\"\n      }\n    },\n    {\n      \"column\": \"RestingECG_Normal\",\n      \"properties\": {\n        \"dtype\": \"boolean\",\n        \"num_unique_values\": 2,\n        \"samples\": [\n          false,\n          true\n        ],\n        \"semantic_type\": \"\",\n        \"description\": \"\"\n      }\n    },\n    {\n      \"column\": \"RestingECG_ST\",\n      \"properties\": {\n        \"dtype\": \"boolean\",\n        \"num_unique_values\": 2,\n        \"samples\": [\n          true,\n          false\n        ],\n        \"semantic_type\": \"\",\n        \"description\": \"\"\n      }\n    },\n    {\n      \"column\": \"ExerciseAngina_Y\",\n      \"properties\": {\n        \"dtype\": \"boolean\",\n        \"num_unique_values\": 2,\n        \"samples\": [\n          true,\n          false\n        ],\n        \"semantic_type\": \"\",\n        \"description\": \"\"\n      }\n    },\n    {\n      \"column\": \"ST_Slope_Flat\",\n      \"properties\": {\n        \"dtype\": \"boolean\",\n        \"num_unique_values\": 2,\n        \"samples\": [\n          true,\n          false\n        ],\n        \"semantic_type\": \"\",\n        \"description\": \"\"\n      }\n    },\n    {\n      \"column\": \"ST_Slope_Up\",\n      \"properties\": {\n        \"dtype\": \"boolean\",\n        \"num_unique_values\": 2,\n        \"samples\": [\n          false,\n          true\n        ],\n        \"semantic_type\": \"\",\n        \"description\": \"\"\n      }\n    }\n  ]\n}"
            }
          },
          "metadata": {},
          "execution_count": 265
        }
      ]
    },
    {
      "cell_type": "code",
      "source": [
        "df_encoded= df_encoded.astype(int)"
      ],
      "metadata": {
        "id": "h4tx0FeS9qCs"
      },
      "execution_count": null,
      "outputs": []
    },
    {
      "cell_type": "code",
      "source": [
        "df_encoded.head(3)"
      ],
      "metadata": {
        "colab": {
          "base_uri": "https://localhost:8080/",
          "height": 163
        },
        "id": "L6D9oUWq95I-",
        "outputId": "f2be8769-d89f-4f8e-aae2-59485102ff0a"
      },
      "execution_count": null,
      "outputs": [
        {
          "output_type": "execute_result",
          "data": {
            "text/plain": [
              "   Age  RestingBP  Cholesterol  FastingBS  MaxHR  Oldpeak  HeartDisease  \\\n",
              "0   40        140          289          0    172        0             0   \n",
              "1   49        160          180          0    156        1             1   \n",
              "2   37        130          283          0     98        0             0   \n",
              "\n",
              "   Sex_M  ChestPainType_ATA  ChestPainType_NAP  ChestPainType_TA  \\\n",
              "0      1                  1                  0                 0   \n",
              "1      0                  0                  1                 0   \n",
              "2      1                  1                  0                 0   \n",
              "\n",
              "   RestingECG_Normal  RestingECG_ST  ExerciseAngina_Y  ST_Slope_Flat  \\\n",
              "0                  1              0                 0              0   \n",
              "1                  1              0                 0              1   \n",
              "2                  0              1                 0              0   \n",
              "\n",
              "   ST_Slope_Up  \n",
              "0            1  \n",
              "1            0  \n",
              "2            1  "
            ],
            "text/html": [
              "\n",
              "  <div id=\"df-e6c1f58e-5447-4ef8-a863-99e2fc6ab890\" class=\"colab-df-container\">\n",
              "    <div>\n",
              "<style scoped>\n",
              "    .dataframe tbody tr th:only-of-type {\n",
              "        vertical-align: middle;\n",
              "    }\n",
              "\n",
              "    .dataframe tbody tr th {\n",
              "        vertical-align: top;\n",
              "    }\n",
              "\n",
              "    .dataframe thead th {\n",
              "        text-align: right;\n",
              "    }\n",
              "</style>\n",
              "<table border=\"1\" class=\"dataframe\">\n",
              "  <thead>\n",
              "    <tr style=\"text-align: right;\">\n",
              "      <th></th>\n",
              "      <th>Age</th>\n",
              "      <th>RestingBP</th>\n",
              "      <th>Cholesterol</th>\n",
              "      <th>FastingBS</th>\n",
              "      <th>MaxHR</th>\n",
              "      <th>Oldpeak</th>\n",
              "      <th>HeartDisease</th>\n",
              "      <th>Sex_M</th>\n",
              "      <th>ChestPainType_ATA</th>\n",
              "      <th>ChestPainType_NAP</th>\n",
              "      <th>ChestPainType_TA</th>\n",
              "      <th>RestingECG_Normal</th>\n",
              "      <th>RestingECG_ST</th>\n",
              "      <th>ExerciseAngina_Y</th>\n",
              "      <th>ST_Slope_Flat</th>\n",
              "      <th>ST_Slope_Up</th>\n",
              "    </tr>\n",
              "  </thead>\n",
              "  <tbody>\n",
              "    <tr>\n",
              "      <th>0</th>\n",
              "      <td>40</td>\n",
              "      <td>140</td>\n",
              "      <td>289</td>\n",
              "      <td>0</td>\n",
              "      <td>172</td>\n",
              "      <td>0</td>\n",
              "      <td>0</td>\n",
              "      <td>1</td>\n",
              "      <td>1</td>\n",
              "      <td>0</td>\n",
              "      <td>0</td>\n",
              "      <td>1</td>\n",
              "      <td>0</td>\n",
              "      <td>0</td>\n",
              "      <td>0</td>\n",
              "      <td>1</td>\n",
              "    </tr>\n",
              "    <tr>\n",
              "      <th>1</th>\n",
              "      <td>49</td>\n",
              "      <td>160</td>\n",
              "      <td>180</td>\n",
              "      <td>0</td>\n",
              "      <td>156</td>\n",
              "      <td>1</td>\n",
              "      <td>1</td>\n",
              "      <td>0</td>\n",
              "      <td>0</td>\n",
              "      <td>1</td>\n",
              "      <td>0</td>\n",
              "      <td>1</td>\n",
              "      <td>0</td>\n",
              "      <td>0</td>\n",
              "      <td>1</td>\n",
              "      <td>0</td>\n",
              "    </tr>\n",
              "    <tr>\n",
              "      <th>2</th>\n",
              "      <td>37</td>\n",
              "      <td>130</td>\n",
              "      <td>283</td>\n",
              "      <td>0</td>\n",
              "      <td>98</td>\n",
              "      <td>0</td>\n",
              "      <td>0</td>\n",
              "      <td>1</td>\n",
              "      <td>1</td>\n",
              "      <td>0</td>\n",
              "      <td>0</td>\n",
              "      <td>0</td>\n",
              "      <td>1</td>\n",
              "      <td>0</td>\n",
              "      <td>0</td>\n",
              "      <td>1</td>\n",
              "    </tr>\n",
              "  </tbody>\n",
              "</table>\n",
              "</div>\n",
              "    <div class=\"colab-df-buttons\">\n",
              "\n",
              "  <div class=\"colab-df-container\">\n",
              "    <button class=\"colab-df-convert\" onclick=\"convertToInteractive('df-e6c1f58e-5447-4ef8-a863-99e2fc6ab890')\"\n",
              "            title=\"Convert this dataframe to an interactive table.\"\n",
              "            style=\"display:none;\">\n",
              "\n",
              "  <svg xmlns=\"http://www.w3.org/2000/svg\" height=\"24px\" viewBox=\"0 -960 960 960\">\n",
              "    <path d=\"M120-120v-720h720v720H120Zm60-500h600v-160H180v160Zm220 220h160v-160H400v160Zm0 220h160v-160H400v160ZM180-400h160v-160H180v160Zm440 0h160v-160H620v160ZM180-180h160v-160H180v160Zm440 0h160v-160H620v160Z\"/>\n",
              "  </svg>\n",
              "    </button>\n",
              "\n",
              "  <style>\n",
              "    .colab-df-container {\n",
              "      display:flex;\n",
              "      gap: 12px;\n",
              "    }\n",
              "\n",
              "    .colab-df-convert {\n",
              "      background-color: #E8F0FE;\n",
              "      border: none;\n",
              "      border-radius: 50%;\n",
              "      cursor: pointer;\n",
              "      display: none;\n",
              "      fill: #1967D2;\n",
              "      height: 32px;\n",
              "      padding: 0 0 0 0;\n",
              "      width: 32px;\n",
              "    }\n",
              "\n",
              "    .colab-df-convert:hover {\n",
              "      background-color: #E2EBFA;\n",
              "      box-shadow: 0px 1px 2px rgba(60, 64, 67, 0.3), 0px 1px 3px 1px rgba(60, 64, 67, 0.15);\n",
              "      fill: #174EA6;\n",
              "    }\n",
              "\n",
              "    .colab-df-buttons div {\n",
              "      margin-bottom: 4px;\n",
              "    }\n",
              "\n",
              "    [theme=dark] .colab-df-convert {\n",
              "      background-color: #3B4455;\n",
              "      fill: #D2E3FC;\n",
              "    }\n",
              "\n",
              "    [theme=dark] .colab-df-convert:hover {\n",
              "      background-color: #434B5C;\n",
              "      box-shadow: 0px 1px 3px 1px rgba(0, 0, 0, 0.15);\n",
              "      filter: drop-shadow(0px 1px 2px rgba(0, 0, 0, 0.3));\n",
              "      fill: #FFFFFF;\n",
              "    }\n",
              "  </style>\n",
              "\n",
              "    <script>\n",
              "      const buttonEl =\n",
              "        document.querySelector('#df-e6c1f58e-5447-4ef8-a863-99e2fc6ab890 button.colab-df-convert');\n",
              "      buttonEl.style.display =\n",
              "        google.colab.kernel.accessAllowed ? 'block' : 'none';\n",
              "\n",
              "      async function convertToInteractive(key) {\n",
              "        const element = document.querySelector('#df-e6c1f58e-5447-4ef8-a863-99e2fc6ab890');\n",
              "        const dataTable =\n",
              "          await google.colab.kernel.invokeFunction('convertToInteractive',\n",
              "                                                    [key], {});\n",
              "        if (!dataTable) return;\n",
              "\n",
              "        const docLinkHtml = 'Like what you see? Visit the ' +\n",
              "          '<a target=\"_blank\" href=https://colab.research.google.com/notebooks/data_table.ipynb>data table notebook</a>'\n",
              "          + ' to learn more about interactive tables.';\n",
              "        element.innerHTML = '';\n",
              "        dataTable['output_type'] = 'display_data';\n",
              "        await google.colab.output.renderOutput(dataTable, element);\n",
              "        const docLink = document.createElement('div');\n",
              "        docLink.innerHTML = docLinkHtml;\n",
              "        element.appendChild(docLink);\n",
              "      }\n",
              "    </script>\n",
              "  </div>\n",
              "\n",
              "\n",
              "    <div id=\"df-9e035a1c-0871-45db-bb3f-57c66937f086\">\n",
              "      <button class=\"colab-df-quickchart\" onclick=\"quickchart('df-9e035a1c-0871-45db-bb3f-57c66937f086')\"\n",
              "                title=\"Suggest charts\"\n",
              "                style=\"display:none;\">\n",
              "\n",
              "<svg xmlns=\"http://www.w3.org/2000/svg\" height=\"24px\"viewBox=\"0 0 24 24\"\n",
              "     width=\"24px\">\n",
              "    <g>\n",
              "        <path d=\"M19 3H5c-1.1 0-2 .9-2 2v14c0 1.1.9 2 2 2h14c1.1 0 2-.9 2-2V5c0-1.1-.9-2-2-2zM9 17H7v-7h2v7zm4 0h-2V7h2v10zm4 0h-2v-4h2v4z\"/>\n",
              "    </g>\n",
              "</svg>\n",
              "      </button>\n",
              "\n",
              "<style>\n",
              "  .colab-df-quickchart {\n",
              "      --bg-color: #E8F0FE;\n",
              "      --fill-color: #1967D2;\n",
              "      --hover-bg-color: #E2EBFA;\n",
              "      --hover-fill-color: #174EA6;\n",
              "      --disabled-fill-color: #AAA;\n",
              "      --disabled-bg-color: #DDD;\n",
              "  }\n",
              "\n",
              "  [theme=dark] .colab-df-quickchart {\n",
              "      --bg-color: #3B4455;\n",
              "      --fill-color: #D2E3FC;\n",
              "      --hover-bg-color: #434B5C;\n",
              "      --hover-fill-color: #FFFFFF;\n",
              "      --disabled-bg-color: #3B4455;\n",
              "      --disabled-fill-color: #666;\n",
              "  }\n",
              "\n",
              "  .colab-df-quickchart {\n",
              "    background-color: var(--bg-color);\n",
              "    border: none;\n",
              "    border-radius: 50%;\n",
              "    cursor: pointer;\n",
              "    display: none;\n",
              "    fill: var(--fill-color);\n",
              "    height: 32px;\n",
              "    padding: 0;\n",
              "    width: 32px;\n",
              "  }\n",
              "\n",
              "  .colab-df-quickchart:hover {\n",
              "    background-color: var(--hover-bg-color);\n",
              "    box-shadow: 0 1px 2px rgba(60, 64, 67, 0.3), 0 1px 3px 1px rgba(60, 64, 67, 0.15);\n",
              "    fill: var(--button-hover-fill-color);\n",
              "  }\n",
              "\n",
              "  .colab-df-quickchart-complete:disabled,\n",
              "  .colab-df-quickchart-complete:disabled:hover {\n",
              "    background-color: var(--disabled-bg-color);\n",
              "    fill: var(--disabled-fill-color);\n",
              "    box-shadow: none;\n",
              "  }\n",
              "\n",
              "  .colab-df-spinner {\n",
              "    border: 2px solid var(--fill-color);\n",
              "    border-color: transparent;\n",
              "    border-bottom-color: var(--fill-color);\n",
              "    animation:\n",
              "      spin 1s steps(1) infinite;\n",
              "  }\n",
              "\n",
              "  @keyframes spin {\n",
              "    0% {\n",
              "      border-color: transparent;\n",
              "      border-bottom-color: var(--fill-color);\n",
              "      border-left-color: var(--fill-color);\n",
              "    }\n",
              "    20% {\n",
              "      border-color: transparent;\n",
              "      border-left-color: var(--fill-color);\n",
              "      border-top-color: var(--fill-color);\n",
              "    }\n",
              "    30% {\n",
              "      border-color: transparent;\n",
              "      border-left-color: var(--fill-color);\n",
              "      border-top-color: var(--fill-color);\n",
              "      border-right-color: var(--fill-color);\n",
              "    }\n",
              "    40% {\n",
              "      border-color: transparent;\n",
              "      border-right-color: var(--fill-color);\n",
              "      border-top-color: var(--fill-color);\n",
              "    }\n",
              "    60% {\n",
              "      border-color: transparent;\n",
              "      border-right-color: var(--fill-color);\n",
              "    }\n",
              "    80% {\n",
              "      border-color: transparent;\n",
              "      border-right-color: var(--fill-color);\n",
              "      border-bottom-color: var(--fill-color);\n",
              "    }\n",
              "    90% {\n",
              "      border-color: transparent;\n",
              "      border-bottom-color: var(--fill-color);\n",
              "    }\n",
              "  }\n",
              "</style>\n",
              "\n",
              "      <script>\n",
              "        async function quickchart(key) {\n",
              "          const quickchartButtonEl =\n",
              "            document.querySelector('#' + key + ' button');\n",
              "          quickchartButtonEl.disabled = true;  // To prevent multiple clicks.\n",
              "          quickchartButtonEl.classList.add('colab-df-spinner');\n",
              "          try {\n",
              "            const charts = await google.colab.kernel.invokeFunction(\n",
              "                'suggestCharts', [key], {});\n",
              "          } catch (error) {\n",
              "            console.error('Error during call to suggestCharts:', error);\n",
              "          }\n",
              "          quickchartButtonEl.classList.remove('colab-df-spinner');\n",
              "          quickchartButtonEl.classList.add('colab-df-quickchart-complete');\n",
              "        }\n",
              "        (() => {\n",
              "          let quickchartButtonEl =\n",
              "            document.querySelector('#df-9e035a1c-0871-45db-bb3f-57c66937f086 button');\n",
              "          quickchartButtonEl.style.display =\n",
              "            google.colab.kernel.accessAllowed ? 'block' : 'none';\n",
              "        })();\n",
              "      </script>\n",
              "    </div>\n",
              "\n",
              "    </div>\n",
              "  </div>\n"
            ],
            "application/vnd.google.colaboratory.intrinsic+json": {
              "type": "dataframe",
              "variable_name": "df_encoded",
              "summary": "{\n  \"name\": \"df_encoded\",\n  \"rows\": 918,\n  \"fields\": [\n    {\n      \"column\": \"Age\",\n      \"properties\": {\n        \"dtype\": \"number\",\n        \"std\": 9,\n        \"min\": 28,\n        \"max\": 77,\n        \"num_unique_values\": 50,\n        \"samples\": [\n          44,\n          68,\n          66\n        ],\n        \"semantic_type\": \"\",\n        \"description\": \"\"\n      }\n    },\n    {\n      \"column\": \"RestingBP\",\n      \"properties\": {\n        \"dtype\": \"number\",\n        \"std\": 17,\n        \"min\": 80,\n        \"max\": 200,\n        \"num_unique_values\": 66,\n        \"samples\": [\n          172,\n          117,\n          140\n        ],\n        \"semantic_type\": \"\",\n        \"description\": \"\"\n      }\n    },\n    {\n      \"column\": \"Cholesterol\",\n      \"properties\": {\n        \"dtype\": \"number\",\n        \"std\": 53,\n        \"min\": 85,\n        \"max\": 603,\n        \"num_unique_values\": 221,\n        \"samples\": [\n          226,\n          491,\n          393\n        ],\n        \"semantic_type\": \"\",\n        \"description\": \"\"\n      }\n    },\n    {\n      \"column\": \"FastingBS\",\n      \"properties\": {\n        \"dtype\": \"number\",\n        \"std\": 0,\n        \"min\": 0,\n        \"max\": 1,\n        \"num_unique_values\": 2,\n        \"samples\": [\n          1,\n          0\n        ],\n        \"semantic_type\": \"\",\n        \"description\": \"\"\n      }\n    },\n    {\n      \"column\": \"MaxHR\",\n      \"properties\": {\n        \"dtype\": \"number\",\n        \"std\": 25,\n        \"min\": 60,\n        \"max\": 202,\n        \"num_unique_values\": 119,\n        \"samples\": [\n          132,\n          157\n        ],\n        \"semantic_type\": \"\",\n        \"description\": \"\"\n      }\n    },\n    {\n      \"column\": \"Oldpeak\",\n      \"properties\": {\n        \"dtype\": \"number\",\n        \"std\": 0,\n        \"min\": -2,\n        \"max\": 6,\n        \"num_unique_values\": 9,\n        \"samples\": [\n          -1,\n          1\n        ],\n        \"semantic_type\": \"\",\n        \"description\": \"\"\n      }\n    },\n    {\n      \"column\": \"HeartDisease\",\n      \"properties\": {\n        \"dtype\": \"number\",\n        \"std\": 0,\n        \"min\": 0,\n        \"max\": 1,\n        \"num_unique_values\": 2,\n        \"samples\": [\n          1,\n          0\n        ],\n        \"semantic_type\": \"\",\n        \"description\": \"\"\n      }\n    },\n    {\n      \"column\": \"Sex_M\",\n      \"properties\": {\n        \"dtype\": \"number\",\n        \"std\": 0,\n        \"min\": 0,\n        \"max\": 1,\n        \"num_unique_values\": 2,\n        \"samples\": [\n          0,\n          1\n        ],\n        \"semantic_type\": \"\",\n        \"description\": \"\"\n      }\n    },\n    {\n      \"column\": \"ChestPainType_ATA\",\n      \"properties\": {\n        \"dtype\": \"number\",\n        \"std\": 0,\n        \"min\": 0,\n        \"max\": 1,\n        \"num_unique_values\": 2,\n        \"samples\": [\n          0,\n          1\n        ],\n        \"semantic_type\": \"\",\n        \"description\": \"\"\n      }\n    },\n    {\n      \"column\": \"ChestPainType_NAP\",\n      \"properties\": {\n        \"dtype\": \"number\",\n        \"std\": 0,\n        \"min\": 0,\n        \"max\": 1,\n        \"num_unique_values\": 2,\n        \"samples\": [\n          1,\n          0\n        ],\n        \"semantic_type\": \"\",\n        \"description\": \"\"\n      }\n    },\n    {\n      \"column\": \"ChestPainType_TA\",\n      \"properties\": {\n        \"dtype\": \"number\",\n        \"std\": 0,\n        \"min\": 0,\n        \"max\": 1,\n        \"num_unique_values\": 2,\n        \"samples\": [\n          1,\n          0\n        ],\n        \"semantic_type\": \"\",\n        \"description\": \"\"\n      }\n    },\n    {\n      \"column\": \"RestingECG_Normal\",\n      \"properties\": {\n        \"dtype\": \"number\",\n        \"std\": 0,\n        \"min\": 0,\n        \"max\": 1,\n        \"num_unique_values\": 2,\n        \"samples\": [\n          0,\n          1\n        ],\n        \"semantic_type\": \"\",\n        \"description\": \"\"\n      }\n    },\n    {\n      \"column\": \"RestingECG_ST\",\n      \"properties\": {\n        \"dtype\": \"number\",\n        \"std\": 0,\n        \"min\": 0,\n        \"max\": 1,\n        \"num_unique_values\": 2,\n        \"samples\": [\n          1,\n          0\n        ],\n        \"semantic_type\": \"\",\n        \"description\": \"\"\n      }\n    },\n    {\n      \"column\": \"ExerciseAngina_Y\",\n      \"properties\": {\n        \"dtype\": \"number\",\n        \"std\": 0,\n        \"min\": 0,\n        \"max\": 1,\n        \"num_unique_values\": 2,\n        \"samples\": [\n          1,\n          0\n        ],\n        \"semantic_type\": \"\",\n        \"description\": \"\"\n      }\n    },\n    {\n      \"column\": \"ST_Slope_Flat\",\n      \"properties\": {\n        \"dtype\": \"number\",\n        \"std\": 0,\n        \"min\": 0,\n        \"max\": 1,\n        \"num_unique_values\": 2,\n        \"samples\": [\n          1,\n          0\n        ],\n        \"semantic_type\": \"\",\n        \"description\": \"\"\n      }\n    },\n    {\n      \"column\": \"ST_Slope_Up\",\n      \"properties\": {\n        \"dtype\": \"number\",\n        \"std\": 0,\n        \"min\": 0,\n        \"max\": 1,\n        \"num_unique_values\": 2,\n        \"samples\": [\n          0,\n          1\n        ],\n        \"semantic_type\": \"\",\n        \"description\": \"\"\n      }\n    }\n  ]\n}"
            }
          },
          "metadata": {},
          "execution_count": 267
        }
      ]
    },
    {
      "cell_type": "code",
      "source": [
        "from sklearn.preprocessing import StandardScaler\n",
        "\n",
        "ss = StandardScaler() #used for scaling numerical vars"
      ],
      "metadata": {
        "id": "f-vHUl_o96fs"
      },
      "execution_count": null,
      "outputs": []
    },
    {
      "cell_type": "code",
      "source": [
        "numerical_cols = ['Age', 'RestingBP', 'Cholesterol', 'MaxHR', 'Oldpeak']\n",
        "df_encoded[numerical_cols] = ss.fit_transform(df_encoded[numerical_cols])"
      ],
      "metadata": {
        "id": "jE9cmKHy-AyI"
      },
      "execution_count": null,
      "outputs": []
    },
    {
      "cell_type": "code",
      "source": [
        "df_encoded.head(3)"
      ],
      "metadata": {
        "colab": {
          "base_uri": "https://localhost:8080/",
          "height": 163
        },
        "id": "SmpkWEfU-TJ0",
        "outputId": "814566e3-833d-4e08-d475-cdd71a16d689"
      },
      "execution_count": null,
      "outputs": [
        {
          "output_type": "execute_result",
          "data": {
            "text/plain": [
              "        Age  RestingBP  Cholesterol  FastingBS     MaxHR   Oldpeak  \\\n",
              "0 -1.433140   0.414885     0.834754          0  1.382928 -0.727592   \n",
              "1 -0.478484   1.527224    -1.210675          0  0.754157  0.282891   \n",
              "2 -1.751359  -0.141284     0.722161          0 -1.525138 -0.727592   \n",
              "\n",
              "   HeartDisease  Sex_M  ChestPainType_ATA  ChestPainType_NAP  \\\n",
              "0             0      1                  1                  0   \n",
              "1             1      0                  0                  1   \n",
              "2             0      1                  1                  0   \n",
              "\n",
              "   ChestPainType_TA  RestingECG_Normal  RestingECG_ST  ExerciseAngina_Y  \\\n",
              "0                 0                  1              0                 0   \n",
              "1                 0                  1              0                 0   \n",
              "2                 0                  0              1                 0   \n",
              "\n",
              "   ST_Slope_Flat  ST_Slope_Up  \n",
              "0              0            1  \n",
              "1              1            0  \n",
              "2              0            1  "
            ],
            "text/html": [
              "\n",
              "  <div id=\"df-7fc7da01-9977-444f-a805-a0bdbbf4facb\" class=\"colab-df-container\">\n",
              "    <div>\n",
              "<style scoped>\n",
              "    .dataframe tbody tr th:only-of-type {\n",
              "        vertical-align: middle;\n",
              "    }\n",
              "\n",
              "    .dataframe tbody tr th {\n",
              "        vertical-align: top;\n",
              "    }\n",
              "\n",
              "    .dataframe thead th {\n",
              "        text-align: right;\n",
              "    }\n",
              "</style>\n",
              "<table border=\"1\" class=\"dataframe\">\n",
              "  <thead>\n",
              "    <tr style=\"text-align: right;\">\n",
              "      <th></th>\n",
              "      <th>Age</th>\n",
              "      <th>RestingBP</th>\n",
              "      <th>Cholesterol</th>\n",
              "      <th>FastingBS</th>\n",
              "      <th>MaxHR</th>\n",
              "      <th>Oldpeak</th>\n",
              "      <th>HeartDisease</th>\n",
              "      <th>Sex_M</th>\n",
              "      <th>ChestPainType_ATA</th>\n",
              "      <th>ChestPainType_NAP</th>\n",
              "      <th>ChestPainType_TA</th>\n",
              "      <th>RestingECG_Normal</th>\n",
              "      <th>RestingECG_ST</th>\n",
              "      <th>ExerciseAngina_Y</th>\n",
              "      <th>ST_Slope_Flat</th>\n",
              "      <th>ST_Slope_Up</th>\n",
              "    </tr>\n",
              "  </thead>\n",
              "  <tbody>\n",
              "    <tr>\n",
              "      <th>0</th>\n",
              "      <td>-1.433140</td>\n",
              "      <td>0.414885</td>\n",
              "      <td>0.834754</td>\n",
              "      <td>0</td>\n",
              "      <td>1.382928</td>\n",
              "      <td>-0.727592</td>\n",
              "      <td>0</td>\n",
              "      <td>1</td>\n",
              "      <td>1</td>\n",
              "      <td>0</td>\n",
              "      <td>0</td>\n",
              "      <td>1</td>\n",
              "      <td>0</td>\n",
              "      <td>0</td>\n",
              "      <td>0</td>\n",
              "      <td>1</td>\n",
              "    </tr>\n",
              "    <tr>\n",
              "      <th>1</th>\n",
              "      <td>-0.478484</td>\n",
              "      <td>1.527224</td>\n",
              "      <td>-1.210675</td>\n",
              "      <td>0</td>\n",
              "      <td>0.754157</td>\n",
              "      <td>0.282891</td>\n",
              "      <td>1</td>\n",
              "      <td>0</td>\n",
              "      <td>0</td>\n",
              "      <td>1</td>\n",
              "      <td>0</td>\n",
              "      <td>1</td>\n",
              "      <td>0</td>\n",
              "      <td>0</td>\n",
              "      <td>1</td>\n",
              "      <td>0</td>\n",
              "    </tr>\n",
              "    <tr>\n",
              "      <th>2</th>\n",
              "      <td>-1.751359</td>\n",
              "      <td>-0.141284</td>\n",
              "      <td>0.722161</td>\n",
              "      <td>0</td>\n",
              "      <td>-1.525138</td>\n",
              "      <td>-0.727592</td>\n",
              "      <td>0</td>\n",
              "      <td>1</td>\n",
              "      <td>1</td>\n",
              "      <td>0</td>\n",
              "      <td>0</td>\n",
              "      <td>0</td>\n",
              "      <td>1</td>\n",
              "      <td>0</td>\n",
              "      <td>0</td>\n",
              "      <td>1</td>\n",
              "    </tr>\n",
              "  </tbody>\n",
              "</table>\n",
              "</div>\n",
              "    <div class=\"colab-df-buttons\">\n",
              "\n",
              "  <div class=\"colab-df-container\">\n",
              "    <button class=\"colab-df-convert\" onclick=\"convertToInteractive('df-7fc7da01-9977-444f-a805-a0bdbbf4facb')\"\n",
              "            title=\"Convert this dataframe to an interactive table.\"\n",
              "            style=\"display:none;\">\n",
              "\n",
              "  <svg xmlns=\"http://www.w3.org/2000/svg\" height=\"24px\" viewBox=\"0 -960 960 960\">\n",
              "    <path d=\"M120-120v-720h720v720H120Zm60-500h600v-160H180v160Zm220 220h160v-160H400v160Zm0 220h160v-160H400v160ZM180-400h160v-160H180v160Zm440 0h160v-160H620v160ZM180-180h160v-160H180v160Zm440 0h160v-160H620v160Z\"/>\n",
              "  </svg>\n",
              "    </button>\n",
              "\n",
              "  <style>\n",
              "    .colab-df-container {\n",
              "      display:flex;\n",
              "      gap: 12px;\n",
              "    }\n",
              "\n",
              "    .colab-df-convert {\n",
              "      background-color: #E8F0FE;\n",
              "      border: none;\n",
              "      border-radius: 50%;\n",
              "      cursor: pointer;\n",
              "      display: none;\n",
              "      fill: #1967D2;\n",
              "      height: 32px;\n",
              "      padding: 0 0 0 0;\n",
              "      width: 32px;\n",
              "    }\n",
              "\n",
              "    .colab-df-convert:hover {\n",
              "      background-color: #E2EBFA;\n",
              "      box-shadow: 0px 1px 2px rgba(60, 64, 67, 0.3), 0px 1px 3px 1px rgba(60, 64, 67, 0.15);\n",
              "      fill: #174EA6;\n",
              "    }\n",
              "\n",
              "    .colab-df-buttons div {\n",
              "      margin-bottom: 4px;\n",
              "    }\n",
              "\n",
              "    [theme=dark] .colab-df-convert {\n",
              "      background-color: #3B4455;\n",
              "      fill: #D2E3FC;\n",
              "    }\n",
              "\n",
              "    [theme=dark] .colab-df-convert:hover {\n",
              "      background-color: #434B5C;\n",
              "      box-shadow: 0px 1px 3px 1px rgba(0, 0, 0, 0.15);\n",
              "      filter: drop-shadow(0px 1px 2px rgba(0, 0, 0, 0.3));\n",
              "      fill: #FFFFFF;\n",
              "    }\n",
              "  </style>\n",
              "\n",
              "    <script>\n",
              "      const buttonEl =\n",
              "        document.querySelector('#df-7fc7da01-9977-444f-a805-a0bdbbf4facb button.colab-df-convert');\n",
              "      buttonEl.style.display =\n",
              "        google.colab.kernel.accessAllowed ? 'block' : 'none';\n",
              "\n",
              "      async function convertToInteractive(key) {\n",
              "        const element = document.querySelector('#df-7fc7da01-9977-444f-a805-a0bdbbf4facb');\n",
              "        const dataTable =\n",
              "          await google.colab.kernel.invokeFunction('convertToInteractive',\n",
              "                                                    [key], {});\n",
              "        if (!dataTable) return;\n",
              "\n",
              "        const docLinkHtml = 'Like what you see? Visit the ' +\n",
              "          '<a target=\"_blank\" href=https://colab.research.google.com/notebooks/data_table.ipynb>data table notebook</a>'\n",
              "          + ' to learn more about interactive tables.';\n",
              "        element.innerHTML = '';\n",
              "        dataTable['output_type'] = 'display_data';\n",
              "        await google.colab.output.renderOutput(dataTable, element);\n",
              "        const docLink = document.createElement('div');\n",
              "        docLink.innerHTML = docLinkHtml;\n",
              "        element.appendChild(docLink);\n",
              "      }\n",
              "    </script>\n",
              "  </div>\n",
              "\n",
              "\n",
              "    <div id=\"df-77e470dd-812a-4ef6-8523-82e7562ad8ca\">\n",
              "      <button class=\"colab-df-quickchart\" onclick=\"quickchart('df-77e470dd-812a-4ef6-8523-82e7562ad8ca')\"\n",
              "                title=\"Suggest charts\"\n",
              "                style=\"display:none;\">\n",
              "\n",
              "<svg xmlns=\"http://www.w3.org/2000/svg\" height=\"24px\"viewBox=\"0 0 24 24\"\n",
              "     width=\"24px\">\n",
              "    <g>\n",
              "        <path d=\"M19 3H5c-1.1 0-2 .9-2 2v14c0 1.1.9 2 2 2h14c1.1 0 2-.9 2-2V5c0-1.1-.9-2-2-2zM9 17H7v-7h2v7zm4 0h-2V7h2v10zm4 0h-2v-4h2v4z\"/>\n",
              "    </g>\n",
              "</svg>\n",
              "      </button>\n",
              "\n",
              "<style>\n",
              "  .colab-df-quickchart {\n",
              "      --bg-color: #E8F0FE;\n",
              "      --fill-color: #1967D2;\n",
              "      --hover-bg-color: #E2EBFA;\n",
              "      --hover-fill-color: #174EA6;\n",
              "      --disabled-fill-color: #AAA;\n",
              "      --disabled-bg-color: #DDD;\n",
              "  }\n",
              "\n",
              "  [theme=dark] .colab-df-quickchart {\n",
              "      --bg-color: #3B4455;\n",
              "      --fill-color: #D2E3FC;\n",
              "      --hover-bg-color: #434B5C;\n",
              "      --hover-fill-color: #FFFFFF;\n",
              "      --disabled-bg-color: #3B4455;\n",
              "      --disabled-fill-color: #666;\n",
              "  }\n",
              "\n",
              "  .colab-df-quickchart {\n",
              "    background-color: var(--bg-color);\n",
              "    border: none;\n",
              "    border-radius: 50%;\n",
              "    cursor: pointer;\n",
              "    display: none;\n",
              "    fill: var(--fill-color);\n",
              "    height: 32px;\n",
              "    padding: 0;\n",
              "    width: 32px;\n",
              "  }\n",
              "\n",
              "  .colab-df-quickchart:hover {\n",
              "    background-color: var(--hover-bg-color);\n",
              "    box-shadow: 0 1px 2px rgba(60, 64, 67, 0.3), 0 1px 3px 1px rgba(60, 64, 67, 0.15);\n",
              "    fill: var(--button-hover-fill-color);\n",
              "  }\n",
              "\n",
              "  .colab-df-quickchart-complete:disabled,\n",
              "  .colab-df-quickchart-complete:disabled:hover {\n",
              "    background-color: var(--disabled-bg-color);\n",
              "    fill: var(--disabled-fill-color);\n",
              "    box-shadow: none;\n",
              "  }\n",
              "\n",
              "  .colab-df-spinner {\n",
              "    border: 2px solid var(--fill-color);\n",
              "    border-color: transparent;\n",
              "    border-bottom-color: var(--fill-color);\n",
              "    animation:\n",
              "      spin 1s steps(1) infinite;\n",
              "  }\n",
              "\n",
              "  @keyframes spin {\n",
              "    0% {\n",
              "      border-color: transparent;\n",
              "      border-bottom-color: var(--fill-color);\n",
              "      border-left-color: var(--fill-color);\n",
              "    }\n",
              "    20% {\n",
              "      border-color: transparent;\n",
              "      border-left-color: var(--fill-color);\n",
              "      border-top-color: var(--fill-color);\n",
              "    }\n",
              "    30% {\n",
              "      border-color: transparent;\n",
              "      border-left-color: var(--fill-color);\n",
              "      border-top-color: var(--fill-color);\n",
              "      border-right-color: var(--fill-color);\n",
              "    }\n",
              "    40% {\n",
              "      border-color: transparent;\n",
              "      border-right-color: var(--fill-color);\n",
              "      border-top-color: var(--fill-color);\n",
              "    }\n",
              "    60% {\n",
              "      border-color: transparent;\n",
              "      border-right-color: var(--fill-color);\n",
              "    }\n",
              "    80% {\n",
              "      border-color: transparent;\n",
              "      border-right-color: var(--fill-color);\n",
              "      border-bottom-color: var(--fill-color);\n",
              "    }\n",
              "    90% {\n",
              "      border-color: transparent;\n",
              "      border-bottom-color: var(--fill-color);\n",
              "    }\n",
              "  }\n",
              "</style>\n",
              "\n",
              "      <script>\n",
              "        async function quickchart(key) {\n",
              "          const quickchartButtonEl =\n",
              "            document.querySelector('#' + key + ' button');\n",
              "          quickchartButtonEl.disabled = true;  // To prevent multiple clicks.\n",
              "          quickchartButtonEl.classList.add('colab-df-spinner');\n",
              "          try {\n",
              "            const charts = await google.colab.kernel.invokeFunction(\n",
              "                'suggestCharts', [key], {});\n",
              "          } catch (error) {\n",
              "            console.error('Error during call to suggestCharts:', error);\n",
              "          }\n",
              "          quickchartButtonEl.classList.remove('colab-df-spinner');\n",
              "          quickchartButtonEl.classList.add('colab-df-quickchart-complete');\n",
              "        }\n",
              "        (() => {\n",
              "          let quickchartButtonEl =\n",
              "            document.querySelector('#df-77e470dd-812a-4ef6-8523-82e7562ad8ca button');\n",
              "          quickchartButtonEl.style.display =\n",
              "            google.colab.kernel.accessAllowed ? 'block' : 'none';\n",
              "        })();\n",
              "      </script>\n",
              "    </div>\n",
              "\n",
              "    </div>\n",
              "  </div>\n"
            ],
            "application/vnd.google.colaboratory.intrinsic+json": {
              "type": "dataframe",
              "variable_name": "df_encoded",
              "summary": "{\n  \"name\": \"df_encoded\",\n  \"rows\": 918,\n  \"fields\": [\n    {\n      \"column\": \"Age\",\n      \"properties\": {\n        \"dtype\": \"number\",\n        \"std\": 1.0005451076992444,\n        \"min\": -2.7060147534137067,\n        \"max\": 2.491557971213961,\n        \"num_unique_values\": 50,\n        \"samples\": [\n          -1.008848149453652,\n          1.5369017564864302,\n          1.3247559309914234\n        ],\n        \"semantic_type\": \"\",\n        \"description\": \"\"\n      }\n    },\n    {\n      \"column\": \"RestingBP\",\n      \"properties\": {\n        \"dtype\": \"number\",\n        \"std\": 1.0005451076992435,\n        \"min\": -2.9221300161496786,\n        \"max\": 3.751900556479461,\n        \"num_unique_values\": 66,\n        \"samples\": [\n          2.1946267561993285,\n          -0.8643039229223606,\n          0.41488527016489124\n        ],\n        \"semantic_type\": \"\",\n        \"description\": \"\"\n      }\n    },\n    {\n      \"column\": \"Cholesterol\",\n      \"properties\": {\n        \"dtype\": \"number\",\n        \"std\": 1.0005451076992455,\n        \"min\": -2.9933883218060884,\n        \"max\": 6.727090169401801,\n        \"num_unique_values\": 221,\n        \"samples\": [\n          -0.34746657033830397,\n          4.625365090221717,\n          2.786355645939143\n        ],\n        \"semantic_type\": \"\",\n        \"description\": \"\"\n      }\n    },\n    {\n      \"column\": \"FastingBS\",\n      \"properties\": {\n        \"dtype\": \"number\",\n        \"std\": 0,\n        \"min\": 0,\n        \"max\": 1,\n        \"num_unique_values\": 2,\n        \"samples\": [\n          1,\n          0\n        ],\n        \"semantic_type\": \"\",\n        \"description\": \"\"\n      }\n    },\n    {\n      \"column\": \"MaxHR\",\n      \"properties\": {\n        \"dtype\": \"number\",\n        \"std\": 1.0005451076992444,\n        \"min\": -3.0184693237878304,\n        \"max\": 2.561873986783378,\n        \"num_unique_values\": 119,\n        \"samples\": [\n          -0.18899947617425986,\n          0.7934553320248965\n        ],\n        \"semantic_type\": \"\",\n        \"description\": \"\"\n      }\n    },\n    {\n      \"column\": \"Oldpeak\",\n      \"properties\": {\n        \"dtype\": \"number\",\n        \"std\": 1.0005451076992498,\n        \"min\": -2.7485585302351487,\n        \"max\": 5.3353076475970225,\n        \"num_unique_values\": 9,\n        \"samples\": [\n          -1.7380752580061274,\n          0.28289128645191564\n        ],\n        \"semantic_type\": \"\",\n        \"description\": \"\"\n      }\n    },\n    {\n      \"column\": \"HeartDisease\",\n      \"properties\": {\n        \"dtype\": \"number\",\n        \"std\": 0,\n        \"min\": 0,\n        \"max\": 1,\n        \"num_unique_values\": 2,\n        \"samples\": [\n          1,\n          0\n        ],\n        \"semantic_type\": \"\",\n        \"description\": \"\"\n      }\n    },\n    {\n      \"column\": \"Sex_M\",\n      \"properties\": {\n        \"dtype\": \"number\",\n        \"std\": 0,\n        \"min\": 0,\n        \"max\": 1,\n        \"num_unique_values\": 2,\n        \"samples\": [\n          0,\n          1\n        ],\n        \"semantic_type\": \"\",\n        \"description\": \"\"\n      }\n    },\n    {\n      \"column\": \"ChestPainType_ATA\",\n      \"properties\": {\n        \"dtype\": \"number\",\n        \"std\": 0,\n        \"min\": 0,\n        \"max\": 1,\n        \"num_unique_values\": 2,\n        \"samples\": [\n          0,\n          1\n        ],\n        \"semantic_type\": \"\",\n        \"description\": \"\"\n      }\n    },\n    {\n      \"column\": \"ChestPainType_NAP\",\n      \"properties\": {\n        \"dtype\": \"number\",\n        \"std\": 0,\n        \"min\": 0,\n        \"max\": 1,\n        \"num_unique_values\": 2,\n        \"samples\": [\n          1,\n          0\n        ],\n        \"semantic_type\": \"\",\n        \"description\": \"\"\n      }\n    },\n    {\n      \"column\": \"ChestPainType_TA\",\n      \"properties\": {\n        \"dtype\": \"number\",\n        \"std\": 0,\n        \"min\": 0,\n        \"max\": 1,\n        \"num_unique_values\": 2,\n        \"samples\": [\n          1,\n          0\n        ],\n        \"semantic_type\": \"\",\n        \"description\": \"\"\n      }\n    },\n    {\n      \"column\": \"RestingECG_Normal\",\n      \"properties\": {\n        \"dtype\": \"number\",\n        \"std\": 0,\n        \"min\": 0,\n        \"max\": 1,\n        \"num_unique_values\": 2,\n        \"samples\": [\n          0,\n          1\n        ],\n        \"semantic_type\": \"\",\n        \"description\": \"\"\n      }\n    },\n    {\n      \"column\": \"RestingECG_ST\",\n      \"properties\": {\n        \"dtype\": \"number\",\n        \"std\": 0,\n        \"min\": 0,\n        \"max\": 1,\n        \"num_unique_values\": 2,\n        \"samples\": [\n          1,\n          0\n        ],\n        \"semantic_type\": \"\",\n        \"description\": \"\"\n      }\n    },\n    {\n      \"column\": \"ExerciseAngina_Y\",\n      \"properties\": {\n        \"dtype\": \"number\",\n        \"std\": 0,\n        \"min\": 0,\n        \"max\": 1,\n        \"num_unique_values\": 2,\n        \"samples\": [\n          1,\n          0\n        ],\n        \"semantic_type\": \"\",\n        \"description\": \"\"\n      }\n    },\n    {\n      \"column\": \"ST_Slope_Flat\",\n      \"properties\": {\n        \"dtype\": \"number\",\n        \"std\": 0,\n        \"min\": 0,\n        \"max\": 1,\n        \"num_unique_values\": 2,\n        \"samples\": [\n          1,\n          0\n        ],\n        \"semantic_type\": \"\",\n        \"description\": \"\"\n      }\n    },\n    {\n      \"column\": \"ST_Slope_Up\",\n      \"properties\": {\n        \"dtype\": \"number\",\n        \"std\": 0,\n        \"min\": 0,\n        \"max\": 1,\n        \"num_unique_values\": 2,\n        \"samples\": [\n          0,\n          1\n        ],\n        \"semantic_type\": \"\",\n        \"description\": \"\"\n      }\n    }\n  ]\n}"
            }
          },
          "metadata": {},
          "execution_count": 270
        }
      ]
    },
    {
      "cell_type": "markdown",
      "source": [
        "#Model Creation and Evaluation\n",
        "\n",
        "---\n",
        "\n"
      ],
      "metadata": {
        "id": "_5yX_xj5_2tt"
      }
    },
    {
      "cell_type": "code",
      "source": [
        "from sklearn.model_selection import train_test_split\n",
        "from sklearn.metrics import accuracy_score, f1_score, classification_report\n",
        "from sklearn.linear_model import LogisticRegression\n",
        "from sklearn.neighbors import KNeighborsClassifier\n",
        "from sklearn.naive_bayes import GaussianNB\n",
        "from sklearn.tree import DecisionTreeClassifier\n",
        "from sklearn.svm import SVC"
      ],
      "metadata": {
        "id": "X2KxZyBw-UoE"
      },
      "execution_count": null,
      "outputs": []
    },
    {
      "cell_type": "code",
      "source": [
        "X = df_encoded.drop('HeartDisease', axis=1)\n",
        "y = df_encoded['HeartDisease']"
      ],
      "metadata": {
        "id": "lxHe7kWuAJmV"
      },
      "execution_count": null,
      "outputs": []
    },
    {
      "cell_type": "code",
      "source": [
        "X_train, X_test, y_train, y_test = train_test_split(X, y, test_size=0.2, random_state=42)"
      ],
      "metadata": {
        "id": "nbXzqiyIAg6B"
      },
      "execution_count": null,
      "outputs": []
    },
    {
      "cell_type": "code",
      "source": [
        "scaler = StandardScaler()\n",
        "X_train_scaled = scaler.fit_transform(X_train)\n",
        "X_test_scaled = scaler.fit_transform(X_test)"
      ],
      "metadata": {
        "id": "tE0V9roXA3kS"
      },
      "execution_count": null,
      "outputs": []
    },
    {
      "cell_type": "code",
      "source": [
        "models = {\n",
        "    'Logistic Regression': LogisticRegression(),\n",
        "    'KNN': KNeighborsClassifier(),\n",
        "    'Naive Bayes': GaussianNB(),\n",
        "    'Decision Tree': DecisionTreeClassifier(),\n",
        "    'SVM': SVC()\n",
        "}"
      ],
      "metadata": {
        "id": "hiNeNXQzBetP"
      },
      "execution_count": null,
      "outputs": []
    },
    {
      "cell_type": "code",
      "source": [
        "import pandas as pd\n",
        "\n",
        "# Initialize the result list\n",
        "result = []\n",
        "\n",
        "# Loop through models, train, predict, and store results\n",
        "for name, model in models.items():\n",
        "    model.fit(X_train_scaled, y_train)\n",
        "    y_pred = model.predict(X_test_scaled)\n",
        "\n",
        "    accuracy = accuracy_score(y_test, y_pred)\n",
        "    f1 = f1_score(y_test, y_pred)\n",
        "\n",
        "    result.append({\n",
        "        'Model': name,\n",
        "        'Accuracy': round(accuracy, 4),\n",
        "        'F1 Score': round(f1, 4)\n",
        "    })\n",
        "\n",
        "# Convert the result list into a DataFrame\n",
        "results_df = pd.DataFrame(result)\n",
        "\n",
        "# Sort by Accuracy in descending order\n",
        "results_df = results_df.sort_values(by='Accuracy', ascending=False)\n"
      ],
      "metadata": {
        "id": "VTbhIiMrBsD7"
      },
      "execution_count": null,
      "outputs": []
    },
    {
      "cell_type": "code",
      "source": [
        "# Reset index to start from 1\n",
        "results_df.index = range(1, len(results_df) + 1)\n",
        "\n",
        "# Display\n",
        "results_df"
      ],
      "metadata": {
        "colab": {
          "base_uri": "https://localhost:8080/",
          "height": 206
        },
        "id": "GvIsrq3zCjnc",
        "outputId": "fc9cfb3a-8c65-483d-8391-e9994c0640f9"
      },
      "execution_count": null,
      "outputs": [
        {
          "output_type": "execute_result",
          "data": {
            "text/plain": [
              "                 Model  Accuracy  F1 Score\n",
              "1  Logistic Regression    0.8696    0.8857\n",
              "2                  KNN    0.8641    0.8815\n",
              "3          Naive Bayes    0.8533    0.8683\n",
              "4                  SVM    0.8478    0.8679\n",
              "5        Decision Tree    0.7609    0.7800"
            ],
            "text/html": [
              "\n",
              "  <div id=\"df-fbd4e06f-74e3-4bb8-ad36-95300a5fceeb\" class=\"colab-df-container\">\n",
              "    <div>\n",
              "<style scoped>\n",
              "    .dataframe tbody tr th:only-of-type {\n",
              "        vertical-align: middle;\n",
              "    }\n",
              "\n",
              "    .dataframe tbody tr th {\n",
              "        vertical-align: top;\n",
              "    }\n",
              "\n",
              "    .dataframe thead th {\n",
              "        text-align: right;\n",
              "    }\n",
              "</style>\n",
              "<table border=\"1\" class=\"dataframe\">\n",
              "  <thead>\n",
              "    <tr style=\"text-align: right;\">\n",
              "      <th></th>\n",
              "      <th>Model</th>\n",
              "      <th>Accuracy</th>\n",
              "      <th>F1 Score</th>\n",
              "    </tr>\n",
              "  </thead>\n",
              "  <tbody>\n",
              "    <tr>\n",
              "      <th>1</th>\n",
              "      <td>Logistic Regression</td>\n",
              "      <td>0.8696</td>\n",
              "      <td>0.8857</td>\n",
              "    </tr>\n",
              "    <tr>\n",
              "      <th>2</th>\n",
              "      <td>KNN</td>\n",
              "      <td>0.8641</td>\n",
              "      <td>0.8815</td>\n",
              "    </tr>\n",
              "    <tr>\n",
              "      <th>3</th>\n",
              "      <td>Naive Bayes</td>\n",
              "      <td>0.8533</td>\n",
              "      <td>0.8683</td>\n",
              "    </tr>\n",
              "    <tr>\n",
              "      <th>4</th>\n",
              "      <td>SVM</td>\n",
              "      <td>0.8478</td>\n",
              "      <td>0.8679</td>\n",
              "    </tr>\n",
              "    <tr>\n",
              "      <th>5</th>\n",
              "      <td>Decision Tree</td>\n",
              "      <td>0.7609</td>\n",
              "      <td>0.7800</td>\n",
              "    </tr>\n",
              "  </tbody>\n",
              "</table>\n",
              "</div>\n",
              "    <div class=\"colab-df-buttons\">\n",
              "\n",
              "  <div class=\"colab-df-container\">\n",
              "    <button class=\"colab-df-convert\" onclick=\"convertToInteractive('df-fbd4e06f-74e3-4bb8-ad36-95300a5fceeb')\"\n",
              "            title=\"Convert this dataframe to an interactive table.\"\n",
              "            style=\"display:none;\">\n",
              "\n",
              "  <svg xmlns=\"http://www.w3.org/2000/svg\" height=\"24px\" viewBox=\"0 -960 960 960\">\n",
              "    <path d=\"M120-120v-720h720v720H120Zm60-500h600v-160H180v160Zm220 220h160v-160H400v160Zm0 220h160v-160H400v160ZM180-400h160v-160H180v160Zm440 0h160v-160H620v160ZM180-180h160v-160H180v160Zm440 0h160v-160H620v160Z\"/>\n",
              "  </svg>\n",
              "    </button>\n",
              "\n",
              "  <style>\n",
              "    .colab-df-container {\n",
              "      display:flex;\n",
              "      gap: 12px;\n",
              "    }\n",
              "\n",
              "    .colab-df-convert {\n",
              "      background-color: #E8F0FE;\n",
              "      border: none;\n",
              "      border-radius: 50%;\n",
              "      cursor: pointer;\n",
              "      display: none;\n",
              "      fill: #1967D2;\n",
              "      height: 32px;\n",
              "      padding: 0 0 0 0;\n",
              "      width: 32px;\n",
              "    }\n",
              "\n",
              "    .colab-df-convert:hover {\n",
              "      background-color: #E2EBFA;\n",
              "      box-shadow: 0px 1px 2px rgba(60, 64, 67, 0.3), 0px 1px 3px 1px rgba(60, 64, 67, 0.15);\n",
              "      fill: #174EA6;\n",
              "    }\n",
              "\n",
              "    .colab-df-buttons div {\n",
              "      margin-bottom: 4px;\n",
              "    }\n",
              "\n",
              "    [theme=dark] .colab-df-convert {\n",
              "      background-color: #3B4455;\n",
              "      fill: #D2E3FC;\n",
              "    }\n",
              "\n",
              "    [theme=dark] .colab-df-convert:hover {\n",
              "      background-color: #434B5C;\n",
              "      box-shadow: 0px 1px 3px 1px rgba(0, 0, 0, 0.15);\n",
              "      filter: drop-shadow(0px 1px 2px rgba(0, 0, 0, 0.3));\n",
              "      fill: #FFFFFF;\n",
              "    }\n",
              "  </style>\n",
              "\n",
              "    <script>\n",
              "      const buttonEl =\n",
              "        document.querySelector('#df-fbd4e06f-74e3-4bb8-ad36-95300a5fceeb button.colab-df-convert');\n",
              "      buttonEl.style.display =\n",
              "        google.colab.kernel.accessAllowed ? 'block' : 'none';\n",
              "\n",
              "      async function convertToInteractive(key) {\n",
              "        const element = document.querySelector('#df-fbd4e06f-74e3-4bb8-ad36-95300a5fceeb');\n",
              "        const dataTable =\n",
              "          await google.colab.kernel.invokeFunction('convertToInteractive',\n",
              "                                                    [key], {});\n",
              "        if (!dataTable) return;\n",
              "\n",
              "        const docLinkHtml = 'Like what you see? Visit the ' +\n",
              "          '<a target=\"_blank\" href=https://colab.research.google.com/notebooks/data_table.ipynb>data table notebook</a>'\n",
              "          + ' to learn more about interactive tables.';\n",
              "        element.innerHTML = '';\n",
              "        dataTable['output_type'] = 'display_data';\n",
              "        await google.colab.output.renderOutput(dataTable, element);\n",
              "        const docLink = document.createElement('div');\n",
              "        docLink.innerHTML = docLinkHtml;\n",
              "        element.appendChild(docLink);\n",
              "      }\n",
              "    </script>\n",
              "  </div>\n",
              "\n",
              "\n",
              "    <div id=\"df-5b613ac6-3654-47ac-ad09-0e0d89747f29\">\n",
              "      <button class=\"colab-df-quickchart\" onclick=\"quickchart('df-5b613ac6-3654-47ac-ad09-0e0d89747f29')\"\n",
              "                title=\"Suggest charts\"\n",
              "                style=\"display:none;\">\n",
              "\n",
              "<svg xmlns=\"http://www.w3.org/2000/svg\" height=\"24px\"viewBox=\"0 0 24 24\"\n",
              "     width=\"24px\">\n",
              "    <g>\n",
              "        <path d=\"M19 3H5c-1.1 0-2 .9-2 2v14c0 1.1.9 2 2 2h14c1.1 0 2-.9 2-2V5c0-1.1-.9-2-2-2zM9 17H7v-7h2v7zm4 0h-2V7h2v10zm4 0h-2v-4h2v4z\"/>\n",
              "    </g>\n",
              "</svg>\n",
              "      </button>\n",
              "\n",
              "<style>\n",
              "  .colab-df-quickchart {\n",
              "      --bg-color: #E8F0FE;\n",
              "      --fill-color: #1967D2;\n",
              "      --hover-bg-color: #E2EBFA;\n",
              "      --hover-fill-color: #174EA6;\n",
              "      --disabled-fill-color: #AAA;\n",
              "      --disabled-bg-color: #DDD;\n",
              "  }\n",
              "\n",
              "  [theme=dark] .colab-df-quickchart {\n",
              "      --bg-color: #3B4455;\n",
              "      --fill-color: #D2E3FC;\n",
              "      --hover-bg-color: #434B5C;\n",
              "      --hover-fill-color: #FFFFFF;\n",
              "      --disabled-bg-color: #3B4455;\n",
              "      --disabled-fill-color: #666;\n",
              "  }\n",
              "\n",
              "  .colab-df-quickchart {\n",
              "    background-color: var(--bg-color);\n",
              "    border: none;\n",
              "    border-radius: 50%;\n",
              "    cursor: pointer;\n",
              "    display: none;\n",
              "    fill: var(--fill-color);\n",
              "    height: 32px;\n",
              "    padding: 0;\n",
              "    width: 32px;\n",
              "  }\n",
              "\n",
              "  .colab-df-quickchart:hover {\n",
              "    background-color: var(--hover-bg-color);\n",
              "    box-shadow: 0 1px 2px rgba(60, 64, 67, 0.3), 0 1px 3px 1px rgba(60, 64, 67, 0.15);\n",
              "    fill: var(--button-hover-fill-color);\n",
              "  }\n",
              "\n",
              "  .colab-df-quickchart-complete:disabled,\n",
              "  .colab-df-quickchart-complete:disabled:hover {\n",
              "    background-color: var(--disabled-bg-color);\n",
              "    fill: var(--disabled-fill-color);\n",
              "    box-shadow: none;\n",
              "  }\n",
              "\n",
              "  .colab-df-spinner {\n",
              "    border: 2px solid var(--fill-color);\n",
              "    border-color: transparent;\n",
              "    border-bottom-color: var(--fill-color);\n",
              "    animation:\n",
              "      spin 1s steps(1) infinite;\n",
              "  }\n",
              "\n",
              "  @keyframes spin {\n",
              "    0% {\n",
              "      border-color: transparent;\n",
              "      border-bottom-color: var(--fill-color);\n",
              "      border-left-color: var(--fill-color);\n",
              "    }\n",
              "    20% {\n",
              "      border-color: transparent;\n",
              "      border-left-color: var(--fill-color);\n",
              "      border-top-color: var(--fill-color);\n",
              "    }\n",
              "    30% {\n",
              "      border-color: transparent;\n",
              "      border-left-color: var(--fill-color);\n",
              "      border-top-color: var(--fill-color);\n",
              "      border-right-color: var(--fill-color);\n",
              "    }\n",
              "    40% {\n",
              "      border-color: transparent;\n",
              "      border-right-color: var(--fill-color);\n",
              "      border-top-color: var(--fill-color);\n",
              "    }\n",
              "    60% {\n",
              "      border-color: transparent;\n",
              "      border-right-color: var(--fill-color);\n",
              "    }\n",
              "    80% {\n",
              "      border-color: transparent;\n",
              "      border-right-color: var(--fill-color);\n",
              "      border-bottom-color: var(--fill-color);\n",
              "    }\n",
              "    90% {\n",
              "      border-color: transparent;\n",
              "      border-bottom-color: var(--fill-color);\n",
              "    }\n",
              "  }\n",
              "</style>\n",
              "\n",
              "      <script>\n",
              "        async function quickchart(key) {\n",
              "          const quickchartButtonEl =\n",
              "            document.querySelector('#' + key + ' button');\n",
              "          quickchartButtonEl.disabled = true;  // To prevent multiple clicks.\n",
              "          quickchartButtonEl.classList.add('colab-df-spinner');\n",
              "          try {\n",
              "            const charts = await google.colab.kernel.invokeFunction(\n",
              "                'suggestCharts', [key], {});\n",
              "          } catch (error) {\n",
              "            console.error('Error during call to suggestCharts:', error);\n",
              "          }\n",
              "          quickchartButtonEl.classList.remove('colab-df-spinner');\n",
              "          quickchartButtonEl.classList.add('colab-df-quickchart-complete');\n",
              "        }\n",
              "        (() => {\n",
              "          let quickchartButtonEl =\n",
              "            document.querySelector('#df-5b613ac6-3654-47ac-ad09-0e0d89747f29 button');\n",
              "          quickchartButtonEl.style.display =\n",
              "            google.colab.kernel.accessAllowed ? 'block' : 'none';\n",
              "        })();\n",
              "      </script>\n",
              "    </div>\n",
              "\n",
              "  <div id=\"id_aceb319b-7cad-469d-be84-cf6431bc9e42\">\n",
              "    <style>\n",
              "      .colab-df-generate {\n",
              "        background-color: #E8F0FE;\n",
              "        border: none;\n",
              "        border-radius: 50%;\n",
              "        cursor: pointer;\n",
              "        display: none;\n",
              "        fill: #1967D2;\n",
              "        height: 32px;\n",
              "        padding: 0 0 0 0;\n",
              "        width: 32px;\n",
              "      }\n",
              "\n",
              "      .colab-df-generate:hover {\n",
              "        background-color: #E2EBFA;\n",
              "        box-shadow: 0px 1px 2px rgba(60, 64, 67, 0.3), 0px 1px 3px 1px rgba(60, 64, 67, 0.15);\n",
              "        fill: #174EA6;\n",
              "      }\n",
              "\n",
              "      [theme=dark] .colab-df-generate {\n",
              "        background-color: #3B4455;\n",
              "        fill: #D2E3FC;\n",
              "      }\n",
              "\n",
              "      [theme=dark] .colab-df-generate:hover {\n",
              "        background-color: #434B5C;\n",
              "        box-shadow: 0px 1px 3px 1px rgba(0, 0, 0, 0.15);\n",
              "        filter: drop-shadow(0px 1px 2px rgba(0, 0, 0, 0.3));\n",
              "        fill: #FFFFFF;\n",
              "      }\n",
              "    </style>\n",
              "    <button class=\"colab-df-generate\" onclick=\"generateWithVariable('results_df')\"\n",
              "            title=\"Generate code using this dataframe.\"\n",
              "            style=\"display:none;\">\n",
              "\n",
              "  <svg xmlns=\"http://www.w3.org/2000/svg\" height=\"24px\"viewBox=\"0 0 24 24\"\n",
              "       width=\"24px\">\n",
              "    <path d=\"M7,19H8.4L18.45,9,17,7.55,7,17.6ZM5,21V16.75L18.45,3.32a2,2,0,0,1,2.83,0l1.4,1.43a1.91,1.91,0,0,1,.58,1.4,1.91,1.91,0,0,1-.58,1.4L9.25,21ZM18.45,9,17,7.55Zm-12,3A5.31,5.31,0,0,0,4.9,8.1,5.31,5.31,0,0,0,1,6.5,5.31,5.31,0,0,0,4.9,4.9,5.31,5.31,0,0,0,6.5,1,5.31,5.31,0,0,0,8.1,4.9,5.31,5.31,0,0,0,12,6.5,5.46,5.46,0,0,0,6.5,12Z\"/>\n",
              "  </svg>\n",
              "    </button>\n",
              "    <script>\n",
              "      (() => {\n",
              "      const buttonEl =\n",
              "        document.querySelector('#id_aceb319b-7cad-469d-be84-cf6431bc9e42 button.colab-df-generate');\n",
              "      buttonEl.style.display =\n",
              "        google.colab.kernel.accessAllowed ? 'block' : 'none';\n",
              "\n",
              "      buttonEl.onclick = () => {\n",
              "        google.colab.notebook.generateWithVariable('results_df');\n",
              "      }\n",
              "      })();\n",
              "    </script>\n",
              "  </div>\n",
              "\n",
              "    </div>\n",
              "  </div>\n"
            ],
            "application/vnd.google.colaboratory.intrinsic+json": {
              "type": "dataframe",
              "variable_name": "results_df",
              "summary": "{\n  \"name\": \"results_df\",\n  \"rows\": 5,\n  \"fields\": [\n    {\n      \"column\": \"Model\",\n      \"properties\": {\n        \"dtype\": \"string\",\n        \"num_unique_values\": 5,\n        \"samples\": [\n          \"KNN\",\n          \"Decision Tree\",\n          \"Naive Bayes\"\n        ],\n        \"semantic_type\": \"\",\n        \"description\": \"\"\n      }\n    },\n    {\n      \"column\": \"Accuracy\",\n      \"properties\": {\n        \"dtype\": \"number\",\n        \"std\": 0.04457525098078528,\n        \"min\": 0.7609,\n        \"max\": 0.8696,\n        \"num_unique_values\": 5,\n        \"samples\": [\n          0.8641,\n          0.7609,\n          0.8533\n        ],\n        \"semantic_type\": \"\",\n        \"description\": \"\"\n      }\n    },\n    {\n      \"column\": \"F1 Score\",\n      \"properties\": {\n        \"dtype\": \"number\",\n        \"std\": 0.04358591515616023,\n        \"min\": 0.78,\n        \"max\": 0.8857,\n        \"num_unique_values\": 5,\n        \"samples\": [\n          0.8815,\n          0.78,\n          0.8683\n        ],\n        \"semantic_type\": \"\",\n        \"description\": \"\"\n      }\n    }\n  ]\n}"
            }
          },
          "metadata": {},
          "execution_count": 277
        }
      ]
    },
    {
      "cell_type": "code",
      "source": [
        "import joblib\n",
        "joblib.dump(models['Logistic Regression'], \"LogisticR_heart.pkl\" )\n",
        "joblib.dump(scaler, 'scaler.pkl')\n",
        "joblib.dump(X.columns.tolist(), \"columns.pkl\" )"
      ],
      "metadata": {
        "colab": {
          "base_uri": "https://localhost:8080/"
        },
        "id": "bzXFi4-YCtO-",
        "outputId": "dd8c5dfb-5ee7-4f27-e309-01ad4eeb101b"
      },
      "execution_count": 281,
      "outputs": [
        {
          "output_type": "execute_result",
          "data": {
            "text/plain": [
              "['columns.pkl']"
            ]
          },
          "metadata": {},
          "execution_count": 281
        }
      ]
    }
  ]
}
>>>>>>> bbe570d1fd657a314a0f358bcebd41e4822d8995
